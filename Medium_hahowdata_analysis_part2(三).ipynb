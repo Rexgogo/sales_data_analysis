{
 "cells": [
  {
   "cell_type": "markdown",
   "id": "646de801",
   "metadata": {},
   "source": [
    "## Part2 (三)月與季YoY營收變化與獲利成長分析"
   ]
  },
  {
   "cell_type": "code",
   "execution_count": 11,
   "metadata": {},
   "outputs": [],
   "source": [
    "import pandas as pd\n",
    "import datetime as dt\n",
    "import numpy as np\n",
    "import seaborn as sns\n",
    "import plotly.express as px\n",
    "from plotly.offline import download_plotlyjs, init_notebook_mode, plot, iplot\n",
    "%config InlineBackend. figure_format = 'retina'\n",
    "\n",
    "from matplotlib import pyplot as plt "
   ]
  },
  {
   "cell_type": "code",
   "execution_count": 12,
   "metadata": {},
   "outputs": [],
   "source": [
    "## 月營收變化YoY分析\n",
    "month_profit = pd.read_csv('all_M_profit.csv')\n",
    "month_profit = month_profit.sort_values('Month')\n",
    "month_profit.reset_index(drop=True, inplace=True)\n",
    "#incompar2 = []\n",
    "#incompar2.append(month_profit_all[month_profit_all['Month']=='2019-11'])"
   ]
  },
  {
   "cell_type": "code",
   "execution_count": 13,
   "metadata": {},
   "outputs": [
    {
     "data": {
      "text/html": [
       "<div>\n",
       "<style scoped>\n",
       "    .dataframe tbody tr th:only-of-type {\n",
       "        vertical-align: middle;\n",
       "    }\n",
       "\n",
       "    .dataframe tbody tr th {\n",
       "        vertical-align: top;\n",
       "    }\n",
       "\n",
       "    .dataframe thead th {\n",
       "        text-align: right;\n",
       "    }\n",
       "</style>\n",
       "<table border=\"1\" class=\"dataframe\">\n",
       "  <thead>\n",
       "    <tr style=\"text-align: right;\">\n",
       "      <th></th>\n",
       "      <th>Unnamed: 0</th>\n",
       "      <th>Year</th>\n",
       "      <th>Month</th>\n",
       "      <th>營收</th>\n",
       "      <th>成本</th>\n",
       "      <th>獲利</th>\n",
       "    </tr>\n",
       "  </thead>\n",
       "  <tbody>\n",
       "    <tr>\n",
       "      <th>0</th>\n",
       "      <td>0</td>\n",
       "      <td>2016</td>\n",
       "      <td>01</td>\n",
       "      <td>6.341658e+06</td>\n",
       "      <td>4281043.410</td>\n",
       "      <td>2060614.185</td>\n",
       "    </tr>\n",
       "    <tr>\n",
       "      <th>1</th>\n",
       "      <td>1</td>\n",
       "      <td>2016</td>\n",
       "      <td>02</td>\n",
       "      <td>4.425430e+06</td>\n",
       "      <td>2737852.460</td>\n",
       "      <td>1687577.535</td>\n",
       "    </tr>\n",
       "    <tr>\n",
       "      <th>2</th>\n",
       "      <td>2</td>\n",
       "      <td>2016</td>\n",
       "      <td>03</td>\n",
       "      <td>4.419311e+06</td>\n",
       "      <td>2605346.065</td>\n",
       "      <td>1813964.530</td>\n",
       "    </tr>\n",
       "    <tr>\n",
       "      <th>3</th>\n",
       "      <td>3</td>\n",
       "      <td>2016</td>\n",
       "      <td>04</td>\n",
       "      <td>5.906345e+06</td>\n",
       "      <td>2837147.950</td>\n",
       "      <td>3069196.585</td>\n",
       "    </tr>\n",
       "    <tr>\n",
       "      <th>4</th>\n",
       "      <td>4</td>\n",
       "      <td>2016</td>\n",
       "      <td>05</td>\n",
       "      <td>7.040271e+06</td>\n",
       "      <td>3354046.430</td>\n",
       "      <td>3686224.570</td>\n",
       "    </tr>\n",
       "    <tr>\n",
       "      <th>5</th>\n",
       "      <td>5</td>\n",
       "      <td>2016</td>\n",
       "      <td>06</td>\n",
       "      <td>7.713770e+06</td>\n",
       "      <td>3850444.920</td>\n",
       "      <td>3863325.270</td>\n",
       "    </tr>\n",
       "    <tr>\n",
       "      <th>6</th>\n",
       "      <td>6</td>\n",
       "      <td>2016</td>\n",
       "      <td>07</td>\n",
       "      <td>6.809492e+06</td>\n",
       "      <td>3423455.560</td>\n",
       "      <td>3386036.745</td>\n",
       "    </tr>\n",
       "    <tr>\n",
       "      <th>7</th>\n",
       "      <td>7</td>\n",
       "      <td>2016</td>\n",
       "      <td>08</td>\n",
       "      <td>6.465510e+06</td>\n",
       "      <td>3257519.475</td>\n",
       "      <td>3207990.170</td>\n",
       "    </tr>\n",
       "    <tr>\n",
       "      <th>8</th>\n",
       "      <td>8</td>\n",
       "      <td>2016</td>\n",
       "      <td>09</td>\n",
       "      <td>5.954097e+06</td>\n",
       "      <td>3203848.060</td>\n",
       "      <td>2750249.180</td>\n",
       "    </tr>\n",
       "    <tr>\n",
       "      <th>9</th>\n",
       "      <td>9</td>\n",
       "      <td>2016</td>\n",
       "      <td>10</td>\n",
       "      <td>5.305048e+06</td>\n",
       "      <td>2827649.720</td>\n",
       "      <td>2477397.965</td>\n",
       "    </tr>\n",
       "    <tr>\n",
       "      <th>10</th>\n",
       "      <td>10</td>\n",
       "      <td>2016</td>\n",
       "      <td>11</td>\n",
       "      <td>4.789260e+06</td>\n",
       "      <td>2526506.150</td>\n",
       "      <td>2262753.430</td>\n",
       "    </tr>\n",
       "    <tr>\n",
       "      <th>11</th>\n",
       "      <td>11</td>\n",
       "      <td>2016</td>\n",
       "      <td>12</td>\n",
       "      <td>4.852457e+06</td>\n",
       "      <td>2576736.225</td>\n",
       "      <td>2275720.965</td>\n",
       "    </tr>\n",
       "    <tr>\n",
       "      <th>12</th>\n",
       "      <td>12</td>\n",
       "      <td>2017</td>\n",
       "      <td>01</td>\n",
       "      <td>4.658451e+06</td>\n",
       "      <td>2529942.555</td>\n",
       "      <td>2128508.270</td>\n",
       "    </tr>\n",
       "    <tr>\n",
       "      <th>13</th>\n",
       "      <td>13</td>\n",
       "      <td>2017</td>\n",
       "      <td>02</td>\n",
       "      <td>6.353196e+06</td>\n",
       "      <td>3185942.235</td>\n",
       "      <td>3167253.390</td>\n",
       "    </tr>\n",
       "    <tr>\n",
       "      <th>14</th>\n",
       "      <td>14</td>\n",
       "      <td>2017</td>\n",
       "      <td>03</td>\n",
       "      <td>7.789572e+06</td>\n",
       "      <td>3742328.940</td>\n",
       "      <td>4047242.850</td>\n",
       "    </tr>\n",
       "    <tr>\n",
       "      <th>15</th>\n",
       "      <td>15</td>\n",
       "      <td>2017</td>\n",
       "      <td>04</td>\n",
       "      <td>7.045293e+06</td>\n",
       "      <td>3341860.270</td>\n",
       "      <td>3703432.915</td>\n",
       "    </tr>\n",
       "    <tr>\n",
       "      <th>16</th>\n",
       "      <td>16</td>\n",
       "      <td>2017</td>\n",
       "      <td>05</td>\n",
       "      <td>9.898250e+06</td>\n",
       "      <td>4628717.450</td>\n",
       "      <td>5269532.135</td>\n",
       "    </tr>\n",
       "    <tr>\n",
       "      <th>17</th>\n",
       "      <td>17</td>\n",
       "      <td>2017</td>\n",
       "      <td>06</td>\n",
       "      <td>1.117992e+07</td>\n",
       "      <td>5205140.255</td>\n",
       "      <td>5974781.470</td>\n",
       "    </tr>\n",
       "    <tr>\n",
       "      <th>18</th>\n",
       "      <td>18</td>\n",
       "      <td>2017</td>\n",
       "      <td>07</td>\n",
       "      <td>1.034250e+07</td>\n",
       "      <td>4995560.675</td>\n",
       "      <td>5346944.190</td>\n",
       "    </tr>\n",
       "    <tr>\n",
       "      <th>19</th>\n",
       "      <td>19</td>\n",
       "      <td>2017</td>\n",
       "      <td>08</td>\n",
       "      <td>9.504392e+06</td>\n",
       "      <td>4701551.470</td>\n",
       "      <td>4802840.700</td>\n",
       "    </tr>\n",
       "    <tr>\n",
       "      <th>20</th>\n",
       "      <td>20</td>\n",
       "      <td>2017</td>\n",
       "      <td>09</td>\n",
       "      <td>1.171292e+07</td>\n",
       "      <td>5411535.115</td>\n",
       "      <td>6301386.350</td>\n",
       "    </tr>\n",
       "    <tr>\n",
       "      <th>21</th>\n",
       "      <td>21</td>\n",
       "      <td>2017</td>\n",
       "      <td>10</td>\n",
       "      <td>6.811952e+06</td>\n",
       "      <td>3205759.550</td>\n",
       "      <td>3606192.030</td>\n",
       "    </tr>\n",
       "    <tr>\n",
       "      <th>22</th>\n",
       "      <td>22</td>\n",
       "      <td>2017</td>\n",
       "      <td>11</td>\n",
       "      <td>6.622334e+06</td>\n",
       "      <td>3391104.990</td>\n",
       "      <td>3231229.085</td>\n",
       "    </tr>\n",
       "    <tr>\n",
       "      <th>23</th>\n",
       "      <td>23</td>\n",
       "      <td>2017</td>\n",
       "      <td>12</td>\n",
       "      <td>6.090483e+06</td>\n",
       "      <td>3255275.695</td>\n",
       "      <td>2835206.850</td>\n",
       "    </tr>\n",
       "    <tr>\n",
       "      <th>24</th>\n",
       "      <td>24</td>\n",
       "      <td>2018</td>\n",
       "      <td>01</td>\n",
       "      <td>6.321987e+06</td>\n",
       "      <td>3231230.730</td>\n",
       "      <td>3090755.955</td>\n",
       "    </tr>\n",
       "    <tr>\n",
       "      <th>25</th>\n",
       "      <td>25</td>\n",
       "      <td>2018</td>\n",
       "      <td>02</td>\n",
       "      <td>6.662086e+06</td>\n",
       "      <td>3418726.185</td>\n",
       "      <td>3243359.315</td>\n",
       "    </tr>\n",
       "    <tr>\n",
       "      <th>26</th>\n",
       "      <td>26</td>\n",
       "      <td>2018</td>\n",
       "      <td>03</td>\n",
       "      <td>6.150759e+06</td>\n",
       "      <td>3086844.145</td>\n",
       "      <td>3063914.490</td>\n",
       "    </tr>\n",
       "    <tr>\n",
       "      <th>27</th>\n",
       "      <td>27</td>\n",
       "      <td>2018</td>\n",
       "      <td>04</td>\n",
       "      <td>7.607202e+06</td>\n",
       "      <td>3564494.570</td>\n",
       "      <td>4042707.585</td>\n",
       "    </tr>\n",
       "    <tr>\n",
       "      <th>28</th>\n",
       "      <td>28</td>\n",
       "      <td>2018</td>\n",
       "      <td>05</td>\n",
       "      <td>6.696708e+06</td>\n",
       "      <td>3091469.885</td>\n",
       "      <td>3605237.930</td>\n",
       "    </tr>\n",
       "    <tr>\n",
       "      <th>29</th>\n",
       "      <td>29</td>\n",
       "      <td>2018</td>\n",
       "      <td>06</td>\n",
       "      <td>5.369112e+06</td>\n",
       "      <td>2398071.130</td>\n",
       "      <td>2971041.080</td>\n",
       "    </tr>\n",
       "    <tr>\n",
       "      <th>30</th>\n",
       "      <td>30</td>\n",
       "      <td>2018</td>\n",
       "      <td>07</td>\n",
       "      <td>7.785941e+06</td>\n",
       "      <td>3823540.945</td>\n",
       "      <td>3962400.330</td>\n",
       "    </tr>\n",
       "    <tr>\n",
       "      <th>31</th>\n",
       "      <td>31</td>\n",
       "      <td>2018</td>\n",
       "      <td>08</td>\n",
       "      <td>6.690658e+06</td>\n",
       "      <td>3533407.360</td>\n",
       "      <td>3157250.145</td>\n",
       "    </tr>\n",
       "    <tr>\n",
       "      <th>32</th>\n",
       "      <td>32</td>\n",
       "      <td>2018</td>\n",
       "      <td>09</td>\n",
       "      <td>5.672814e+06</td>\n",
       "      <td>2672049.170</td>\n",
       "      <td>3000764.585</td>\n",
       "    </tr>\n",
       "    <tr>\n",
       "      <th>33</th>\n",
       "      <td>33</td>\n",
       "      <td>2018</td>\n",
       "      <td>10</td>\n",
       "      <td>7.836798e+06</td>\n",
       "      <td>3792919.270</td>\n",
       "      <td>4043878.825</td>\n",
       "    </tr>\n",
       "    <tr>\n",
       "      <th>34</th>\n",
       "      <td>34</td>\n",
       "      <td>2018</td>\n",
       "      <td>11</td>\n",
       "      <td>9.478803e+06</td>\n",
       "      <td>4577240.465</td>\n",
       "      <td>4901562.085</td>\n",
       "    </tr>\n",
       "    <tr>\n",
       "      <th>35</th>\n",
       "      <td>35</td>\n",
       "      <td>2018</td>\n",
       "      <td>12</td>\n",
       "      <td>9.509839e+06</td>\n",
       "      <td>4732896.945</td>\n",
       "      <td>4776941.820</td>\n",
       "    </tr>\n",
       "    <tr>\n",
       "      <th>36</th>\n",
       "      <td>36</td>\n",
       "      <td>2019</td>\n",
       "      <td>01</td>\n",
       "      <td>7.380023e+06</td>\n",
       "      <td>3726328.025</td>\n",
       "      <td>3653694.695</td>\n",
       "    </tr>\n",
       "    <tr>\n",
       "      <th>37</th>\n",
       "      <td>37</td>\n",
       "      <td>2019</td>\n",
       "      <td>02</td>\n",
       "      <td>5.516570e+06</td>\n",
       "      <td>2919350.245</td>\n",
       "      <td>2597219.765</td>\n",
       "    </tr>\n",
       "    <tr>\n",
       "      <th>38</th>\n",
       "      <td>38</td>\n",
       "      <td>2019</td>\n",
       "      <td>03</td>\n",
       "      <td>5.270254e+06</td>\n",
       "      <td>2675651.720</td>\n",
       "      <td>2594602.570</td>\n",
       "    </tr>\n",
       "    <tr>\n",
       "      <th>39</th>\n",
       "      <td>39</td>\n",
       "      <td>2019</td>\n",
       "      <td>04</td>\n",
       "      <td>7.603549e+06</td>\n",
       "      <td>3424904.805</td>\n",
       "      <td>4178643.805</td>\n",
       "    </tr>\n",
       "    <tr>\n",
       "      <th>40</th>\n",
       "      <td>40</td>\n",
       "      <td>2019</td>\n",
       "      <td>05</td>\n",
       "      <td>6.222211e+06</td>\n",
       "      <td>2912020.125</td>\n",
       "      <td>3310190.730</td>\n",
       "    </tr>\n",
       "    <tr>\n",
       "      <th>41</th>\n",
       "      <td>41</td>\n",
       "      <td>2019</td>\n",
       "      <td>06</td>\n",
       "      <td>5.883092e+06</td>\n",
       "      <td>2677987.620</td>\n",
       "      <td>3205104.840</td>\n",
       "    </tr>\n",
       "    <tr>\n",
       "      <th>42</th>\n",
       "      <td>42</td>\n",
       "      <td>2019</td>\n",
       "      <td>07</td>\n",
       "      <td>6.222288e+06</td>\n",
       "      <td>2807266.525</td>\n",
       "      <td>3415021.645</td>\n",
       "    </tr>\n",
       "    <tr>\n",
       "      <th>43</th>\n",
       "      <td>43</td>\n",
       "      <td>2019</td>\n",
       "      <td>08</td>\n",
       "      <td>4.927288e+06</td>\n",
       "      <td>2350744.480</td>\n",
       "      <td>2576543.760</td>\n",
       "    </tr>\n",
       "    <tr>\n",
       "      <th>44</th>\n",
       "      <td>44</td>\n",
       "      <td>2019</td>\n",
       "      <td>09</td>\n",
       "      <td>1.056755e+07</td>\n",
       "      <td>4703472.830</td>\n",
       "      <td>5864077.905</td>\n",
       "    </tr>\n",
       "    <tr>\n",
       "      <th>45</th>\n",
       "      <td>45</td>\n",
       "      <td>2019</td>\n",
       "      <td>10</td>\n",
       "      <td>2.729007e+06</td>\n",
       "      <td>1267781.760</td>\n",
       "      <td>1461225.535</td>\n",
       "    </tr>\n",
       "  </tbody>\n",
       "</table>\n",
       "</div>"
      ],
      "text/plain": [
       "    Unnamed: 0  Year Month            營收           成本           獲利\n",
       "0            0  2016    01  6.341658e+06  4281043.410  2060614.185\n",
       "1            1  2016    02  4.425430e+06  2737852.460  1687577.535\n",
       "2            2  2016    03  4.419311e+06  2605346.065  1813964.530\n",
       "3            3  2016    04  5.906345e+06  2837147.950  3069196.585\n",
       "4            4  2016    05  7.040271e+06  3354046.430  3686224.570\n",
       "5            5  2016    06  7.713770e+06  3850444.920  3863325.270\n",
       "6            6  2016    07  6.809492e+06  3423455.560  3386036.745\n",
       "7            7  2016    08  6.465510e+06  3257519.475  3207990.170\n",
       "8            8  2016    09  5.954097e+06  3203848.060  2750249.180\n",
       "9            9  2016    10  5.305048e+06  2827649.720  2477397.965\n",
       "10          10  2016    11  4.789260e+06  2526506.150  2262753.430\n",
       "11          11  2016    12  4.852457e+06  2576736.225  2275720.965\n",
       "12          12  2017    01  4.658451e+06  2529942.555  2128508.270\n",
       "13          13  2017    02  6.353196e+06  3185942.235  3167253.390\n",
       "14          14  2017    03  7.789572e+06  3742328.940  4047242.850\n",
       "15          15  2017    04  7.045293e+06  3341860.270  3703432.915\n",
       "16          16  2017    05  9.898250e+06  4628717.450  5269532.135\n",
       "17          17  2017    06  1.117992e+07  5205140.255  5974781.470\n",
       "18          18  2017    07  1.034250e+07  4995560.675  5346944.190\n",
       "19          19  2017    08  9.504392e+06  4701551.470  4802840.700\n",
       "20          20  2017    09  1.171292e+07  5411535.115  6301386.350\n",
       "21          21  2017    10  6.811952e+06  3205759.550  3606192.030\n",
       "22          22  2017    11  6.622334e+06  3391104.990  3231229.085\n",
       "23          23  2017    12  6.090483e+06  3255275.695  2835206.850\n",
       "24          24  2018    01  6.321987e+06  3231230.730  3090755.955\n",
       "25          25  2018    02  6.662086e+06  3418726.185  3243359.315\n",
       "26          26  2018    03  6.150759e+06  3086844.145  3063914.490\n",
       "27          27  2018    04  7.607202e+06  3564494.570  4042707.585\n",
       "28          28  2018    05  6.696708e+06  3091469.885  3605237.930\n",
       "29          29  2018    06  5.369112e+06  2398071.130  2971041.080\n",
       "30          30  2018    07  7.785941e+06  3823540.945  3962400.330\n",
       "31          31  2018    08  6.690658e+06  3533407.360  3157250.145\n",
       "32          32  2018    09  5.672814e+06  2672049.170  3000764.585\n",
       "33          33  2018    10  7.836798e+06  3792919.270  4043878.825\n",
       "34          34  2018    11  9.478803e+06  4577240.465  4901562.085\n",
       "35          35  2018    12  9.509839e+06  4732896.945  4776941.820\n",
       "36          36  2019    01  7.380023e+06  3726328.025  3653694.695\n",
       "37          37  2019    02  5.516570e+06  2919350.245  2597219.765\n",
       "38          38  2019    03  5.270254e+06  2675651.720  2594602.570\n",
       "39          39  2019    04  7.603549e+06  3424904.805  4178643.805\n",
       "40          40  2019    05  6.222211e+06  2912020.125  3310190.730\n",
       "41          41  2019    06  5.883092e+06  2677987.620  3205104.840\n",
       "42          42  2019    07  6.222288e+06  2807266.525  3415021.645\n",
       "43          43  2019    08  4.927288e+06  2350744.480  2576543.760\n",
       "44          44  2019    09  1.056755e+07  4703472.830  5864077.905\n",
       "45          45  2019    10  2.729007e+06  1267781.760  1461225.535"
      ]
     },
     "execution_count": 13,
     "metadata": {},
     "output_type": "execute_result"
    }
   ],
   "source": [
    "# 刪除2019-11資料\n",
    "month_profit.drop(46, inplace=True)\n",
    "month_profit.reset_index(drop=True, inplace=True)\n",
    "month_profit['Month'] = month_profit['Month'].str.split('-', expand = True)[1]\n",
    "month_profit"
   ]
  },
  {
   "cell_type": "code",
   "execution_count": 14,
   "metadata": {},
   "outputs": [
    {
     "data": {
      "application/vnd.plotly.v1+json": {
       "config": {
        "plotlyServerURL": "https://plot.ly"
       },
       "data": [
        {
         "hovertemplate": "Year=2016<br>Month=%{x}<br>獲利=%{y}<extra></extra>",
         "legendgroup": "2016",
         "line": {
          "color": "#636efa",
          "dash": "solid"
         },
         "marker": {
          "symbol": "circle"
         },
         "mode": "lines",
         "name": "2016",
         "orientation": "v",
         "showlegend": true,
         "type": "scatter",
         "x": [
          "01",
          "02",
          "03",
          "04",
          "05",
          "06",
          "07",
          "08",
          "09",
          "10",
          "11",
          "12"
         ],
         "xaxis": "x",
         "y": [
          2060614.185,
          1687577.535,
          1813964.53,
          3069196.585,
          3686224.57,
          3863325.27,
          3386036.745,
          3207990.17,
          2750249.18,
          2477397.965,
          2262753.43,
          2275720.965
         ],
         "yaxis": "y"
        },
        {
         "hovertemplate": "Year=2017<br>Month=%{x}<br>獲利=%{y}<extra></extra>",
         "legendgroup": "2017",
         "line": {
          "color": "#EF553B",
          "dash": "solid"
         },
         "marker": {
          "symbol": "circle"
         },
         "mode": "lines",
         "name": "2017",
         "orientation": "v",
         "showlegend": true,
         "type": "scatter",
         "x": [
          "01",
          "02",
          "03",
          "04",
          "05",
          "06",
          "07",
          "08",
          "09",
          "10",
          "11",
          "12"
         ],
         "xaxis": "x",
         "y": [
          2128508.27,
          3167253.39,
          4047242.85,
          3703432.915,
          5269532.135,
          5974781.47,
          5346944.19,
          4802840.7,
          6301386.35,
          3606192.03,
          3231229.085,
          2835206.85
         ],
         "yaxis": "y"
        },
        {
         "hovertemplate": "Year=2018<br>Month=%{x}<br>獲利=%{y}<extra></extra>",
         "legendgroup": "2018",
         "line": {
          "color": "#00cc96",
          "dash": "solid"
         },
         "marker": {
          "symbol": "circle"
         },
         "mode": "lines",
         "name": "2018",
         "orientation": "v",
         "showlegend": true,
         "type": "scatter",
         "x": [
          "01",
          "02",
          "03",
          "04",
          "05",
          "06",
          "07",
          "08",
          "09",
          "10",
          "11",
          "12"
         ],
         "xaxis": "x",
         "y": [
          3090755.955,
          3243359.315,
          3063914.49,
          4042707.585,
          3605237.93,
          2971041.08,
          3962400.33,
          3157250.145,
          3000764.585,
          4043878.825,
          4901562.085,
          4776941.82
         ],
         "yaxis": "y"
        },
        {
         "hovertemplate": "Year=2019<br>Month=%{x}<br>獲利=%{y}<extra></extra>",
         "legendgroup": "2019",
         "line": {
          "color": "#ab63fa",
          "dash": "solid"
         },
         "marker": {
          "symbol": "circle"
         },
         "mode": "lines",
         "name": "2019",
         "orientation": "v",
         "showlegend": true,
         "type": "scatter",
         "x": [
          "01",
          "02",
          "03",
          "04",
          "05",
          "06",
          "07",
          "08",
          "09",
          "10"
         ],
         "xaxis": "x",
         "y": [
          3653694.695,
          2597219.765,
          2594602.57,
          4178643.805,
          3310190.73,
          3205104.84,
          3415021.645,
          2576543.76,
          5864077.905,
          1461225.535
         ],
         "yaxis": "y"
        }
       ],
       "layout": {
        "legend": {
         "title": {
          "text": "Year"
         },
         "tracegroupgap": 0
        },
        "margin": {
         "t": 60
        },
        "template": {
         "data": {
          "bar": [
           {
            "error_x": {
             "color": "#2a3f5f"
            },
            "error_y": {
             "color": "#2a3f5f"
            },
            "marker": {
             "line": {
              "color": "#E5ECF6",
              "width": 0.5
             },
             "pattern": {
              "fillmode": "overlay",
              "size": 10,
              "solidity": 0.2
             }
            },
            "type": "bar"
           }
          ],
          "barpolar": [
           {
            "marker": {
             "line": {
              "color": "#E5ECF6",
              "width": 0.5
             },
             "pattern": {
              "fillmode": "overlay",
              "size": 10,
              "solidity": 0.2
             }
            },
            "type": "barpolar"
           }
          ],
          "carpet": [
           {
            "aaxis": {
             "endlinecolor": "#2a3f5f",
             "gridcolor": "white",
             "linecolor": "white",
             "minorgridcolor": "white",
             "startlinecolor": "#2a3f5f"
            },
            "baxis": {
             "endlinecolor": "#2a3f5f",
             "gridcolor": "white",
             "linecolor": "white",
             "minorgridcolor": "white",
             "startlinecolor": "#2a3f5f"
            },
            "type": "carpet"
           }
          ],
          "choropleth": [
           {
            "colorbar": {
             "outlinewidth": 0,
             "ticks": ""
            },
            "type": "choropleth"
           }
          ],
          "contour": [
           {
            "colorbar": {
             "outlinewidth": 0,
             "ticks": ""
            },
            "colorscale": [
             [
              0,
              "#0d0887"
             ],
             [
              0.1111111111111111,
              "#46039f"
             ],
             [
              0.2222222222222222,
              "#7201a8"
             ],
             [
              0.3333333333333333,
              "#9c179e"
             ],
             [
              0.4444444444444444,
              "#bd3786"
             ],
             [
              0.5555555555555556,
              "#d8576b"
             ],
             [
              0.6666666666666666,
              "#ed7953"
             ],
             [
              0.7777777777777778,
              "#fb9f3a"
             ],
             [
              0.8888888888888888,
              "#fdca26"
             ],
             [
              1,
              "#f0f921"
             ]
            ],
            "type": "contour"
           }
          ],
          "contourcarpet": [
           {
            "colorbar": {
             "outlinewidth": 0,
             "ticks": ""
            },
            "type": "contourcarpet"
           }
          ],
          "heatmap": [
           {
            "colorbar": {
             "outlinewidth": 0,
             "ticks": ""
            },
            "colorscale": [
             [
              0,
              "#0d0887"
             ],
             [
              0.1111111111111111,
              "#46039f"
             ],
             [
              0.2222222222222222,
              "#7201a8"
             ],
             [
              0.3333333333333333,
              "#9c179e"
             ],
             [
              0.4444444444444444,
              "#bd3786"
             ],
             [
              0.5555555555555556,
              "#d8576b"
             ],
             [
              0.6666666666666666,
              "#ed7953"
             ],
             [
              0.7777777777777778,
              "#fb9f3a"
             ],
             [
              0.8888888888888888,
              "#fdca26"
             ],
             [
              1,
              "#f0f921"
             ]
            ],
            "type": "heatmap"
           }
          ],
          "heatmapgl": [
           {
            "colorbar": {
             "outlinewidth": 0,
             "ticks": ""
            },
            "colorscale": [
             [
              0,
              "#0d0887"
             ],
             [
              0.1111111111111111,
              "#46039f"
             ],
             [
              0.2222222222222222,
              "#7201a8"
             ],
             [
              0.3333333333333333,
              "#9c179e"
             ],
             [
              0.4444444444444444,
              "#bd3786"
             ],
             [
              0.5555555555555556,
              "#d8576b"
             ],
             [
              0.6666666666666666,
              "#ed7953"
             ],
             [
              0.7777777777777778,
              "#fb9f3a"
             ],
             [
              0.8888888888888888,
              "#fdca26"
             ],
             [
              1,
              "#f0f921"
             ]
            ],
            "type": "heatmapgl"
           }
          ],
          "histogram": [
           {
            "marker": {
             "pattern": {
              "fillmode": "overlay",
              "size": 10,
              "solidity": 0.2
             }
            },
            "type": "histogram"
           }
          ],
          "histogram2d": [
           {
            "colorbar": {
             "outlinewidth": 0,
             "ticks": ""
            },
            "colorscale": [
             [
              0,
              "#0d0887"
             ],
             [
              0.1111111111111111,
              "#46039f"
             ],
             [
              0.2222222222222222,
              "#7201a8"
             ],
             [
              0.3333333333333333,
              "#9c179e"
             ],
             [
              0.4444444444444444,
              "#bd3786"
             ],
             [
              0.5555555555555556,
              "#d8576b"
             ],
             [
              0.6666666666666666,
              "#ed7953"
             ],
             [
              0.7777777777777778,
              "#fb9f3a"
             ],
             [
              0.8888888888888888,
              "#fdca26"
             ],
             [
              1,
              "#f0f921"
             ]
            ],
            "type": "histogram2d"
           }
          ],
          "histogram2dcontour": [
           {
            "colorbar": {
             "outlinewidth": 0,
             "ticks": ""
            },
            "colorscale": [
             [
              0,
              "#0d0887"
             ],
             [
              0.1111111111111111,
              "#46039f"
             ],
             [
              0.2222222222222222,
              "#7201a8"
             ],
             [
              0.3333333333333333,
              "#9c179e"
             ],
             [
              0.4444444444444444,
              "#bd3786"
             ],
             [
              0.5555555555555556,
              "#d8576b"
             ],
             [
              0.6666666666666666,
              "#ed7953"
             ],
             [
              0.7777777777777778,
              "#fb9f3a"
             ],
             [
              0.8888888888888888,
              "#fdca26"
             ],
             [
              1,
              "#f0f921"
             ]
            ],
            "type": "histogram2dcontour"
           }
          ],
          "mesh3d": [
           {
            "colorbar": {
             "outlinewidth": 0,
             "ticks": ""
            },
            "type": "mesh3d"
           }
          ],
          "parcoords": [
           {
            "line": {
             "colorbar": {
              "outlinewidth": 0,
              "ticks": ""
             }
            },
            "type": "parcoords"
           }
          ],
          "pie": [
           {
            "automargin": true,
            "type": "pie"
           }
          ],
          "scatter": [
           {
            "marker": {
             "colorbar": {
              "outlinewidth": 0,
              "ticks": ""
             }
            },
            "type": "scatter"
           }
          ],
          "scatter3d": [
           {
            "line": {
             "colorbar": {
              "outlinewidth": 0,
              "ticks": ""
             }
            },
            "marker": {
             "colorbar": {
              "outlinewidth": 0,
              "ticks": ""
             }
            },
            "type": "scatter3d"
           }
          ],
          "scattercarpet": [
           {
            "marker": {
             "colorbar": {
              "outlinewidth": 0,
              "ticks": ""
             }
            },
            "type": "scattercarpet"
           }
          ],
          "scattergeo": [
           {
            "marker": {
             "colorbar": {
              "outlinewidth": 0,
              "ticks": ""
             }
            },
            "type": "scattergeo"
           }
          ],
          "scattergl": [
           {
            "marker": {
             "colorbar": {
              "outlinewidth": 0,
              "ticks": ""
             }
            },
            "type": "scattergl"
           }
          ],
          "scattermapbox": [
           {
            "marker": {
             "colorbar": {
              "outlinewidth": 0,
              "ticks": ""
             }
            },
            "type": "scattermapbox"
           }
          ],
          "scatterpolar": [
           {
            "marker": {
             "colorbar": {
              "outlinewidth": 0,
              "ticks": ""
             }
            },
            "type": "scatterpolar"
           }
          ],
          "scatterpolargl": [
           {
            "marker": {
             "colorbar": {
              "outlinewidth": 0,
              "ticks": ""
             }
            },
            "type": "scatterpolargl"
           }
          ],
          "scatterternary": [
           {
            "marker": {
             "colorbar": {
              "outlinewidth": 0,
              "ticks": ""
             }
            },
            "type": "scatterternary"
           }
          ],
          "surface": [
           {
            "colorbar": {
             "outlinewidth": 0,
             "ticks": ""
            },
            "colorscale": [
             [
              0,
              "#0d0887"
             ],
             [
              0.1111111111111111,
              "#46039f"
             ],
             [
              0.2222222222222222,
              "#7201a8"
             ],
             [
              0.3333333333333333,
              "#9c179e"
             ],
             [
              0.4444444444444444,
              "#bd3786"
             ],
             [
              0.5555555555555556,
              "#d8576b"
             ],
             [
              0.6666666666666666,
              "#ed7953"
             ],
             [
              0.7777777777777778,
              "#fb9f3a"
             ],
             [
              0.8888888888888888,
              "#fdca26"
             ],
             [
              1,
              "#f0f921"
             ]
            ],
            "type": "surface"
           }
          ],
          "table": [
           {
            "cells": {
             "fill": {
              "color": "#EBF0F8"
             },
             "line": {
              "color": "white"
             }
            },
            "header": {
             "fill": {
              "color": "#C8D4E3"
             },
             "line": {
              "color": "white"
             }
            },
            "type": "table"
           }
          ]
         },
         "layout": {
          "annotationdefaults": {
           "arrowcolor": "#2a3f5f",
           "arrowhead": 0,
           "arrowwidth": 1
          },
          "autotypenumbers": "strict",
          "coloraxis": {
           "colorbar": {
            "outlinewidth": 0,
            "ticks": ""
           }
          },
          "colorscale": {
           "diverging": [
            [
             0,
             "#8e0152"
            ],
            [
             0.1,
             "#c51b7d"
            ],
            [
             0.2,
             "#de77ae"
            ],
            [
             0.3,
             "#f1b6da"
            ],
            [
             0.4,
             "#fde0ef"
            ],
            [
             0.5,
             "#f7f7f7"
            ],
            [
             0.6,
             "#e6f5d0"
            ],
            [
             0.7,
             "#b8e186"
            ],
            [
             0.8,
             "#7fbc41"
            ],
            [
             0.9,
             "#4d9221"
            ],
            [
             1,
             "#276419"
            ]
           ],
           "sequential": [
            [
             0,
             "#0d0887"
            ],
            [
             0.1111111111111111,
             "#46039f"
            ],
            [
             0.2222222222222222,
             "#7201a8"
            ],
            [
             0.3333333333333333,
             "#9c179e"
            ],
            [
             0.4444444444444444,
             "#bd3786"
            ],
            [
             0.5555555555555556,
             "#d8576b"
            ],
            [
             0.6666666666666666,
             "#ed7953"
            ],
            [
             0.7777777777777778,
             "#fb9f3a"
            ],
            [
             0.8888888888888888,
             "#fdca26"
            ],
            [
             1,
             "#f0f921"
            ]
           ],
           "sequentialminus": [
            [
             0,
             "#0d0887"
            ],
            [
             0.1111111111111111,
             "#46039f"
            ],
            [
             0.2222222222222222,
             "#7201a8"
            ],
            [
             0.3333333333333333,
             "#9c179e"
            ],
            [
             0.4444444444444444,
             "#bd3786"
            ],
            [
             0.5555555555555556,
             "#d8576b"
            ],
            [
             0.6666666666666666,
             "#ed7953"
            ],
            [
             0.7777777777777778,
             "#fb9f3a"
            ],
            [
             0.8888888888888888,
             "#fdca26"
            ],
            [
             1,
             "#f0f921"
            ]
           ]
          },
          "colorway": [
           "#636efa",
           "#EF553B",
           "#00cc96",
           "#ab63fa",
           "#FFA15A",
           "#19d3f3",
           "#FF6692",
           "#B6E880",
           "#FF97FF",
           "#FECB52"
          ],
          "font": {
           "color": "#2a3f5f"
          },
          "geo": {
           "bgcolor": "white",
           "lakecolor": "white",
           "landcolor": "#E5ECF6",
           "showlakes": true,
           "showland": true,
           "subunitcolor": "white"
          },
          "hoverlabel": {
           "align": "left"
          },
          "hovermode": "closest",
          "mapbox": {
           "style": "light"
          },
          "paper_bgcolor": "white",
          "plot_bgcolor": "#E5ECF6",
          "polar": {
           "angularaxis": {
            "gridcolor": "white",
            "linecolor": "white",
            "ticks": ""
           },
           "bgcolor": "#E5ECF6",
           "radialaxis": {
            "gridcolor": "white",
            "linecolor": "white",
            "ticks": ""
           }
          },
          "scene": {
           "xaxis": {
            "backgroundcolor": "#E5ECF6",
            "gridcolor": "white",
            "gridwidth": 2,
            "linecolor": "white",
            "showbackground": true,
            "ticks": "",
            "zerolinecolor": "white"
           },
           "yaxis": {
            "backgroundcolor": "#E5ECF6",
            "gridcolor": "white",
            "gridwidth": 2,
            "linecolor": "white",
            "showbackground": true,
            "ticks": "",
            "zerolinecolor": "white"
           },
           "zaxis": {
            "backgroundcolor": "#E5ECF6",
            "gridcolor": "white",
            "gridwidth": 2,
            "linecolor": "white",
            "showbackground": true,
            "ticks": "",
            "zerolinecolor": "white"
           }
          },
          "shapedefaults": {
           "line": {
            "color": "#2a3f5f"
           }
          },
          "ternary": {
           "aaxis": {
            "gridcolor": "white",
            "linecolor": "white",
            "ticks": ""
           },
           "baxis": {
            "gridcolor": "white",
            "linecolor": "white",
            "ticks": ""
           },
           "bgcolor": "#E5ECF6",
           "caxis": {
            "gridcolor": "white",
            "linecolor": "white",
            "ticks": ""
           }
          },
          "title": {
           "x": 0.05
          },
          "xaxis": {
           "automargin": true,
           "gridcolor": "white",
           "linecolor": "white",
           "ticks": "",
           "title": {
            "standoff": 15
           },
           "zerolinecolor": "white",
           "zerolinewidth": 2
          },
          "yaxis": {
           "automargin": true,
           "gridcolor": "white",
           "linecolor": "white",
           "ticks": "",
           "title": {
            "standoff": 15
           },
           "zerolinecolor": "white",
           "zerolinewidth": 2
          }
         }
        },
        "xaxis": {
         "anchor": "y",
         "domain": [
          0,
          1
         ],
         "title": {
          "text": "月份"
         }
        },
        "yaxis": {
         "anchor": "x",
         "domain": [
          0,
          1
         ],
         "title": {
          "text": "獲利"
         }
        }
       }
      }
     },
     "metadata": {},
     "output_type": "display_data"
    },
    {
     "data": {
      "application/vnd.plotly.v1+json": {
       "config": {
        "plotlyServerURL": "https://plot.ly"
       },
       "data": [
        {
         "hovertemplate": "Year=2016<br>Month=%{x}<br>營收=%{y}<extra></extra>",
         "legendgroup": "2016",
         "line": {
          "color": "#636efa",
          "dash": "solid"
         },
         "marker": {
          "symbol": "circle"
         },
         "mode": "lines",
         "name": "2016",
         "orientation": "v",
         "showlegend": true,
         "type": "scatter",
         "x": [
          "01",
          "02",
          "03",
          "04",
          "05",
          "06",
          "07",
          "08",
          "09",
          "10",
          "11",
          "12"
         ],
         "xaxis": "x",
         "y": [
          6341657.595,
          4425429.995,
          4419310.595,
          5906344.535,
          7040271,
          7713770.19,
          6809492.305,
          6465509.6450000005,
          5954097.24,
          5305047.685,
          4789259.58,
          4852457.19
         ],
         "yaxis": "y"
        },
        {
         "hovertemplate": "Year=2017<br>Month=%{x}<br>營收=%{y}<extra></extra>",
         "legendgroup": "2017",
         "line": {
          "color": "#EF553B",
          "dash": "solid"
         },
         "marker": {
          "symbol": "circle"
         },
         "mode": "lines",
         "name": "2017",
         "orientation": "v",
         "showlegend": true,
         "type": "scatter",
         "x": [
          "01",
          "02",
          "03",
          "04",
          "05",
          "06",
          "07",
          "08",
          "09",
          "10",
          "11",
          "12"
         ],
         "xaxis": "x",
         "y": [
          4658450.825,
          6353195.625,
          7789571.79,
          7045293.1850000005,
          9898249.585,
          11179921.725,
          10342504.865,
          9504392.17,
          11712921.465,
          6811951.58,
          6622334.075,
          6090482.545
         ],
         "yaxis": "y"
        },
        {
         "hovertemplate": "Year=2018<br>Month=%{x}<br>營收=%{y}<extra></extra>",
         "legendgroup": "2018",
         "line": {
          "color": "#00cc96",
          "dash": "solid"
         },
         "marker": {
          "symbol": "circle"
         },
         "mode": "lines",
         "name": "2018",
         "orientation": "v",
         "showlegend": true,
         "type": "scatter",
         "x": [
          "01",
          "02",
          "03",
          "04",
          "05",
          "06",
          "07",
          "08",
          "09",
          "10",
          "11",
          "12"
         ],
         "xaxis": "x",
         "y": [
          6321986.685,
          6662085.5,
          6150758.635,
          7607202.155,
          6696707.815,
          5369112.21,
          7785941.275,
          6690657.505,
          5672813.755,
          7836798.095,
          9478802.55,
          9509838.765
         ],
         "yaxis": "y"
        },
        {
         "hovertemplate": "Year=2019<br>Month=%{x}<br>營收=%{y}<extra></extra>",
         "legendgroup": "2019",
         "line": {
          "color": "#ab63fa",
          "dash": "solid"
         },
         "marker": {
          "symbol": "circle"
         },
         "mode": "lines",
         "name": "2019",
         "orientation": "v",
         "showlegend": true,
         "type": "scatter",
         "x": [
          "01",
          "02",
          "03",
          "04",
          "05",
          "06",
          "07",
          "08",
          "09",
          "10"
         ],
         "xaxis": "x",
         "y": [
          7380022.72,
          5516570.01,
          5270254.29,
          7603548.61,
          6222210.855,
          5883092.46,
          6222288.17,
          4927288.24,
          10567550.735,
          2729007.295
         ],
         "yaxis": "y"
        }
       ],
       "layout": {
        "legend": {
         "title": {
          "text": "Year"
         },
         "tracegroupgap": 0
        },
        "margin": {
         "t": 60
        },
        "template": {
         "data": {
          "bar": [
           {
            "error_x": {
             "color": "#2a3f5f"
            },
            "error_y": {
             "color": "#2a3f5f"
            },
            "marker": {
             "line": {
              "color": "#E5ECF6",
              "width": 0.5
             },
             "pattern": {
              "fillmode": "overlay",
              "size": 10,
              "solidity": 0.2
             }
            },
            "type": "bar"
           }
          ],
          "barpolar": [
           {
            "marker": {
             "line": {
              "color": "#E5ECF6",
              "width": 0.5
             },
             "pattern": {
              "fillmode": "overlay",
              "size": 10,
              "solidity": 0.2
             }
            },
            "type": "barpolar"
           }
          ],
          "carpet": [
           {
            "aaxis": {
             "endlinecolor": "#2a3f5f",
             "gridcolor": "white",
             "linecolor": "white",
             "minorgridcolor": "white",
             "startlinecolor": "#2a3f5f"
            },
            "baxis": {
             "endlinecolor": "#2a3f5f",
             "gridcolor": "white",
             "linecolor": "white",
             "minorgridcolor": "white",
             "startlinecolor": "#2a3f5f"
            },
            "type": "carpet"
           }
          ],
          "choropleth": [
           {
            "colorbar": {
             "outlinewidth": 0,
             "ticks": ""
            },
            "type": "choropleth"
           }
          ],
          "contour": [
           {
            "colorbar": {
             "outlinewidth": 0,
             "ticks": ""
            },
            "colorscale": [
             [
              0,
              "#0d0887"
             ],
             [
              0.1111111111111111,
              "#46039f"
             ],
             [
              0.2222222222222222,
              "#7201a8"
             ],
             [
              0.3333333333333333,
              "#9c179e"
             ],
             [
              0.4444444444444444,
              "#bd3786"
             ],
             [
              0.5555555555555556,
              "#d8576b"
             ],
             [
              0.6666666666666666,
              "#ed7953"
             ],
             [
              0.7777777777777778,
              "#fb9f3a"
             ],
             [
              0.8888888888888888,
              "#fdca26"
             ],
             [
              1,
              "#f0f921"
             ]
            ],
            "type": "contour"
           }
          ],
          "contourcarpet": [
           {
            "colorbar": {
             "outlinewidth": 0,
             "ticks": ""
            },
            "type": "contourcarpet"
           }
          ],
          "heatmap": [
           {
            "colorbar": {
             "outlinewidth": 0,
             "ticks": ""
            },
            "colorscale": [
             [
              0,
              "#0d0887"
             ],
             [
              0.1111111111111111,
              "#46039f"
             ],
             [
              0.2222222222222222,
              "#7201a8"
             ],
             [
              0.3333333333333333,
              "#9c179e"
             ],
             [
              0.4444444444444444,
              "#bd3786"
             ],
             [
              0.5555555555555556,
              "#d8576b"
             ],
             [
              0.6666666666666666,
              "#ed7953"
             ],
             [
              0.7777777777777778,
              "#fb9f3a"
             ],
             [
              0.8888888888888888,
              "#fdca26"
             ],
             [
              1,
              "#f0f921"
             ]
            ],
            "type": "heatmap"
           }
          ],
          "heatmapgl": [
           {
            "colorbar": {
             "outlinewidth": 0,
             "ticks": ""
            },
            "colorscale": [
             [
              0,
              "#0d0887"
             ],
             [
              0.1111111111111111,
              "#46039f"
             ],
             [
              0.2222222222222222,
              "#7201a8"
             ],
             [
              0.3333333333333333,
              "#9c179e"
             ],
             [
              0.4444444444444444,
              "#bd3786"
             ],
             [
              0.5555555555555556,
              "#d8576b"
             ],
             [
              0.6666666666666666,
              "#ed7953"
             ],
             [
              0.7777777777777778,
              "#fb9f3a"
             ],
             [
              0.8888888888888888,
              "#fdca26"
             ],
             [
              1,
              "#f0f921"
             ]
            ],
            "type": "heatmapgl"
           }
          ],
          "histogram": [
           {
            "marker": {
             "pattern": {
              "fillmode": "overlay",
              "size": 10,
              "solidity": 0.2
             }
            },
            "type": "histogram"
           }
          ],
          "histogram2d": [
           {
            "colorbar": {
             "outlinewidth": 0,
             "ticks": ""
            },
            "colorscale": [
             [
              0,
              "#0d0887"
             ],
             [
              0.1111111111111111,
              "#46039f"
             ],
             [
              0.2222222222222222,
              "#7201a8"
             ],
             [
              0.3333333333333333,
              "#9c179e"
             ],
             [
              0.4444444444444444,
              "#bd3786"
             ],
             [
              0.5555555555555556,
              "#d8576b"
             ],
             [
              0.6666666666666666,
              "#ed7953"
             ],
             [
              0.7777777777777778,
              "#fb9f3a"
             ],
             [
              0.8888888888888888,
              "#fdca26"
             ],
             [
              1,
              "#f0f921"
             ]
            ],
            "type": "histogram2d"
           }
          ],
          "histogram2dcontour": [
           {
            "colorbar": {
             "outlinewidth": 0,
             "ticks": ""
            },
            "colorscale": [
             [
              0,
              "#0d0887"
             ],
             [
              0.1111111111111111,
              "#46039f"
             ],
             [
              0.2222222222222222,
              "#7201a8"
             ],
             [
              0.3333333333333333,
              "#9c179e"
             ],
             [
              0.4444444444444444,
              "#bd3786"
             ],
             [
              0.5555555555555556,
              "#d8576b"
             ],
             [
              0.6666666666666666,
              "#ed7953"
             ],
             [
              0.7777777777777778,
              "#fb9f3a"
             ],
             [
              0.8888888888888888,
              "#fdca26"
             ],
             [
              1,
              "#f0f921"
             ]
            ],
            "type": "histogram2dcontour"
           }
          ],
          "mesh3d": [
           {
            "colorbar": {
             "outlinewidth": 0,
             "ticks": ""
            },
            "type": "mesh3d"
           }
          ],
          "parcoords": [
           {
            "line": {
             "colorbar": {
              "outlinewidth": 0,
              "ticks": ""
             }
            },
            "type": "parcoords"
           }
          ],
          "pie": [
           {
            "automargin": true,
            "type": "pie"
           }
          ],
          "scatter": [
           {
            "marker": {
             "colorbar": {
              "outlinewidth": 0,
              "ticks": ""
             }
            },
            "type": "scatter"
           }
          ],
          "scatter3d": [
           {
            "line": {
             "colorbar": {
              "outlinewidth": 0,
              "ticks": ""
             }
            },
            "marker": {
             "colorbar": {
              "outlinewidth": 0,
              "ticks": ""
             }
            },
            "type": "scatter3d"
           }
          ],
          "scattercarpet": [
           {
            "marker": {
             "colorbar": {
              "outlinewidth": 0,
              "ticks": ""
             }
            },
            "type": "scattercarpet"
           }
          ],
          "scattergeo": [
           {
            "marker": {
             "colorbar": {
              "outlinewidth": 0,
              "ticks": ""
             }
            },
            "type": "scattergeo"
           }
          ],
          "scattergl": [
           {
            "marker": {
             "colorbar": {
              "outlinewidth": 0,
              "ticks": ""
             }
            },
            "type": "scattergl"
           }
          ],
          "scattermapbox": [
           {
            "marker": {
             "colorbar": {
              "outlinewidth": 0,
              "ticks": ""
             }
            },
            "type": "scattermapbox"
           }
          ],
          "scatterpolar": [
           {
            "marker": {
             "colorbar": {
              "outlinewidth": 0,
              "ticks": ""
             }
            },
            "type": "scatterpolar"
           }
          ],
          "scatterpolargl": [
           {
            "marker": {
             "colorbar": {
              "outlinewidth": 0,
              "ticks": ""
             }
            },
            "type": "scatterpolargl"
           }
          ],
          "scatterternary": [
           {
            "marker": {
             "colorbar": {
              "outlinewidth": 0,
              "ticks": ""
             }
            },
            "type": "scatterternary"
           }
          ],
          "surface": [
           {
            "colorbar": {
             "outlinewidth": 0,
             "ticks": ""
            },
            "colorscale": [
             [
              0,
              "#0d0887"
             ],
             [
              0.1111111111111111,
              "#46039f"
             ],
             [
              0.2222222222222222,
              "#7201a8"
             ],
             [
              0.3333333333333333,
              "#9c179e"
             ],
             [
              0.4444444444444444,
              "#bd3786"
             ],
             [
              0.5555555555555556,
              "#d8576b"
             ],
             [
              0.6666666666666666,
              "#ed7953"
             ],
             [
              0.7777777777777778,
              "#fb9f3a"
             ],
             [
              0.8888888888888888,
              "#fdca26"
             ],
             [
              1,
              "#f0f921"
             ]
            ],
            "type": "surface"
           }
          ],
          "table": [
           {
            "cells": {
             "fill": {
              "color": "#EBF0F8"
             },
             "line": {
              "color": "white"
             }
            },
            "header": {
             "fill": {
              "color": "#C8D4E3"
             },
             "line": {
              "color": "white"
             }
            },
            "type": "table"
           }
          ]
         },
         "layout": {
          "annotationdefaults": {
           "arrowcolor": "#2a3f5f",
           "arrowhead": 0,
           "arrowwidth": 1
          },
          "autotypenumbers": "strict",
          "coloraxis": {
           "colorbar": {
            "outlinewidth": 0,
            "ticks": ""
           }
          },
          "colorscale": {
           "diverging": [
            [
             0,
             "#8e0152"
            ],
            [
             0.1,
             "#c51b7d"
            ],
            [
             0.2,
             "#de77ae"
            ],
            [
             0.3,
             "#f1b6da"
            ],
            [
             0.4,
             "#fde0ef"
            ],
            [
             0.5,
             "#f7f7f7"
            ],
            [
             0.6,
             "#e6f5d0"
            ],
            [
             0.7,
             "#b8e186"
            ],
            [
             0.8,
             "#7fbc41"
            ],
            [
             0.9,
             "#4d9221"
            ],
            [
             1,
             "#276419"
            ]
           ],
           "sequential": [
            [
             0,
             "#0d0887"
            ],
            [
             0.1111111111111111,
             "#46039f"
            ],
            [
             0.2222222222222222,
             "#7201a8"
            ],
            [
             0.3333333333333333,
             "#9c179e"
            ],
            [
             0.4444444444444444,
             "#bd3786"
            ],
            [
             0.5555555555555556,
             "#d8576b"
            ],
            [
             0.6666666666666666,
             "#ed7953"
            ],
            [
             0.7777777777777778,
             "#fb9f3a"
            ],
            [
             0.8888888888888888,
             "#fdca26"
            ],
            [
             1,
             "#f0f921"
            ]
           ],
           "sequentialminus": [
            [
             0,
             "#0d0887"
            ],
            [
             0.1111111111111111,
             "#46039f"
            ],
            [
             0.2222222222222222,
             "#7201a8"
            ],
            [
             0.3333333333333333,
             "#9c179e"
            ],
            [
             0.4444444444444444,
             "#bd3786"
            ],
            [
             0.5555555555555556,
             "#d8576b"
            ],
            [
             0.6666666666666666,
             "#ed7953"
            ],
            [
             0.7777777777777778,
             "#fb9f3a"
            ],
            [
             0.8888888888888888,
             "#fdca26"
            ],
            [
             1,
             "#f0f921"
            ]
           ]
          },
          "colorway": [
           "#636efa",
           "#EF553B",
           "#00cc96",
           "#ab63fa",
           "#FFA15A",
           "#19d3f3",
           "#FF6692",
           "#B6E880",
           "#FF97FF",
           "#FECB52"
          ],
          "font": {
           "color": "#2a3f5f"
          },
          "geo": {
           "bgcolor": "white",
           "lakecolor": "white",
           "landcolor": "#E5ECF6",
           "showlakes": true,
           "showland": true,
           "subunitcolor": "white"
          },
          "hoverlabel": {
           "align": "left"
          },
          "hovermode": "closest",
          "mapbox": {
           "style": "light"
          },
          "paper_bgcolor": "white",
          "plot_bgcolor": "#E5ECF6",
          "polar": {
           "angularaxis": {
            "gridcolor": "white",
            "linecolor": "white",
            "ticks": ""
           },
           "bgcolor": "#E5ECF6",
           "radialaxis": {
            "gridcolor": "white",
            "linecolor": "white",
            "ticks": ""
           }
          },
          "scene": {
           "xaxis": {
            "backgroundcolor": "#E5ECF6",
            "gridcolor": "white",
            "gridwidth": 2,
            "linecolor": "white",
            "showbackground": true,
            "ticks": "",
            "zerolinecolor": "white"
           },
           "yaxis": {
            "backgroundcolor": "#E5ECF6",
            "gridcolor": "white",
            "gridwidth": 2,
            "linecolor": "white",
            "showbackground": true,
            "ticks": "",
            "zerolinecolor": "white"
           },
           "zaxis": {
            "backgroundcolor": "#E5ECF6",
            "gridcolor": "white",
            "gridwidth": 2,
            "linecolor": "white",
            "showbackground": true,
            "ticks": "",
            "zerolinecolor": "white"
           }
          },
          "shapedefaults": {
           "line": {
            "color": "#2a3f5f"
           }
          },
          "ternary": {
           "aaxis": {
            "gridcolor": "white",
            "linecolor": "white",
            "ticks": ""
           },
           "baxis": {
            "gridcolor": "white",
            "linecolor": "white",
            "ticks": ""
           },
           "bgcolor": "#E5ECF6",
           "caxis": {
            "gridcolor": "white",
            "linecolor": "white",
            "ticks": ""
           }
          },
          "title": {
           "x": 0.05
          },
          "xaxis": {
           "automargin": true,
           "gridcolor": "white",
           "linecolor": "white",
           "ticks": "",
           "title": {
            "standoff": 15
           },
           "zerolinecolor": "white",
           "zerolinewidth": 2
          },
          "yaxis": {
           "automargin": true,
           "gridcolor": "white",
           "linecolor": "white",
           "ticks": "",
           "title": {
            "standoff": 15
           },
           "zerolinecolor": "white",
           "zerolinewidth": 2
          }
         }
        },
        "xaxis": {
         "anchor": "y",
         "domain": [
          0,
          1
         ],
         "title": {
          "text": "月份"
         }
        },
        "yaxis": {
         "anchor": "x",
         "domain": [
          0,
          1
         ],
         "title": {
          "text": "營收"
         }
        }
       }
      }
     },
     "metadata": {},
     "output_type": "display_data"
    }
   ],
   "source": [
    "# 歷月獲利分析圖\n",
    "fig_month_profit_all = px.line(month_profit,\n",
    "                                 x='Month',\n",
    "                                 y='獲利',\n",
    "                                 color='Year') \n",
    "fig_month_profit_all.update_layout(\n",
    "                #title={\n",
    "                #    'text': '歷月獲利分析圖',\n",
    "                #    'y':0.9,\n",
    "                #    'x':0.5,\n",
    "                #    'xanchor': 'center',\n",
    "                #    'yanchor': 'top'},\n",
    "                xaxis_title='月份',\n",
    "                yaxis_title='獲利')\n",
    "# fig_month_profit_18_19.write_html(\"./demo.html\")   \n",
    "fig_month_profit_all.show()\n",
    "fig_month_profit_all = px.line(month_profit,\n",
    "                                 x='Month',\n",
    "                                 y='營收',\n",
    "                                 color='Year') \n",
    "\n",
    "# 歷月營收分析圖\n",
    "fig_month_profit_all.update_layout(\n",
    "                #title={\n",
    "                    #'text': '歷月營收分析圖',\n",
    "                    #'y':0.9,\n",
    "                    #'x':0.5,\n",
    "                    #'xanchor': 'center',\n",
    "                    #'yanchor': 'top'},\n",
    "                xaxis_title='月份',\n",
    "                yaxis_title='營收')\n",
    "# fig_month_profit_18_19.write_html(\"./demo.html\")   \n",
    "fig_month_profit_all.show()"
   ]
  },
  {
   "cell_type": "markdown",
   "metadata": {},
   "source": [
    "# 全部月份營收、成本、利潤折線圖 "
   ]
  },
  {
   "cell_type": "code",
   "execution_count": 15,
   "metadata": {},
   "outputs": [
    {
     "data": {
      "application/vnd.plotly.v1+json": {
       "config": {
        "plotlyServerURL": "https://plot.ly"
       },
       "data": [
        {
         "hovertemplate": "Month=%{x}<br>營收=%{y}<extra></extra>",
         "legendgroup": "",
         "line": {
          "color": "#636efa",
          "dash": "solid"
         },
         "marker": {
          "symbol": "circle"
         },
         "mode": "lines",
         "name": "",
         "orientation": "v",
         "showlegend": false,
         "type": "scatter",
         "x": [
          "01",
          "02",
          "03",
          "04",
          "05",
          "06",
          "07",
          "08",
          "09",
          "10",
          "11",
          "12",
          "01",
          "02",
          "03",
          "04",
          "05",
          "06",
          "07",
          "08",
          "09",
          "10",
          "11",
          "12",
          "01",
          "02",
          "03",
          "04",
          "05",
          "06",
          "07",
          "08",
          "09",
          "10",
          "11",
          "12",
          "01",
          "02",
          "03",
          "04",
          "05",
          "06",
          "07",
          "08",
          "09",
          "10"
         ],
         "xaxis": "x",
         "y": [
          6341657.595,
          4425429.995,
          4419310.595,
          5906344.535,
          7040271,
          7713770.19,
          6809492.305,
          6465509.6450000005,
          5954097.24,
          5305047.685,
          4789259.58,
          4852457.19,
          4658450.825,
          6353195.625,
          7789571.79,
          7045293.1850000005,
          9898249.585,
          11179921.725,
          10342504.865,
          9504392.17,
          11712921.465,
          6811951.58,
          6622334.075,
          6090482.545,
          6321986.685,
          6662085.5,
          6150758.635,
          7607202.155,
          6696707.815,
          5369112.21,
          7785941.275,
          6690657.505,
          5672813.755,
          7836798.095,
          9478802.55,
          9509838.765,
          7380022.72,
          5516570.01,
          5270254.29,
          7603548.61,
          6222210.855,
          5883092.46,
          6222288.17,
          4927288.24,
          10567550.735,
          2729007.295
         ],
         "yaxis": "y"
        }
       ],
       "layout": {
        "legend": {
         "tracegroupgap": 0
        },
        "margin": {
         "t": 60
        },
        "template": {
         "data": {
          "bar": [
           {
            "error_x": {
             "color": "#2a3f5f"
            },
            "error_y": {
             "color": "#2a3f5f"
            },
            "marker": {
             "line": {
              "color": "#E5ECF6",
              "width": 0.5
             },
             "pattern": {
              "fillmode": "overlay",
              "size": 10,
              "solidity": 0.2
             }
            },
            "type": "bar"
           }
          ],
          "barpolar": [
           {
            "marker": {
             "line": {
              "color": "#E5ECF6",
              "width": 0.5
             },
             "pattern": {
              "fillmode": "overlay",
              "size": 10,
              "solidity": 0.2
             }
            },
            "type": "barpolar"
           }
          ],
          "carpet": [
           {
            "aaxis": {
             "endlinecolor": "#2a3f5f",
             "gridcolor": "white",
             "linecolor": "white",
             "minorgridcolor": "white",
             "startlinecolor": "#2a3f5f"
            },
            "baxis": {
             "endlinecolor": "#2a3f5f",
             "gridcolor": "white",
             "linecolor": "white",
             "minorgridcolor": "white",
             "startlinecolor": "#2a3f5f"
            },
            "type": "carpet"
           }
          ],
          "choropleth": [
           {
            "colorbar": {
             "outlinewidth": 0,
             "ticks": ""
            },
            "type": "choropleth"
           }
          ],
          "contour": [
           {
            "colorbar": {
             "outlinewidth": 0,
             "ticks": ""
            },
            "colorscale": [
             [
              0,
              "#0d0887"
             ],
             [
              0.1111111111111111,
              "#46039f"
             ],
             [
              0.2222222222222222,
              "#7201a8"
             ],
             [
              0.3333333333333333,
              "#9c179e"
             ],
             [
              0.4444444444444444,
              "#bd3786"
             ],
             [
              0.5555555555555556,
              "#d8576b"
             ],
             [
              0.6666666666666666,
              "#ed7953"
             ],
             [
              0.7777777777777778,
              "#fb9f3a"
             ],
             [
              0.8888888888888888,
              "#fdca26"
             ],
             [
              1,
              "#f0f921"
             ]
            ],
            "type": "contour"
           }
          ],
          "contourcarpet": [
           {
            "colorbar": {
             "outlinewidth": 0,
             "ticks": ""
            },
            "type": "contourcarpet"
           }
          ],
          "heatmap": [
           {
            "colorbar": {
             "outlinewidth": 0,
             "ticks": ""
            },
            "colorscale": [
             [
              0,
              "#0d0887"
             ],
             [
              0.1111111111111111,
              "#46039f"
             ],
             [
              0.2222222222222222,
              "#7201a8"
             ],
             [
              0.3333333333333333,
              "#9c179e"
             ],
             [
              0.4444444444444444,
              "#bd3786"
             ],
             [
              0.5555555555555556,
              "#d8576b"
             ],
             [
              0.6666666666666666,
              "#ed7953"
             ],
             [
              0.7777777777777778,
              "#fb9f3a"
             ],
             [
              0.8888888888888888,
              "#fdca26"
             ],
             [
              1,
              "#f0f921"
             ]
            ],
            "type": "heatmap"
           }
          ],
          "heatmapgl": [
           {
            "colorbar": {
             "outlinewidth": 0,
             "ticks": ""
            },
            "colorscale": [
             [
              0,
              "#0d0887"
             ],
             [
              0.1111111111111111,
              "#46039f"
             ],
             [
              0.2222222222222222,
              "#7201a8"
             ],
             [
              0.3333333333333333,
              "#9c179e"
             ],
             [
              0.4444444444444444,
              "#bd3786"
             ],
             [
              0.5555555555555556,
              "#d8576b"
             ],
             [
              0.6666666666666666,
              "#ed7953"
             ],
             [
              0.7777777777777778,
              "#fb9f3a"
             ],
             [
              0.8888888888888888,
              "#fdca26"
             ],
             [
              1,
              "#f0f921"
             ]
            ],
            "type": "heatmapgl"
           }
          ],
          "histogram": [
           {
            "marker": {
             "pattern": {
              "fillmode": "overlay",
              "size": 10,
              "solidity": 0.2
             }
            },
            "type": "histogram"
           }
          ],
          "histogram2d": [
           {
            "colorbar": {
             "outlinewidth": 0,
             "ticks": ""
            },
            "colorscale": [
             [
              0,
              "#0d0887"
             ],
             [
              0.1111111111111111,
              "#46039f"
             ],
             [
              0.2222222222222222,
              "#7201a8"
             ],
             [
              0.3333333333333333,
              "#9c179e"
             ],
             [
              0.4444444444444444,
              "#bd3786"
             ],
             [
              0.5555555555555556,
              "#d8576b"
             ],
             [
              0.6666666666666666,
              "#ed7953"
             ],
             [
              0.7777777777777778,
              "#fb9f3a"
             ],
             [
              0.8888888888888888,
              "#fdca26"
             ],
             [
              1,
              "#f0f921"
             ]
            ],
            "type": "histogram2d"
           }
          ],
          "histogram2dcontour": [
           {
            "colorbar": {
             "outlinewidth": 0,
             "ticks": ""
            },
            "colorscale": [
             [
              0,
              "#0d0887"
             ],
             [
              0.1111111111111111,
              "#46039f"
             ],
             [
              0.2222222222222222,
              "#7201a8"
             ],
             [
              0.3333333333333333,
              "#9c179e"
             ],
             [
              0.4444444444444444,
              "#bd3786"
             ],
             [
              0.5555555555555556,
              "#d8576b"
             ],
             [
              0.6666666666666666,
              "#ed7953"
             ],
             [
              0.7777777777777778,
              "#fb9f3a"
             ],
             [
              0.8888888888888888,
              "#fdca26"
             ],
             [
              1,
              "#f0f921"
             ]
            ],
            "type": "histogram2dcontour"
           }
          ],
          "mesh3d": [
           {
            "colorbar": {
             "outlinewidth": 0,
             "ticks": ""
            },
            "type": "mesh3d"
           }
          ],
          "parcoords": [
           {
            "line": {
             "colorbar": {
              "outlinewidth": 0,
              "ticks": ""
             }
            },
            "type": "parcoords"
           }
          ],
          "pie": [
           {
            "automargin": true,
            "type": "pie"
           }
          ],
          "scatter": [
           {
            "marker": {
             "colorbar": {
              "outlinewidth": 0,
              "ticks": ""
             }
            },
            "type": "scatter"
           }
          ],
          "scatter3d": [
           {
            "line": {
             "colorbar": {
              "outlinewidth": 0,
              "ticks": ""
             }
            },
            "marker": {
             "colorbar": {
              "outlinewidth": 0,
              "ticks": ""
             }
            },
            "type": "scatter3d"
           }
          ],
          "scattercarpet": [
           {
            "marker": {
             "colorbar": {
              "outlinewidth": 0,
              "ticks": ""
             }
            },
            "type": "scattercarpet"
           }
          ],
          "scattergeo": [
           {
            "marker": {
             "colorbar": {
              "outlinewidth": 0,
              "ticks": ""
             }
            },
            "type": "scattergeo"
           }
          ],
          "scattergl": [
           {
            "marker": {
             "colorbar": {
              "outlinewidth": 0,
              "ticks": ""
             }
            },
            "type": "scattergl"
           }
          ],
          "scattermapbox": [
           {
            "marker": {
             "colorbar": {
              "outlinewidth": 0,
              "ticks": ""
             }
            },
            "type": "scattermapbox"
           }
          ],
          "scatterpolar": [
           {
            "marker": {
             "colorbar": {
              "outlinewidth": 0,
              "ticks": ""
             }
            },
            "type": "scatterpolar"
           }
          ],
          "scatterpolargl": [
           {
            "marker": {
             "colorbar": {
              "outlinewidth": 0,
              "ticks": ""
             }
            },
            "type": "scatterpolargl"
           }
          ],
          "scatterternary": [
           {
            "marker": {
             "colorbar": {
              "outlinewidth": 0,
              "ticks": ""
             }
            },
            "type": "scatterternary"
           }
          ],
          "surface": [
           {
            "colorbar": {
             "outlinewidth": 0,
             "ticks": ""
            },
            "colorscale": [
             [
              0,
              "#0d0887"
             ],
             [
              0.1111111111111111,
              "#46039f"
             ],
             [
              0.2222222222222222,
              "#7201a8"
             ],
             [
              0.3333333333333333,
              "#9c179e"
             ],
             [
              0.4444444444444444,
              "#bd3786"
             ],
             [
              0.5555555555555556,
              "#d8576b"
             ],
             [
              0.6666666666666666,
              "#ed7953"
             ],
             [
              0.7777777777777778,
              "#fb9f3a"
             ],
             [
              0.8888888888888888,
              "#fdca26"
             ],
             [
              1,
              "#f0f921"
             ]
            ],
            "type": "surface"
           }
          ],
          "table": [
           {
            "cells": {
             "fill": {
              "color": "#EBF0F8"
             },
             "line": {
              "color": "white"
             }
            },
            "header": {
             "fill": {
              "color": "#C8D4E3"
             },
             "line": {
              "color": "white"
             }
            },
            "type": "table"
           }
          ]
         },
         "layout": {
          "annotationdefaults": {
           "arrowcolor": "#2a3f5f",
           "arrowhead": 0,
           "arrowwidth": 1
          },
          "autotypenumbers": "strict",
          "coloraxis": {
           "colorbar": {
            "outlinewidth": 0,
            "ticks": ""
           }
          },
          "colorscale": {
           "diverging": [
            [
             0,
             "#8e0152"
            ],
            [
             0.1,
             "#c51b7d"
            ],
            [
             0.2,
             "#de77ae"
            ],
            [
             0.3,
             "#f1b6da"
            ],
            [
             0.4,
             "#fde0ef"
            ],
            [
             0.5,
             "#f7f7f7"
            ],
            [
             0.6,
             "#e6f5d0"
            ],
            [
             0.7,
             "#b8e186"
            ],
            [
             0.8,
             "#7fbc41"
            ],
            [
             0.9,
             "#4d9221"
            ],
            [
             1,
             "#276419"
            ]
           ],
           "sequential": [
            [
             0,
             "#0d0887"
            ],
            [
             0.1111111111111111,
             "#46039f"
            ],
            [
             0.2222222222222222,
             "#7201a8"
            ],
            [
             0.3333333333333333,
             "#9c179e"
            ],
            [
             0.4444444444444444,
             "#bd3786"
            ],
            [
             0.5555555555555556,
             "#d8576b"
            ],
            [
             0.6666666666666666,
             "#ed7953"
            ],
            [
             0.7777777777777778,
             "#fb9f3a"
            ],
            [
             0.8888888888888888,
             "#fdca26"
            ],
            [
             1,
             "#f0f921"
            ]
           ],
           "sequentialminus": [
            [
             0,
             "#0d0887"
            ],
            [
             0.1111111111111111,
             "#46039f"
            ],
            [
             0.2222222222222222,
             "#7201a8"
            ],
            [
             0.3333333333333333,
             "#9c179e"
            ],
            [
             0.4444444444444444,
             "#bd3786"
            ],
            [
             0.5555555555555556,
             "#d8576b"
            ],
            [
             0.6666666666666666,
             "#ed7953"
            ],
            [
             0.7777777777777778,
             "#fb9f3a"
            ],
            [
             0.8888888888888888,
             "#fdca26"
            ],
            [
             1,
             "#f0f921"
            ]
           ]
          },
          "colorway": [
           "#636efa",
           "#EF553B",
           "#00cc96",
           "#ab63fa",
           "#FFA15A",
           "#19d3f3",
           "#FF6692",
           "#B6E880",
           "#FF97FF",
           "#FECB52"
          ],
          "font": {
           "color": "#2a3f5f"
          },
          "geo": {
           "bgcolor": "white",
           "lakecolor": "white",
           "landcolor": "#E5ECF6",
           "showlakes": true,
           "showland": true,
           "subunitcolor": "white"
          },
          "hoverlabel": {
           "align": "left"
          },
          "hovermode": "closest",
          "mapbox": {
           "style": "light"
          },
          "paper_bgcolor": "white",
          "plot_bgcolor": "#E5ECF6",
          "polar": {
           "angularaxis": {
            "gridcolor": "white",
            "linecolor": "white",
            "ticks": ""
           },
           "bgcolor": "#E5ECF6",
           "radialaxis": {
            "gridcolor": "white",
            "linecolor": "white",
            "ticks": ""
           }
          },
          "scene": {
           "xaxis": {
            "backgroundcolor": "#E5ECF6",
            "gridcolor": "white",
            "gridwidth": 2,
            "linecolor": "white",
            "showbackground": true,
            "ticks": "",
            "zerolinecolor": "white"
           },
           "yaxis": {
            "backgroundcolor": "#E5ECF6",
            "gridcolor": "white",
            "gridwidth": 2,
            "linecolor": "white",
            "showbackground": true,
            "ticks": "",
            "zerolinecolor": "white"
           },
           "zaxis": {
            "backgroundcolor": "#E5ECF6",
            "gridcolor": "white",
            "gridwidth": 2,
            "linecolor": "white",
            "showbackground": true,
            "ticks": "",
            "zerolinecolor": "white"
           }
          },
          "shapedefaults": {
           "line": {
            "color": "#2a3f5f"
           }
          },
          "ternary": {
           "aaxis": {
            "gridcolor": "white",
            "linecolor": "white",
            "ticks": ""
           },
           "baxis": {
            "gridcolor": "white",
            "linecolor": "white",
            "ticks": ""
           },
           "bgcolor": "#E5ECF6",
           "caxis": {
            "gridcolor": "white",
            "linecolor": "white",
            "ticks": ""
           }
          },
          "title": {
           "x": 0.05
          },
          "xaxis": {
           "automargin": true,
           "gridcolor": "white",
           "linecolor": "white",
           "ticks": "",
           "title": {
            "standoff": 15
           },
           "zerolinecolor": "white",
           "zerolinewidth": 2
          },
          "yaxis": {
           "automargin": true,
           "gridcolor": "white",
           "linecolor": "white",
           "ticks": "",
           "title": {
            "standoff": 15
           },
           "zerolinecolor": "white",
           "zerolinewidth": 2
          }
         }
        },
        "xaxis": {
         "anchor": "y",
         "domain": [
          0,
          1
         ],
         "title": {
          "text": "Month"
         }
        },
        "yaxis": {
         "anchor": "x",
         "domain": [
          0,
          1
         ],
         "title": {
          "text": "營收"
         }
        }
       }
      }
     },
     "metadata": {},
     "output_type": "display_data"
    }
   ],
   "source": [
    "# 全部月份營收折線圖\n",
    "fig_month_revenue = px.line(month_profit, x = 'Month', y = '營收') #color = 'Year')\n",
    "# 於notebook產出動態圖\n",
    "fig_month_revenue.show()\n",
    "#iplot(fig_month_profit)\n",
    "#plot(fig_month_profit, filename = '各月利潤趨勢圖.html')"
   ]
  },
  {
   "cell_type": "code",
   "execution_count": 16,
   "metadata": {},
   "outputs": [
    {
     "data": {
      "application/vnd.plotly.v1+json": {
       "config": {
        "plotlyServerURL": "https://plot.ly"
       },
       "data": [
        {
         "hovertemplate": "Month=%{x}<br>成本=%{y}<extra></extra>",
         "legendgroup": "",
         "line": {
          "color": "#636efa",
          "dash": "solid"
         },
         "marker": {
          "symbol": "circle"
         },
         "mode": "lines",
         "name": "",
         "orientation": "v",
         "showlegend": false,
         "type": "scatter",
         "x": [
          "01",
          "02",
          "03",
          "04",
          "05",
          "06",
          "07",
          "08",
          "09",
          "10",
          "11",
          "12",
          "01",
          "02",
          "03",
          "04",
          "05",
          "06",
          "07",
          "08",
          "09",
          "10",
          "11",
          "12",
          "01",
          "02",
          "03",
          "04",
          "05",
          "06",
          "07",
          "08",
          "09",
          "10",
          "11",
          "12",
          "01",
          "02",
          "03",
          "04",
          "05",
          "06",
          "07",
          "08",
          "09",
          "10"
         ],
         "xaxis": "x",
         "y": [
          4281043.41,
          2737852.46,
          2605346.065,
          2837147.95,
          3354046.43,
          3850444.92,
          3423455.56,
          3257519.475,
          3203848.06,
          2827649.72,
          2526506.15,
          2576736.225,
          2529942.555,
          3185942.235,
          3742328.94,
          3341860.27,
          4628717.45,
          5205140.255,
          4995560.675,
          4701551.47,
          5411535.115,
          3205759.55,
          3391104.99,
          3255275.695,
          3231230.73,
          3418726.185,
          3086844.145,
          3564494.57,
          3091469.885,
          2398071.13,
          3823540.945,
          3533407.36,
          2672049.17,
          3792919.27,
          4577240.465,
          4732896.945,
          3726328.025,
          2919350.245,
          2675651.72,
          3424904.805,
          2912020.125,
          2677987.62,
          2807266.525,
          2350744.48,
          4703472.83,
          1267781.76
         ],
         "yaxis": "y"
        }
       ],
       "layout": {
        "legend": {
         "tracegroupgap": 0
        },
        "margin": {
         "t": 60
        },
        "template": {
         "data": {
          "bar": [
           {
            "error_x": {
             "color": "#2a3f5f"
            },
            "error_y": {
             "color": "#2a3f5f"
            },
            "marker": {
             "line": {
              "color": "#E5ECF6",
              "width": 0.5
             },
             "pattern": {
              "fillmode": "overlay",
              "size": 10,
              "solidity": 0.2
             }
            },
            "type": "bar"
           }
          ],
          "barpolar": [
           {
            "marker": {
             "line": {
              "color": "#E5ECF6",
              "width": 0.5
             },
             "pattern": {
              "fillmode": "overlay",
              "size": 10,
              "solidity": 0.2
             }
            },
            "type": "barpolar"
           }
          ],
          "carpet": [
           {
            "aaxis": {
             "endlinecolor": "#2a3f5f",
             "gridcolor": "white",
             "linecolor": "white",
             "minorgridcolor": "white",
             "startlinecolor": "#2a3f5f"
            },
            "baxis": {
             "endlinecolor": "#2a3f5f",
             "gridcolor": "white",
             "linecolor": "white",
             "minorgridcolor": "white",
             "startlinecolor": "#2a3f5f"
            },
            "type": "carpet"
           }
          ],
          "choropleth": [
           {
            "colorbar": {
             "outlinewidth": 0,
             "ticks": ""
            },
            "type": "choropleth"
           }
          ],
          "contour": [
           {
            "colorbar": {
             "outlinewidth": 0,
             "ticks": ""
            },
            "colorscale": [
             [
              0,
              "#0d0887"
             ],
             [
              0.1111111111111111,
              "#46039f"
             ],
             [
              0.2222222222222222,
              "#7201a8"
             ],
             [
              0.3333333333333333,
              "#9c179e"
             ],
             [
              0.4444444444444444,
              "#bd3786"
             ],
             [
              0.5555555555555556,
              "#d8576b"
             ],
             [
              0.6666666666666666,
              "#ed7953"
             ],
             [
              0.7777777777777778,
              "#fb9f3a"
             ],
             [
              0.8888888888888888,
              "#fdca26"
             ],
             [
              1,
              "#f0f921"
             ]
            ],
            "type": "contour"
           }
          ],
          "contourcarpet": [
           {
            "colorbar": {
             "outlinewidth": 0,
             "ticks": ""
            },
            "type": "contourcarpet"
           }
          ],
          "heatmap": [
           {
            "colorbar": {
             "outlinewidth": 0,
             "ticks": ""
            },
            "colorscale": [
             [
              0,
              "#0d0887"
             ],
             [
              0.1111111111111111,
              "#46039f"
             ],
             [
              0.2222222222222222,
              "#7201a8"
             ],
             [
              0.3333333333333333,
              "#9c179e"
             ],
             [
              0.4444444444444444,
              "#bd3786"
             ],
             [
              0.5555555555555556,
              "#d8576b"
             ],
             [
              0.6666666666666666,
              "#ed7953"
             ],
             [
              0.7777777777777778,
              "#fb9f3a"
             ],
             [
              0.8888888888888888,
              "#fdca26"
             ],
             [
              1,
              "#f0f921"
             ]
            ],
            "type": "heatmap"
           }
          ],
          "heatmapgl": [
           {
            "colorbar": {
             "outlinewidth": 0,
             "ticks": ""
            },
            "colorscale": [
             [
              0,
              "#0d0887"
             ],
             [
              0.1111111111111111,
              "#46039f"
             ],
             [
              0.2222222222222222,
              "#7201a8"
             ],
             [
              0.3333333333333333,
              "#9c179e"
             ],
             [
              0.4444444444444444,
              "#bd3786"
             ],
             [
              0.5555555555555556,
              "#d8576b"
             ],
             [
              0.6666666666666666,
              "#ed7953"
             ],
             [
              0.7777777777777778,
              "#fb9f3a"
             ],
             [
              0.8888888888888888,
              "#fdca26"
             ],
             [
              1,
              "#f0f921"
             ]
            ],
            "type": "heatmapgl"
           }
          ],
          "histogram": [
           {
            "marker": {
             "pattern": {
              "fillmode": "overlay",
              "size": 10,
              "solidity": 0.2
             }
            },
            "type": "histogram"
           }
          ],
          "histogram2d": [
           {
            "colorbar": {
             "outlinewidth": 0,
             "ticks": ""
            },
            "colorscale": [
             [
              0,
              "#0d0887"
             ],
             [
              0.1111111111111111,
              "#46039f"
             ],
             [
              0.2222222222222222,
              "#7201a8"
             ],
             [
              0.3333333333333333,
              "#9c179e"
             ],
             [
              0.4444444444444444,
              "#bd3786"
             ],
             [
              0.5555555555555556,
              "#d8576b"
             ],
             [
              0.6666666666666666,
              "#ed7953"
             ],
             [
              0.7777777777777778,
              "#fb9f3a"
             ],
             [
              0.8888888888888888,
              "#fdca26"
             ],
             [
              1,
              "#f0f921"
             ]
            ],
            "type": "histogram2d"
           }
          ],
          "histogram2dcontour": [
           {
            "colorbar": {
             "outlinewidth": 0,
             "ticks": ""
            },
            "colorscale": [
             [
              0,
              "#0d0887"
             ],
             [
              0.1111111111111111,
              "#46039f"
             ],
             [
              0.2222222222222222,
              "#7201a8"
             ],
             [
              0.3333333333333333,
              "#9c179e"
             ],
             [
              0.4444444444444444,
              "#bd3786"
             ],
             [
              0.5555555555555556,
              "#d8576b"
             ],
             [
              0.6666666666666666,
              "#ed7953"
             ],
             [
              0.7777777777777778,
              "#fb9f3a"
             ],
             [
              0.8888888888888888,
              "#fdca26"
             ],
             [
              1,
              "#f0f921"
             ]
            ],
            "type": "histogram2dcontour"
           }
          ],
          "mesh3d": [
           {
            "colorbar": {
             "outlinewidth": 0,
             "ticks": ""
            },
            "type": "mesh3d"
           }
          ],
          "parcoords": [
           {
            "line": {
             "colorbar": {
              "outlinewidth": 0,
              "ticks": ""
             }
            },
            "type": "parcoords"
           }
          ],
          "pie": [
           {
            "automargin": true,
            "type": "pie"
           }
          ],
          "scatter": [
           {
            "marker": {
             "colorbar": {
              "outlinewidth": 0,
              "ticks": ""
             }
            },
            "type": "scatter"
           }
          ],
          "scatter3d": [
           {
            "line": {
             "colorbar": {
              "outlinewidth": 0,
              "ticks": ""
             }
            },
            "marker": {
             "colorbar": {
              "outlinewidth": 0,
              "ticks": ""
             }
            },
            "type": "scatter3d"
           }
          ],
          "scattercarpet": [
           {
            "marker": {
             "colorbar": {
              "outlinewidth": 0,
              "ticks": ""
             }
            },
            "type": "scattercarpet"
           }
          ],
          "scattergeo": [
           {
            "marker": {
             "colorbar": {
              "outlinewidth": 0,
              "ticks": ""
             }
            },
            "type": "scattergeo"
           }
          ],
          "scattergl": [
           {
            "marker": {
             "colorbar": {
              "outlinewidth": 0,
              "ticks": ""
             }
            },
            "type": "scattergl"
           }
          ],
          "scattermapbox": [
           {
            "marker": {
             "colorbar": {
              "outlinewidth": 0,
              "ticks": ""
             }
            },
            "type": "scattermapbox"
           }
          ],
          "scatterpolar": [
           {
            "marker": {
             "colorbar": {
              "outlinewidth": 0,
              "ticks": ""
             }
            },
            "type": "scatterpolar"
           }
          ],
          "scatterpolargl": [
           {
            "marker": {
             "colorbar": {
              "outlinewidth": 0,
              "ticks": ""
             }
            },
            "type": "scatterpolargl"
           }
          ],
          "scatterternary": [
           {
            "marker": {
             "colorbar": {
              "outlinewidth": 0,
              "ticks": ""
             }
            },
            "type": "scatterternary"
           }
          ],
          "surface": [
           {
            "colorbar": {
             "outlinewidth": 0,
             "ticks": ""
            },
            "colorscale": [
             [
              0,
              "#0d0887"
             ],
             [
              0.1111111111111111,
              "#46039f"
             ],
             [
              0.2222222222222222,
              "#7201a8"
             ],
             [
              0.3333333333333333,
              "#9c179e"
             ],
             [
              0.4444444444444444,
              "#bd3786"
             ],
             [
              0.5555555555555556,
              "#d8576b"
             ],
             [
              0.6666666666666666,
              "#ed7953"
             ],
             [
              0.7777777777777778,
              "#fb9f3a"
             ],
             [
              0.8888888888888888,
              "#fdca26"
             ],
             [
              1,
              "#f0f921"
             ]
            ],
            "type": "surface"
           }
          ],
          "table": [
           {
            "cells": {
             "fill": {
              "color": "#EBF0F8"
             },
             "line": {
              "color": "white"
             }
            },
            "header": {
             "fill": {
              "color": "#C8D4E3"
             },
             "line": {
              "color": "white"
             }
            },
            "type": "table"
           }
          ]
         },
         "layout": {
          "annotationdefaults": {
           "arrowcolor": "#2a3f5f",
           "arrowhead": 0,
           "arrowwidth": 1
          },
          "autotypenumbers": "strict",
          "coloraxis": {
           "colorbar": {
            "outlinewidth": 0,
            "ticks": ""
           }
          },
          "colorscale": {
           "diverging": [
            [
             0,
             "#8e0152"
            ],
            [
             0.1,
             "#c51b7d"
            ],
            [
             0.2,
             "#de77ae"
            ],
            [
             0.3,
             "#f1b6da"
            ],
            [
             0.4,
             "#fde0ef"
            ],
            [
             0.5,
             "#f7f7f7"
            ],
            [
             0.6,
             "#e6f5d0"
            ],
            [
             0.7,
             "#b8e186"
            ],
            [
             0.8,
             "#7fbc41"
            ],
            [
             0.9,
             "#4d9221"
            ],
            [
             1,
             "#276419"
            ]
           ],
           "sequential": [
            [
             0,
             "#0d0887"
            ],
            [
             0.1111111111111111,
             "#46039f"
            ],
            [
             0.2222222222222222,
             "#7201a8"
            ],
            [
             0.3333333333333333,
             "#9c179e"
            ],
            [
             0.4444444444444444,
             "#bd3786"
            ],
            [
             0.5555555555555556,
             "#d8576b"
            ],
            [
             0.6666666666666666,
             "#ed7953"
            ],
            [
             0.7777777777777778,
             "#fb9f3a"
            ],
            [
             0.8888888888888888,
             "#fdca26"
            ],
            [
             1,
             "#f0f921"
            ]
           ],
           "sequentialminus": [
            [
             0,
             "#0d0887"
            ],
            [
             0.1111111111111111,
             "#46039f"
            ],
            [
             0.2222222222222222,
             "#7201a8"
            ],
            [
             0.3333333333333333,
             "#9c179e"
            ],
            [
             0.4444444444444444,
             "#bd3786"
            ],
            [
             0.5555555555555556,
             "#d8576b"
            ],
            [
             0.6666666666666666,
             "#ed7953"
            ],
            [
             0.7777777777777778,
             "#fb9f3a"
            ],
            [
             0.8888888888888888,
             "#fdca26"
            ],
            [
             1,
             "#f0f921"
            ]
           ]
          },
          "colorway": [
           "#636efa",
           "#EF553B",
           "#00cc96",
           "#ab63fa",
           "#FFA15A",
           "#19d3f3",
           "#FF6692",
           "#B6E880",
           "#FF97FF",
           "#FECB52"
          ],
          "font": {
           "color": "#2a3f5f"
          },
          "geo": {
           "bgcolor": "white",
           "lakecolor": "white",
           "landcolor": "#E5ECF6",
           "showlakes": true,
           "showland": true,
           "subunitcolor": "white"
          },
          "hoverlabel": {
           "align": "left"
          },
          "hovermode": "closest",
          "mapbox": {
           "style": "light"
          },
          "paper_bgcolor": "white",
          "plot_bgcolor": "#E5ECF6",
          "polar": {
           "angularaxis": {
            "gridcolor": "white",
            "linecolor": "white",
            "ticks": ""
           },
           "bgcolor": "#E5ECF6",
           "radialaxis": {
            "gridcolor": "white",
            "linecolor": "white",
            "ticks": ""
           }
          },
          "scene": {
           "xaxis": {
            "backgroundcolor": "#E5ECF6",
            "gridcolor": "white",
            "gridwidth": 2,
            "linecolor": "white",
            "showbackground": true,
            "ticks": "",
            "zerolinecolor": "white"
           },
           "yaxis": {
            "backgroundcolor": "#E5ECF6",
            "gridcolor": "white",
            "gridwidth": 2,
            "linecolor": "white",
            "showbackground": true,
            "ticks": "",
            "zerolinecolor": "white"
           },
           "zaxis": {
            "backgroundcolor": "#E5ECF6",
            "gridcolor": "white",
            "gridwidth": 2,
            "linecolor": "white",
            "showbackground": true,
            "ticks": "",
            "zerolinecolor": "white"
           }
          },
          "shapedefaults": {
           "line": {
            "color": "#2a3f5f"
           }
          },
          "ternary": {
           "aaxis": {
            "gridcolor": "white",
            "linecolor": "white",
            "ticks": ""
           },
           "baxis": {
            "gridcolor": "white",
            "linecolor": "white",
            "ticks": ""
           },
           "bgcolor": "#E5ECF6",
           "caxis": {
            "gridcolor": "white",
            "linecolor": "white",
            "ticks": ""
           }
          },
          "title": {
           "x": 0.05
          },
          "xaxis": {
           "automargin": true,
           "gridcolor": "white",
           "linecolor": "white",
           "ticks": "",
           "title": {
            "standoff": 15
           },
           "zerolinecolor": "white",
           "zerolinewidth": 2
          },
          "yaxis": {
           "automargin": true,
           "gridcolor": "white",
           "linecolor": "white",
           "ticks": "",
           "title": {
            "standoff": 15
           },
           "zerolinecolor": "white",
           "zerolinewidth": 2
          }
         }
        },
        "xaxis": {
         "anchor": "y",
         "domain": [
          0,
          1
         ],
         "title": {
          "text": "Month"
         }
        },
        "yaxis": {
         "anchor": "x",
         "domain": [
          0,
          1
         ],
         "title": {
          "text": "成本"
         }
        }
       }
      }
     },
     "metadata": {},
     "output_type": "display_data"
    }
   ],
   "source": [
    "fig_month_cost = px.line(month_profit, x = 'Month', y = '成本') #color = 'Year')\n",
    "# 於notebook產出動態圖\n",
    "fig_month_cost.show()"
   ]
  },
  {
   "cell_type": "code",
   "execution_count": null,
   "metadata": {},
   "outputs": [],
   "source": []
  },
  {
   "cell_type": "code",
   "execution_count": 17,
   "id": "409f33ce",
   "metadata": {},
   "outputs": [],
   "source": [
    "#fig_month_profit = px.line(month_profit, x = 'Month', y = '利潤') #color = 'Year')\n",
    "# 於notebook產出動態圖\n",
    "#iplot(fig_month_profit)\n",
    "#plot(fig_month_profit, filename = '各月利潤趨勢圖.html')\n",
    "#fig_month_profit.show()"
   ]
  },
  {
   "cell_type": "markdown",
   "metadata": {},
   "source": [
    "# month_profit_18_19 (2018年所有資料+2019年10月)"
   ]
  },
  {
   "cell_type": "code",
   "execution_count": 18,
   "metadata": {},
   "outputs": [],
   "source": [
    "month_profit = pd.read_csv('all_M_profit.csv')"
   ]
  },
  {
   "cell_type": "code",
   "execution_count": 19,
   "metadata": {},
   "outputs": [
    {
     "name": "stderr",
     "output_type": "stream",
     "text": [
      "C:\\Users\\chanm\\AppData\\Local\\Temp\\ipykernel_23084\\2361863697.py:1: FutureWarning:\n",
      "\n",
      "The frame.append method is deprecated and will be removed from pandas in a future version. Use pandas.concat instead.\n",
      "\n"
     ]
    }
   ],
   "source": [
    "month_profit_18_19 = month_profit[month_profit['Year'] == 2018].append(month_profit[month_profit['Year'] == 2019])"
   ]
  },
  {
   "cell_type": "code",
   "execution_count": 20,
   "metadata": {},
   "outputs": [],
   "source": [
    "# 重設index\n",
    "month_profit_18_19.reset_index(drop=True, inplace=True)\n",
    "month_profit_18_19.drop('Unnamed: 0', axis=1, inplace=True)"
   ]
  },
  {
   "cell_type": "code",
   "execution_count": 21,
   "metadata": {},
   "outputs": [
    {
     "name": "stdout",
     "output_type": "stream",
     "text": [
      "<class 'pandas.core.frame.DataFrame'>\n",
      "RangeIndex: 23 entries, 0 to 22\n",
      "Data columns (total 5 columns):\n",
      " #   Column  Non-Null Count  Dtype  \n",
      "---  ------  --------------  -----  \n",
      " 0   Year    23 non-null     int64  \n",
      " 1   Month   23 non-null     object \n",
      " 2   營收      23 non-null     float64\n",
      " 3   成本      23 non-null     float64\n",
      " 4   獲利      23 non-null     float64\n",
      "dtypes: float64(3), int64(1), object(1)\n",
      "memory usage: 1.0+ KB\n"
     ]
    }
   ],
   "source": [
    "month_profit_18_19.info()"
   ]
  },
  {
   "cell_type": "code",
   "execution_count": 22,
   "metadata": {},
   "outputs": [],
   "source": [
    "month_profit_18_19.to_csv('month_profit_18_19.csv')"
   ]
  },
  {
   "cell_type": "markdown",
   "metadata": {},
   "source": [
    "# 1-10月營收波動狀況"
   ]
  },
  {
   "cell_type": "code",
   "execution_count": 23,
   "metadata": {},
   "outputs": [],
   "source": [
    "# 僅取1-10月比較\n",
    "profit_18_19_M1_10 = month_profit_18_19.drop(index=[10,11])\n",
    "profit_18_19_M1_10 = profit_18_19_M1_10.reset_index(drop=True)"
   ]
  },
  {
   "cell_type": "code",
   "execution_count": 24,
   "metadata": {},
   "outputs": [
    {
     "data": {
      "text/html": [
       "<div>\n",
       "<style scoped>\n",
       "    .dataframe tbody tr th:only-of-type {\n",
       "        vertical-align: middle;\n",
       "    }\n",
       "\n",
       "    .dataframe tbody tr th {\n",
       "        vertical-align: top;\n",
       "    }\n",
       "\n",
       "    .dataframe thead th {\n",
       "        text-align: right;\n",
       "    }\n",
       "</style>\n",
       "<table border=\"1\" class=\"dataframe\">\n",
       "  <thead>\n",
       "    <tr style=\"text-align: right;\">\n",
       "      <th></th>\n",
       "      <th>Year</th>\n",
       "      <th>Month</th>\n",
       "      <th>營收</th>\n",
       "      <th>成本</th>\n",
       "      <th>獲利</th>\n",
       "    </tr>\n",
       "  </thead>\n",
       "  <tbody>\n",
       "    <tr>\n",
       "      <th>0</th>\n",
       "      <td>2018</td>\n",
       "      <td>2018-01</td>\n",
       "      <td>6.321987e+06</td>\n",
       "      <td>3231230.730</td>\n",
       "      <td>3090755.955</td>\n",
       "    </tr>\n",
       "    <tr>\n",
       "      <th>1</th>\n",
       "      <td>2018</td>\n",
       "      <td>2018-02</td>\n",
       "      <td>6.662086e+06</td>\n",
       "      <td>3418726.185</td>\n",
       "      <td>3243359.315</td>\n",
       "    </tr>\n",
       "    <tr>\n",
       "      <th>2</th>\n",
       "      <td>2018</td>\n",
       "      <td>2018-03</td>\n",
       "      <td>6.150759e+06</td>\n",
       "      <td>3086844.145</td>\n",
       "      <td>3063914.490</td>\n",
       "    </tr>\n",
       "    <tr>\n",
       "      <th>3</th>\n",
       "      <td>2018</td>\n",
       "      <td>2018-04</td>\n",
       "      <td>7.607202e+06</td>\n",
       "      <td>3564494.570</td>\n",
       "      <td>4042707.585</td>\n",
       "    </tr>\n",
       "    <tr>\n",
       "      <th>4</th>\n",
       "      <td>2018</td>\n",
       "      <td>2018-05</td>\n",
       "      <td>6.696708e+06</td>\n",
       "      <td>3091469.885</td>\n",
       "      <td>3605237.930</td>\n",
       "    </tr>\n",
       "    <tr>\n",
       "      <th>5</th>\n",
       "      <td>2018</td>\n",
       "      <td>2018-06</td>\n",
       "      <td>5.369112e+06</td>\n",
       "      <td>2398071.130</td>\n",
       "      <td>2971041.080</td>\n",
       "    </tr>\n",
       "    <tr>\n",
       "      <th>6</th>\n",
       "      <td>2018</td>\n",
       "      <td>2018-07</td>\n",
       "      <td>7.785941e+06</td>\n",
       "      <td>3823540.945</td>\n",
       "      <td>3962400.330</td>\n",
       "    </tr>\n",
       "    <tr>\n",
       "      <th>7</th>\n",
       "      <td>2018</td>\n",
       "      <td>2018-08</td>\n",
       "      <td>6.690658e+06</td>\n",
       "      <td>3533407.360</td>\n",
       "      <td>3157250.145</td>\n",
       "    </tr>\n",
       "    <tr>\n",
       "      <th>8</th>\n",
       "      <td>2018</td>\n",
       "      <td>2018-09</td>\n",
       "      <td>5.672814e+06</td>\n",
       "      <td>2672049.170</td>\n",
       "      <td>3000764.585</td>\n",
       "    </tr>\n",
       "    <tr>\n",
       "      <th>9</th>\n",
       "      <td>2018</td>\n",
       "      <td>2018-10</td>\n",
       "      <td>7.836798e+06</td>\n",
       "      <td>3792919.270</td>\n",
       "      <td>4043878.825</td>\n",
       "    </tr>\n",
       "    <tr>\n",
       "      <th>10</th>\n",
       "      <td>2019</td>\n",
       "      <td>2019-01</td>\n",
       "      <td>7.380023e+06</td>\n",
       "      <td>3726328.025</td>\n",
       "      <td>3653694.695</td>\n",
       "    </tr>\n",
       "    <tr>\n",
       "      <th>11</th>\n",
       "      <td>2019</td>\n",
       "      <td>2019-02</td>\n",
       "      <td>5.516570e+06</td>\n",
       "      <td>2919350.245</td>\n",
       "      <td>2597219.765</td>\n",
       "    </tr>\n",
       "    <tr>\n",
       "      <th>12</th>\n",
       "      <td>2019</td>\n",
       "      <td>2019-03</td>\n",
       "      <td>5.270254e+06</td>\n",
       "      <td>2675651.720</td>\n",
       "      <td>2594602.570</td>\n",
       "    </tr>\n",
       "    <tr>\n",
       "      <th>13</th>\n",
       "      <td>2019</td>\n",
       "      <td>2019-04</td>\n",
       "      <td>7.603549e+06</td>\n",
       "      <td>3424904.805</td>\n",
       "      <td>4178643.805</td>\n",
       "    </tr>\n",
       "    <tr>\n",
       "      <th>14</th>\n",
       "      <td>2019</td>\n",
       "      <td>2019-05</td>\n",
       "      <td>6.222211e+06</td>\n",
       "      <td>2912020.125</td>\n",
       "      <td>3310190.730</td>\n",
       "    </tr>\n",
       "    <tr>\n",
       "      <th>15</th>\n",
       "      <td>2019</td>\n",
       "      <td>2019-06</td>\n",
       "      <td>5.883092e+06</td>\n",
       "      <td>2677987.620</td>\n",
       "      <td>3205104.840</td>\n",
       "    </tr>\n",
       "    <tr>\n",
       "      <th>16</th>\n",
       "      <td>2019</td>\n",
       "      <td>2019-07</td>\n",
       "      <td>6.222288e+06</td>\n",
       "      <td>2807266.525</td>\n",
       "      <td>3415021.645</td>\n",
       "    </tr>\n",
       "    <tr>\n",
       "      <th>17</th>\n",
       "      <td>2019</td>\n",
       "      <td>2019-08</td>\n",
       "      <td>4.927288e+06</td>\n",
       "      <td>2350744.480</td>\n",
       "      <td>2576543.760</td>\n",
       "    </tr>\n",
       "    <tr>\n",
       "      <th>18</th>\n",
       "      <td>2019</td>\n",
       "      <td>2019-09</td>\n",
       "      <td>1.056755e+07</td>\n",
       "      <td>4703472.830</td>\n",
       "      <td>5864077.905</td>\n",
       "    </tr>\n",
       "    <tr>\n",
       "      <th>19</th>\n",
       "      <td>2019</td>\n",
       "      <td>2019-10</td>\n",
       "      <td>2.729007e+06</td>\n",
       "      <td>1267781.760</td>\n",
       "      <td>1461225.535</td>\n",
       "    </tr>\n",
       "    <tr>\n",
       "      <th>20</th>\n",
       "      <td>2019</td>\n",
       "      <td>2019-11</td>\n",
       "      <td>1.047370e+06</td>\n",
       "      <td>530050.255</td>\n",
       "      <td>517319.600</td>\n",
       "    </tr>\n",
       "  </tbody>\n",
       "</table>\n",
       "</div>"
      ],
      "text/plain": [
       "    Year    Month            營收           成本           獲利\n",
       "0   2018  2018-01  6.321987e+06  3231230.730  3090755.955\n",
       "1   2018  2018-02  6.662086e+06  3418726.185  3243359.315\n",
       "2   2018  2018-03  6.150759e+06  3086844.145  3063914.490\n",
       "3   2018  2018-04  7.607202e+06  3564494.570  4042707.585\n",
       "4   2018  2018-05  6.696708e+06  3091469.885  3605237.930\n",
       "5   2018  2018-06  5.369112e+06  2398071.130  2971041.080\n",
       "6   2018  2018-07  7.785941e+06  3823540.945  3962400.330\n",
       "7   2018  2018-08  6.690658e+06  3533407.360  3157250.145\n",
       "8   2018  2018-09  5.672814e+06  2672049.170  3000764.585\n",
       "9   2018  2018-10  7.836798e+06  3792919.270  4043878.825\n",
       "10  2019  2019-01  7.380023e+06  3726328.025  3653694.695\n",
       "11  2019  2019-02  5.516570e+06  2919350.245  2597219.765\n",
       "12  2019  2019-03  5.270254e+06  2675651.720  2594602.570\n",
       "13  2019  2019-04  7.603549e+06  3424904.805  4178643.805\n",
       "14  2019  2019-05  6.222211e+06  2912020.125  3310190.730\n",
       "15  2019  2019-06  5.883092e+06  2677987.620  3205104.840\n",
       "16  2019  2019-07  6.222288e+06  2807266.525  3415021.645\n",
       "17  2019  2019-08  4.927288e+06  2350744.480  2576543.760\n",
       "18  2019  2019-09  1.056755e+07  4703472.830  5864077.905\n",
       "19  2019  2019-10  2.729007e+06  1267781.760  1461225.535\n",
       "20  2019  2019-11  1.047370e+06   530050.255   517319.600"
      ]
     },
     "execution_count": 24,
     "metadata": {},
     "output_type": "execute_result"
    }
   ],
   "source": [
    "profit_18_19_M1_10"
   ]
  },
  {
   "cell_type": "code",
   "execution_count": 25,
   "metadata": {},
   "outputs": [
    {
     "name": "stdout",
     "output_type": "stream",
     "text": [
      "2018年營收標準差=853934\n",
      "2019年營收標準差=2489307\n",
      "2018年營收標準差=810113\n",
      "2019年營收標準差=2373461\n"
     ]
    }
   ],
   "source": [
    "# 了解數據波動狀況\n",
    "# 計算標準差=營收與平均值的差距，了解數據波動狀況\n",
    "import statistics as stats\n",
    "# stats.stdev() 與stats.pstdev() 差別?\n",
    "print('2018年營收標準差='+ str(round(stats.stdev(profit_18_19_M1_10[profit_18_19_M1_10['Year'] == 2018]['營收']))))\n",
    "print('2019年營收標準差='+ str(round(stats.stdev(profit_18_19_M1_10[profit_18_19_M1_10['Year'] == 2019]['營收']))))\n",
    "\n",
    "print('2018年營收標準差='+ str(round(stats.pstdev(profit_18_19_M1_10[profit_18_19_M1_10['Year'] == 2018]['營收']))))\n",
    "print('2019年營收標準差='+ str(round(stats.pstdev(profit_18_19_M1_10[profit_18_19_M1_10['Year'] == 2019]['營收']))))"
   ]
  },
  {
   "cell_type": "code",
   "execution_count": 26,
   "metadata": {},
   "outputs": [
    {
     "data": {
      "text/html": [
       "<div>\n",
       "<style scoped>\n",
       "    .dataframe tbody tr th:only-of-type {\n",
       "        vertical-align: middle;\n",
       "    }\n",
       "\n",
       "    .dataframe tbody tr th {\n",
       "        vertical-align: top;\n",
       "    }\n",
       "\n",
       "    .dataframe thead th {\n",
       "        text-align: right;\n",
       "    }\n",
       "</style>\n",
       "<table border=\"1\" class=\"dataframe\">\n",
       "  <thead>\n",
       "    <tr style=\"text-align: right;\">\n",
       "      <th></th>\n",
       "      <th>std</th>\n",
       "    </tr>\n",
       "  </thead>\n",
       "  <tbody>\n",
       "    <tr>\n",
       "      <th>2018</th>\n",
       "      <td>853934.0</td>\n",
       "    </tr>\n",
       "    <tr>\n",
       "      <th>2019</th>\n",
       "      <td>2489307.0</td>\n",
       "    </tr>\n",
       "    <tr>\n",
       "      <th>增減(%)</th>\n",
       "      <td>191.5</td>\n",
       "    </tr>\n",
       "  </tbody>\n",
       "</table>\n",
       "</div>"
      ],
      "text/plain": [
       "             std\n",
       "2018    853934.0\n",
       "2019   2489307.0\n",
       "增減(%)      191.5"
      ]
     },
     "execution_count": 26,
     "metadata": {},
     "output_type": "execute_result"
    }
   ],
   "source": [
    "# 以標準差判斷月營業額和年營業額之間的差異程度，必須分別算出每個數據與平均值之間的差額\n",
    "# 將差額平方後再相加，接著除以個數，最後開根號。\n",
    "# 計算標準差=營收與平均值的差距，了解數據波動狀況\n",
    "import statistics as stats\n",
    "var = pd.DataFrame(columns=['std'],index=[2018, 2019]) \n",
    "a = stats.stdev( pd.DataFrame(profit_18_19_M1_10[profit_18_19_M1_10['Year'] == 2018]['營收']).reset_index(drop=True).astype(int)['營收'] ) \n",
    "b = stats.stdev( pd.DataFrame(profit_18_19_M1_10[profit_18_19_M1_10['Year'] == 2019]['營收']).reset_index(drop=True).astype(int)['營收'] )\n",
    "var.loc[2018]=round(a)\n",
    "var.loc[2019]=round(b)\n",
    "var = var.astype(int)\n",
    "var.loc['增減(%)'] = round(((var.loc[2019] - var.loc[2018])/var.loc[2018])*100, 1)\n",
    "\n",
    "#var = var.transpose()\n",
    "var \n"
   ]
  },
  {
   "cell_type": "code",
   "execution_count": 27,
   "metadata": {},
   "outputs": [
    {
     "data": {
      "text/html": [
       "<div>\n",
       "<style scoped>\n",
       "    .dataframe tbody tr th:only-of-type {\n",
       "        vertical-align: middle;\n",
       "    }\n",
       "\n",
       "    .dataframe tbody tr th {\n",
       "        vertical-align: top;\n",
       "    }\n",
       "\n",
       "    .dataframe thead th {\n",
       "        text-align: right;\n",
       "    }\n",
       "</style>\n",
       "<table border=\"1\" class=\"dataframe\">\n",
       "  <thead>\n",
       "    <tr style=\"text-align: right;\">\n",
       "      <th></th>\n",
       "      <th>std</th>\n",
       "      <th>mean</th>\n",
       "    </tr>\n",
       "  </thead>\n",
       "  <tbody>\n",
       "    <tr>\n",
       "      <th>2018</th>\n",
       "      <td>853934</td>\n",
       "      <td>6679406</td>\n",
       "    </tr>\n",
       "    <tr>\n",
       "      <th>2019</th>\n",
       "      <td>2489307</td>\n",
       "      <td>5760836</td>\n",
       "    </tr>\n",
       "    <tr>\n",
       "      <th>增減(%)</th>\n",
       "      <td>191</td>\n",
       "      <td>-13</td>\n",
       "    </tr>\n",
       "  </tbody>\n",
       "</table>\n",
       "</div>"
      ],
      "text/plain": [
       "           std     mean\n",
       "2018    853934  6679406\n",
       "2019   2489307  5760836\n",
       "增減(%)      191      -13"
      ]
     },
     "execution_count": 27,
     "metadata": {},
     "output_type": "execute_result"
    }
   ],
   "source": [
    "# 新增兩年各月mean\n",
    "#rank = 0\n",
    "#for Y in month_profit_18_19['Year'].unique():\n",
    "var.loc[2018, 'mean'] = profit_18_19_M1_10[profit_18_19_M1_10['Year']== 2018]['營收'].mean()\n",
    "var.loc[2019, 'mean'] = profit_18_19_M1_10[profit_18_19_M1_10['Year']== 2019]['營收'].mean()\n",
    "var.loc['增減(%)', 'mean'] = round(((var.loc[2019, 'mean'] - var.loc[2018, 'mean'])/var.loc[2018, 'mean'])*100, 1)\n",
    "var.astype(int)"
   ]
  },
  {
   "cell_type": "markdown",
   "metadata": {},
   "source": [
    "# 判斷各月營收是否低於當年平均值"
   ]
  },
  {
   "cell_type": "code",
   "execution_count": 28,
   "metadata": {},
   "outputs": [
    {
     "data": {
      "text/html": [
       "<div>\n",
       "<style scoped>\n",
       "    .dataframe tbody tr th:only-of-type {\n",
       "        vertical-align: middle;\n",
       "    }\n",
       "\n",
       "    .dataframe tbody tr th {\n",
       "        vertical-align: top;\n",
       "    }\n",
       "\n",
       "    .dataframe thead th {\n",
       "        text-align: right;\n",
       "    }\n",
       "</style>\n",
       "<table border=\"1\" class=\"dataframe\">\n",
       "  <thead>\n",
       "    <tr style=\"text-align: right;\">\n",
       "      <th></th>\n",
       "      <th>Year</th>\n",
       "      <th>Month</th>\n",
       "      <th>營收</th>\n",
       "      <th>成本</th>\n",
       "      <th>獲利</th>\n",
       "    </tr>\n",
       "  </thead>\n",
       "  <tbody>\n",
       "    <tr>\n",
       "      <th>0</th>\n",
       "      <td>2018</td>\n",
       "      <td>2018-01</td>\n",
       "      <td>6.321987e+06</td>\n",
       "      <td>3231230.730</td>\n",
       "      <td>3090755.955</td>\n",
       "    </tr>\n",
       "    <tr>\n",
       "      <th>1</th>\n",
       "      <td>2018</td>\n",
       "      <td>2018-02</td>\n",
       "      <td>6.662086e+06</td>\n",
       "      <td>3418726.185</td>\n",
       "      <td>3243359.315</td>\n",
       "    </tr>\n",
       "    <tr>\n",
       "      <th>2</th>\n",
       "      <td>2018</td>\n",
       "      <td>2018-03</td>\n",
       "      <td>6.150759e+06</td>\n",
       "      <td>3086844.145</td>\n",
       "      <td>3063914.490</td>\n",
       "    </tr>\n",
       "    <tr>\n",
       "      <th>3</th>\n",
       "      <td>2018</td>\n",
       "      <td>2018-04</td>\n",
       "      <td>7.607202e+06</td>\n",
       "      <td>3564494.570</td>\n",
       "      <td>4042707.585</td>\n",
       "    </tr>\n",
       "    <tr>\n",
       "      <th>4</th>\n",
       "      <td>2018</td>\n",
       "      <td>2018-05</td>\n",
       "      <td>6.696708e+06</td>\n",
       "      <td>3091469.885</td>\n",
       "      <td>3605237.930</td>\n",
       "    </tr>\n",
       "    <tr>\n",
       "      <th>5</th>\n",
       "      <td>2018</td>\n",
       "      <td>2018-06</td>\n",
       "      <td>5.369112e+06</td>\n",
       "      <td>2398071.130</td>\n",
       "      <td>2971041.080</td>\n",
       "    </tr>\n",
       "    <tr>\n",
       "      <th>6</th>\n",
       "      <td>2018</td>\n",
       "      <td>2018-07</td>\n",
       "      <td>7.785941e+06</td>\n",
       "      <td>3823540.945</td>\n",
       "      <td>3962400.330</td>\n",
       "    </tr>\n",
       "    <tr>\n",
       "      <th>7</th>\n",
       "      <td>2018</td>\n",
       "      <td>2018-08</td>\n",
       "      <td>6.690658e+06</td>\n",
       "      <td>3533407.360</td>\n",
       "      <td>3157250.145</td>\n",
       "    </tr>\n",
       "    <tr>\n",
       "      <th>8</th>\n",
       "      <td>2018</td>\n",
       "      <td>2018-09</td>\n",
       "      <td>5.672814e+06</td>\n",
       "      <td>2672049.170</td>\n",
       "      <td>3000764.585</td>\n",
       "    </tr>\n",
       "    <tr>\n",
       "      <th>9</th>\n",
       "      <td>2018</td>\n",
       "      <td>2018-10</td>\n",
       "      <td>7.836798e+06</td>\n",
       "      <td>3792919.270</td>\n",
       "      <td>4043878.825</td>\n",
       "    </tr>\n",
       "    <tr>\n",
       "      <th>10</th>\n",
       "      <td>2019</td>\n",
       "      <td>2019-01</td>\n",
       "      <td>7.380023e+06</td>\n",
       "      <td>3726328.025</td>\n",
       "      <td>3653694.695</td>\n",
       "    </tr>\n",
       "    <tr>\n",
       "      <th>11</th>\n",
       "      <td>2019</td>\n",
       "      <td>2019-02</td>\n",
       "      <td>5.516570e+06</td>\n",
       "      <td>2919350.245</td>\n",
       "      <td>2597219.765</td>\n",
       "    </tr>\n",
       "    <tr>\n",
       "      <th>12</th>\n",
       "      <td>2019</td>\n",
       "      <td>2019-03</td>\n",
       "      <td>5.270254e+06</td>\n",
       "      <td>2675651.720</td>\n",
       "      <td>2594602.570</td>\n",
       "    </tr>\n",
       "    <tr>\n",
       "      <th>13</th>\n",
       "      <td>2019</td>\n",
       "      <td>2019-04</td>\n",
       "      <td>7.603549e+06</td>\n",
       "      <td>3424904.805</td>\n",
       "      <td>4178643.805</td>\n",
       "    </tr>\n",
       "    <tr>\n",
       "      <th>14</th>\n",
       "      <td>2019</td>\n",
       "      <td>2019-05</td>\n",
       "      <td>6.222211e+06</td>\n",
       "      <td>2912020.125</td>\n",
       "      <td>3310190.730</td>\n",
       "    </tr>\n",
       "    <tr>\n",
       "      <th>15</th>\n",
       "      <td>2019</td>\n",
       "      <td>2019-06</td>\n",
       "      <td>5.883092e+06</td>\n",
       "      <td>2677987.620</td>\n",
       "      <td>3205104.840</td>\n",
       "    </tr>\n",
       "    <tr>\n",
       "      <th>16</th>\n",
       "      <td>2019</td>\n",
       "      <td>2019-07</td>\n",
       "      <td>6.222288e+06</td>\n",
       "      <td>2807266.525</td>\n",
       "      <td>3415021.645</td>\n",
       "    </tr>\n",
       "    <tr>\n",
       "      <th>17</th>\n",
       "      <td>2019</td>\n",
       "      <td>2019-08</td>\n",
       "      <td>4.927288e+06</td>\n",
       "      <td>2350744.480</td>\n",
       "      <td>2576543.760</td>\n",
       "    </tr>\n",
       "    <tr>\n",
       "      <th>18</th>\n",
       "      <td>2019</td>\n",
       "      <td>2019-09</td>\n",
       "      <td>1.056755e+07</td>\n",
       "      <td>4703472.830</td>\n",
       "      <td>5864077.905</td>\n",
       "    </tr>\n",
       "    <tr>\n",
       "      <th>19</th>\n",
       "      <td>2019</td>\n",
       "      <td>2019-10</td>\n",
       "      <td>2.729007e+06</td>\n",
       "      <td>1267781.760</td>\n",
       "      <td>1461225.535</td>\n",
       "    </tr>\n",
       "    <tr>\n",
       "      <th>20</th>\n",
       "      <td>2019</td>\n",
       "      <td>2019-11</td>\n",
       "      <td>1.047370e+06</td>\n",
       "      <td>530050.255</td>\n",
       "      <td>517319.600</td>\n",
       "    </tr>\n",
       "  </tbody>\n",
       "</table>\n",
       "</div>"
      ],
      "text/plain": [
       "    Year    Month            營收           成本           獲利\n",
       "0   2018  2018-01  6.321987e+06  3231230.730  3090755.955\n",
       "1   2018  2018-02  6.662086e+06  3418726.185  3243359.315\n",
       "2   2018  2018-03  6.150759e+06  3086844.145  3063914.490\n",
       "3   2018  2018-04  7.607202e+06  3564494.570  4042707.585\n",
       "4   2018  2018-05  6.696708e+06  3091469.885  3605237.930\n",
       "5   2018  2018-06  5.369112e+06  2398071.130  2971041.080\n",
       "6   2018  2018-07  7.785941e+06  3823540.945  3962400.330\n",
       "7   2018  2018-08  6.690658e+06  3533407.360  3157250.145\n",
       "8   2018  2018-09  5.672814e+06  2672049.170  3000764.585\n",
       "9   2018  2018-10  7.836798e+06  3792919.270  4043878.825\n",
       "10  2019  2019-01  7.380023e+06  3726328.025  3653694.695\n",
       "11  2019  2019-02  5.516570e+06  2919350.245  2597219.765\n",
       "12  2019  2019-03  5.270254e+06  2675651.720  2594602.570\n",
       "13  2019  2019-04  7.603549e+06  3424904.805  4178643.805\n",
       "14  2019  2019-05  6.222211e+06  2912020.125  3310190.730\n",
       "15  2019  2019-06  5.883092e+06  2677987.620  3205104.840\n",
       "16  2019  2019-07  6.222288e+06  2807266.525  3415021.645\n",
       "17  2019  2019-08  4.927288e+06  2350744.480  2576543.760\n",
       "18  2019  2019-09  1.056755e+07  4703472.830  5864077.905\n",
       "19  2019  2019-10  2.729007e+06  1267781.760  1461225.535\n",
       "20  2019  2019-11  1.047370e+06   530050.255   517319.600"
      ]
     },
     "execution_count": 28,
     "metadata": {},
     "output_type": "execute_result"
    }
   ],
   "source": [
    "profit_18_19_M1_10"
   ]
  },
  {
   "cell_type": "code",
   "execution_count": 29,
   "metadata": {},
   "outputs": [],
   "source": [
    "profit_18_19_M1_10['營收狀況'] = np.nan"
   ]
  },
  {
   "cell_type": "code",
   "execution_count": 30,
   "metadata": {},
   "outputs": [
    {
     "data": {
      "text/html": [
       "<div>\n",
       "<style scoped>\n",
       "    .dataframe tbody tr th:only-of-type {\n",
       "        vertical-align: middle;\n",
       "    }\n",
       "\n",
       "    .dataframe tbody tr th {\n",
       "        vertical-align: top;\n",
       "    }\n",
       "\n",
       "    .dataframe thead th {\n",
       "        text-align: right;\n",
       "    }\n",
       "</style>\n",
       "<table border=\"1\" class=\"dataframe\">\n",
       "  <thead>\n",
       "    <tr style=\"text-align: right;\">\n",
       "      <th></th>\n",
       "      <th>Year</th>\n",
       "      <th>Month</th>\n",
       "      <th>營收</th>\n",
       "      <th>成本</th>\n",
       "      <th>獲利</th>\n",
       "      <th>營收狀況</th>\n",
       "    </tr>\n",
       "  </thead>\n",
       "  <tbody>\n",
       "    <tr>\n",
       "      <th>0</th>\n",
       "      <td>2018</td>\n",
       "      <td>2018-01</td>\n",
       "      <td>6321986.685</td>\n",
       "      <td>3231230.730</td>\n",
       "      <td>3090755.955</td>\n",
       "      <td>NaN</td>\n",
       "    </tr>\n",
       "    <tr>\n",
       "      <th>1</th>\n",
       "      <td>2018</td>\n",
       "      <td>2018-02</td>\n",
       "      <td>6662085.500</td>\n",
       "      <td>3418726.185</td>\n",
       "      <td>3243359.315</td>\n",
       "      <td>NaN</td>\n",
       "    </tr>\n",
       "    <tr>\n",
       "      <th>2</th>\n",
       "      <td>2018</td>\n",
       "      <td>2018-03</td>\n",
       "      <td>6150758.635</td>\n",
       "      <td>3086844.145</td>\n",
       "      <td>3063914.490</td>\n",
       "      <td>NaN</td>\n",
       "    </tr>\n",
       "    <tr>\n",
       "      <th>3</th>\n",
       "      <td>2018</td>\n",
       "      <td>2018-04</td>\n",
       "      <td>7607202.155</td>\n",
       "      <td>3564494.570</td>\n",
       "      <td>4042707.585</td>\n",
       "      <td>NaN</td>\n",
       "    </tr>\n",
       "    <tr>\n",
       "      <th>4</th>\n",
       "      <td>2018</td>\n",
       "      <td>2018-05</td>\n",
       "      <td>6696707.815</td>\n",
       "      <td>3091469.885</td>\n",
       "      <td>3605237.930</td>\n",
       "      <td>NaN</td>\n",
       "    </tr>\n",
       "    <tr>\n",
       "      <th>5</th>\n",
       "      <td>2018</td>\n",
       "      <td>2018-06</td>\n",
       "      <td>5369112.210</td>\n",
       "      <td>2398071.130</td>\n",
       "      <td>2971041.080</td>\n",
       "      <td>NaN</td>\n",
       "    </tr>\n",
       "    <tr>\n",
       "      <th>6</th>\n",
       "      <td>2018</td>\n",
       "      <td>2018-07</td>\n",
       "      <td>7785941.275</td>\n",
       "      <td>3823540.945</td>\n",
       "      <td>3962400.330</td>\n",
       "      <td>NaN</td>\n",
       "    </tr>\n",
       "    <tr>\n",
       "      <th>7</th>\n",
       "      <td>2018</td>\n",
       "      <td>2018-08</td>\n",
       "      <td>6690657.505</td>\n",
       "      <td>3533407.360</td>\n",
       "      <td>3157250.145</td>\n",
       "      <td>NaN</td>\n",
       "    </tr>\n",
       "    <tr>\n",
       "      <th>8</th>\n",
       "      <td>2018</td>\n",
       "      <td>2018-09</td>\n",
       "      <td>5672813.755</td>\n",
       "      <td>2672049.170</td>\n",
       "      <td>3000764.585</td>\n",
       "      <td>NaN</td>\n",
       "    </tr>\n",
       "    <tr>\n",
       "      <th>9</th>\n",
       "      <td>2018</td>\n",
       "      <td>2018-10</td>\n",
       "      <td>7836798.095</td>\n",
       "      <td>3792919.270</td>\n",
       "      <td>4043878.825</td>\n",
       "      <td>NaN</td>\n",
       "    </tr>\n",
       "  </tbody>\n",
       "</table>\n",
       "</div>"
      ],
      "text/plain": [
       "   Year    Month           營收           成本           獲利  營收狀況\n",
       "0  2018  2018-01  6321986.685  3231230.730  3090755.955   NaN\n",
       "1  2018  2018-02  6662085.500  3418726.185  3243359.315   NaN\n",
       "2  2018  2018-03  6150758.635  3086844.145  3063914.490   NaN\n",
       "3  2018  2018-04  7607202.155  3564494.570  4042707.585   NaN\n",
       "4  2018  2018-05  6696707.815  3091469.885  3605237.930   NaN\n",
       "5  2018  2018-06  5369112.210  2398071.130  2971041.080   NaN\n",
       "6  2018  2018-07  7785941.275  3823540.945  3962400.330   NaN\n",
       "7  2018  2018-08  6690657.505  3533407.360  3157250.145   NaN\n",
       "8  2018  2018-09  5672813.755  2672049.170  3000764.585   NaN\n",
       "9  2018  2018-10  7836798.095  3792919.270  4043878.825   NaN"
      ]
     },
     "execution_count": 30,
     "metadata": {},
     "output_type": "execute_result"
    }
   ],
   "source": [
    "tmp2018 = profit_18_19_M1_10[profit_18_19_M1_10['Year'] == 2018]\n",
    "tmp2018"
   ]
  },
  {
   "cell_type": "code",
   "execution_count": 31,
   "metadata": {},
   "outputs": [
    {
     "name": "stderr",
     "output_type": "stream",
     "text": [
      "C:\\Users\\chanm\\AppData\\Local\\Temp\\ipykernel_23084\\1737712225.py:8: SettingWithCopyWarning:\n",
      "\n",
      "\n",
      "A value is trying to be set on a copy of a slice from a DataFrame.\n",
      "Try using .loc[row_indexer,col_indexer] = value instead\n",
      "\n",
      "See the caveats in the documentation: https://pandas.pydata.org/pandas-docs/stable/user_guide/indexing.html#returning-a-view-versus-a-copy\n",
      "\n"
     ]
    },
    {
     "data": {
      "text/html": [
       "<div>\n",
       "<style scoped>\n",
       "    .dataframe tbody tr th:only-of-type {\n",
       "        vertical-align: middle;\n",
       "    }\n",
       "\n",
       "    .dataframe tbody tr th {\n",
       "        vertical-align: top;\n",
       "    }\n",
       "\n",
       "    .dataframe thead th {\n",
       "        text-align: right;\n",
       "    }\n",
       "</style>\n",
       "<table border=\"1\" class=\"dataframe\">\n",
       "  <thead>\n",
       "    <tr style=\"text-align: right;\">\n",
       "      <th></th>\n",
       "      <th>Year</th>\n",
       "      <th>Month</th>\n",
       "      <th>營收</th>\n",
       "      <th>成本</th>\n",
       "      <th>獲利</th>\n",
       "      <th>營收狀況</th>\n",
       "    </tr>\n",
       "  </thead>\n",
       "  <tbody>\n",
       "    <tr>\n",
       "      <th>0</th>\n",
       "      <td>2018</td>\n",
       "      <td>2018-01</td>\n",
       "      <td>6321986.685</td>\n",
       "      <td>3231230.730</td>\n",
       "      <td>3090755.955</td>\n",
       "      <td>均值內</td>\n",
       "    </tr>\n",
       "    <tr>\n",
       "      <th>1</th>\n",
       "      <td>2018</td>\n",
       "      <td>2018-02</td>\n",
       "      <td>6662085.500</td>\n",
       "      <td>3418726.185</td>\n",
       "      <td>3243359.315</td>\n",
       "      <td>均值內</td>\n",
       "    </tr>\n",
       "    <tr>\n",
       "      <th>2</th>\n",
       "      <td>2018</td>\n",
       "      <td>2018-03</td>\n",
       "      <td>6150758.635</td>\n",
       "      <td>3086844.145</td>\n",
       "      <td>3063914.490</td>\n",
       "      <td>均值內</td>\n",
       "    </tr>\n",
       "    <tr>\n",
       "      <th>3</th>\n",
       "      <td>2018</td>\n",
       "      <td>2018-04</td>\n",
       "      <td>7607202.155</td>\n",
       "      <td>3564494.570</td>\n",
       "      <td>4042707.585</td>\n",
       "      <td>高於平均值</td>\n",
       "    </tr>\n",
       "    <tr>\n",
       "      <th>4</th>\n",
       "      <td>2018</td>\n",
       "      <td>2018-05</td>\n",
       "      <td>6696707.815</td>\n",
       "      <td>3091469.885</td>\n",
       "      <td>3605237.930</td>\n",
       "      <td>均值內</td>\n",
       "    </tr>\n",
       "    <tr>\n",
       "      <th>5</th>\n",
       "      <td>2018</td>\n",
       "      <td>2018-06</td>\n",
       "      <td>5369112.210</td>\n",
       "      <td>2398071.130</td>\n",
       "      <td>2971041.080</td>\n",
       "      <td>低於平均值</td>\n",
       "    </tr>\n",
       "    <tr>\n",
       "      <th>6</th>\n",
       "      <td>2018</td>\n",
       "      <td>2018-07</td>\n",
       "      <td>7785941.275</td>\n",
       "      <td>3823540.945</td>\n",
       "      <td>3962400.330</td>\n",
       "      <td>高於平均值</td>\n",
       "    </tr>\n",
       "    <tr>\n",
       "      <th>7</th>\n",
       "      <td>2018</td>\n",
       "      <td>2018-08</td>\n",
       "      <td>6690657.505</td>\n",
       "      <td>3533407.360</td>\n",
       "      <td>3157250.145</td>\n",
       "      <td>均值內</td>\n",
       "    </tr>\n",
       "    <tr>\n",
       "      <th>8</th>\n",
       "      <td>2018</td>\n",
       "      <td>2018-09</td>\n",
       "      <td>5672813.755</td>\n",
       "      <td>2672049.170</td>\n",
       "      <td>3000764.585</td>\n",
       "      <td>低於平均值</td>\n",
       "    </tr>\n",
       "    <tr>\n",
       "      <th>9</th>\n",
       "      <td>2018</td>\n",
       "      <td>2018-10</td>\n",
       "      <td>7836798.095</td>\n",
       "      <td>3792919.270</td>\n",
       "      <td>4043878.825</td>\n",
       "      <td>高於平均值</td>\n",
       "    </tr>\n",
       "  </tbody>\n",
       "</table>\n",
       "</div>"
      ],
      "text/plain": [
       "   Year    Month           營收           成本           獲利   營收狀況\n",
       "0  2018  2018-01  6321986.685  3231230.730  3090755.955    均值內\n",
       "1  2018  2018-02  6662085.500  3418726.185  3243359.315    均值內\n",
       "2  2018  2018-03  6150758.635  3086844.145  3063914.490    均值內\n",
       "3  2018  2018-04  7607202.155  3564494.570  4042707.585  高於平均值\n",
       "4  2018  2018-05  6696707.815  3091469.885  3605237.930    均值內\n",
       "5  2018  2018-06  5369112.210  2398071.130  2971041.080  低於平均值\n",
       "6  2018  2018-07  7785941.275  3823540.945  3962400.330  高於平均值\n",
       "7  2018  2018-08  6690657.505  3533407.360  3157250.145    均值內\n",
       "8  2018  2018-09  5672813.755  2672049.170  3000764.585  低於平均值\n",
       "9  2018  2018-10  7836798.095  3792919.270  4043878.825  高於平均值"
      ]
     },
     "execution_count": 31,
     "metadata": {},
     "output_type": "execute_result"
    }
   ],
   "source": [
    "rank=0\n",
    "for i in tmp2018['Year']:\n",
    "    if (tmp2018.iloc[rank,2] > (var.iloc[0,1]+var.iloc[0,0])).any():\n",
    "        tmp2018.loc[rank, '營收狀況'] = '高於平均值'\n",
    "    elif (tmp2018.iloc[rank,2] < (var.iloc[0,1]-var.iloc[0,0])).any():\n",
    "        tmp2018.loc[rank, '營收狀況'] = '低於平均值'\n",
    "    else:\n",
    "        tmp2018.loc[rank, '營收狀況'] = '均值內'\n",
    "    rank=rank+1\n",
    "tmp2018"
   ]
  },
  {
   "cell_type": "code",
   "execution_count": 32,
   "metadata": {},
   "outputs": [
    {
     "data": {
      "text/html": [
       "<div>\n",
       "<style scoped>\n",
       "    .dataframe tbody tr th:only-of-type {\n",
       "        vertical-align: middle;\n",
       "    }\n",
       "\n",
       "    .dataframe tbody tr th {\n",
       "        vertical-align: top;\n",
       "    }\n",
       "\n",
       "    .dataframe thead th {\n",
       "        text-align: right;\n",
       "    }\n",
       "</style>\n",
       "<table border=\"1\" class=\"dataframe\">\n",
       "  <thead>\n",
       "    <tr style=\"text-align: right;\">\n",
       "      <th></th>\n",
       "      <th>Month</th>\n",
       "      <th>營收</th>\n",
       "      <th>營收狀況</th>\n",
       "    </tr>\n",
       "  </thead>\n",
       "  <tbody>\n",
       "    <tr>\n",
       "      <th>0</th>\n",
       "      <td>2018-01</td>\n",
       "      <td>6321986.685</td>\n",
       "      <td>均值內</td>\n",
       "    </tr>\n",
       "    <tr>\n",
       "      <th>1</th>\n",
       "      <td>2018-02</td>\n",
       "      <td>6662085.500</td>\n",
       "      <td>均值內</td>\n",
       "    </tr>\n",
       "    <tr>\n",
       "      <th>2</th>\n",
       "      <td>2018-03</td>\n",
       "      <td>6150758.635</td>\n",
       "      <td>均值內</td>\n",
       "    </tr>\n",
       "    <tr>\n",
       "      <th>3</th>\n",
       "      <td>2018-04</td>\n",
       "      <td>7607202.155</td>\n",
       "      <td>高於平均值</td>\n",
       "    </tr>\n",
       "    <tr>\n",
       "      <th>4</th>\n",
       "      <td>2018-05</td>\n",
       "      <td>6696707.815</td>\n",
       "      <td>均值內</td>\n",
       "    </tr>\n",
       "    <tr>\n",
       "      <th>5</th>\n",
       "      <td>2018-06</td>\n",
       "      <td>5369112.210</td>\n",
       "      <td>低於平均值</td>\n",
       "    </tr>\n",
       "    <tr>\n",
       "      <th>6</th>\n",
       "      <td>2018-07</td>\n",
       "      <td>7785941.275</td>\n",
       "      <td>高於平均值</td>\n",
       "    </tr>\n",
       "    <tr>\n",
       "      <th>7</th>\n",
       "      <td>2018-08</td>\n",
       "      <td>6690657.505</td>\n",
       "      <td>均值內</td>\n",
       "    </tr>\n",
       "    <tr>\n",
       "      <th>8</th>\n",
       "      <td>2018-09</td>\n",
       "      <td>5672813.755</td>\n",
       "      <td>低於平均值</td>\n",
       "    </tr>\n",
       "    <tr>\n",
       "      <th>9</th>\n",
       "      <td>2018-10</td>\n",
       "      <td>7836798.095</td>\n",
       "      <td>高於平均值</td>\n",
       "    </tr>\n",
       "  </tbody>\n",
       "</table>\n",
       "</div>"
      ],
      "text/plain": [
       "     Month           營收   營收狀況\n",
       "0  2018-01  6321986.685    均值內\n",
       "1  2018-02  6662085.500    均值內\n",
       "2  2018-03  6150758.635    均值內\n",
       "3  2018-04  7607202.155  高於平均值\n",
       "4  2018-05  6696707.815    均值內\n",
       "5  2018-06  5369112.210  低於平均值\n",
       "6  2018-07  7785941.275  高於平均值\n",
       "7  2018-08  6690657.505    均值內\n",
       "8  2018-09  5672813.755  低於平均值\n",
       "9  2018-10  7836798.095  高於平均值"
      ]
     },
     "execution_count": 32,
     "metadata": {},
     "output_type": "execute_result"
    }
   ],
   "source": [
    "tmp2018 = tmp2018[['Month', '營收', '營收狀況']]\n",
    "tmp2018"
   ]
  },
  {
   "cell_type": "code",
   "execution_count": 33,
   "metadata": {},
   "outputs": [],
   "source": [
    "tmp2019 = profit_18_19_M1_10[profit_18_19_M1_10['Year'] == 2019]\n",
    "tmp2019 = tmp2019.reset_index(drop=True)"
   ]
  },
  {
   "cell_type": "code",
   "execution_count": 34,
   "metadata": {},
   "outputs": [
    {
     "data": {
      "text/html": [
       "<div>\n",
       "<style scoped>\n",
       "    .dataframe tbody tr th:only-of-type {\n",
       "        vertical-align: middle;\n",
       "    }\n",
       "\n",
       "    .dataframe tbody tr th {\n",
       "        vertical-align: top;\n",
       "    }\n",
       "\n",
       "    .dataframe thead th {\n",
       "        text-align: right;\n",
       "    }\n",
       "</style>\n",
       "<table border=\"1\" class=\"dataframe\">\n",
       "  <thead>\n",
       "    <tr style=\"text-align: right;\">\n",
       "      <th></th>\n",
       "      <th>Year</th>\n",
       "      <th>Month</th>\n",
       "      <th>營收</th>\n",
       "      <th>成本</th>\n",
       "      <th>獲利</th>\n",
       "      <th>營收狀況</th>\n",
       "    </tr>\n",
       "  </thead>\n",
       "  <tbody>\n",
       "    <tr>\n",
       "      <th>0</th>\n",
       "      <td>2019</td>\n",
       "      <td>2019-01</td>\n",
       "      <td>7.380023e+06</td>\n",
       "      <td>3726328.025</td>\n",
       "      <td>3653694.695</td>\n",
       "      <td>均值內</td>\n",
       "    </tr>\n",
       "    <tr>\n",
       "      <th>1</th>\n",
       "      <td>2019</td>\n",
       "      <td>2019-02</td>\n",
       "      <td>5.516570e+06</td>\n",
       "      <td>2919350.245</td>\n",
       "      <td>2597219.765</td>\n",
       "      <td>均值內</td>\n",
       "    </tr>\n",
       "    <tr>\n",
       "      <th>2</th>\n",
       "      <td>2019</td>\n",
       "      <td>2019-03</td>\n",
       "      <td>5.270254e+06</td>\n",
       "      <td>2675651.720</td>\n",
       "      <td>2594602.570</td>\n",
       "      <td>均值內</td>\n",
       "    </tr>\n",
       "    <tr>\n",
       "      <th>3</th>\n",
       "      <td>2019</td>\n",
       "      <td>2019-04</td>\n",
       "      <td>7.603549e+06</td>\n",
       "      <td>3424904.805</td>\n",
       "      <td>4178643.805</td>\n",
       "      <td>均值內</td>\n",
       "    </tr>\n",
       "    <tr>\n",
       "      <th>4</th>\n",
       "      <td>2019</td>\n",
       "      <td>2019-05</td>\n",
       "      <td>6.222211e+06</td>\n",
       "      <td>2912020.125</td>\n",
       "      <td>3310190.730</td>\n",
       "      <td>均值內</td>\n",
       "    </tr>\n",
       "    <tr>\n",
       "      <th>5</th>\n",
       "      <td>2019</td>\n",
       "      <td>2019-06</td>\n",
       "      <td>5.883092e+06</td>\n",
       "      <td>2677987.620</td>\n",
       "      <td>3205104.840</td>\n",
       "      <td>均值內</td>\n",
       "    </tr>\n",
       "    <tr>\n",
       "      <th>6</th>\n",
       "      <td>2019</td>\n",
       "      <td>2019-07</td>\n",
       "      <td>6.222288e+06</td>\n",
       "      <td>2807266.525</td>\n",
       "      <td>3415021.645</td>\n",
       "      <td>均值內</td>\n",
       "    </tr>\n",
       "    <tr>\n",
       "      <th>7</th>\n",
       "      <td>2019</td>\n",
       "      <td>2019-08</td>\n",
       "      <td>4.927288e+06</td>\n",
       "      <td>2350744.480</td>\n",
       "      <td>2576543.760</td>\n",
       "      <td>均值內</td>\n",
       "    </tr>\n",
       "    <tr>\n",
       "      <th>8</th>\n",
       "      <td>2019</td>\n",
       "      <td>2019-09</td>\n",
       "      <td>1.056755e+07</td>\n",
       "      <td>4703472.830</td>\n",
       "      <td>5864077.905</td>\n",
       "      <td>高於平均值</td>\n",
       "    </tr>\n",
       "    <tr>\n",
       "      <th>9</th>\n",
       "      <td>2019</td>\n",
       "      <td>2019-10</td>\n",
       "      <td>2.729007e+06</td>\n",
       "      <td>1267781.760</td>\n",
       "      <td>1461225.535</td>\n",
       "      <td>低於平均值</td>\n",
       "    </tr>\n",
       "    <tr>\n",
       "      <th>10</th>\n",
       "      <td>2019</td>\n",
       "      <td>2019-11</td>\n",
       "      <td>1.047370e+06</td>\n",
       "      <td>530050.255</td>\n",
       "      <td>517319.600</td>\n",
       "      <td>低於平均值</td>\n",
       "    </tr>\n",
       "  </tbody>\n",
       "</table>\n",
       "</div>"
      ],
      "text/plain": [
       "    Year    Month            營收           成本           獲利   營收狀況\n",
       "0   2019  2019-01  7.380023e+06  3726328.025  3653694.695    均值內\n",
       "1   2019  2019-02  5.516570e+06  2919350.245  2597219.765    均值內\n",
       "2   2019  2019-03  5.270254e+06  2675651.720  2594602.570    均值內\n",
       "3   2019  2019-04  7.603549e+06  3424904.805  4178643.805    均值內\n",
       "4   2019  2019-05  6.222211e+06  2912020.125  3310190.730    均值內\n",
       "5   2019  2019-06  5.883092e+06  2677987.620  3205104.840    均值內\n",
       "6   2019  2019-07  6.222288e+06  2807266.525  3415021.645    均值內\n",
       "7   2019  2019-08  4.927288e+06  2350744.480  2576543.760    均值內\n",
       "8   2019  2019-09  1.056755e+07  4703472.830  5864077.905  高於平均值\n",
       "9   2019  2019-10  2.729007e+06  1267781.760  1461225.535  低於平均值\n",
       "10  2019  2019-11  1.047370e+06   530050.255   517319.600  低於平均值"
      ]
     },
     "execution_count": 34,
     "metadata": {},
     "output_type": "execute_result"
    }
   ],
   "source": [
    "rank=0\n",
    "for i in tmp2019['Year']:\n",
    "    if (tmp2019.iloc[rank,2] > (var.iloc[1,1]+var.iloc[1,0])).any():\n",
    "        tmp2019.loc[rank, '營收狀況'] = '高於平均值'\n",
    "    elif (tmp2019.iloc[rank,2] < (var.iloc[1,1]-var.iloc[1,0])).any():\n",
    "        tmp2019.loc[rank, '營收狀況'] = '低於平均值'\n",
    "    else:\n",
    "        tmp2019.loc[rank, '營收狀況'] = '均值內'\n",
    "    rank=rank+1\n",
    "tmp2019"
   ]
  },
  {
   "cell_type": "code",
   "execution_count": 35,
   "metadata": {},
   "outputs": [
    {
     "data": {
      "text/html": [
       "<div>\n",
       "<style scoped>\n",
       "    .dataframe tbody tr th:only-of-type {\n",
       "        vertical-align: middle;\n",
       "    }\n",
       "\n",
       "    .dataframe tbody tr th {\n",
       "        vertical-align: top;\n",
       "    }\n",
       "\n",
       "    .dataframe thead th {\n",
       "        text-align: right;\n",
       "    }\n",
       "</style>\n",
       "<table border=\"1\" class=\"dataframe\">\n",
       "  <thead>\n",
       "    <tr style=\"text-align: right;\">\n",
       "      <th></th>\n",
       "      <th>Month</th>\n",
       "      <th>營收</th>\n",
       "      <th>營收狀況</th>\n",
       "    </tr>\n",
       "  </thead>\n",
       "  <tbody>\n",
       "    <tr>\n",
       "      <th>0</th>\n",
       "      <td>2019-01</td>\n",
       "      <td>7.380023e+06</td>\n",
       "      <td>均值內</td>\n",
       "    </tr>\n",
       "    <tr>\n",
       "      <th>1</th>\n",
       "      <td>2019-02</td>\n",
       "      <td>5.516570e+06</td>\n",
       "      <td>均值內</td>\n",
       "    </tr>\n",
       "    <tr>\n",
       "      <th>2</th>\n",
       "      <td>2019-03</td>\n",
       "      <td>5.270254e+06</td>\n",
       "      <td>均值內</td>\n",
       "    </tr>\n",
       "    <tr>\n",
       "      <th>3</th>\n",
       "      <td>2019-04</td>\n",
       "      <td>7.603549e+06</td>\n",
       "      <td>均值內</td>\n",
       "    </tr>\n",
       "    <tr>\n",
       "      <th>4</th>\n",
       "      <td>2019-05</td>\n",
       "      <td>6.222211e+06</td>\n",
       "      <td>均值內</td>\n",
       "    </tr>\n",
       "    <tr>\n",
       "      <th>5</th>\n",
       "      <td>2019-06</td>\n",
       "      <td>5.883092e+06</td>\n",
       "      <td>均值內</td>\n",
       "    </tr>\n",
       "    <tr>\n",
       "      <th>6</th>\n",
       "      <td>2019-07</td>\n",
       "      <td>6.222288e+06</td>\n",
       "      <td>均值內</td>\n",
       "    </tr>\n",
       "    <tr>\n",
       "      <th>7</th>\n",
       "      <td>2019-08</td>\n",
       "      <td>4.927288e+06</td>\n",
       "      <td>均值內</td>\n",
       "    </tr>\n",
       "    <tr>\n",
       "      <th>8</th>\n",
       "      <td>2019-09</td>\n",
       "      <td>1.056755e+07</td>\n",
       "      <td>高於平均值</td>\n",
       "    </tr>\n",
       "    <tr>\n",
       "      <th>9</th>\n",
       "      <td>2019-10</td>\n",
       "      <td>2.729007e+06</td>\n",
       "      <td>低於平均值</td>\n",
       "    </tr>\n",
       "    <tr>\n",
       "      <th>10</th>\n",
       "      <td>2019-11</td>\n",
       "      <td>1.047370e+06</td>\n",
       "      <td>低於平均值</td>\n",
       "    </tr>\n",
       "  </tbody>\n",
       "</table>\n",
       "</div>"
      ],
      "text/plain": [
       "      Month            營收   營收狀況\n",
       "0   2019-01  7.380023e+06    均值內\n",
       "1   2019-02  5.516570e+06    均值內\n",
       "2   2019-03  5.270254e+06    均值內\n",
       "3   2019-04  7.603549e+06    均值內\n",
       "4   2019-05  6.222211e+06    均值內\n",
       "5   2019-06  5.883092e+06    均值內\n",
       "6   2019-07  6.222288e+06    均值內\n",
       "7   2019-08  4.927288e+06    均值內\n",
       "8   2019-09  1.056755e+07  高於平均值\n",
       "9   2019-10  2.729007e+06  低於平均值\n",
       "10  2019-11  1.047370e+06  低於平均值"
      ]
     },
     "execution_count": 35,
     "metadata": {},
     "output_type": "execute_result"
    }
   ],
   "source": [
    "# 合併兩表\n",
    "tmp2019 = tmp2019[['Month', '營收', '營收狀況']]\n",
    "tmp2019"
   ]
  },
  {
   "cell_type": "code",
   "execution_count": 36,
   "metadata": {},
   "outputs": [
    {
     "data": {
      "text/html": [
       "<div>\n",
       "<style scoped>\n",
       "    .dataframe tbody tr th:only-of-type {\n",
       "        vertical-align: middle;\n",
       "    }\n",
       "\n",
       "    .dataframe tbody tr th {\n",
       "        vertical-align: top;\n",
       "    }\n",
       "\n",
       "    .dataframe thead th {\n",
       "        text-align: right;\n",
       "    }\n",
       "</style>\n",
       "<table border=\"1\" class=\"dataframe\">\n",
       "  <thead>\n",
       "    <tr style=\"text-align: right;\">\n",
       "      <th></th>\n",
       "      <th>Month</th>\n",
       "      <th>營收</th>\n",
       "      <th>營收狀況</th>\n",
       "      <th>Month</th>\n",
       "      <th>營收</th>\n",
       "      <th>營收狀況</th>\n",
       "    </tr>\n",
       "  </thead>\n",
       "  <tbody>\n",
       "    <tr>\n",
       "      <th>0</th>\n",
       "      <td>2018-01</td>\n",
       "      <td>6321986.685</td>\n",
       "      <td>均值內</td>\n",
       "      <td>2019-01</td>\n",
       "      <td>7.380023e+06</td>\n",
       "      <td>均值內</td>\n",
       "    </tr>\n",
       "    <tr>\n",
       "      <th>1</th>\n",
       "      <td>2018-02</td>\n",
       "      <td>6662085.500</td>\n",
       "      <td>均值內</td>\n",
       "      <td>2019-02</td>\n",
       "      <td>5.516570e+06</td>\n",
       "      <td>均值內</td>\n",
       "    </tr>\n",
       "    <tr>\n",
       "      <th>2</th>\n",
       "      <td>2018-03</td>\n",
       "      <td>6150758.635</td>\n",
       "      <td>均值內</td>\n",
       "      <td>2019-03</td>\n",
       "      <td>5.270254e+06</td>\n",
       "      <td>均值內</td>\n",
       "    </tr>\n",
       "    <tr>\n",
       "      <th>3</th>\n",
       "      <td>2018-04</td>\n",
       "      <td>7607202.155</td>\n",
       "      <td>高於平均值</td>\n",
       "      <td>2019-04</td>\n",
       "      <td>7.603549e+06</td>\n",
       "      <td>均值內</td>\n",
       "    </tr>\n",
       "    <tr>\n",
       "      <th>4</th>\n",
       "      <td>2018-05</td>\n",
       "      <td>6696707.815</td>\n",
       "      <td>均值內</td>\n",
       "      <td>2019-05</td>\n",
       "      <td>6.222211e+06</td>\n",
       "      <td>均值內</td>\n",
       "    </tr>\n",
       "    <tr>\n",
       "      <th>5</th>\n",
       "      <td>2018-06</td>\n",
       "      <td>5369112.210</td>\n",
       "      <td>低於平均值</td>\n",
       "      <td>2019-06</td>\n",
       "      <td>5.883092e+06</td>\n",
       "      <td>均值內</td>\n",
       "    </tr>\n",
       "    <tr>\n",
       "      <th>6</th>\n",
       "      <td>2018-07</td>\n",
       "      <td>7785941.275</td>\n",
       "      <td>高於平均值</td>\n",
       "      <td>2019-07</td>\n",
       "      <td>6.222288e+06</td>\n",
       "      <td>均值內</td>\n",
       "    </tr>\n",
       "    <tr>\n",
       "      <th>7</th>\n",
       "      <td>2018-08</td>\n",
       "      <td>6690657.505</td>\n",
       "      <td>均值內</td>\n",
       "      <td>2019-08</td>\n",
       "      <td>4.927288e+06</td>\n",
       "      <td>均值內</td>\n",
       "    </tr>\n",
       "    <tr>\n",
       "      <th>8</th>\n",
       "      <td>2018-09</td>\n",
       "      <td>5672813.755</td>\n",
       "      <td>低於平均值</td>\n",
       "      <td>2019-09</td>\n",
       "      <td>1.056755e+07</td>\n",
       "      <td>高於平均值</td>\n",
       "    </tr>\n",
       "    <tr>\n",
       "      <th>9</th>\n",
       "      <td>2018-10</td>\n",
       "      <td>7836798.095</td>\n",
       "      <td>高於平均值</td>\n",
       "      <td>2019-10</td>\n",
       "      <td>2.729007e+06</td>\n",
       "      <td>低於平均值</td>\n",
       "    </tr>\n",
       "    <tr>\n",
       "      <th>10</th>\n",
       "      <td>NaN</td>\n",
       "      <td>NaN</td>\n",
       "      <td>NaN</td>\n",
       "      <td>2019-11</td>\n",
       "      <td>1.047370e+06</td>\n",
       "      <td>低於平均值</td>\n",
       "    </tr>\n",
       "  </tbody>\n",
       "</table>\n",
       "</div>"
      ],
      "text/plain": [
       "      Month           營收   營收狀況    Month            營收   營收狀況\n",
       "0   2018-01  6321986.685    均值內  2019-01  7.380023e+06    均值內\n",
       "1   2018-02  6662085.500    均值內  2019-02  5.516570e+06    均值內\n",
       "2   2018-03  6150758.635    均值內  2019-03  5.270254e+06    均值內\n",
       "3   2018-04  7607202.155  高於平均值  2019-04  7.603549e+06    均值內\n",
       "4   2018-05  6696707.815    均值內  2019-05  6.222211e+06    均值內\n",
       "5   2018-06  5369112.210  低於平均值  2019-06  5.883092e+06    均值內\n",
       "6   2018-07  7785941.275  高於平均值  2019-07  6.222288e+06    均值內\n",
       "7   2018-08  6690657.505    均值內  2019-08  4.927288e+06    均值內\n",
       "8   2018-09  5672813.755  低於平均值  2019-09  1.056755e+07  高於平均值\n",
       "9   2018-10  7836798.095  高於平均值  2019-10  2.729007e+06  低於平均值\n",
       "10      NaN          NaN    NaN  2019-11  1.047370e+06  低於平均值"
      ]
     },
     "execution_count": 36,
     "metadata": {},
     "output_type": "execute_result"
    }
   ],
   "source": [
    "# 合併兩年資料\n",
    "rev_status = pd.concat([tmp2018, tmp2019], axis = 1)\n",
    "rev_status"
   ]
  },
  {
   "cell_type": "markdown",
   "metadata": {},
   "source": [
    "# 2018-19年銷售成長"
   ]
  },
  {
   "cell_type": "code",
   "execution_count": 37,
   "metadata": {},
   "outputs": [
    {
     "data": {
      "text/html": [
       "<div>\n",
       "<style scoped>\n",
       "    .dataframe tbody tr th:only-of-type {\n",
       "        vertical-align: middle;\n",
       "    }\n",
       "\n",
       "    .dataframe tbody tr th {\n",
       "        vertical-align: top;\n",
       "    }\n",
       "\n",
       "    .dataframe thead th {\n",
       "        text-align: right;\n",
       "    }\n",
       "</style>\n",
       "<table border=\"1\" class=\"dataframe\">\n",
       "  <thead>\n",
       "    <tr style=\"text-align: right;\">\n",
       "      <th></th>\n",
       "      <th>Month</th>\n",
       "      <th>營收</th>\n",
       "      <th>營收狀況</th>\n",
       "    </tr>\n",
       "  </thead>\n",
       "  <tbody>\n",
       "    <tr>\n",
       "      <th>0</th>\n",
       "      <td>2019-01</td>\n",
       "      <td>7.380023e+06</td>\n",
       "      <td>均值內</td>\n",
       "    </tr>\n",
       "    <tr>\n",
       "      <th>1</th>\n",
       "      <td>2019-02</td>\n",
       "      <td>5.516570e+06</td>\n",
       "      <td>均值內</td>\n",
       "    </tr>\n",
       "    <tr>\n",
       "      <th>2</th>\n",
       "      <td>2019-03</td>\n",
       "      <td>5.270254e+06</td>\n",
       "      <td>均值內</td>\n",
       "    </tr>\n",
       "    <tr>\n",
       "      <th>3</th>\n",
       "      <td>2019-04</td>\n",
       "      <td>7.603549e+06</td>\n",
       "      <td>均值內</td>\n",
       "    </tr>\n",
       "    <tr>\n",
       "      <th>4</th>\n",
       "      <td>2019-05</td>\n",
       "      <td>6.222211e+06</td>\n",
       "      <td>均值內</td>\n",
       "    </tr>\n",
       "    <tr>\n",
       "      <th>5</th>\n",
       "      <td>2019-06</td>\n",
       "      <td>5.883092e+06</td>\n",
       "      <td>均值內</td>\n",
       "    </tr>\n",
       "    <tr>\n",
       "      <th>6</th>\n",
       "      <td>2019-07</td>\n",
       "      <td>6.222288e+06</td>\n",
       "      <td>均值內</td>\n",
       "    </tr>\n",
       "    <tr>\n",
       "      <th>7</th>\n",
       "      <td>2019-08</td>\n",
       "      <td>4.927288e+06</td>\n",
       "      <td>均值內</td>\n",
       "    </tr>\n",
       "    <tr>\n",
       "      <th>8</th>\n",
       "      <td>2019-09</td>\n",
       "      <td>1.056755e+07</td>\n",
       "      <td>高於平均值</td>\n",
       "    </tr>\n",
       "    <tr>\n",
       "      <th>9</th>\n",
       "      <td>2019-10</td>\n",
       "      <td>2.729007e+06</td>\n",
       "      <td>低於平均值</td>\n",
       "    </tr>\n",
       "    <tr>\n",
       "      <th>10</th>\n",
       "      <td>2019-11</td>\n",
       "      <td>1.047370e+06</td>\n",
       "      <td>低於平均值</td>\n",
       "    </tr>\n",
       "  </tbody>\n",
       "</table>\n",
       "</div>"
      ],
      "text/plain": [
       "      Month            營收   營收狀況\n",
       "0   2019-01  7.380023e+06    均值內\n",
       "1   2019-02  5.516570e+06    均值內\n",
       "2   2019-03  5.270254e+06    均值內\n",
       "3   2019-04  7.603549e+06    均值內\n",
       "4   2019-05  6.222211e+06    均值內\n",
       "5   2019-06  5.883092e+06    均值內\n",
       "6   2019-07  6.222288e+06    均值內\n",
       "7   2019-08  4.927288e+06    均值內\n",
       "8   2019-09  1.056755e+07  高於平均值\n",
       "9   2019-10  2.729007e+06  低於平均值\n",
       "10  2019-11  1.047370e+06  低於平均值"
      ]
     },
     "execution_count": 37,
     "metadata": {},
     "output_type": "execute_result"
    }
   ],
   "source": [
    "tmp2019"
   ]
  },
  {
   "cell_type": "code",
   "execution_count": 38,
   "metadata": {},
   "outputs": [
    {
     "data": {
      "text/html": [
       "<div>\n",
       "<style scoped>\n",
       "    .dataframe tbody tr th:only-of-type {\n",
       "        vertical-align: middle;\n",
       "    }\n",
       "\n",
       "    .dataframe tbody tr th {\n",
       "        vertical-align: top;\n",
       "    }\n",
       "\n",
       "    .dataframe thead th {\n",
       "        text-align: right;\n",
       "    }\n",
       "</style>\n",
       "<table border=\"1\" class=\"dataframe\">\n",
       "  <thead>\n",
       "    <tr style=\"text-align: right;\">\n",
       "      <th></th>\n",
       "      <th>Month</th>\n",
       "      <th>營收</th>\n",
       "      <th>營收狀況</th>\n",
       "    </tr>\n",
       "  </thead>\n",
       "  <tbody>\n",
       "    <tr>\n",
       "      <th>0</th>\n",
       "      <td>2019-01</td>\n",
       "      <td>7.380023e+06</td>\n",
       "      <td>均值內</td>\n",
       "    </tr>\n",
       "    <tr>\n",
       "      <th>1</th>\n",
       "      <td>2019-02</td>\n",
       "      <td>5.516570e+06</td>\n",
       "      <td>均值內</td>\n",
       "    </tr>\n",
       "    <tr>\n",
       "      <th>2</th>\n",
       "      <td>2019-03</td>\n",
       "      <td>5.270254e+06</td>\n",
       "      <td>均值內</td>\n",
       "    </tr>\n",
       "    <tr>\n",
       "      <th>3</th>\n",
       "      <td>2019-04</td>\n",
       "      <td>7.603549e+06</td>\n",
       "      <td>均值內</td>\n",
       "    </tr>\n",
       "    <tr>\n",
       "      <th>4</th>\n",
       "      <td>2019-05</td>\n",
       "      <td>6.222211e+06</td>\n",
       "      <td>均值內</td>\n",
       "    </tr>\n",
       "    <tr>\n",
       "      <th>5</th>\n",
       "      <td>2019-06</td>\n",
       "      <td>5.883092e+06</td>\n",
       "      <td>均值內</td>\n",
       "    </tr>\n",
       "    <tr>\n",
       "      <th>6</th>\n",
       "      <td>2019-07</td>\n",
       "      <td>6.222288e+06</td>\n",
       "      <td>均值內</td>\n",
       "    </tr>\n",
       "    <tr>\n",
       "      <th>7</th>\n",
       "      <td>2019-08</td>\n",
       "      <td>4.927288e+06</td>\n",
       "      <td>均值內</td>\n",
       "    </tr>\n",
       "    <tr>\n",
       "      <th>8</th>\n",
       "      <td>2019-09</td>\n",
       "      <td>1.056755e+07</td>\n",
       "      <td>高於平均值</td>\n",
       "    </tr>\n",
       "    <tr>\n",
       "      <th>9</th>\n",
       "      <td>2019-10</td>\n",
       "      <td>2.729007e+06</td>\n",
       "      <td>低於平均值</td>\n",
       "    </tr>\n",
       "    <tr>\n",
       "      <th>10</th>\n",
       "      <td>2019-11</td>\n",
       "      <td>1.047370e+06</td>\n",
       "      <td>低於平均值</td>\n",
       "    </tr>\n",
       "  </tbody>\n",
       "</table>\n",
       "</div>"
      ],
      "text/plain": [
       "      Month            營收   營收狀況\n",
       "0   2019-01  7.380023e+06    均值內\n",
       "1   2019-02  5.516570e+06    均值內\n",
       "2   2019-03  5.270254e+06    均值內\n",
       "3   2019-04  7.603549e+06    均值內\n",
       "4   2019-05  6.222211e+06    均值內\n",
       "5   2019-06  5.883092e+06    均值內\n",
       "6   2019-07  6.222288e+06    均值內\n",
       "7   2019-08  4.927288e+06    均值內\n",
       "8   2019-09  1.056755e+07  高於平均值\n",
       "9   2019-10  2.729007e+06  低於平均值\n",
       "10  2019-11  1.047370e+06  低於平均值"
      ]
     },
     "execution_count": 38,
     "metadata": {},
     "output_type": "execute_result"
    }
   ],
   "source": [
    "growth_rev_2019M = tmp2019\n",
    "growth_rev_2019M"
   ]
  },
  {
   "cell_type": "code",
   "execution_count": 39,
   "metadata": {},
   "outputs": [
    {
     "name": "stderr",
     "output_type": "stream",
     "text": [
      "C:\\Users\\chanm\\AppData\\Local\\Temp\\ipykernel_23084\\3044420506.py:1: SettingWithCopyWarning:\n",
      "\n",
      "\n",
      "A value is trying to be set on a copy of a slice from a DataFrame.\n",
      "Try using .loc[row_indexer,col_indexer] = value instead\n",
      "\n",
      "See the caveats in the documentation: https://pandas.pydata.org/pandas-docs/stable/user_guide/indexing.html#returning-a-view-versus-a-copy\n",
      "\n"
     ]
    },
    {
     "data": {
      "text/html": [
       "<div>\n",
       "<style scoped>\n",
       "    .dataframe tbody tr th:only-of-type {\n",
       "        vertical-align: middle;\n",
       "    }\n",
       "\n",
       "    .dataframe tbody tr th {\n",
       "        vertical-align: top;\n",
       "    }\n",
       "\n",
       "    .dataframe thead th {\n",
       "        text-align: right;\n",
       "    }\n",
       "</style>\n",
       "<table border=\"1\" class=\"dataframe\">\n",
       "  <thead>\n",
       "    <tr style=\"text-align: right;\">\n",
       "      <th></th>\n",
       "      <th>Month</th>\n",
       "      <th>營收</th>\n",
       "      <th>營收狀況</th>\n",
       "      <th>較去年成長(%)</th>\n",
       "    </tr>\n",
       "  </thead>\n",
       "  <tbody>\n",
       "    <tr>\n",
       "      <th>0</th>\n",
       "      <td>2019-01</td>\n",
       "      <td>7.380023e+06</td>\n",
       "      <td>均值內</td>\n",
       "      <td>16.7</td>\n",
       "    </tr>\n",
       "    <tr>\n",
       "      <th>1</th>\n",
       "      <td>2019-02</td>\n",
       "      <td>5.516570e+06</td>\n",
       "      <td>均值內</td>\n",
       "      <td>-17.2</td>\n",
       "    </tr>\n",
       "    <tr>\n",
       "      <th>2</th>\n",
       "      <td>2019-03</td>\n",
       "      <td>5.270254e+06</td>\n",
       "      <td>均值內</td>\n",
       "      <td>-14.3</td>\n",
       "    </tr>\n",
       "    <tr>\n",
       "      <th>3</th>\n",
       "      <td>2019-04</td>\n",
       "      <td>7.603549e+06</td>\n",
       "      <td>均值內</td>\n",
       "      <td>-0.0</td>\n",
       "    </tr>\n",
       "    <tr>\n",
       "      <th>4</th>\n",
       "      <td>2019-05</td>\n",
       "      <td>6.222211e+06</td>\n",
       "      <td>均值內</td>\n",
       "      <td>-7.1</td>\n",
       "    </tr>\n",
       "    <tr>\n",
       "      <th>5</th>\n",
       "      <td>2019-06</td>\n",
       "      <td>5.883092e+06</td>\n",
       "      <td>均值內</td>\n",
       "      <td>9.6</td>\n",
       "    </tr>\n",
       "    <tr>\n",
       "      <th>6</th>\n",
       "      <td>2019-07</td>\n",
       "      <td>6.222288e+06</td>\n",
       "      <td>均值內</td>\n",
       "      <td>-20.1</td>\n",
       "    </tr>\n",
       "    <tr>\n",
       "      <th>7</th>\n",
       "      <td>2019-08</td>\n",
       "      <td>4.927288e+06</td>\n",
       "      <td>均值內</td>\n",
       "      <td>-26.4</td>\n",
       "    </tr>\n",
       "    <tr>\n",
       "      <th>8</th>\n",
       "      <td>2019-09</td>\n",
       "      <td>1.056755e+07</td>\n",
       "      <td>高於平均值</td>\n",
       "      <td>86.3</td>\n",
       "    </tr>\n",
       "    <tr>\n",
       "      <th>9</th>\n",
       "      <td>2019-10</td>\n",
       "      <td>2.729007e+06</td>\n",
       "      <td>低於平均值</td>\n",
       "      <td>-65.2</td>\n",
       "    </tr>\n",
       "    <tr>\n",
       "      <th>10</th>\n",
       "      <td>2019-11</td>\n",
       "      <td>1.047370e+06</td>\n",
       "      <td>低於平均值</td>\n",
       "      <td>NaN</td>\n",
       "    </tr>\n",
       "  </tbody>\n",
       "</table>\n",
       "</div>"
      ],
      "text/plain": [
       "      Month            營收   營收狀況  較去年成長(%)\n",
       "0   2019-01  7.380023e+06    均值內      16.7\n",
       "1   2019-02  5.516570e+06    均值內     -17.2\n",
       "2   2019-03  5.270254e+06    均值內     -14.3\n",
       "3   2019-04  7.603549e+06    均值內      -0.0\n",
       "4   2019-05  6.222211e+06    均值內      -7.1\n",
       "5   2019-06  5.883092e+06    均值內       9.6\n",
       "6   2019-07  6.222288e+06    均值內     -20.1\n",
       "7   2019-08  4.927288e+06    均值內     -26.4\n",
       "8   2019-09  1.056755e+07  高於平均值      86.3\n",
       "9   2019-10  2.729007e+06  低於平均值     -65.2\n",
       "10  2019-11  1.047370e+06  低於平均值       NaN"
      ]
     },
     "execution_count": 39,
     "metadata": {},
     "output_type": "execute_result"
    }
   ],
   "source": [
    "growth_rev_2019M['較去年成長(%)'] = round(100*(growth_rev_2019M['營收']-tmp2018['營收'])/tmp2018['營收'], 1)\n",
    "growth_rev_2019M"
   ]
  },
  {
   "cell_type": "code",
   "execution_count": 40,
   "metadata": {},
   "outputs": [
    {
     "name": "stdout",
     "output_type": "stream",
     "text": [
      "<class 'pandas.core.frame.DataFrame'>\n",
      "RangeIndex: 11 entries, 0 to 10\n",
      "Data columns (total 4 columns):\n",
      " #   Column    Non-Null Count  Dtype  \n",
      "---  ------    --------------  -----  \n",
      " 0   Month     11 non-null     object \n",
      " 1   營收        11 non-null     float64\n",
      " 2   營收狀況      11 non-null     object \n",
      " 3   較去年成長(%)  10 non-null     float64\n",
      "dtypes: float64(2), object(2)\n",
      "memory usage: 480.0+ bytes\n"
     ]
    }
   ],
   "source": [
    "growth_rev_2019M.info()"
   ]
  },
  {
   "cell_type": "code",
   "execution_count": 41,
   "metadata": {},
   "outputs": [
    {
     "data": {
      "text/plain": [
       "0     False\n",
       "1      True\n",
       "2      True\n",
       "3     False\n",
       "4      True\n",
       "5     False\n",
       "6      True\n",
       "7      True\n",
       "8     False\n",
       "9      True\n",
       "10    False\n",
       "Name: 較去年成長(%), dtype: bool"
      ]
     },
     "execution_count": 41,
     "metadata": {},
     "output_type": "execute_result"
    }
   ],
   "source": [
    "growth_rev_2019M['較去年成長(%)'] <0"
   ]
  },
  {
   "cell_type": "code",
   "execution_count": 42,
   "metadata": {},
   "outputs": [
    {
     "name": "stdout",
     "output_type": "stream",
     "text": [
      "正成長\n",
      "正成長\n",
      "正成長\n",
      "正成長\n",
      "正成長\n",
      "正成長\n",
      "正成長\n",
      "正成長\n",
      "正成長\n",
      "正成長\n",
      "正成長\n"
     ]
    }
   ],
   "source": [
    "#growth_2019M['正負'] = \n",
    "#fill =[]\n",
    "for i in growth_rev_2019M['較去年成長(%)']:\n",
    "    if (growth_rev_2019M['較去年成長(%)'] > 0).any(): \n",
    "        print('正成長')\n",
    "    else: #(growth_2019M['較去年成長(%)'] < 0):\n",
    "        print('負成長')\n"
   ]
  },
  {
   "cell_type": "code",
   "execution_count": 43,
   "metadata": {},
   "outputs": [
    {
     "data": {
      "application/vnd.plotly.v1+json": {
       "config": {
        "plotlyServerURL": "https://plot.ly"
       },
       "data": [
        {
         "alignmentgroup": "True",
         "hovertemplate": "Month=%{x}<br>較去年成長(%)=%{y}<extra></extra>",
         "legendgroup": "",
         "marker": {
          "color": "#636efa",
          "pattern": {
           "shape": ""
          }
         },
         "name": "",
         "offsetgroup": "",
         "orientation": "v",
         "showlegend": false,
         "textposition": "auto",
         "type": "bar",
         "x": [
          "2019-01",
          "2019-02",
          "2019-03",
          "2019-04",
          "2019-05",
          "2019-06",
          "2019-07",
          "2019-08",
          "2019-09",
          "2019-10",
          "2019-11"
         ],
         "xaxis": "x",
         "y": [
          16.7,
          -17.2,
          -14.3,
          0,
          -7.1,
          9.6,
          -20.1,
          -26.4,
          86.3,
          -65.2,
          null
         ],
         "yaxis": "y"
        }
       ],
       "layout": {
        "barmode": "relative",
        "legend": {
         "tracegroupgap": 0
        },
        "margin": {
         "t": 60
        },
        "template": {
         "data": {
          "bar": [
           {
            "error_x": {
             "color": "#2a3f5f"
            },
            "error_y": {
             "color": "#2a3f5f"
            },
            "marker": {
             "line": {
              "color": "#E5ECF6",
              "width": 0.5
             },
             "pattern": {
              "fillmode": "overlay",
              "size": 10,
              "solidity": 0.2
             }
            },
            "type": "bar"
           }
          ],
          "barpolar": [
           {
            "marker": {
             "line": {
              "color": "#E5ECF6",
              "width": 0.5
             },
             "pattern": {
              "fillmode": "overlay",
              "size": 10,
              "solidity": 0.2
             }
            },
            "type": "barpolar"
           }
          ],
          "carpet": [
           {
            "aaxis": {
             "endlinecolor": "#2a3f5f",
             "gridcolor": "white",
             "linecolor": "white",
             "minorgridcolor": "white",
             "startlinecolor": "#2a3f5f"
            },
            "baxis": {
             "endlinecolor": "#2a3f5f",
             "gridcolor": "white",
             "linecolor": "white",
             "minorgridcolor": "white",
             "startlinecolor": "#2a3f5f"
            },
            "type": "carpet"
           }
          ],
          "choropleth": [
           {
            "colorbar": {
             "outlinewidth": 0,
             "ticks": ""
            },
            "type": "choropleth"
           }
          ],
          "contour": [
           {
            "colorbar": {
             "outlinewidth": 0,
             "ticks": ""
            },
            "colorscale": [
             [
              0,
              "#0d0887"
             ],
             [
              0.1111111111111111,
              "#46039f"
             ],
             [
              0.2222222222222222,
              "#7201a8"
             ],
             [
              0.3333333333333333,
              "#9c179e"
             ],
             [
              0.4444444444444444,
              "#bd3786"
             ],
             [
              0.5555555555555556,
              "#d8576b"
             ],
             [
              0.6666666666666666,
              "#ed7953"
             ],
             [
              0.7777777777777778,
              "#fb9f3a"
             ],
             [
              0.8888888888888888,
              "#fdca26"
             ],
             [
              1,
              "#f0f921"
             ]
            ],
            "type": "contour"
           }
          ],
          "contourcarpet": [
           {
            "colorbar": {
             "outlinewidth": 0,
             "ticks": ""
            },
            "type": "contourcarpet"
           }
          ],
          "heatmap": [
           {
            "colorbar": {
             "outlinewidth": 0,
             "ticks": ""
            },
            "colorscale": [
             [
              0,
              "#0d0887"
             ],
             [
              0.1111111111111111,
              "#46039f"
             ],
             [
              0.2222222222222222,
              "#7201a8"
             ],
             [
              0.3333333333333333,
              "#9c179e"
             ],
             [
              0.4444444444444444,
              "#bd3786"
             ],
             [
              0.5555555555555556,
              "#d8576b"
             ],
             [
              0.6666666666666666,
              "#ed7953"
             ],
             [
              0.7777777777777778,
              "#fb9f3a"
             ],
             [
              0.8888888888888888,
              "#fdca26"
             ],
             [
              1,
              "#f0f921"
             ]
            ],
            "type": "heatmap"
           }
          ],
          "heatmapgl": [
           {
            "colorbar": {
             "outlinewidth": 0,
             "ticks": ""
            },
            "colorscale": [
             [
              0,
              "#0d0887"
             ],
             [
              0.1111111111111111,
              "#46039f"
             ],
             [
              0.2222222222222222,
              "#7201a8"
             ],
             [
              0.3333333333333333,
              "#9c179e"
             ],
             [
              0.4444444444444444,
              "#bd3786"
             ],
             [
              0.5555555555555556,
              "#d8576b"
             ],
             [
              0.6666666666666666,
              "#ed7953"
             ],
             [
              0.7777777777777778,
              "#fb9f3a"
             ],
             [
              0.8888888888888888,
              "#fdca26"
             ],
             [
              1,
              "#f0f921"
             ]
            ],
            "type": "heatmapgl"
           }
          ],
          "histogram": [
           {
            "marker": {
             "pattern": {
              "fillmode": "overlay",
              "size": 10,
              "solidity": 0.2
             }
            },
            "type": "histogram"
           }
          ],
          "histogram2d": [
           {
            "colorbar": {
             "outlinewidth": 0,
             "ticks": ""
            },
            "colorscale": [
             [
              0,
              "#0d0887"
             ],
             [
              0.1111111111111111,
              "#46039f"
             ],
             [
              0.2222222222222222,
              "#7201a8"
             ],
             [
              0.3333333333333333,
              "#9c179e"
             ],
             [
              0.4444444444444444,
              "#bd3786"
             ],
             [
              0.5555555555555556,
              "#d8576b"
             ],
             [
              0.6666666666666666,
              "#ed7953"
             ],
             [
              0.7777777777777778,
              "#fb9f3a"
             ],
             [
              0.8888888888888888,
              "#fdca26"
             ],
             [
              1,
              "#f0f921"
             ]
            ],
            "type": "histogram2d"
           }
          ],
          "histogram2dcontour": [
           {
            "colorbar": {
             "outlinewidth": 0,
             "ticks": ""
            },
            "colorscale": [
             [
              0,
              "#0d0887"
             ],
             [
              0.1111111111111111,
              "#46039f"
             ],
             [
              0.2222222222222222,
              "#7201a8"
             ],
             [
              0.3333333333333333,
              "#9c179e"
             ],
             [
              0.4444444444444444,
              "#bd3786"
             ],
             [
              0.5555555555555556,
              "#d8576b"
             ],
             [
              0.6666666666666666,
              "#ed7953"
             ],
             [
              0.7777777777777778,
              "#fb9f3a"
             ],
             [
              0.8888888888888888,
              "#fdca26"
             ],
             [
              1,
              "#f0f921"
             ]
            ],
            "type": "histogram2dcontour"
           }
          ],
          "mesh3d": [
           {
            "colorbar": {
             "outlinewidth": 0,
             "ticks": ""
            },
            "type": "mesh3d"
           }
          ],
          "parcoords": [
           {
            "line": {
             "colorbar": {
              "outlinewidth": 0,
              "ticks": ""
             }
            },
            "type": "parcoords"
           }
          ],
          "pie": [
           {
            "automargin": true,
            "type": "pie"
           }
          ],
          "scatter": [
           {
            "marker": {
             "colorbar": {
              "outlinewidth": 0,
              "ticks": ""
             }
            },
            "type": "scatter"
           }
          ],
          "scatter3d": [
           {
            "line": {
             "colorbar": {
              "outlinewidth": 0,
              "ticks": ""
             }
            },
            "marker": {
             "colorbar": {
              "outlinewidth": 0,
              "ticks": ""
             }
            },
            "type": "scatter3d"
           }
          ],
          "scattercarpet": [
           {
            "marker": {
             "colorbar": {
              "outlinewidth": 0,
              "ticks": ""
             }
            },
            "type": "scattercarpet"
           }
          ],
          "scattergeo": [
           {
            "marker": {
             "colorbar": {
              "outlinewidth": 0,
              "ticks": ""
             }
            },
            "type": "scattergeo"
           }
          ],
          "scattergl": [
           {
            "marker": {
             "colorbar": {
              "outlinewidth": 0,
              "ticks": ""
             }
            },
            "type": "scattergl"
           }
          ],
          "scattermapbox": [
           {
            "marker": {
             "colorbar": {
              "outlinewidth": 0,
              "ticks": ""
             }
            },
            "type": "scattermapbox"
           }
          ],
          "scatterpolar": [
           {
            "marker": {
             "colorbar": {
              "outlinewidth": 0,
              "ticks": ""
             }
            },
            "type": "scatterpolar"
           }
          ],
          "scatterpolargl": [
           {
            "marker": {
             "colorbar": {
              "outlinewidth": 0,
              "ticks": ""
             }
            },
            "type": "scatterpolargl"
           }
          ],
          "scatterternary": [
           {
            "marker": {
             "colorbar": {
              "outlinewidth": 0,
              "ticks": ""
             }
            },
            "type": "scatterternary"
           }
          ],
          "surface": [
           {
            "colorbar": {
             "outlinewidth": 0,
             "ticks": ""
            },
            "colorscale": [
             [
              0,
              "#0d0887"
             ],
             [
              0.1111111111111111,
              "#46039f"
             ],
             [
              0.2222222222222222,
              "#7201a8"
             ],
             [
              0.3333333333333333,
              "#9c179e"
             ],
             [
              0.4444444444444444,
              "#bd3786"
             ],
             [
              0.5555555555555556,
              "#d8576b"
             ],
             [
              0.6666666666666666,
              "#ed7953"
             ],
             [
              0.7777777777777778,
              "#fb9f3a"
             ],
             [
              0.8888888888888888,
              "#fdca26"
             ],
             [
              1,
              "#f0f921"
             ]
            ],
            "type": "surface"
           }
          ],
          "table": [
           {
            "cells": {
             "fill": {
              "color": "#EBF0F8"
             },
             "line": {
              "color": "white"
             }
            },
            "header": {
             "fill": {
              "color": "#C8D4E3"
             },
             "line": {
              "color": "white"
             }
            },
            "type": "table"
           }
          ]
         },
         "layout": {
          "annotationdefaults": {
           "arrowcolor": "#2a3f5f",
           "arrowhead": 0,
           "arrowwidth": 1
          },
          "autotypenumbers": "strict",
          "coloraxis": {
           "colorbar": {
            "outlinewidth": 0,
            "ticks": ""
           }
          },
          "colorscale": {
           "diverging": [
            [
             0,
             "#8e0152"
            ],
            [
             0.1,
             "#c51b7d"
            ],
            [
             0.2,
             "#de77ae"
            ],
            [
             0.3,
             "#f1b6da"
            ],
            [
             0.4,
             "#fde0ef"
            ],
            [
             0.5,
             "#f7f7f7"
            ],
            [
             0.6,
             "#e6f5d0"
            ],
            [
             0.7,
             "#b8e186"
            ],
            [
             0.8,
             "#7fbc41"
            ],
            [
             0.9,
             "#4d9221"
            ],
            [
             1,
             "#276419"
            ]
           ],
           "sequential": [
            [
             0,
             "#0d0887"
            ],
            [
             0.1111111111111111,
             "#46039f"
            ],
            [
             0.2222222222222222,
             "#7201a8"
            ],
            [
             0.3333333333333333,
             "#9c179e"
            ],
            [
             0.4444444444444444,
             "#bd3786"
            ],
            [
             0.5555555555555556,
             "#d8576b"
            ],
            [
             0.6666666666666666,
             "#ed7953"
            ],
            [
             0.7777777777777778,
             "#fb9f3a"
            ],
            [
             0.8888888888888888,
             "#fdca26"
            ],
            [
             1,
             "#f0f921"
            ]
           ],
           "sequentialminus": [
            [
             0,
             "#0d0887"
            ],
            [
             0.1111111111111111,
             "#46039f"
            ],
            [
             0.2222222222222222,
             "#7201a8"
            ],
            [
             0.3333333333333333,
             "#9c179e"
            ],
            [
             0.4444444444444444,
             "#bd3786"
            ],
            [
             0.5555555555555556,
             "#d8576b"
            ],
            [
             0.6666666666666666,
             "#ed7953"
            ],
            [
             0.7777777777777778,
             "#fb9f3a"
            ],
            [
             0.8888888888888888,
             "#fdca26"
            ],
            [
             1,
             "#f0f921"
            ]
           ]
          },
          "colorway": [
           "#636efa",
           "#EF553B",
           "#00cc96",
           "#ab63fa",
           "#FFA15A",
           "#19d3f3",
           "#FF6692",
           "#B6E880",
           "#FF97FF",
           "#FECB52"
          ],
          "font": {
           "color": "#2a3f5f"
          },
          "geo": {
           "bgcolor": "white",
           "lakecolor": "white",
           "landcolor": "#E5ECF6",
           "showlakes": true,
           "showland": true,
           "subunitcolor": "white"
          },
          "hoverlabel": {
           "align": "left"
          },
          "hovermode": "closest",
          "mapbox": {
           "style": "light"
          },
          "paper_bgcolor": "white",
          "plot_bgcolor": "#E5ECF6",
          "polar": {
           "angularaxis": {
            "gridcolor": "white",
            "linecolor": "white",
            "ticks": ""
           },
           "bgcolor": "#E5ECF6",
           "radialaxis": {
            "gridcolor": "white",
            "linecolor": "white",
            "ticks": ""
           }
          },
          "scene": {
           "xaxis": {
            "backgroundcolor": "#E5ECF6",
            "gridcolor": "white",
            "gridwidth": 2,
            "linecolor": "white",
            "showbackground": true,
            "ticks": "",
            "zerolinecolor": "white"
           },
           "yaxis": {
            "backgroundcolor": "#E5ECF6",
            "gridcolor": "white",
            "gridwidth": 2,
            "linecolor": "white",
            "showbackground": true,
            "ticks": "",
            "zerolinecolor": "white"
           },
           "zaxis": {
            "backgroundcolor": "#E5ECF6",
            "gridcolor": "white",
            "gridwidth": 2,
            "linecolor": "white",
            "showbackground": true,
            "ticks": "",
            "zerolinecolor": "white"
           }
          },
          "shapedefaults": {
           "line": {
            "color": "#2a3f5f"
           }
          },
          "ternary": {
           "aaxis": {
            "gridcolor": "white",
            "linecolor": "white",
            "ticks": ""
           },
           "baxis": {
            "gridcolor": "white",
            "linecolor": "white",
            "ticks": ""
           },
           "bgcolor": "#E5ECF6",
           "caxis": {
            "gridcolor": "white",
            "linecolor": "white",
            "ticks": ""
           }
          },
          "title": {
           "x": 0.05
          },
          "xaxis": {
           "automargin": true,
           "gridcolor": "white",
           "linecolor": "white",
           "ticks": "",
           "title": {
            "standoff": 15
           },
           "zerolinecolor": "white",
           "zerolinewidth": 2
          },
          "yaxis": {
           "automargin": true,
           "gridcolor": "white",
           "linecolor": "white",
           "ticks": "",
           "title": {
            "standoff": 15
           },
           "zerolinecolor": "white",
           "zerolinewidth": 2
          }
         }
        },
        "xaxis": {
         "anchor": "y",
         "domain": [
          0,
          1
         ],
         "title": {
          "text": "Month"
         }
        },
        "yaxis": {
         "anchor": "x",
         "domain": [
          0,
          1
         ],
         "title": {
          "text": "較去年成長(%)"
         }
        }
       }
      }
     },
     "metadata": {},
     "output_type": "display_data"
    }
   ],
   "source": [
    "fig_growth_rev_2019M = px.bar(growth_rev_2019M, x='Month', y='較去年成長(%)')\n",
    "fig_growth_rev_2019M.show()\n",
    "# 加工 顯示數字 顏色區別?"
   ]
  },
  {
   "cell_type": "markdown",
   "metadata": {},
   "source": [
    "# 2018-19年利潤成長"
   ]
  },
  {
   "cell_type": "code",
   "execution_count": 44,
   "metadata": {},
   "outputs": [],
   "source": [
    "month_profit_18_19 = pd.read_csv('month_profit_18_19.csv')\n",
    "month_profit_18_19=month_profit_18_19.drop('Unnamed: 0',axis=1)"
   ]
  },
  {
   "cell_type": "code",
   "execution_count": 45,
   "metadata": {},
   "outputs": [
    {
     "data": {
      "text/html": [
       "<div>\n",
       "<style scoped>\n",
       "    .dataframe tbody tr th:only-of-type {\n",
       "        vertical-align: middle;\n",
       "    }\n",
       "\n",
       "    .dataframe tbody tr th {\n",
       "        vertical-align: top;\n",
       "    }\n",
       "\n",
       "    .dataframe thead th {\n",
       "        text-align: right;\n",
       "    }\n",
       "</style>\n",
       "<table border=\"1\" class=\"dataframe\">\n",
       "  <thead>\n",
       "    <tr style=\"text-align: right;\">\n",
       "      <th></th>\n",
       "      <th>Year</th>\n",
       "      <th>Month</th>\n",
       "      <th>營收</th>\n",
       "      <th>成本</th>\n",
       "      <th>獲利</th>\n",
       "    </tr>\n",
       "  </thead>\n",
       "  <tbody>\n",
       "    <tr>\n",
       "      <th>0</th>\n",
       "      <td>2018</td>\n",
       "      <td>2018-01</td>\n",
       "      <td>6.321987e+06</td>\n",
       "      <td>3231230.730</td>\n",
       "      <td>3090755.955</td>\n",
       "    </tr>\n",
       "    <tr>\n",
       "      <th>1</th>\n",
       "      <td>2018</td>\n",
       "      <td>2018-02</td>\n",
       "      <td>6.662086e+06</td>\n",
       "      <td>3418726.185</td>\n",
       "      <td>3243359.315</td>\n",
       "    </tr>\n",
       "    <tr>\n",
       "      <th>2</th>\n",
       "      <td>2018</td>\n",
       "      <td>2018-03</td>\n",
       "      <td>6.150759e+06</td>\n",
       "      <td>3086844.145</td>\n",
       "      <td>3063914.490</td>\n",
       "    </tr>\n",
       "    <tr>\n",
       "      <th>3</th>\n",
       "      <td>2018</td>\n",
       "      <td>2018-04</td>\n",
       "      <td>7.607202e+06</td>\n",
       "      <td>3564494.570</td>\n",
       "      <td>4042707.585</td>\n",
       "    </tr>\n",
       "    <tr>\n",
       "      <th>4</th>\n",
       "      <td>2018</td>\n",
       "      <td>2018-05</td>\n",
       "      <td>6.696708e+06</td>\n",
       "      <td>3091469.885</td>\n",
       "      <td>3605237.930</td>\n",
       "    </tr>\n",
       "    <tr>\n",
       "      <th>5</th>\n",
       "      <td>2018</td>\n",
       "      <td>2018-06</td>\n",
       "      <td>5.369112e+06</td>\n",
       "      <td>2398071.130</td>\n",
       "      <td>2971041.080</td>\n",
       "    </tr>\n",
       "    <tr>\n",
       "      <th>6</th>\n",
       "      <td>2018</td>\n",
       "      <td>2018-07</td>\n",
       "      <td>7.785941e+06</td>\n",
       "      <td>3823540.945</td>\n",
       "      <td>3962400.330</td>\n",
       "    </tr>\n",
       "    <tr>\n",
       "      <th>7</th>\n",
       "      <td>2018</td>\n",
       "      <td>2018-08</td>\n",
       "      <td>6.690658e+06</td>\n",
       "      <td>3533407.360</td>\n",
       "      <td>3157250.145</td>\n",
       "    </tr>\n",
       "    <tr>\n",
       "      <th>8</th>\n",
       "      <td>2018</td>\n",
       "      <td>2018-09</td>\n",
       "      <td>5.672814e+06</td>\n",
       "      <td>2672049.170</td>\n",
       "      <td>3000764.585</td>\n",
       "    </tr>\n",
       "    <tr>\n",
       "      <th>9</th>\n",
       "      <td>2018</td>\n",
       "      <td>2018-10</td>\n",
       "      <td>7.836798e+06</td>\n",
       "      <td>3792919.270</td>\n",
       "      <td>4043878.825</td>\n",
       "    </tr>\n",
       "    <tr>\n",
       "      <th>10</th>\n",
       "      <td>2018</td>\n",
       "      <td>2018-11</td>\n",
       "      <td>9.478803e+06</td>\n",
       "      <td>4577240.465</td>\n",
       "      <td>4901562.085</td>\n",
       "    </tr>\n",
       "    <tr>\n",
       "      <th>11</th>\n",
       "      <td>2018</td>\n",
       "      <td>2018-12</td>\n",
       "      <td>9.509839e+06</td>\n",
       "      <td>4732896.945</td>\n",
       "      <td>4776941.820</td>\n",
       "    </tr>\n",
       "    <tr>\n",
       "      <th>12</th>\n",
       "      <td>2019</td>\n",
       "      <td>2019-01</td>\n",
       "      <td>7.380023e+06</td>\n",
       "      <td>3726328.025</td>\n",
       "      <td>3653694.695</td>\n",
       "    </tr>\n",
       "    <tr>\n",
       "      <th>13</th>\n",
       "      <td>2019</td>\n",
       "      <td>2019-02</td>\n",
       "      <td>5.516570e+06</td>\n",
       "      <td>2919350.245</td>\n",
       "      <td>2597219.765</td>\n",
       "    </tr>\n",
       "    <tr>\n",
       "      <th>14</th>\n",
       "      <td>2019</td>\n",
       "      <td>2019-03</td>\n",
       "      <td>5.270254e+06</td>\n",
       "      <td>2675651.720</td>\n",
       "      <td>2594602.570</td>\n",
       "    </tr>\n",
       "    <tr>\n",
       "      <th>15</th>\n",
       "      <td>2019</td>\n",
       "      <td>2019-04</td>\n",
       "      <td>7.603549e+06</td>\n",
       "      <td>3424904.805</td>\n",
       "      <td>4178643.805</td>\n",
       "    </tr>\n",
       "    <tr>\n",
       "      <th>16</th>\n",
       "      <td>2019</td>\n",
       "      <td>2019-05</td>\n",
       "      <td>6.222211e+06</td>\n",
       "      <td>2912020.125</td>\n",
       "      <td>3310190.730</td>\n",
       "    </tr>\n",
       "    <tr>\n",
       "      <th>17</th>\n",
       "      <td>2019</td>\n",
       "      <td>2019-06</td>\n",
       "      <td>5.883092e+06</td>\n",
       "      <td>2677987.620</td>\n",
       "      <td>3205104.840</td>\n",
       "    </tr>\n",
       "    <tr>\n",
       "      <th>18</th>\n",
       "      <td>2019</td>\n",
       "      <td>2019-07</td>\n",
       "      <td>6.222288e+06</td>\n",
       "      <td>2807266.525</td>\n",
       "      <td>3415021.645</td>\n",
       "    </tr>\n",
       "    <tr>\n",
       "      <th>19</th>\n",
       "      <td>2019</td>\n",
       "      <td>2019-08</td>\n",
       "      <td>4.927288e+06</td>\n",
       "      <td>2350744.480</td>\n",
       "      <td>2576543.760</td>\n",
       "    </tr>\n",
       "    <tr>\n",
       "      <th>20</th>\n",
       "      <td>2019</td>\n",
       "      <td>2019-09</td>\n",
       "      <td>1.056755e+07</td>\n",
       "      <td>4703472.830</td>\n",
       "      <td>5864077.905</td>\n",
       "    </tr>\n",
       "    <tr>\n",
       "      <th>21</th>\n",
       "      <td>2019</td>\n",
       "      <td>2019-10</td>\n",
       "      <td>2.729007e+06</td>\n",
       "      <td>1267781.760</td>\n",
       "      <td>1461225.535</td>\n",
       "    </tr>\n",
       "    <tr>\n",
       "      <th>22</th>\n",
       "      <td>2019</td>\n",
       "      <td>2019-11</td>\n",
       "      <td>1.047370e+06</td>\n",
       "      <td>530050.255</td>\n",
       "      <td>517319.600</td>\n",
       "    </tr>\n",
       "  </tbody>\n",
       "</table>\n",
       "</div>"
      ],
      "text/plain": [
       "    Year    Month            營收           成本           獲利\n",
       "0   2018  2018-01  6.321987e+06  3231230.730  3090755.955\n",
       "1   2018  2018-02  6.662086e+06  3418726.185  3243359.315\n",
       "2   2018  2018-03  6.150759e+06  3086844.145  3063914.490\n",
       "3   2018  2018-04  7.607202e+06  3564494.570  4042707.585\n",
       "4   2018  2018-05  6.696708e+06  3091469.885  3605237.930\n",
       "5   2018  2018-06  5.369112e+06  2398071.130  2971041.080\n",
       "6   2018  2018-07  7.785941e+06  3823540.945  3962400.330\n",
       "7   2018  2018-08  6.690658e+06  3533407.360  3157250.145\n",
       "8   2018  2018-09  5.672814e+06  2672049.170  3000764.585\n",
       "9   2018  2018-10  7.836798e+06  3792919.270  4043878.825\n",
       "10  2018  2018-11  9.478803e+06  4577240.465  4901562.085\n",
       "11  2018  2018-12  9.509839e+06  4732896.945  4776941.820\n",
       "12  2019  2019-01  7.380023e+06  3726328.025  3653694.695\n",
       "13  2019  2019-02  5.516570e+06  2919350.245  2597219.765\n",
       "14  2019  2019-03  5.270254e+06  2675651.720  2594602.570\n",
       "15  2019  2019-04  7.603549e+06  3424904.805  4178643.805\n",
       "16  2019  2019-05  6.222211e+06  2912020.125  3310190.730\n",
       "17  2019  2019-06  5.883092e+06  2677987.620  3205104.840\n",
       "18  2019  2019-07  6.222288e+06  2807266.525  3415021.645\n",
       "19  2019  2019-08  4.927288e+06  2350744.480  2576543.760\n",
       "20  2019  2019-09  1.056755e+07  4703472.830  5864077.905\n",
       "21  2019  2019-10  2.729007e+06  1267781.760  1461225.535\n",
       "22  2019  2019-11  1.047370e+06   530050.255   517319.600"
      ]
     },
     "execution_count": 45,
     "metadata": {},
     "output_type": "execute_result"
    }
   ],
   "source": [
    "month_profit_18_19"
   ]
  },
  {
   "cell_type": "code",
   "execution_count": 46,
   "id": "bbf9aa25",
   "metadata": {},
   "outputs": [],
   "source": [
    "# 繪圖前先將Month改為月份: str.split()\n",
    "#month_profit_18_19['Month'] = month_profit_18_19['Month'].str.split('-', expand = True)[1]"
   ]
  },
  {
   "cell_type": "code",
   "execution_count": 47,
   "id": "4c5636a6",
   "metadata": {},
   "outputs": [
    {
     "data": {
      "application/vnd.plotly.v1+json": {
       "config": {
        "plotlyServerURL": "https://plot.ly"
       },
       "data": [
        {
         "hovertemplate": "Year=2018<br>Month=%{x}<br>獲利=%{y}<extra></extra>",
         "legendgroup": "2018",
         "line": {
          "color": "#636efa",
          "dash": "solid"
         },
         "marker": {
          "symbol": "circle"
         },
         "mode": "lines",
         "name": "2018",
         "orientation": "v",
         "showlegend": true,
         "type": "scatter",
         "x": [
          "2018-01",
          "2018-02",
          "2018-03",
          "2018-04",
          "2018-05",
          "2018-06",
          "2018-07",
          "2018-08",
          "2018-09",
          "2018-10",
          "2018-11",
          "2018-12"
         ],
         "xaxis": "x",
         "y": [
          3090755.955,
          3243359.315,
          3063914.49,
          4042707.585,
          3605237.93,
          2971041.08,
          3962400.33,
          3157250.145,
          3000764.585,
          4043878.825,
          4901562.085,
          4776941.82
         ],
         "yaxis": "y"
        },
        {
         "hovertemplate": "Year=2019<br>Month=%{x}<br>獲利=%{y}<extra></extra>",
         "legendgroup": "2019",
         "line": {
          "color": "#EF553B",
          "dash": "solid"
         },
         "marker": {
          "symbol": "circle"
         },
         "mode": "lines",
         "name": "2019",
         "orientation": "v",
         "showlegend": true,
         "type": "scatter",
         "x": [
          "2019-01",
          "2019-02",
          "2019-03",
          "2019-04",
          "2019-05",
          "2019-06",
          "2019-07",
          "2019-08",
          "2019-09",
          "2019-10",
          "2019-11"
         ],
         "xaxis": "x",
         "y": [
          3653694.695,
          2597219.765,
          2594602.57,
          4178643.805,
          3310190.73,
          3205104.84,
          3415021.645,
          2576543.76,
          5864077.905,
          1461225.535,
          517319.6
         ],
         "yaxis": "y"
        }
       ],
       "layout": {
        "legend": {
         "title": {
          "text": "Year"
         },
         "tracegroupgap": 0
        },
        "margin": {
         "t": 60
        },
        "template": {
         "data": {
          "bar": [
           {
            "error_x": {
             "color": "#2a3f5f"
            },
            "error_y": {
             "color": "#2a3f5f"
            },
            "marker": {
             "line": {
              "color": "#E5ECF6",
              "width": 0.5
             },
             "pattern": {
              "fillmode": "overlay",
              "size": 10,
              "solidity": 0.2
             }
            },
            "type": "bar"
           }
          ],
          "barpolar": [
           {
            "marker": {
             "line": {
              "color": "#E5ECF6",
              "width": 0.5
             },
             "pattern": {
              "fillmode": "overlay",
              "size": 10,
              "solidity": 0.2
             }
            },
            "type": "barpolar"
           }
          ],
          "carpet": [
           {
            "aaxis": {
             "endlinecolor": "#2a3f5f",
             "gridcolor": "white",
             "linecolor": "white",
             "minorgridcolor": "white",
             "startlinecolor": "#2a3f5f"
            },
            "baxis": {
             "endlinecolor": "#2a3f5f",
             "gridcolor": "white",
             "linecolor": "white",
             "minorgridcolor": "white",
             "startlinecolor": "#2a3f5f"
            },
            "type": "carpet"
           }
          ],
          "choropleth": [
           {
            "colorbar": {
             "outlinewidth": 0,
             "ticks": ""
            },
            "type": "choropleth"
           }
          ],
          "contour": [
           {
            "colorbar": {
             "outlinewidth": 0,
             "ticks": ""
            },
            "colorscale": [
             [
              0,
              "#0d0887"
             ],
             [
              0.1111111111111111,
              "#46039f"
             ],
             [
              0.2222222222222222,
              "#7201a8"
             ],
             [
              0.3333333333333333,
              "#9c179e"
             ],
             [
              0.4444444444444444,
              "#bd3786"
             ],
             [
              0.5555555555555556,
              "#d8576b"
             ],
             [
              0.6666666666666666,
              "#ed7953"
             ],
             [
              0.7777777777777778,
              "#fb9f3a"
             ],
             [
              0.8888888888888888,
              "#fdca26"
             ],
             [
              1,
              "#f0f921"
             ]
            ],
            "type": "contour"
           }
          ],
          "contourcarpet": [
           {
            "colorbar": {
             "outlinewidth": 0,
             "ticks": ""
            },
            "type": "contourcarpet"
           }
          ],
          "heatmap": [
           {
            "colorbar": {
             "outlinewidth": 0,
             "ticks": ""
            },
            "colorscale": [
             [
              0,
              "#0d0887"
             ],
             [
              0.1111111111111111,
              "#46039f"
             ],
             [
              0.2222222222222222,
              "#7201a8"
             ],
             [
              0.3333333333333333,
              "#9c179e"
             ],
             [
              0.4444444444444444,
              "#bd3786"
             ],
             [
              0.5555555555555556,
              "#d8576b"
             ],
             [
              0.6666666666666666,
              "#ed7953"
             ],
             [
              0.7777777777777778,
              "#fb9f3a"
             ],
             [
              0.8888888888888888,
              "#fdca26"
             ],
             [
              1,
              "#f0f921"
             ]
            ],
            "type": "heatmap"
           }
          ],
          "heatmapgl": [
           {
            "colorbar": {
             "outlinewidth": 0,
             "ticks": ""
            },
            "colorscale": [
             [
              0,
              "#0d0887"
             ],
             [
              0.1111111111111111,
              "#46039f"
             ],
             [
              0.2222222222222222,
              "#7201a8"
             ],
             [
              0.3333333333333333,
              "#9c179e"
             ],
             [
              0.4444444444444444,
              "#bd3786"
             ],
             [
              0.5555555555555556,
              "#d8576b"
             ],
             [
              0.6666666666666666,
              "#ed7953"
             ],
             [
              0.7777777777777778,
              "#fb9f3a"
             ],
             [
              0.8888888888888888,
              "#fdca26"
             ],
             [
              1,
              "#f0f921"
             ]
            ],
            "type": "heatmapgl"
           }
          ],
          "histogram": [
           {
            "marker": {
             "pattern": {
              "fillmode": "overlay",
              "size": 10,
              "solidity": 0.2
             }
            },
            "type": "histogram"
           }
          ],
          "histogram2d": [
           {
            "colorbar": {
             "outlinewidth": 0,
             "ticks": ""
            },
            "colorscale": [
             [
              0,
              "#0d0887"
             ],
             [
              0.1111111111111111,
              "#46039f"
             ],
             [
              0.2222222222222222,
              "#7201a8"
             ],
             [
              0.3333333333333333,
              "#9c179e"
             ],
             [
              0.4444444444444444,
              "#bd3786"
             ],
             [
              0.5555555555555556,
              "#d8576b"
             ],
             [
              0.6666666666666666,
              "#ed7953"
             ],
             [
              0.7777777777777778,
              "#fb9f3a"
             ],
             [
              0.8888888888888888,
              "#fdca26"
             ],
             [
              1,
              "#f0f921"
             ]
            ],
            "type": "histogram2d"
           }
          ],
          "histogram2dcontour": [
           {
            "colorbar": {
             "outlinewidth": 0,
             "ticks": ""
            },
            "colorscale": [
             [
              0,
              "#0d0887"
             ],
             [
              0.1111111111111111,
              "#46039f"
             ],
             [
              0.2222222222222222,
              "#7201a8"
             ],
             [
              0.3333333333333333,
              "#9c179e"
             ],
             [
              0.4444444444444444,
              "#bd3786"
             ],
             [
              0.5555555555555556,
              "#d8576b"
             ],
             [
              0.6666666666666666,
              "#ed7953"
             ],
             [
              0.7777777777777778,
              "#fb9f3a"
             ],
             [
              0.8888888888888888,
              "#fdca26"
             ],
             [
              1,
              "#f0f921"
             ]
            ],
            "type": "histogram2dcontour"
           }
          ],
          "mesh3d": [
           {
            "colorbar": {
             "outlinewidth": 0,
             "ticks": ""
            },
            "type": "mesh3d"
           }
          ],
          "parcoords": [
           {
            "line": {
             "colorbar": {
              "outlinewidth": 0,
              "ticks": ""
             }
            },
            "type": "parcoords"
           }
          ],
          "pie": [
           {
            "automargin": true,
            "type": "pie"
           }
          ],
          "scatter": [
           {
            "marker": {
             "colorbar": {
              "outlinewidth": 0,
              "ticks": ""
             }
            },
            "type": "scatter"
           }
          ],
          "scatter3d": [
           {
            "line": {
             "colorbar": {
              "outlinewidth": 0,
              "ticks": ""
             }
            },
            "marker": {
             "colorbar": {
              "outlinewidth": 0,
              "ticks": ""
             }
            },
            "type": "scatter3d"
           }
          ],
          "scattercarpet": [
           {
            "marker": {
             "colorbar": {
              "outlinewidth": 0,
              "ticks": ""
             }
            },
            "type": "scattercarpet"
           }
          ],
          "scattergeo": [
           {
            "marker": {
             "colorbar": {
              "outlinewidth": 0,
              "ticks": ""
             }
            },
            "type": "scattergeo"
           }
          ],
          "scattergl": [
           {
            "marker": {
             "colorbar": {
              "outlinewidth": 0,
              "ticks": ""
             }
            },
            "type": "scattergl"
           }
          ],
          "scattermapbox": [
           {
            "marker": {
             "colorbar": {
              "outlinewidth": 0,
              "ticks": ""
             }
            },
            "type": "scattermapbox"
           }
          ],
          "scatterpolar": [
           {
            "marker": {
             "colorbar": {
              "outlinewidth": 0,
              "ticks": ""
             }
            },
            "type": "scatterpolar"
           }
          ],
          "scatterpolargl": [
           {
            "marker": {
             "colorbar": {
              "outlinewidth": 0,
              "ticks": ""
             }
            },
            "type": "scatterpolargl"
           }
          ],
          "scatterternary": [
           {
            "marker": {
             "colorbar": {
              "outlinewidth": 0,
              "ticks": ""
             }
            },
            "type": "scatterternary"
           }
          ],
          "surface": [
           {
            "colorbar": {
             "outlinewidth": 0,
             "ticks": ""
            },
            "colorscale": [
             [
              0,
              "#0d0887"
             ],
             [
              0.1111111111111111,
              "#46039f"
             ],
             [
              0.2222222222222222,
              "#7201a8"
             ],
             [
              0.3333333333333333,
              "#9c179e"
             ],
             [
              0.4444444444444444,
              "#bd3786"
             ],
             [
              0.5555555555555556,
              "#d8576b"
             ],
             [
              0.6666666666666666,
              "#ed7953"
             ],
             [
              0.7777777777777778,
              "#fb9f3a"
             ],
             [
              0.8888888888888888,
              "#fdca26"
             ],
             [
              1,
              "#f0f921"
             ]
            ],
            "type": "surface"
           }
          ],
          "table": [
           {
            "cells": {
             "fill": {
              "color": "#EBF0F8"
             },
             "line": {
              "color": "white"
             }
            },
            "header": {
             "fill": {
              "color": "#C8D4E3"
             },
             "line": {
              "color": "white"
             }
            },
            "type": "table"
           }
          ]
         },
         "layout": {
          "annotationdefaults": {
           "arrowcolor": "#2a3f5f",
           "arrowhead": 0,
           "arrowwidth": 1
          },
          "autotypenumbers": "strict",
          "coloraxis": {
           "colorbar": {
            "outlinewidth": 0,
            "ticks": ""
           }
          },
          "colorscale": {
           "diverging": [
            [
             0,
             "#8e0152"
            ],
            [
             0.1,
             "#c51b7d"
            ],
            [
             0.2,
             "#de77ae"
            ],
            [
             0.3,
             "#f1b6da"
            ],
            [
             0.4,
             "#fde0ef"
            ],
            [
             0.5,
             "#f7f7f7"
            ],
            [
             0.6,
             "#e6f5d0"
            ],
            [
             0.7,
             "#b8e186"
            ],
            [
             0.8,
             "#7fbc41"
            ],
            [
             0.9,
             "#4d9221"
            ],
            [
             1,
             "#276419"
            ]
           ],
           "sequential": [
            [
             0,
             "#0d0887"
            ],
            [
             0.1111111111111111,
             "#46039f"
            ],
            [
             0.2222222222222222,
             "#7201a8"
            ],
            [
             0.3333333333333333,
             "#9c179e"
            ],
            [
             0.4444444444444444,
             "#bd3786"
            ],
            [
             0.5555555555555556,
             "#d8576b"
            ],
            [
             0.6666666666666666,
             "#ed7953"
            ],
            [
             0.7777777777777778,
             "#fb9f3a"
            ],
            [
             0.8888888888888888,
             "#fdca26"
            ],
            [
             1,
             "#f0f921"
            ]
           ],
           "sequentialminus": [
            [
             0,
             "#0d0887"
            ],
            [
             0.1111111111111111,
             "#46039f"
            ],
            [
             0.2222222222222222,
             "#7201a8"
            ],
            [
             0.3333333333333333,
             "#9c179e"
            ],
            [
             0.4444444444444444,
             "#bd3786"
            ],
            [
             0.5555555555555556,
             "#d8576b"
            ],
            [
             0.6666666666666666,
             "#ed7953"
            ],
            [
             0.7777777777777778,
             "#fb9f3a"
            ],
            [
             0.8888888888888888,
             "#fdca26"
            ],
            [
             1,
             "#f0f921"
            ]
           ]
          },
          "colorway": [
           "#636efa",
           "#EF553B",
           "#00cc96",
           "#ab63fa",
           "#FFA15A",
           "#19d3f3",
           "#FF6692",
           "#B6E880",
           "#FF97FF",
           "#FECB52"
          ],
          "font": {
           "color": "#2a3f5f"
          },
          "geo": {
           "bgcolor": "white",
           "lakecolor": "white",
           "landcolor": "#E5ECF6",
           "showlakes": true,
           "showland": true,
           "subunitcolor": "white"
          },
          "hoverlabel": {
           "align": "left"
          },
          "hovermode": "closest",
          "mapbox": {
           "style": "light"
          },
          "paper_bgcolor": "white",
          "plot_bgcolor": "#E5ECF6",
          "polar": {
           "angularaxis": {
            "gridcolor": "white",
            "linecolor": "white",
            "ticks": ""
           },
           "bgcolor": "#E5ECF6",
           "radialaxis": {
            "gridcolor": "white",
            "linecolor": "white",
            "ticks": ""
           }
          },
          "scene": {
           "xaxis": {
            "backgroundcolor": "#E5ECF6",
            "gridcolor": "white",
            "gridwidth": 2,
            "linecolor": "white",
            "showbackground": true,
            "ticks": "",
            "zerolinecolor": "white"
           },
           "yaxis": {
            "backgroundcolor": "#E5ECF6",
            "gridcolor": "white",
            "gridwidth": 2,
            "linecolor": "white",
            "showbackground": true,
            "ticks": "",
            "zerolinecolor": "white"
           },
           "zaxis": {
            "backgroundcolor": "#E5ECF6",
            "gridcolor": "white",
            "gridwidth": 2,
            "linecolor": "white",
            "showbackground": true,
            "ticks": "",
            "zerolinecolor": "white"
           }
          },
          "shapedefaults": {
           "line": {
            "color": "#2a3f5f"
           }
          },
          "ternary": {
           "aaxis": {
            "gridcolor": "white",
            "linecolor": "white",
            "ticks": ""
           },
           "baxis": {
            "gridcolor": "white",
            "linecolor": "white",
            "ticks": ""
           },
           "bgcolor": "#E5ECF6",
           "caxis": {
            "gridcolor": "white",
            "linecolor": "white",
            "ticks": ""
           }
          },
          "title": {
           "x": 0.05
          },
          "xaxis": {
           "automargin": true,
           "gridcolor": "white",
           "linecolor": "white",
           "ticks": "",
           "title": {
            "standoff": 15
           },
           "zerolinecolor": "white",
           "zerolinewidth": 2
          },
          "yaxis": {
           "automargin": true,
           "gridcolor": "white",
           "linecolor": "white",
           "ticks": "",
           "title": {
            "standoff": 15
           },
           "zerolinecolor": "white",
           "zerolinewidth": 2
          }
         }
        },
        "title": {
         "text": "2018-19年利潤比較折線圖",
         "x": 0.5,
         "xanchor": "center",
         "y": 0.9,
         "yanchor": "top"
        },
        "xaxis": {
         "anchor": "y",
         "domain": [
          0,
          1
         ],
         "title": {
          "text": "月份"
         }
        },
        "yaxis": {
         "anchor": "x",
         "domain": [
          0,
          1
         ],
         "title": {
          "text": "獲利"
         }
        }
       }
      }
     },
     "metadata": {},
     "output_type": "display_data"
    }
   ],
   "source": [
    "import plotly.express as px\n",
    "from plotly.offline import download_plotlyjs, init_notebook_mode, plot, iplot\n",
    "fig_month_profit_18_19 = px.line(month_profit_18_19,\n",
    "                                 x='Month',\n",
    "                                 y='獲利',\n",
    "                                 color='Year')\n",
    "# 調整元素:標題、顯示各月數值 \n",
    "fig_month_profit_18_19.update_layout(\n",
    "                title={\n",
    "                    'text': '2018-19年利潤比較折線圖',\n",
    "                    'y':0.9,\n",
    "                    'x':0.5,\n",
    "                    'xanchor': 'center',\n",
    "                    'yanchor': 'top'},\n",
    "                xaxis_title='月份',\n",
    "                yaxis_title='獲利')\n",
    "# fig_month_profit_18_19.write_html(\"./demo.html\")   \n",
    "fig_month_profit_18_19.show()                         "
   ]
  },
  {
   "cell_type": "code",
   "execution_count": 48,
   "metadata": {},
   "outputs": [],
   "source": [
    "growth_profit_2018M = month_profit_18_19[month_profit_18_19['Year'] == 2018]\n",
    "growth_profit_2019M = month_profit_18_19[month_profit_18_19['Year'] == 2019]"
   ]
  },
  {
   "cell_type": "code",
   "execution_count": 49,
   "metadata": {},
   "outputs": [
    {
     "name": "stderr",
     "output_type": "stream",
     "text": [
      "C:\\Users\\chanm\\AppData\\Local\\Temp\\ipykernel_23084\\371016646.py:1: SettingWithCopyWarning:\n",
      "\n",
      "\n",
      "A value is trying to be set on a copy of a slice from a DataFrame\n",
      "\n",
      "See the caveats in the documentation: https://pandas.pydata.org/pandas-docs/stable/user_guide/indexing.html#returning-a-view-versus-a-copy\n",
      "\n"
     ]
    },
    {
     "data": {
      "text/html": [
       "<div>\n",
       "<style scoped>\n",
       "    .dataframe tbody tr th:only-of-type {\n",
       "        vertical-align: middle;\n",
       "    }\n",
       "\n",
       "    .dataframe tbody tr th {\n",
       "        vertical-align: top;\n",
       "    }\n",
       "\n",
       "    .dataframe thead th {\n",
       "        text-align: right;\n",
       "    }\n",
       "</style>\n",
       "<table border=\"1\" class=\"dataframe\">\n",
       "  <thead>\n",
       "    <tr style=\"text-align: right;\">\n",
       "      <th></th>\n",
       "      <th>Year</th>\n",
       "      <th>Month</th>\n",
       "      <th>營收</th>\n",
       "      <th>成本</th>\n",
       "      <th>獲利</th>\n",
       "    </tr>\n",
       "  </thead>\n",
       "  <tbody>\n",
       "    <tr>\n",
       "      <th>0</th>\n",
       "      <td>2018</td>\n",
       "      <td>2018-01</td>\n",
       "      <td>6321986.685</td>\n",
       "      <td>3231230.730</td>\n",
       "      <td>3090755.955</td>\n",
       "    </tr>\n",
       "    <tr>\n",
       "      <th>1</th>\n",
       "      <td>2018</td>\n",
       "      <td>2018-02</td>\n",
       "      <td>6662085.500</td>\n",
       "      <td>3418726.185</td>\n",
       "      <td>3243359.315</td>\n",
       "    </tr>\n",
       "    <tr>\n",
       "      <th>2</th>\n",
       "      <td>2018</td>\n",
       "      <td>2018-03</td>\n",
       "      <td>6150758.635</td>\n",
       "      <td>3086844.145</td>\n",
       "      <td>3063914.490</td>\n",
       "    </tr>\n",
       "    <tr>\n",
       "      <th>3</th>\n",
       "      <td>2018</td>\n",
       "      <td>2018-04</td>\n",
       "      <td>7607202.155</td>\n",
       "      <td>3564494.570</td>\n",
       "      <td>4042707.585</td>\n",
       "    </tr>\n",
       "    <tr>\n",
       "      <th>4</th>\n",
       "      <td>2018</td>\n",
       "      <td>2018-05</td>\n",
       "      <td>6696707.815</td>\n",
       "      <td>3091469.885</td>\n",
       "      <td>3605237.930</td>\n",
       "    </tr>\n",
       "    <tr>\n",
       "      <th>5</th>\n",
       "      <td>2018</td>\n",
       "      <td>2018-06</td>\n",
       "      <td>5369112.210</td>\n",
       "      <td>2398071.130</td>\n",
       "      <td>2971041.080</td>\n",
       "    </tr>\n",
       "    <tr>\n",
       "      <th>6</th>\n",
       "      <td>2018</td>\n",
       "      <td>2018-07</td>\n",
       "      <td>7785941.275</td>\n",
       "      <td>3823540.945</td>\n",
       "      <td>3962400.330</td>\n",
       "    </tr>\n",
       "    <tr>\n",
       "      <th>7</th>\n",
       "      <td>2018</td>\n",
       "      <td>2018-08</td>\n",
       "      <td>6690657.505</td>\n",
       "      <td>3533407.360</td>\n",
       "      <td>3157250.145</td>\n",
       "    </tr>\n",
       "    <tr>\n",
       "      <th>8</th>\n",
       "      <td>2018</td>\n",
       "      <td>2018-09</td>\n",
       "      <td>5672813.755</td>\n",
       "      <td>2672049.170</td>\n",
       "      <td>3000764.585</td>\n",
       "    </tr>\n",
       "    <tr>\n",
       "      <th>9</th>\n",
       "      <td>2018</td>\n",
       "      <td>2018-10</td>\n",
       "      <td>7836798.095</td>\n",
       "      <td>3792919.270</td>\n",
       "      <td>4043878.825</td>\n",
       "    </tr>\n",
       "  </tbody>\n",
       "</table>\n",
       "</div>"
      ],
      "text/plain": [
       "   Year    Month           營收           成本           獲利\n",
       "0  2018  2018-01  6321986.685  3231230.730  3090755.955\n",
       "1  2018  2018-02  6662085.500  3418726.185  3243359.315\n",
       "2  2018  2018-03  6150758.635  3086844.145  3063914.490\n",
       "3  2018  2018-04  7607202.155  3564494.570  4042707.585\n",
       "4  2018  2018-05  6696707.815  3091469.885  3605237.930\n",
       "5  2018  2018-06  5369112.210  2398071.130  2971041.080\n",
       "6  2018  2018-07  7785941.275  3823540.945  3962400.330\n",
       "7  2018  2018-08  6690657.505  3533407.360  3157250.145\n",
       "8  2018  2018-09  5672813.755  2672049.170  3000764.585\n",
       "9  2018  2018-10  7836798.095  3792919.270  4043878.825"
      ]
     },
     "execution_count": 49,
     "metadata": {},
     "output_type": "execute_result"
    }
   ],
   "source": [
    "growth_profit_2018M.drop([10,11], inplace=True)\n",
    "growth_profit_2018M"
   ]
  },
  {
   "cell_type": "code",
   "execution_count": 50,
   "metadata": {},
   "outputs": [
    {
     "data": {
      "text/html": [
       "<div>\n",
       "<style scoped>\n",
       "    .dataframe tbody tr th:only-of-type {\n",
       "        vertical-align: middle;\n",
       "    }\n",
       "\n",
       "    .dataframe tbody tr th {\n",
       "        vertical-align: top;\n",
       "    }\n",
       "\n",
       "    .dataframe thead th {\n",
       "        text-align: right;\n",
       "    }\n",
       "</style>\n",
       "<table border=\"1\" class=\"dataframe\">\n",
       "  <thead>\n",
       "    <tr style=\"text-align: right;\">\n",
       "      <th></th>\n",
       "      <th>Year</th>\n",
       "      <th>Month</th>\n",
       "      <th>營收</th>\n",
       "      <th>成本</th>\n",
       "      <th>獲利</th>\n",
       "    </tr>\n",
       "  </thead>\n",
       "  <tbody>\n",
       "    <tr>\n",
       "      <th>0</th>\n",
       "      <td>2019</td>\n",
       "      <td>2019-01</td>\n",
       "      <td>7.380023e+06</td>\n",
       "      <td>3726328.025</td>\n",
       "      <td>3653694.695</td>\n",
       "    </tr>\n",
       "    <tr>\n",
       "      <th>1</th>\n",
       "      <td>2019</td>\n",
       "      <td>2019-02</td>\n",
       "      <td>5.516570e+06</td>\n",
       "      <td>2919350.245</td>\n",
       "      <td>2597219.765</td>\n",
       "    </tr>\n",
       "    <tr>\n",
       "      <th>2</th>\n",
       "      <td>2019</td>\n",
       "      <td>2019-03</td>\n",
       "      <td>5.270254e+06</td>\n",
       "      <td>2675651.720</td>\n",
       "      <td>2594602.570</td>\n",
       "    </tr>\n",
       "    <tr>\n",
       "      <th>3</th>\n",
       "      <td>2019</td>\n",
       "      <td>2019-04</td>\n",
       "      <td>7.603549e+06</td>\n",
       "      <td>3424904.805</td>\n",
       "      <td>4178643.805</td>\n",
       "    </tr>\n",
       "    <tr>\n",
       "      <th>4</th>\n",
       "      <td>2019</td>\n",
       "      <td>2019-05</td>\n",
       "      <td>6.222211e+06</td>\n",
       "      <td>2912020.125</td>\n",
       "      <td>3310190.730</td>\n",
       "    </tr>\n",
       "    <tr>\n",
       "      <th>5</th>\n",
       "      <td>2019</td>\n",
       "      <td>2019-06</td>\n",
       "      <td>5.883092e+06</td>\n",
       "      <td>2677987.620</td>\n",
       "      <td>3205104.840</td>\n",
       "    </tr>\n",
       "    <tr>\n",
       "      <th>6</th>\n",
       "      <td>2019</td>\n",
       "      <td>2019-07</td>\n",
       "      <td>6.222288e+06</td>\n",
       "      <td>2807266.525</td>\n",
       "      <td>3415021.645</td>\n",
       "    </tr>\n",
       "    <tr>\n",
       "      <th>7</th>\n",
       "      <td>2019</td>\n",
       "      <td>2019-08</td>\n",
       "      <td>4.927288e+06</td>\n",
       "      <td>2350744.480</td>\n",
       "      <td>2576543.760</td>\n",
       "    </tr>\n",
       "    <tr>\n",
       "      <th>8</th>\n",
       "      <td>2019</td>\n",
       "      <td>2019-09</td>\n",
       "      <td>1.056755e+07</td>\n",
       "      <td>4703472.830</td>\n",
       "      <td>5864077.905</td>\n",
       "    </tr>\n",
       "    <tr>\n",
       "      <th>9</th>\n",
       "      <td>2019</td>\n",
       "      <td>2019-10</td>\n",
       "      <td>2.729007e+06</td>\n",
       "      <td>1267781.760</td>\n",
       "      <td>1461225.535</td>\n",
       "    </tr>\n",
       "    <tr>\n",
       "      <th>10</th>\n",
       "      <td>2019</td>\n",
       "      <td>2019-11</td>\n",
       "      <td>1.047370e+06</td>\n",
       "      <td>530050.255</td>\n",
       "      <td>517319.600</td>\n",
       "    </tr>\n",
       "  </tbody>\n",
       "</table>\n",
       "</div>"
      ],
      "text/plain": [
       "    Year    Month            營收           成本           獲利\n",
       "0   2019  2019-01  7.380023e+06  3726328.025  3653694.695\n",
       "1   2019  2019-02  5.516570e+06  2919350.245  2597219.765\n",
       "2   2019  2019-03  5.270254e+06  2675651.720  2594602.570\n",
       "3   2019  2019-04  7.603549e+06  3424904.805  4178643.805\n",
       "4   2019  2019-05  6.222211e+06  2912020.125  3310190.730\n",
       "5   2019  2019-06  5.883092e+06  2677987.620  3205104.840\n",
       "6   2019  2019-07  6.222288e+06  2807266.525  3415021.645\n",
       "7   2019  2019-08  4.927288e+06  2350744.480  2576543.760\n",
       "8   2019  2019-09  1.056755e+07  4703472.830  5864077.905\n",
       "9   2019  2019-10  2.729007e+06  1267781.760  1461225.535\n",
       "10  2019  2019-11  1.047370e+06   530050.255   517319.600"
      ]
     },
     "execution_count": 50,
     "metadata": {},
     "output_type": "execute_result"
    }
   ],
   "source": [
    "growth_profit_2019M.reset_index(drop=True, inplace=True)\n",
    "growth_profit_2019M"
   ]
  },
  {
   "cell_type": "code",
   "execution_count": 51,
   "metadata": {},
   "outputs": [
    {
     "name": "stderr",
     "output_type": "stream",
     "text": [
      "C:\\Users\\chanm\\AppData\\Local\\Temp\\ipykernel_23084\\3635197665.py:1: SettingWithCopyWarning:\n",
      "\n",
      "\n",
      "A value is trying to be set on a copy of a slice from a DataFrame.\n",
      "Try using .loc[row_indexer,col_indexer] = value instead\n",
      "\n",
      "See the caveats in the documentation: https://pandas.pydata.org/pandas-docs/stable/user_guide/indexing.html#returning-a-view-versus-a-copy\n",
      "\n"
     ]
    }
   ],
   "source": [
    "growth_profit_2019M['獲利成長%'] = round(100*((growth_profit_2019M['獲利'] - growth_profit_2018M['獲利'])/growth_profit_2018M['獲利']), 1)"
   ]
  },
  {
   "cell_type": "code",
   "execution_count": 52,
   "metadata": {},
   "outputs": [
    {
     "data": {
      "text/html": [
       "<div>\n",
       "<style scoped>\n",
       "    .dataframe tbody tr th:only-of-type {\n",
       "        vertical-align: middle;\n",
       "    }\n",
       "\n",
       "    .dataframe tbody tr th {\n",
       "        vertical-align: top;\n",
       "    }\n",
       "\n",
       "    .dataframe thead th {\n",
       "        text-align: right;\n",
       "    }\n",
       "</style>\n",
       "<table border=\"1\" class=\"dataframe\">\n",
       "  <thead>\n",
       "    <tr style=\"text-align: right;\">\n",
       "      <th></th>\n",
       "      <th>Year</th>\n",
       "      <th>Month</th>\n",
       "      <th>營收</th>\n",
       "      <th>成本</th>\n",
       "      <th>獲利</th>\n",
       "      <th>獲利成長%</th>\n",
       "    </tr>\n",
       "  </thead>\n",
       "  <tbody>\n",
       "    <tr>\n",
       "      <th>0</th>\n",
       "      <td>2019</td>\n",
       "      <td>2019-01</td>\n",
       "      <td>7.380023e+06</td>\n",
       "      <td>3726328.025</td>\n",
       "      <td>3653694.695</td>\n",
       "      <td>18.2</td>\n",
       "    </tr>\n",
       "    <tr>\n",
       "      <th>1</th>\n",
       "      <td>2019</td>\n",
       "      <td>2019-02</td>\n",
       "      <td>5.516570e+06</td>\n",
       "      <td>2919350.245</td>\n",
       "      <td>2597219.765</td>\n",
       "      <td>-19.9</td>\n",
       "    </tr>\n",
       "    <tr>\n",
       "      <th>2</th>\n",
       "      <td>2019</td>\n",
       "      <td>2019-03</td>\n",
       "      <td>5.270254e+06</td>\n",
       "      <td>2675651.720</td>\n",
       "      <td>2594602.570</td>\n",
       "      <td>-15.3</td>\n",
       "    </tr>\n",
       "    <tr>\n",
       "      <th>3</th>\n",
       "      <td>2019</td>\n",
       "      <td>2019-04</td>\n",
       "      <td>7.603549e+06</td>\n",
       "      <td>3424904.805</td>\n",
       "      <td>4178643.805</td>\n",
       "      <td>3.4</td>\n",
       "    </tr>\n",
       "    <tr>\n",
       "      <th>4</th>\n",
       "      <td>2019</td>\n",
       "      <td>2019-05</td>\n",
       "      <td>6.222211e+06</td>\n",
       "      <td>2912020.125</td>\n",
       "      <td>3310190.730</td>\n",
       "      <td>-8.2</td>\n",
       "    </tr>\n",
       "    <tr>\n",
       "      <th>5</th>\n",
       "      <td>2019</td>\n",
       "      <td>2019-06</td>\n",
       "      <td>5.883092e+06</td>\n",
       "      <td>2677987.620</td>\n",
       "      <td>3205104.840</td>\n",
       "      <td>7.9</td>\n",
       "    </tr>\n",
       "    <tr>\n",
       "      <th>6</th>\n",
       "      <td>2019</td>\n",
       "      <td>2019-07</td>\n",
       "      <td>6.222288e+06</td>\n",
       "      <td>2807266.525</td>\n",
       "      <td>3415021.645</td>\n",
       "      <td>-13.8</td>\n",
       "    </tr>\n",
       "    <tr>\n",
       "      <th>7</th>\n",
       "      <td>2019</td>\n",
       "      <td>2019-08</td>\n",
       "      <td>4.927288e+06</td>\n",
       "      <td>2350744.480</td>\n",
       "      <td>2576543.760</td>\n",
       "      <td>-18.4</td>\n",
       "    </tr>\n",
       "    <tr>\n",
       "      <th>8</th>\n",
       "      <td>2019</td>\n",
       "      <td>2019-09</td>\n",
       "      <td>1.056755e+07</td>\n",
       "      <td>4703472.830</td>\n",
       "      <td>5864077.905</td>\n",
       "      <td>95.4</td>\n",
       "    </tr>\n",
       "    <tr>\n",
       "      <th>9</th>\n",
       "      <td>2019</td>\n",
       "      <td>2019-10</td>\n",
       "      <td>2.729007e+06</td>\n",
       "      <td>1267781.760</td>\n",
       "      <td>1461225.535</td>\n",
       "      <td>-63.9</td>\n",
       "    </tr>\n",
       "    <tr>\n",
       "      <th>10</th>\n",
       "      <td>2019</td>\n",
       "      <td>2019-11</td>\n",
       "      <td>1.047370e+06</td>\n",
       "      <td>530050.255</td>\n",
       "      <td>517319.600</td>\n",
       "      <td>NaN</td>\n",
       "    </tr>\n",
       "  </tbody>\n",
       "</table>\n",
       "</div>"
      ],
      "text/plain": [
       "    Year    Month            營收           成本           獲利  獲利成長%\n",
       "0   2019  2019-01  7.380023e+06  3726328.025  3653694.695   18.2\n",
       "1   2019  2019-02  5.516570e+06  2919350.245  2597219.765  -19.9\n",
       "2   2019  2019-03  5.270254e+06  2675651.720  2594602.570  -15.3\n",
       "3   2019  2019-04  7.603549e+06  3424904.805  4178643.805    3.4\n",
       "4   2019  2019-05  6.222211e+06  2912020.125  3310190.730   -8.2\n",
       "5   2019  2019-06  5.883092e+06  2677987.620  3205104.840    7.9\n",
       "6   2019  2019-07  6.222288e+06  2807266.525  3415021.645  -13.8\n",
       "7   2019  2019-08  4.927288e+06  2350744.480  2576543.760  -18.4\n",
       "8   2019  2019-09  1.056755e+07  4703472.830  5864077.905   95.4\n",
       "9   2019  2019-10  2.729007e+06  1267781.760  1461225.535  -63.9\n",
       "10  2019  2019-11  1.047370e+06   530050.255   517319.600    NaN"
      ]
     },
     "execution_count": 52,
     "metadata": {},
     "output_type": "execute_result"
    }
   ],
   "source": [
    "growth_profit_2019M#['獲利成長%'].sum()"
   ]
  },
  {
   "cell_type": "markdown",
   "metadata": {},
   "source": [
    "# 18_19總獲利成長率YoY"
   ]
  },
  {
   "cell_type": "code",
   "execution_count": 53,
   "metadata": {},
   "outputs": [
    {
     "data": {
      "text/html": [
       "<div>\n",
       "<style scoped>\n",
       "    .dataframe tbody tr th:only-of-type {\n",
       "        vertical-align: middle;\n",
       "    }\n",
       "\n",
       "    .dataframe tbody tr th {\n",
       "        vertical-align: top;\n",
       "    }\n",
       "\n",
       "    .dataframe thead th {\n",
       "        text-align: right;\n",
       "    }\n",
       "</style>\n",
       "<table border=\"1\" class=\"dataframe\">\n",
       "  <thead>\n",
       "    <tr style=\"text-align: right;\">\n",
       "      <th></th>\n",
       "      <th>Year</th>\n",
       "      <th>Month</th>\n",
       "      <th>營收</th>\n",
       "      <th>成本</th>\n",
       "      <th>獲利</th>\n",
       "    </tr>\n",
       "  </thead>\n",
       "  <tbody>\n",
       "    <tr>\n",
       "      <th>0</th>\n",
       "      <td>2018</td>\n",
       "      <td>2018-01</td>\n",
       "      <td>6.321987e+06</td>\n",
       "      <td>3231230.730</td>\n",
       "      <td>3090755.955</td>\n",
       "    </tr>\n",
       "    <tr>\n",
       "      <th>1</th>\n",
       "      <td>2018</td>\n",
       "      <td>2018-02</td>\n",
       "      <td>6.662086e+06</td>\n",
       "      <td>3418726.185</td>\n",
       "      <td>3243359.315</td>\n",
       "    </tr>\n",
       "    <tr>\n",
       "      <th>2</th>\n",
       "      <td>2018</td>\n",
       "      <td>2018-03</td>\n",
       "      <td>6.150759e+06</td>\n",
       "      <td>3086844.145</td>\n",
       "      <td>3063914.490</td>\n",
       "    </tr>\n",
       "    <tr>\n",
       "      <th>3</th>\n",
       "      <td>2018</td>\n",
       "      <td>2018-04</td>\n",
       "      <td>7.607202e+06</td>\n",
       "      <td>3564494.570</td>\n",
       "      <td>4042707.585</td>\n",
       "    </tr>\n",
       "    <tr>\n",
       "      <th>4</th>\n",
       "      <td>2018</td>\n",
       "      <td>2018-05</td>\n",
       "      <td>6.696708e+06</td>\n",
       "      <td>3091469.885</td>\n",
       "      <td>3605237.930</td>\n",
       "    </tr>\n",
       "    <tr>\n",
       "      <th>5</th>\n",
       "      <td>2018</td>\n",
       "      <td>2018-06</td>\n",
       "      <td>5.369112e+06</td>\n",
       "      <td>2398071.130</td>\n",
       "      <td>2971041.080</td>\n",
       "    </tr>\n",
       "    <tr>\n",
       "      <th>6</th>\n",
       "      <td>2018</td>\n",
       "      <td>2018-07</td>\n",
       "      <td>7.785941e+06</td>\n",
       "      <td>3823540.945</td>\n",
       "      <td>3962400.330</td>\n",
       "    </tr>\n",
       "    <tr>\n",
       "      <th>7</th>\n",
       "      <td>2018</td>\n",
       "      <td>2018-08</td>\n",
       "      <td>6.690658e+06</td>\n",
       "      <td>3533407.360</td>\n",
       "      <td>3157250.145</td>\n",
       "    </tr>\n",
       "    <tr>\n",
       "      <th>8</th>\n",
       "      <td>2018</td>\n",
       "      <td>2018-09</td>\n",
       "      <td>5.672814e+06</td>\n",
       "      <td>2672049.170</td>\n",
       "      <td>3000764.585</td>\n",
       "    </tr>\n",
       "    <tr>\n",
       "      <th>9</th>\n",
       "      <td>2018</td>\n",
       "      <td>2018-10</td>\n",
       "      <td>7.836798e+06</td>\n",
       "      <td>3792919.270</td>\n",
       "      <td>4043878.825</td>\n",
       "    </tr>\n",
       "    <tr>\n",
       "      <th>10</th>\n",
       "      <td>2018</td>\n",
       "      <td>2018-11</td>\n",
       "      <td>9.478803e+06</td>\n",
       "      <td>4577240.465</td>\n",
       "      <td>4901562.085</td>\n",
       "    </tr>\n",
       "    <tr>\n",
       "      <th>11</th>\n",
       "      <td>2018</td>\n",
       "      <td>2018-12</td>\n",
       "      <td>9.509839e+06</td>\n",
       "      <td>4732896.945</td>\n",
       "      <td>4776941.820</td>\n",
       "    </tr>\n",
       "    <tr>\n",
       "      <th>12</th>\n",
       "      <td>2019</td>\n",
       "      <td>2019-01</td>\n",
       "      <td>7.380023e+06</td>\n",
       "      <td>3726328.025</td>\n",
       "      <td>3653694.695</td>\n",
       "    </tr>\n",
       "    <tr>\n",
       "      <th>13</th>\n",
       "      <td>2019</td>\n",
       "      <td>2019-02</td>\n",
       "      <td>5.516570e+06</td>\n",
       "      <td>2919350.245</td>\n",
       "      <td>2597219.765</td>\n",
       "    </tr>\n",
       "    <tr>\n",
       "      <th>14</th>\n",
       "      <td>2019</td>\n",
       "      <td>2019-03</td>\n",
       "      <td>5.270254e+06</td>\n",
       "      <td>2675651.720</td>\n",
       "      <td>2594602.570</td>\n",
       "    </tr>\n",
       "    <tr>\n",
       "      <th>15</th>\n",
       "      <td>2019</td>\n",
       "      <td>2019-04</td>\n",
       "      <td>7.603549e+06</td>\n",
       "      <td>3424904.805</td>\n",
       "      <td>4178643.805</td>\n",
       "    </tr>\n",
       "    <tr>\n",
       "      <th>16</th>\n",
       "      <td>2019</td>\n",
       "      <td>2019-05</td>\n",
       "      <td>6.222211e+06</td>\n",
       "      <td>2912020.125</td>\n",
       "      <td>3310190.730</td>\n",
       "    </tr>\n",
       "    <tr>\n",
       "      <th>17</th>\n",
       "      <td>2019</td>\n",
       "      <td>2019-06</td>\n",
       "      <td>5.883092e+06</td>\n",
       "      <td>2677987.620</td>\n",
       "      <td>3205104.840</td>\n",
       "    </tr>\n",
       "    <tr>\n",
       "      <th>18</th>\n",
       "      <td>2019</td>\n",
       "      <td>2019-07</td>\n",
       "      <td>6.222288e+06</td>\n",
       "      <td>2807266.525</td>\n",
       "      <td>3415021.645</td>\n",
       "    </tr>\n",
       "    <tr>\n",
       "      <th>19</th>\n",
       "      <td>2019</td>\n",
       "      <td>2019-08</td>\n",
       "      <td>4.927288e+06</td>\n",
       "      <td>2350744.480</td>\n",
       "      <td>2576543.760</td>\n",
       "    </tr>\n",
       "    <tr>\n",
       "      <th>20</th>\n",
       "      <td>2019</td>\n",
       "      <td>2019-09</td>\n",
       "      <td>1.056755e+07</td>\n",
       "      <td>4703472.830</td>\n",
       "      <td>5864077.905</td>\n",
       "    </tr>\n",
       "    <tr>\n",
       "      <th>21</th>\n",
       "      <td>2019</td>\n",
       "      <td>2019-10</td>\n",
       "      <td>2.729007e+06</td>\n",
       "      <td>1267781.760</td>\n",
       "      <td>1461225.535</td>\n",
       "    </tr>\n",
       "    <tr>\n",
       "      <th>22</th>\n",
       "      <td>2019</td>\n",
       "      <td>2019-11</td>\n",
       "      <td>1.047370e+06</td>\n",
       "      <td>530050.255</td>\n",
       "      <td>517319.600</td>\n",
       "    </tr>\n",
       "  </tbody>\n",
       "</table>\n",
       "</div>"
      ],
      "text/plain": [
       "    Year    Month            營收           成本           獲利\n",
       "0   2018  2018-01  6.321987e+06  3231230.730  3090755.955\n",
       "1   2018  2018-02  6.662086e+06  3418726.185  3243359.315\n",
       "2   2018  2018-03  6.150759e+06  3086844.145  3063914.490\n",
       "3   2018  2018-04  7.607202e+06  3564494.570  4042707.585\n",
       "4   2018  2018-05  6.696708e+06  3091469.885  3605237.930\n",
       "5   2018  2018-06  5.369112e+06  2398071.130  2971041.080\n",
       "6   2018  2018-07  7.785941e+06  3823540.945  3962400.330\n",
       "7   2018  2018-08  6.690658e+06  3533407.360  3157250.145\n",
       "8   2018  2018-09  5.672814e+06  2672049.170  3000764.585\n",
       "9   2018  2018-10  7.836798e+06  3792919.270  4043878.825\n",
       "10  2018  2018-11  9.478803e+06  4577240.465  4901562.085\n",
       "11  2018  2018-12  9.509839e+06  4732896.945  4776941.820\n",
       "12  2019  2019-01  7.380023e+06  3726328.025  3653694.695\n",
       "13  2019  2019-02  5.516570e+06  2919350.245  2597219.765\n",
       "14  2019  2019-03  5.270254e+06  2675651.720  2594602.570\n",
       "15  2019  2019-04  7.603549e+06  3424904.805  4178643.805\n",
       "16  2019  2019-05  6.222211e+06  2912020.125  3310190.730\n",
       "17  2019  2019-06  5.883092e+06  2677987.620  3205104.840\n",
       "18  2019  2019-07  6.222288e+06  2807266.525  3415021.645\n",
       "19  2019  2019-08  4.927288e+06  2350744.480  2576543.760\n",
       "20  2019  2019-09  1.056755e+07  4703472.830  5864077.905\n",
       "21  2019  2019-10  2.729007e+06  1267781.760  1461225.535\n",
       "22  2019  2019-11  1.047370e+06   530050.255   517319.600"
      ]
     },
     "execution_count": 53,
     "metadata": {},
     "output_type": "execute_result"
    }
   ],
   "source": [
    "month_profit_18_19"
   ]
  },
  {
   "cell_type": "code",
   "execution_count": 54,
   "metadata": {},
   "outputs": [],
   "source": [
    "month_profit_18_19.drop([10,11], inplace=True)"
   ]
  },
  {
   "cell_type": "code",
   "execution_count": 55,
   "metadata": {},
   "outputs": [
    {
     "data": {
      "text/html": [
       "<div>\n",
       "<style scoped>\n",
       "    .dataframe tbody tr th:only-of-type {\n",
       "        vertical-align: middle;\n",
       "    }\n",
       "\n",
       "    .dataframe tbody tr th {\n",
       "        vertical-align: top;\n",
       "    }\n",
       "\n",
       "    .dataframe thead th {\n",
       "        text-align: right;\n",
       "    }\n",
       "</style>\n",
       "<table border=\"1\" class=\"dataframe\">\n",
       "  <thead>\n",
       "    <tr style=\"text-align: right;\">\n",
       "      <th></th>\n",
       "      <th>Year</th>\n",
       "      <th>獲利</th>\n",
       "    </tr>\n",
       "  </thead>\n",
       "  <tbody>\n",
       "    <tr>\n",
       "      <th>0</th>\n",
       "      <td>2018</td>\n",
       "      <td>34181310.24</td>\n",
       "    </tr>\n",
       "    <tr>\n",
       "      <th>1</th>\n",
       "      <td>2019</td>\n",
       "      <td>33373644.85</td>\n",
       "    </tr>\n",
       "  </tbody>\n",
       "</table>\n",
       "</div>"
      ],
      "text/plain": [
       "   Year           獲利\n",
       "0  2018  34181310.24\n",
       "1  2019  33373644.85"
      ]
     },
     "execution_count": 55,
     "metadata": {},
     "output_type": "execute_result"
    }
   ],
   "source": [
    "# 利潤成長率(YoY)\n",
    "growth18_19 = month_profit_18_19.groupby('Year', as_index=False)['獲利'].sum()\n",
    "growth18_19"
   ]
  },
  {
   "cell_type": "code",
   "execution_count": 56,
   "id": "32dab44d",
   "metadata": {},
   "outputs": [
    {
     "data": {
      "text/html": [
       "<div>\n",
       "<style scoped>\n",
       "    .dataframe tbody tr th:only-of-type {\n",
       "        vertical-align: middle;\n",
       "    }\n",
       "\n",
       "    .dataframe tbody tr th {\n",
       "        vertical-align: top;\n",
       "    }\n",
       "\n",
       "    .dataframe thead th {\n",
       "        text-align: right;\n",
       "    }\n",
       "</style>\n",
       "<table border=\"1\" class=\"dataframe\">\n",
       "  <thead>\n",
       "    <tr style=\"text-align: right;\">\n",
       "      <th></th>\n",
       "      <th>Year</th>\n",
       "      <th>獲利</th>\n",
       "      <th>total_growth</th>\n",
       "    </tr>\n",
       "  </thead>\n",
       "  <tbody>\n",
       "    <tr>\n",
       "      <th>0</th>\n",
       "      <td>2018</td>\n",
       "      <td>34181310.24</td>\n",
       "      <td>NaN</td>\n",
       "    </tr>\n",
       "    <tr>\n",
       "      <th>1</th>\n",
       "      <td>2019</td>\n",
       "      <td>33373644.85</td>\n",
       "      <td>-2.4</td>\n",
       "    </tr>\n",
       "  </tbody>\n",
       "</table>\n",
       "</div>"
      ],
      "text/plain": [
       "   Year           獲利  total_growth\n",
       "0  2018  34181310.24           NaN\n",
       "1  2019  33373644.85          -2.4"
      ]
     },
     "execution_count": 56,
     "metadata": {},
     "output_type": "execute_result"
    }
   ],
   "source": [
    "\n",
    "# 上下行計算 .shift(-1)\n",
    "growth18_19['total_growth'] = round(((growth18_19['獲利'] - growth18_19['獲利'].shift(1))/growth18_19.iloc[0,1])*100, 1)\n",
    "growth18_19"
   ]
  },
  {
   "cell_type": "code",
   "execution_count": 57,
   "metadata": {},
   "outputs": [
    {
     "data": {
      "text/plain": [
       "-2.4"
      ]
     },
     "execution_count": 57,
     "metadata": {},
     "output_type": "execute_result"
    }
   ],
   "source": [
    "growth18_19.iloc[1,2]"
   ]
  },
  {
   "cell_type": "code",
   "execution_count": 58,
   "metadata": {},
   "outputs": [
    {
     "name": "stdout",
     "output_type": "stream",
     "text": [
      "2019年利潤成長率(YoY):-2.4%\n"
     ]
    }
   ],
   "source": [
    "print('2019年利潤成長率(YoY):' + str(growth18_19.iloc[1,2]) + '%')"
   ]
  },
  {
   "cell_type": "markdown",
   "metadata": {},
   "source": [
    "# 季獲利比較YoY"
   ]
  },
  {
   "cell_type": "code",
   "execution_count": 59,
   "metadata": {},
   "outputs": [
    {
     "data": {
      "text/html": [
       "<div>\n",
       "<style scoped>\n",
       "    .dataframe tbody tr th:only-of-type {\n",
       "        vertical-align: middle;\n",
       "    }\n",
       "\n",
       "    .dataframe tbody tr th {\n",
       "        vertical-align: top;\n",
       "    }\n",
       "\n",
       "    .dataframe thead th {\n",
       "        text-align: right;\n",
       "    }\n",
       "</style>\n",
       "<table border=\"1\" class=\"dataframe\">\n",
       "  <thead>\n",
       "    <tr style=\"text-align: right;\">\n",
       "      <th></th>\n",
       "      <th>Unnamed: 0</th>\n",
       "      <th>Year</th>\n",
       "      <th>Month</th>\n",
       "      <th>營收</th>\n",
       "      <th>成本</th>\n",
       "      <th>獲利</th>\n",
       "    </tr>\n",
       "  </thead>\n",
       "  <tbody>\n",
       "    <tr>\n",
       "      <th>0</th>\n",
       "      <td>0</td>\n",
       "      <td>2018</td>\n",
       "      <td>2018-01</td>\n",
       "      <td>6.321987e+06</td>\n",
       "      <td>3231230.730</td>\n",
       "      <td>3090755.955</td>\n",
       "    </tr>\n",
       "    <tr>\n",
       "      <th>1</th>\n",
       "      <td>1</td>\n",
       "      <td>2018</td>\n",
       "      <td>2018-02</td>\n",
       "      <td>6.662086e+06</td>\n",
       "      <td>3418726.185</td>\n",
       "      <td>3243359.315</td>\n",
       "    </tr>\n",
       "    <tr>\n",
       "      <th>2</th>\n",
       "      <td>2</td>\n",
       "      <td>2018</td>\n",
       "      <td>2018-03</td>\n",
       "      <td>6.150759e+06</td>\n",
       "      <td>3086844.145</td>\n",
       "      <td>3063914.490</td>\n",
       "    </tr>\n",
       "    <tr>\n",
       "      <th>3</th>\n",
       "      <td>3</td>\n",
       "      <td>2018</td>\n",
       "      <td>2018-04</td>\n",
       "      <td>7.607202e+06</td>\n",
       "      <td>3564494.570</td>\n",
       "      <td>4042707.585</td>\n",
       "    </tr>\n",
       "    <tr>\n",
       "      <th>4</th>\n",
       "      <td>4</td>\n",
       "      <td>2018</td>\n",
       "      <td>2018-05</td>\n",
       "      <td>6.696708e+06</td>\n",
       "      <td>3091469.885</td>\n",
       "      <td>3605237.930</td>\n",
       "    </tr>\n",
       "    <tr>\n",
       "      <th>5</th>\n",
       "      <td>5</td>\n",
       "      <td>2018</td>\n",
       "      <td>2018-06</td>\n",
       "      <td>5.369112e+06</td>\n",
       "      <td>2398071.130</td>\n",
       "      <td>2971041.080</td>\n",
       "    </tr>\n",
       "    <tr>\n",
       "      <th>6</th>\n",
       "      <td>6</td>\n",
       "      <td>2018</td>\n",
       "      <td>2018-07</td>\n",
       "      <td>7.785941e+06</td>\n",
       "      <td>3823540.945</td>\n",
       "      <td>3962400.330</td>\n",
       "    </tr>\n",
       "    <tr>\n",
       "      <th>7</th>\n",
       "      <td>7</td>\n",
       "      <td>2018</td>\n",
       "      <td>2018-08</td>\n",
       "      <td>6.690658e+06</td>\n",
       "      <td>3533407.360</td>\n",
       "      <td>3157250.145</td>\n",
       "    </tr>\n",
       "    <tr>\n",
       "      <th>8</th>\n",
       "      <td>8</td>\n",
       "      <td>2018</td>\n",
       "      <td>2018-09</td>\n",
       "      <td>5.672814e+06</td>\n",
       "      <td>2672049.170</td>\n",
       "      <td>3000764.585</td>\n",
       "    </tr>\n",
       "    <tr>\n",
       "      <th>9</th>\n",
       "      <td>9</td>\n",
       "      <td>2018</td>\n",
       "      <td>2018-10</td>\n",
       "      <td>7.836798e+06</td>\n",
       "      <td>3792919.270</td>\n",
       "      <td>4043878.825</td>\n",
       "    </tr>\n",
       "    <tr>\n",
       "      <th>10</th>\n",
       "      <td>10</td>\n",
       "      <td>2018</td>\n",
       "      <td>2018-11</td>\n",
       "      <td>9.478803e+06</td>\n",
       "      <td>4577240.465</td>\n",
       "      <td>4901562.085</td>\n",
       "    </tr>\n",
       "    <tr>\n",
       "      <th>11</th>\n",
       "      <td>11</td>\n",
       "      <td>2018</td>\n",
       "      <td>2018-12</td>\n",
       "      <td>9.509839e+06</td>\n",
       "      <td>4732896.945</td>\n",
       "      <td>4776941.820</td>\n",
       "    </tr>\n",
       "    <tr>\n",
       "      <th>12</th>\n",
       "      <td>12</td>\n",
       "      <td>2019</td>\n",
       "      <td>2019-01</td>\n",
       "      <td>7.380023e+06</td>\n",
       "      <td>3726328.025</td>\n",
       "      <td>3653694.695</td>\n",
       "    </tr>\n",
       "    <tr>\n",
       "      <th>13</th>\n",
       "      <td>13</td>\n",
       "      <td>2019</td>\n",
       "      <td>2019-02</td>\n",
       "      <td>5.516570e+06</td>\n",
       "      <td>2919350.245</td>\n",
       "      <td>2597219.765</td>\n",
       "    </tr>\n",
       "    <tr>\n",
       "      <th>14</th>\n",
       "      <td>14</td>\n",
       "      <td>2019</td>\n",
       "      <td>2019-03</td>\n",
       "      <td>5.270254e+06</td>\n",
       "      <td>2675651.720</td>\n",
       "      <td>2594602.570</td>\n",
       "    </tr>\n",
       "    <tr>\n",
       "      <th>15</th>\n",
       "      <td>15</td>\n",
       "      <td>2019</td>\n",
       "      <td>2019-04</td>\n",
       "      <td>7.603549e+06</td>\n",
       "      <td>3424904.805</td>\n",
       "      <td>4178643.805</td>\n",
       "    </tr>\n",
       "    <tr>\n",
       "      <th>16</th>\n",
       "      <td>16</td>\n",
       "      <td>2019</td>\n",
       "      <td>2019-05</td>\n",
       "      <td>6.222211e+06</td>\n",
       "      <td>2912020.125</td>\n",
       "      <td>3310190.730</td>\n",
       "    </tr>\n",
       "    <tr>\n",
       "      <th>17</th>\n",
       "      <td>17</td>\n",
       "      <td>2019</td>\n",
       "      <td>2019-06</td>\n",
       "      <td>5.883092e+06</td>\n",
       "      <td>2677987.620</td>\n",
       "      <td>3205104.840</td>\n",
       "    </tr>\n",
       "    <tr>\n",
       "      <th>18</th>\n",
       "      <td>18</td>\n",
       "      <td>2019</td>\n",
       "      <td>2019-07</td>\n",
       "      <td>6.222288e+06</td>\n",
       "      <td>2807266.525</td>\n",
       "      <td>3415021.645</td>\n",
       "    </tr>\n",
       "    <tr>\n",
       "      <th>19</th>\n",
       "      <td>19</td>\n",
       "      <td>2019</td>\n",
       "      <td>2019-08</td>\n",
       "      <td>4.927288e+06</td>\n",
       "      <td>2350744.480</td>\n",
       "      <td>2576543.760</td>\n",
       "    </tr>\n",
       "    <tr>\n",
       "      <th>20</th>\n",
       "      <td>20</td>\n",
       "      <td>2019</td>\n",
       "      <td>2019-09</td>\n",
       "      <td>1.056755e+07</td>\n",
       "      <td>4703472.830</td>\n",
       "      <td>5864077.905</td>\n",
       "    </tr>\n",
       "    <tr>\n",
       "      <th>21</th>\n",
       "      <td>21</td>\n",
       "      <td>2019</td>\n",
       "      <td>2019-10</td>\n",
       "      <td>2.729007e+06</td>\n",
       "      <td>1267781.760</td>\n",
       "      <td>1461225.535</td>\n",
       "    </tr>\n",
       "    <tr>\n",
       "      <th>22</th>\n",
       "      <td>22</td>\n",
       "      <td>2019</td>\n",
       "      <td>2019-11</td>\n",
       "      <td>1.047370e+06</td>\n",
       "      <td>530050.255</td>\n",
       "      <td>517319.600</td>\n",
       "    </tr>\n",
       "  </tbody>\n",
       "</table>\n",
       "</div>"
      ],
      "text/plain": [
       "    Unnamed: 0  Year    Month            營收           成本           獲利\n",
       "0            0  2018  2018-01  6.321987e+06  3231230.730  3090755.955\n",
       "1            1  2018  2018-02  6.662086e+06  3418726.185  3243359.315\n",
       "2            2  2018  2018-03  6.150759e+06  3086844.145  3063914.490\n",
       "3            3  2018  2018-04  7.607202e+06  3564494.570  4042707.585\n",
       "4            4  2018  2018-05  6.696708e+06  3091469.885  3605237.930\n",
       "5            5  2018  2018-06  5.369112e+06  2398071.130  2971041.080\n",
       "6            6  2018  2018-07  7.785941e+06  3823540.945  3962400.330\n",
       "7            7  2018  2018-08  6.690658e+06  3533407.360  3157250.145\n",
       "8            8  2018  2018-09  5.672814e+06  2672049.170  3000764.585\n",
       "9            9  2018  2018-10  7.836798e+06  3792919.270  4043878.825\n",
       "10          10  2018  2018-11  9.478803e+06  4577240.465  4901562.085\n",
       "11          11  2018  2018-12  9.509839e+06  4732896.945  4776941.820\n",
       "12          12  2019  2019-01  7.380023e+06  3726328.025  3653694.695\n",
       "13          13  2019  2019-02  5.516570e+06  2919350.245  2597219.765\n",
       "14          14  2019  2019-03  5.270254e+06  2675651.720  2594602.570\n",
       "15          15  2019  2019-04  7.603549e+06  3424904.805  4178643.805\n",
       "16          16  2019  2019-05  6.222211e+06  2912020.125  3310190.730\n",
       "17          17  2019  2019-06  5.883092e+06  2677987.620  3205104.840\n",
       "18          18  2019  2019-07  6.222288e+06  2807266.525  3415021.645\n",
       "19          19  2019  2019-08  4.927288e+06  2350744.480  2576543.760\n",
       "20          20  2019  2019-09  1.056755e+07  4703472.830  5864077.905\n",
       "21          21  2019  2019-10  2.729007e+06  1267781.760  1461225.535\n",
       "22          22  2019  2019-11  1.047370e+06   530050.255   517319.600"
      ]
     },
     "execution_count": 59,
     "metadata": {},
     "output_type": "execute_result"
    }
   ],
   "source": [
    "month_profit_18_19 = pd.read_csv('month_profit_18_19.csv')\n",
    "month_profit_18_19"
   ]
  },
  {
   "cell_type": "code",
   "execution_count": 60,
   "metadata": {},
   "outputs": [],
   "source": [
    "month_profit_18_19['date'] = pd.to_datetime(month_profit_18_19['Month'])"
   ]
  },
  {
   "cell_type": "code",
   "execution_count": 61,
   "metadata": {},
   "outputs": [
    {
     "data": {
      "text/html": [
       "<div>\n",
       "<style scoped>\n",
       "    .dataframe tbody tr th:only-of-type {\n",
       "        vertical-align: middle;\n",
       "    }\n",
       "\n",
       "    .dataframe tbody tr th {\n",
       "        vertical-align: top;\n",
       "    }\n",
       "\n",
       "    .dataframe thead th {\n",
       "        text-align: right;\n",
       "    }\n",
       "</style>\n",
       "<table border=\"1\" class=\"dataframe\">\n",
       "  <thead>\n",
       "    <tr style=\"text-align: right;\">\n",
       "      <th></th>\n",
       "      <th>Unnamed: 0</th>\n",
       "      <th>Year</th>\n",
       "      <th>Month</th>\n",
       "      <th>營收</th>\n",
       "      <th>成本</th>\n",
       "      <th>獲利</th>\n",
       "      <th>date</th>\n",
       "    </tr>\n",
       "  </thead>\n",
       "  <tbody>\n",
       "    <tr>\n",
       "      <th>0</th>\n",
       "      <td>0</td>\n",
       "      <td>2018</td>\n",
       "      <td>2018-01</td>\n",
       "      <td>6.321987e+06</td>\n",
       "      <td>3231230.730</td>\n",
       "      <td>3090755.955</td>\n",
       "      <td>2018-01-01</td>\n",
       "    </tr>\n",
       "    <tr>\n",
       "      <th>1</th>\n",
       "      <td>1</td>\n",
       "      <td>2018</td>\n",
       "      <td>2018-02</td>\n",
       "      <td>6.662086e+06</td>\n",
       "      <td>3418726.185</td>\n",
       "      <td>3243359.315</td>\n",
       "      <td>2018-02-01</td>\n",
       "    </tr>\n",
       "    <tr>\n",
       "      <th>2</th>\n",
       "      <td>2</td>\n",
       "      <td>2018</td>\n",
       "      <td>2018-03</td>\n",
       "      <td>6.150759e+06</td>\n",
       "      <td>3086844.145</td>\n",
       "      <td>3063914.490</td>\n",
       "      <td>2018-03-01</td>\n",
       "    </tr>\n",
       "    <tr>\n",
       "      <th>3</th>\n",
       "      <td>3</td>\n",
       "      <td>2018</td>\n",
       "      <td>2018-04</td>\n",
       "      <td>7.607202e+06</td>\n",
       "      <td>3564494.570</td>\n",
       "      <td>4042707.585</td>\n",
       "      <td>2018-04-01</td>\n",
       "    </tr>\n",
       "    <tr>\n",
       "      <th>4</th>\n",
       "      <td>4</td>\n",
       "      <td>2018</td>\n",
       "      <td>2018-05</td>\n",
       "      <td>6.696708e+06</td>\n",
       "      <td>3091469.885</td>\n",
       "      <td>3605237.930</td>\n",
       "      <td>2018-05-01</td>\n",
       "    </tr>\n",
       "    <tr>\n",
       "      <th>5</th>\n",
       "      <td>5</td>\n",
       "      <td>2018</td>\n",
       "      <td>2018-06</td>\n",
       "      <td>5.369112e+06</td>\n",
       "      <td>2398071.130</td>\n",
       "      <td>2971041.080</td>\n",
       "      <td>2018-06-01</td>\n",
       "    </tr>\n",
       "    <tr>\n",
       "      <th>6</th>\n",
       "      <td>6</td>\n",
       "      <td>2018</td>\n",
       "      <td>2018-07</td>\n",
       "      <td>7.785941e+06</td>\n",
       "      <td>3823540.945</td>\n",
       "      <td>3962400.330</td>\n",
       "      <td>2018-07-01</td>\n",
       "    </tr>\n",
       "    <tr>\n",
       "      <th>7</th>\n",
       "      <td>7</td>\n",
       "      <td>2018</td>\n",
       "      <td>2018-08</td>\n",
       "      <td>6.690658e+06</td>\n",
       "      <td>3533407.360</td>\n",
       "      <td>3157250.145</td>\n",
       "      <td>2018-08-01</td>\n",
       "    </tr>\n",
       "    <tr>\n",
       "      <th>8</th>\n",
       "      <td>8</td>\n",
       "      <td>2018</td>\n",
       "      <td>2018-09</td>\n",
       "      <td>5.672814e+06</td>\n",
       "      <td>2672049.170</td>\n",
       "      <td>3000764.585</td>\n",
       "      <td>2018-09-01</td>\n",
       "    </tr>\n",
       "    <tr>\n",
       "      <th>9</th>\n",
       "      <td>9</td>\n",
       "      <td>2018</td>\n",
       "      <td>2018-10</td>\n",
       "      <td>7.836798e+06</td>\n",
       "      <td>3792919.270</td>\n",
       "      <td>4043878.825</td>\n",
       "      <td>2018-10-01</td>\n",
       "    </tr>\n",
       "    <tr>\n",
       "      <th>10</th>\n",
       "      <td>10</td>\n",
       "      <td>2018</td>\n",
       "      <td>2018-11</td>\n",
       "      <td>9.478803e+06</td>\n",
       "      <td>4577240.465</td>\n",
       "      <td>4901562.085</td>\n",
       "      <td>2018-11-01</td>\n",
       "    </tr>\n",
       "    <tr>\n",
       "      <th>11</th>\n",
       "      <td>11</td>\n",
       "      <td>2018</td>\n",
       "      <td>2018-12</td>\n",
       "      <td>9.509839e+06</td>\n",
       "      <td>4732896.945</td>\n",
       "      <td>4776941.820</td>\n",
       "      <td>2018-12-01</td>\n",
       "    </tr>\n",
       "    <tr>\n",
       "      <th>12</th>\n",
       "      <td>12</td>\n",
       "      <td>2019</td>\n",
       "      <td>2019-01</td>\n",
       "      <td>7.380023e+06</td>\n",
       "      <td>3726328.025</td>\n",
       "      <td>3653694.695</td>\n",
       "      <td>2019-01-01</td>\n",
       "    </tr>\n",
       "    <tr>\n",
       "      <th>13</th>\n",
       "      <td>13</td>\n",
       "      <td>2019</td>\n",
       "      <td>2019-02</td>\n",
       "      <td>5.516570e+06</td>\n",
       "      <td>2919350.245</td>\n",
       "      <td>2597219.765</td>\n",
       "      <td>2019-02-01</td>\n",
       "    </tr>\n",
       "    <tr>\n",
       "      <th>14</th>\n",
       "      <td>14</td>\n",
       "      <td>2019</td>\n",
       "      <td>2019-03</td>\n",
       "      <td>5.270254e+06</td>\n",
       "      <td>2675651.720</td>\n",
       "      <td>2594602.570</td>\n",
       "      <td>2019-03-01</td>\n",
       "    </tr>\n",
       "    <tr>\n",
       "      <th>15</th>\n",
       "      <td>15</td>\n",
       "      <td>2019</td>\n",
       "      <td>2019-04</td>\n",
       "      <td>7.603549e+06</td>\n",
       "      <td>3424904.805</td>\n",
       "      <td>4178643.805</td>\n",
       "      <td>2019-04-01</td>\n",
       "    </tr>\n",
       "    <tr>\n",
       "      <th>16</th>\n",
       "      <td>16</td>\n",
       "      <td>2019</td>\n",
       "      <td>2019-05</td>\n",
       "      <td>6.222211e+06</td>\n",
       "      <td>2912020.125</td>\n",
       "      <td>3310190.730</td>\n",
       "      <td>2019-05-01</td>\n",
       "    </tr>\n",
       "    <tr>\n",
       "      <th>17</th>\n",
       "      <td>17</td>\n",
       "      <td>2019</td>\n",
       "      <td>2019-06</td>\n",
       "      <td>5.883092e+06</td>\n",
       "      <td>2677987.620</td>\n",
       "      <td>3205104.840</td>\n",
       "      <td>2019-06-01</td>\n",
       "    </tr>\n",
       "    <tr>\n",
       "      <th>18</th>\n",
       "      <td>18</td>\n",
       "      <td>2019</td>\n",
       "      <td>2019-07</td>\n",
       "      <td>6.222288e+06</td>\n",
       "      <td>2807266.525</td>\n",
       "      <td>3415021.645</td>\n",
       "      <td>2019-07-01</td>\n",
       "    </tr>\n",
       "    <tr>\n",
       "      <th>19</th>\n",
       "      <td>19</td>\n",
       "      <td>2019</td>\n",
       "      <td>2019-08</td>\n",
       "      <td>4.927288e+06</td>\n",
       "      <td>2350744.480</td>\n",
       "      <td>2576543.760</td>\n",
       "      <td>2019-08-01</td>\n",
       "    </tr>\n",
       "    <tr>\n",
       "      <th>20</th>\n",
       "      <td>20</td>\n",
       "      <td>2019</td>\n",
       "      <td>2019-09</td>\n",
       "      <td>1.056755e+07</td>\n",
       "      <td>4703472.830</td>\n",
       "      <td>5864077.905</td>\n",
       "      <td>2019-09-01</td>\n",
       "    </tr>\n",
       "    <tr>\n",
       "      <th>21</th>\n",
       "      <td>21</td>\n",
       "      <td>2019</td>\n",
       "      <td>2019-10</td>\n",
       "      <td>2.729007e+06</td>\n",
       "      <td>1267781.760</td>\n",
       "      <td>1461225.535</td>\n",
       "      <td>2019-10-01</td>\n",
       "    </tr>\n",
       "    <tr>\n",
       "      <th>22</th>\n",
       "      <td>22</td>\n",
       "      <td>2019</td>\n",
       "      <td>2019-11</td>\n",
       "      <td>1.047370e+06</td>\n",
       "      <td>530050.255</td>\n",
       "      <td>517319.600</td>\n",
       "      <td>2019-11-01</td>\n",
       "    </tr>\n",
       "  </tbody>\n",
       "</table>\n",
       "</div>"
      ],
      "text/plain": [
       "    Unnamed: 0  Year    Month            營收           成本           獲利  \\\n",
       "0            0  2018  2018-01  6.321987e+06  3231230.730  3090755.955   \n",
       "1            1  2018  2018-02  6.662086e+06  3418726.185  3243359.315   \n",
       "2            2  2018  2018-03  6.150759e+06  3086844.145  3063914.490   \n",
       "3            3  2018  2018-04  7.607202e+06  3564494.570  4042707.585   \n",
       "4            4  2018  2018-05  6.696708e+06  3091469.885  3605237.930   \n",
       "5            5  2018  2018-06  5.369112e+06  2398071.130  2971041.080   \n",
       "6            6  2018  2018-07  7.785941e+06  3823540.945  3962400.330   \n",
       "7            7  2018  2018-08  6.690658e+06  3533407.360  3157250.145   \n",
       "8            8  2018  2018-09  5.672814e+06  2672049.170  3000764.585   \n",
       "9            9  2018  2018-10  7.836798e+06  3792919.270  4043878.825   \n",
       "10          10  2018  2018-11  9.478803e+06  4577240.465  4901562.085   \n",
       "11          11  2018  2018-12  9.509839e+06  4732896.945  4776941.820   \n",
       "12          12  2019  2019-01  7.380023e+06  3726328.025  3653694.695   \n",
       "13          13  2019  2019-02  5.516570e+06  2919350.245  2597219.765   \n",
       "14          14  2019  2019-03  5.270254e+06  2675651.720  2594602.570   \n",
       "15          15  2019  2019-04  7.603549e+06  3424904.805  4178643.805   \n",
       "16          16  2019  2019-05  6.222211e+06  2912020.125  3310190.730   \n",
       "17          17  2019  2019-06  5.883092e+06  2677987.620  3205104.840   \n",
       "18          18  2019  2019-07  6.222288e+06  2807266.525  3415021.645   \n",
       "19          19  2019  2019-08  4.927288e+06  2350744.480  2576543.760   \n",
       "20          20  2019  2019-09  1.056755e+07  4703472.830  5864077.905   \n",
       "21          21  2019  2019-10  2.729007e+06  1267781.760  1461225.535   \n",
       "22          22  2019  2019-11  1.047370e+06   530050.255   517319.600   \n",
       "\n",
       "         date  \n",
       "0  2018-01-01  \n",
       "1  2018-02-01  \n",
       "2  2018-03-01  \n",
       "3  2018-04-01  \n",
       "4  2018-05-01  \n",
       "5  2018-06-01  \n",
       "6  2018-07-01  \n",
       "7  2018-08-01  \n",
       "8  2018-09-01  \n",
       "9  2018-10-01  \n",
       "10 2018-11-01  \n",
       "11 2018-12-01  \n",
       "12 2019-01-01  \n",
       "13 2019-02-01  \n",
       "14 2019-03-01  \n",
       "15 2019-04-01  \n",
       "16 2019-05-01  \n",
       "17 2019-06-01  \n",
       "18 2019-07-01  \n",
       "19 2019-08-01  \n",
       "20 2019-09-01  \n",
       "21 2019-10-01  \n",
       "22 2019-11-01  "
      ]
     },
     "execution_count": 61,
     "metadata": {},
     "output_type": "execute_result"
    }
   ],
   "source": [
    "month_profit_18_19"
   ]
  },
  {
   "cell_type": "code",
   "execution_count": 62,
   "metadata": {},
   "outputs": [
    {
     "data": {
      "text/html": [
       "<div>\n",
       "<style scoped>\n",
       "    .dataframe tbody tr th:only-of-type {\n",
       "        vertical-align: middle;\n",
       "    }\n",
       "\n",
       "    .dataframe tbody tr th {\n",
       "        vertical-align: top;\n",
       "    }\n",
       "\n",
       "    .dataframe thead th {\n",
       "        text-align: right;\n",
       "    }\n",
       "</style>\n",
       "<table border=\"1\" class=\"dataframe\">\n",
       "  <thead>\n",
       "    <tr style=\"text-align: right;\">\n",
       "      <th></th>\n",
       "      <th>Unnamed: 0</th>\n",
       "      <th>Year</th>\n",
       "      <th>Month</th>\n",
       "      <th>營收</th>\n",
       "      <th>成本</th>\n",
       "      <th>獲利</th>\n",
       "      <th>date</th>\n",
       "      <th>quarter</th>\n",
       "    </tr>\n",
       "  </thead>\n",
       "  <tbody>\n",
       "    <tr>\n",
       "      <th>0</th>\n",
       "      <td>0</td>\n",
       "      <td>2018</td>\n",
       "      <td>2018-01</td>\n",
       "      <td>6.321987e+06</td>\n",
       "      <td>3231230.730</td>\n",
       "      <td>3090755.955</td>\n",
       "      <td>2018-01-01</td>\n",
       "      <td>q1</td>\n",
       "    </tr>\n",
       "    <tr>\n",
       "      <th>1</th>\n",
       "      <td>1</td>\n",
       "      <td>2018</td>\n",
       "      <td>2018-02</td>\n",
       "      <td>6.662086e+06</td>\n",
       "      <td>3418726.185</td>\n",
       "      <td>3243359.315</td>\n",
       "      <td>2018-02-01</td>\n",
       "      <td>q1</td>\n",
       "    </tr>\n",
       "    <tr>\n",
       "      <th>2</th>\n",
       "      <td>2</td>\n",
       "      <td>2018</td>\n",
       "      <td>2018-03</td>\n",
       "      <td>6.150759e+06</td>\n",
       "      <td>3086844.145</td>\n",
       "      <td>3063914.490</td>\n",
       "      <td>2018-03-01</td>\n",
       "      <td>q1</td>\n",
       "    </tr>\n",
       "    <tr>\n",
       "      <th>3</th>\n",
       "      <td>3</td>\n",
       "      <td>2018</td>\n",
       "      <td>2018-04</td>\n",
       "      <td>7.607202e+06</td>\n",
       "      <td>3564494.570</td>\n",
       "      <td>4042707.585</td>\n",
       "      <td>2018-04-01</td>\n",
       "      <td>q2</td>\n",
       "    </tr>\n",
       "    <tr>\n",
       "      <th>4</th>\n",
       "      <td>4</td>\n",
       "      <td>2018</td>\n",
       "      <td>2018-05</td>\n",
       "      <td>6.696708e+06</td>\n",
       "      <td>3091469.885</td>\n",
       "      <td>3605237.930</td>\n",
       "      <td>2018-05-01</td>\n",
       "      <td>q2</td>\n",
       "    </tr>\n",
       "    <tr>\n",
       "      <th>5</th>\n",
       "      <td>5</td>\n",
       "      <td>2018</td>\n",
       "      <td>2018-06</td>\n",
       "      <td>5.369112e+06</td>\n",
       "      <td>2398071.130</td>\n",
       "      <td>2971041.080</td>\n",
       "      <td>2018-06-01</td>\n",
       "      <td>q2</td>\n",
       "    </tr>\n",
       "    <tr>\n",
       "      <th>6</th>\n",
       "      <td>6</td>\n",
       "      <td>2018</td>\n",
       "      <td>2018-07</td>\n",
       "      <td>7.785941e+06</td>\n",
       "      <td>3823540.945</td>\n",
       "      <td>3962400.330</td>\n",
       "      <td>2018-07-01</td>\n",
       "      <td>q3</td>\n",
       "    </tr>\n",
       "    <tr>\n",
       "      <th>7</th>\n",
       "      <td>7</td>\n",
       "      <td>2018</td>\n",
       "      <td>2018-08</td>\n",
       "      <td>6.690658e+06</td>\n",
       "      <td>3533407.360</td>\n",
       "      <td>3157250.145</td>\n",
       "      <td>2018-08-01</td>\n",
       "      <td>q3</td>\n",
       "    </tr>\n",
       "    <tr>\n",
       "      <th>8</th>\n",
       "      <td>8</td>\n",
       "      <td>2018</td>\n",
       "      <td>2018-09</td>\n",
       "      <td>5.672814e+06</td>\n",
       "      <td>2672049.170</td>\n",
       "      <td>3000764.585</td>\n",
       "      <td>2018-09-01</td>\n",
       "      <td>q3</td>\n",
       "    </tr>\n",
       "    <tr>\n",
       "      <th>9</th>\n",
       "      <td>9</td>\n",
       "      <td>2018</td>\n",
       "      <td>2018-10</td>\n",
       "      <td>7.836798e+06</td>\n",
       "      <td>3792919.270</td>\n",
       "      <td>4043878.825</td>\n",
       "      <td>2018-10-01</td>\n",
       "      <td>q4</td>\n",
       "    </tr>\n",
       "    <tr>\n",
       "      <th>10</th>\n",
       "      <td>10</td>\n",
       "      <td>2018</td>\n",
       "      <td>2018-11</td>\n",
       "      <td>9.478803e+06</td>\n",
       "      <td>4577240.465</td>\n",
       "      <td>4901562.085</td>\n",
       "      <td>2018-11-01</td>\n",
       "      <td>q4</td>\n",
       "    </tr>\n",
       "    <tr>\n",
       "      <th>11</th>\n",
       "      <td>11</td>\n",
       "      <td>2018</td>\n",
       "      <td>2018-12</td>\n",
       "      <td>9.509839e+06</td>\n",
       "      <td>4732896.945</td>\n",
       "      <td>4776941.820</td>\n",
       "      <td>2018-12-01</td>\n",
       "      <td>q4</td>\n",
       "    </tr>\n",
       "    <tr>\n",
       "      <th>12</th>\n",
       "      <td>12</td>\n",
       "      <td>2019</td>\n",
       "      <td>2019-01</td>\n",
       "      <td>7.380023e+06</td>\n",
       "      <td>3726328.025</td>\n",
       "      <td>3653694.695</td>\n",
       "      <td>2019-01-01</td>\n",
       "      <td>q1</td>\n",
       "    </tr>\n",
       "    <tr>\n",
       "      <th>13</th>\n",
       "      <td>13</td>\n",
       "      <td>2019</td>\n",
       "      <td>2019-02</td>\n",
       "      <td>5.516570e+06</td>\n",
       "      <td>2919350.245</td>\n",
       "      <td>2597219.765</td>\n",
       "      <td>2019-02-01</td>\n",
       "      <td>q1</td>\n",
       "    </tr>\n",
       "    <tr>\n",
       "      <th>14</th>\n",
       "      <td>14</td>\n",
       "      <td>2019</td>\n",
       "      <td>2019-03</td>\n",
       "      <td>5.270254e+06</td>\n",
       "      <td>2675651.720</td>\n",
       "      <td>2594602.570</td>\n",
       "      <td>2019-03-01</td>\n",
       "      <td>q1</td>\n",
       "    </tr>\n",
       "    <tr>\n",
       "      <th>15</th>\n",
       "      <td>15</td>\n",
       "      <td>2019</td>\n",
       "      <td>2019-04</td>\n",
       "      <td>7.603549e+06</td>\n",
       "      <td>3424904.805</td>\n",
       "      <td>4178643.805</td>\n",
       "      <td>2019-04-01</td>\n",
       "      <td>q2</td>\n",
       "    </tr>\n",
       "    <tr>\n",
       "      <th>16</th>\n",
       "      <td>16</td>\n",
       "      <td>2019</td>\n",
       "      <td>2019-05</td>\n",
       "      <td>6.222211e+06</td>\n",
       "      <td>2912020.125</td>\n",
       "      <td>3310190.730</td>\n",
       "      <td>2019-05-01</td>\n",
       "      <td>q2</td>\n",
       "    </tr>\n",
       "    <tr>\n",
       "      <th>17</th>\n",
       "      <td>17</td>\n",
       "      <td>2019</td>\n",
       "      <td>2019-06</td>\n",
       "      <td>5.883092e+06</td>\n",
       "      <td>2677987.620</td>\n",
       "      <td>3205104.840</td>\n",
       "      <td>2019-06-01</td>\n",
       "      <td>q2</td>\n",
       "    </tr>\n",
       "    <tr>\n",
       "      <th>18</th>\n",
       "      <td>18</td>\n",
       "      <td>2019</td>\n",
       "      <td>2019-07</td>\n",
       "      <td>6.222288e+06</td>\n",
       "      <td>2807266.525</td>\n",
       "      <td>3415021.645</td>\n",
       "      <td>2019-07-01</td>\n",
       "      <td>q3</td>\n",
       "    </tr>\n",
       "    <tr>\n",
       "      <th>19</th>\n",
       "      <td>19</td>\n",
       "      <td>2019</td>\n",
       "      <td>2019-08</td>\n",
       "      <td>4.927288e+06</td>\n",
       "      <td>2350744.480</td>\n",
       "      <td>2576543.760</td>\n",
       "      <td>2019-08-01</td>\n",
       "      <td>q3</td>\n",
       "    </tr>\n",
       "    <tr>\n",
       "      <th>20</th>\n",
       "      <td>20</td>\n",
       "      <td>2019</td>\n",
       "      <td>2019-09</td>\n",
       "      <td>1.056755e+07</td>\n",
       "      <td>4703472.830</td>\n",
       "      <td>5864077.905</td>\n",
       "      <td>2019-09-01</td>\n",
       "      <td>q3</td>\n",
       "    </tr>\n",
       "    <tr>\n",
       "      <th>21</th>\n",
       "      <td>21</td>\n",
       "      <td>2019</td>\n",
       "      <td>2019-10</td>\n",
       "      <td>2.729007e+06</td>\n",
       "      <td>1267781.760</td>\n",
       "      <td>1461225.535</td>\n",
       "      <td>2019-10-01</td>\n",
       "      <td>q4</td>\n",
       "    </tr>\n",
       "    <tr>\n",
       "      <th>22</th>\n",
       "      <td>22</td>\n",
       "      <td>2019</td>\n",
       "      <td>2019-11</td>\n",
       "      <td>1.047370e+06</td>\n",
       "      <td>530050.255</td>\n",
       "      <td>517319.600</td>\n",
       "      <td>2019-11-01</td>\n",
       "      <td>q4</td>\n",
       "    </tr>\n",
       "  </tbody>\n",
       "</table>\n",
       "</div>"
      ],
      "text/plain": [
       "    Unnamed: 0  Year    Month            營收           成本           獲利  \\\n",
       "0            0  2018  2018-01  6.321987e+06  3231230.730  3090755.955   \n",
       "1            1  2018  2018-02  6.662086e+06  3418726.185  3243359.315   \n",
       "2            2  2018  2018-03  6.150759e+06  3086844.145  3063914.490   \n",
       "3            3  2018  2018-04  7.607202e+06  3564494.570  4042707.585   \n",
       "4            4  2018  2018-05  6.696708e+06  3091469.885  3605237.930   \n",
       "5            5  2018  2018-06  5.369112e+06  2398071.130  2971041.080   \n",
       "6            6  2018  2018-07  7.785941e+06  3823540.945  3962400.330   \n",
       "7            7  2018  2018-08  6.690658e+06  3533407.360  3157250.145   \n",
       "8            8  2018  2018-09  5.672814e+06  2672049.170  3000764.585   \n",
       "9            9  2018  2018-10  7.836798e+06  3792919.270  4043878.825   \n",
       "10          10  2018  2018-11  9.478803e+06  4577240.465  4901562.085   \n",
       "11          11  2018  2018-12  9.509839e+06  4732896.945  4776941.820   \n",
       "12          12  2019  2019-01  7.380023e+06  3726328.025  3653694.695   \n",
       "13          13  2019  2019-02  5.516570e+06  2919350.245  2597219.765   \n",
       "14          14  2019  2019-03  5.270254e+06  2675651.720  2594602.570   \n",
       "15          15  2019  2019-04  7.603549e+06  3424904.805  4178643.805   \n",
       "16          16  2019  2019-05  6.222211e+06  2912020.125  3310190.730   \n",
       "17          17  2019  2019-06  5.883092e+06  2677987.620  3205104.840   \n",
       "18          18  2019  2019-07  6.222288e+06  2807266.525  3415021.645   \n",
       "19          19  2019  2019-08  4.927288e+06  2350744.480  2576543.760   \n",
       "20          20  2019  2019-09  1.056755e+07  4703472.830  5864077.905   \n",
       "21          21  2019  2019-10  2.729007e+06  1267781.760  1461225.535   \n",
       "22          22  2019  2019-11  1.047370e+06   530050.255   517319.600   \n",
       "\n",
       "         date quarter  \n",
       "0  2018-01-01      q1  \n",
       "1  2018-02-01      q1  \n",
       "2  2018-03-01      q1  \n",
       "3  2018-04-01      q2  \n",
       "4  2018-05-01      q2  \n",
       "5  2018-06-01      q2  \n",
       "6  2018-07-01      q3  \n",
       "7  2018-08-01      q3  \n",
       "8  2018-09-01      q3  \n",
       "9  2018-10-01      q4  \n",
       "10 2018-11-01      q4  \n",
       "11 2018-12-01      q4  \n",
       "12 2019-01-01      q1  \n",
       "13 2019-02-01      q1  \n",
       "14 2019-03-01      q1  \n",
       "15 2019-04-01      q2  \n",
       "16 2019-05-01      q2  \n",
       "17 2019-06-01      q2  \n",
       "18 2019-07-01      q3  \n",
       "19 2019-08-01      q3  \n",
       "20 2019-09-01      q3  \n",
       "21 2019-10-01      q4  \n",
       "22 2019-11-01      q4  "
      ]
     },
     "execution_count": 62,
     "metadata": {},
     "output_type": "execute_result"
    }
   ],
   "source": [
    "# 新增一欄'quarter'\n",
    "month_profit_18_19['quarter'] = month_profit_18_19['date'].dt.to_period('Q')\n",
    "month_profit_18_19['quarter']  = month_profit_18_19['quarter'].dt.strftime('q%q')\n",
    "month_profit_18_19"
   ]
  },
  {
   "cell_type": "code",
   "execution_count": 63,
   "metadata": {},
   "outputs": [],
   "source": [
    "month_profit_18_19.drop([22], inplace=True)"
   ]
  },
  {
   "cell_type": "code",
   "execution_count": 64,
   "metadata": {},
   "outputs": [
    {
     "name": "stderr",
     "output_type": "stream",
     "text": [
      "C:\\Users\\chanm\\AppData\\Local\\Temp\\ipykernel_23084\\1442696851.py:2: FutureWarning:\n",
      "\n",
      "Indexing with multiple keys (implicitly converted to a tuple of keys) will be deprecated, use a list instead.\n",
      "\n"
     ]
    },
    {
     "data": {
      "text/html": [
       "<div>\n",
       "<style scoped>\n",
       "    .dataframe tbody tr th:only-of-type {\n",
       "        vertical-align: middle;\n",
       "    }\n",
       "\n",
       "    .dataframe tbody tr th {\n",
       "        vertical-align: top;\n",
       "    }\n",
       "\n",
       "    .dataframe thead th {\n",
       "        text-align: right;\n",
       "    }\n",
       "</style>\n",
       "<table border=\"1\" class=\"dataframe\">\n",
       "  <thead>\n",
       "    <tr style=\"text-align: right;\">\n",
       "      <th></th>\n",
       "      <th>Year</th>\n",
       "      <th>quarter</th>\n",
       "      <th>營收</th>\n",
       "      <th>成本</th>\n",
       "      <th>獲利</th>\n",
       "    </tr>\n",
       "  </thead>\n",
       "  <tbody>\n",
       "    <tr>\n",
       "      <th>0</th>\n",
       "      <td>2018</td>\n",
       "      <td>q1</td>\n",
       "      <td>1.913483e+07</td>\n",
       "      <td>9.736801e+06</td>\n",
       "      <td>9.398030e+06</td>\n",
       "    </tr>\n",
       "    <tr>\n",
       "      <th>1</th>\n",
       "      <td>2018</td>\n",
       "      <td>q2</td>\n",
       "      <td>1.967302e+07</td>\n",
       "      <td>9.054036e+06</td>\n",
       "      <td>1.061899e+07</td>\n",
       "    </tr>\n",
       "    <tr>\n",
       "      <th>2</th>\n",
       "      <td>2018</td>\n",
       "      <td>q3</td>\n",
       "      <td>2.014941e+07</td>\n",
       "      <td>1.002900e+07</td>\n",
       "      <td>1.012042e+07</td>\n",
       "    </tr>\n",
       "    <tr>\n",
       "      <th>3</th>\n",
       "      <td>2018</td>\n",
       "      <td>q4</td>\n",
       "      <td>2.682544e+07</td>\n",
       "      <td>1.310306e+07</td>\n",
       "      <td>1.372238e+07</td>\n",
       "    </tr>\n",
       "    <tr>\n",
       "      <th>4</th>\n",
       "      <td>2019</td>\n",
       "      <td>q1</td>\n",
       "      <td>1.816685e+07</td>\n",
       "      <td>9.321330e+06</td>\n",
       "      <td>8.845517e+06</td>\n",
       "    </tr>\n",
       "    <tr>\n",
       "      <th>5</th>\n",
       "      <td>2019</td>\n",
       "      <td>q2</td>\n",
       "      <td>1.970885e+07</td>\n",
       "      <td>9.014913e+06</td>\n",
       "      <td>1.069394e+07</td>\n",
       "    </tr>\n",
       "    <tr>\n",
       "      <th>6</th>\n",
       "      <td>2019</td>\n",
       "      <td>q3</td>\n",
       "      <td>2.171713e+07</td>\n",
       "      <td>9.861484e+06</td>\n",
       "      <td>1.185564e+07</td>\n",
       "    </tr>\n",
       "    <tr>\n",
       "      <th>7</th>\n",
       "      <td>2019</td>\n",
       "      <td>q4</td>\n",
       "      <td>2.729007e+06</td>\n",
       "      <td>1.267782e+06</td>\n",
       "      <td>1.461226e+06</td>\n",
       "    </tr>\n",
       "  </tbody>\n",
       "</table>\n",
       "</div>"
      ],
      "text/plain": [
       "   Year quarter            營收            成本            獲利\n",
       "0  2018      q1  1.913483e+07  9.736801e+06  9.398030e+06\n",
       "1  2018      q2  1.967302e+07  9.054036e+06  1.061899e+07\n",
       "2  2018      q3  2.014941e+07  1.002900e+07  1.012042e+07\n",
       "3  2018      q4  2.682544e+07  1.310306e+07  1.372238e+07\n",
       "4  2019      q1  1.816685e+07  9.321330e+06  8.845517e+06\n",
       "5  2019      q2  1.970885e+07  9.014913e+06  1.069394e+07\n",
       "6  2019      q3  2.171713e+07  9.861484e+06  1.185564e+07\n",
       "7  2019      q4  2.729007e+06  1.267782e+06  1.461226e+06"
      ]
     },
     "execution_count": 64,
     "metadata": {},
     "output_type": "execute_result"
    }
   ],
   "source": [
    "# 季營收變化YoY\n",
    "q_18_19_compar = month_profit_18_19.groupby(['Year', 'quarter'], as_index=False)['營收', '成本', '獲利'].sum()\n",
    "q_18_19_compar"
   ]
  },
  {
   "cell_type": "code",
   "execution_count": 65,
   "metadata": {},
   "outputs": [],
   "source": [
    "q_18_19_compar[['營收',\t'成本', '獲利']] = q_18_19_compar[['營收',\t'成本', '獲利']].astype(int)"
   ]
  },
  {
   "cell_type": "code",
   "execution_count": 66,
   "metadata": {},
   "outputs": [
    {
     "name": "stderr",
     "output_type": "stream",
     "text": [
      "C:\\Users\\chanm\\AppData\\Local\\Temp\\ipykernel_23084\\828896169.py:2: SettingWithCopyWarning:\n",
      "\n",
      "\n",
      "A value is trying to be set on a copy of a slice from a DataFrame\n",
      "\n",
      "See the caveats in the documentation: https://pandas.pydata.org/pandas-docs/stable/user_guide/indexing.html#returning-a-view-versus-a-copy\n",
      "\n",
      "C:\\Users\\chanm\\AppData\\Local\\Temp\\ipykernel_23084\\828896169.py:3: SettingWithCopyWarning:\n",
      "\n",
      "\n",
      "A value is trying to be set on a copy of a slice from a DataFrame\n",
      "\n",
      "See the caveats in the documentation: https://pandas.pydata.org/pandas-docs/stable/user_guide/indexing.html#returning-a-view-versus-a-copy\n",
      "\n"
     ]
    }
   ],
   "source": [
    "q_18_19_compar['同年累積利潤'] = np.nan\n",
    "q_18_19_compar['同年累積利潤'].iloc[0:4] = q_18_19_compar['獲利'].iloc[0:4].cumsum()\n",
    "q_18_19_compar['同年累積利潤'].iloc[4:8] = q_18_19_compar['獲利'].iloc[4:8].cumsum()"
   ]
  },
  {
   "cell_type": "code",
   "execution_count": 67,
   "metadata": {},
   "outputs": [
    {
     "name": "stdout",
     "output_type": "stream",
     "text": [
      "2019年獲利相較2018年還少:11003488\n"
     ]
    }
   ],
   "source": [
    "print('2019年獲利相較2018年還少:' + str(q_18_19_compar['獲利'].iloc[0:4].sum() - q_18_19_compar['獲利'].iloc[4:8].sum()))\n",
    "#2019年獲利相較2018年還少:11003488.899999995"
   ]
  },
  {
   "cell_type": "markdown",
   "metadata": {},
   "source": [
    "# 相較同季獲利成長"
   ]
  },
  {
   "cell_type": "code",
   "execution_count": 68,
   "metadata": {},
   "outputs": [
    {
     "data": {
      "text/html": [
       "<div>\n",
       "<style scoped>\n",
       "    .dataframe tbody tr th:only-of-type {\n",
       "        vertical-align: middle;\n",
       "    }\n",
       "\n",
       "    .dataframe tbody tr th {\n",
       "        vertical-align: top;\n",
       "    }\n",
       "\n",
       "    .dataframe thead th {\n",
       "        text-align: right;\n",
       "    }\n",
       "</style>\n",
       "<table border=\"1\" class=\"dataframe\">\n",
       "  <thead>\n",
       "    <tr style=\"text-align: right;\">\n",
       "      <th></th>\n",
       "      <th>Year</th>\n",
       "      <th>quarter</th>\n",
       "      <th>營收</th>\n",
       "      <th>成本</th>\n",
       "      <th>獲利</th>\n",
       "      <th>同年累積利潤</th>\n",
       "    </tr>\n",
       "  </thead>\n",
       "  <tbody>\n",
       "    <tr>\n",
       "      <th>0</th>\n",
       "      <td>2018</td>\n",
       "      <td>q1</td>\n",
       "      <td>19134830</td>\n",
       "      <td>9736801</td>\n",
       "      <td>9398029</td>\n",
       "      <td>9398029.0</td>\n",
       "    </tr>\n",
       "    <tr>\n",
       "      <th>1</th>\n",
       "      <td>2018</td>\n",
       "      <td>q2</td>\n",
       "      <td>19673022</td>\n",
       "      <td>9054035</td>\n",
       "      <td>10618986</td>\n",
       "      <td>20017015.0</td>\n",
       "    </tr>\n",
       "    <tr>\n",
       "      <th>2</th>\n",
       "      <td>2018</td>\n",
       "      <td>q3</td>\n",
       "      <td>20149412</td>\n",
       "      <td>10028997</td>\n",
       "      <td>10120415</td>\n",
       "      <td>30137430.0</td>\n",
       "    </tr>\n",
       "    <tr>\n",
       "      <th>3</th>\n",
       "      <td>2018</td>\n",
       "      <td>q4</td>\n",
       "      <td>26825439</td>\n",
       "      <td>13103056</td>\n",
       "      <td>13722382</td>\n",
       "      <td>43859812.0</td>\n",
       "    </tr>\n",
       "    <tr>\n",
       "      <th>4</th>\n",
       "      <td>2019</td>\n",
       "      <td>q1</td>\n",
       "      <td>18166847</td>\n",
       "      <td>9321329</td>\n",
       "      <td>8845517</td>\n",
       "      <td>8845517.0</td>\n",
       "    </tr>\n",
       "    <tr>\n",
       "      <th>5</th>\n",
       "      <td>2019</td>\n",
       "      <td>q2</td>\n",
       "      <td>19708851</td>\n",
       "      <td>9014912</td>\n",
       "      <td>10693939</td>\n",
       "      <td>19539456.0</td>\n",
       "    </tr>\n",
       "    <tr>\n",
       "      <th>6</th>\n",
       "      <td>2019</td>\n",
       "      <td>q3</td>\n",
       "      <td>21717127</td>\n",
       "      <td>9861483</td>\n",
       "      <td>11855643</td>\n",
       "      <td>31395099.0</td>\n",
       "    </tr>\n",
       "    <tr>\n",
       "      <th>7</th>\n",
       "      <td>2019</td>\n",
       "      <td>q4</td>\n",
       "      <td>2729007</td>\n",
       "      <td>1267781</td>\n",
       "      <td>1461225</td>\n",
       "      <td>32856324.0</td>\n",
       "    </tr>\n",
       "  </tbody>\n",
       "</table>\n",
       "</div>"
      ],
      "text/plain": [
       "   Year quarter        營收        成本        獲利      同年累積利潤\n",
       "0  2018      q1  19134830   9736801   9398029   9398029.0\n",
       "1  2018      q2  19673022   9054035  10618986  20017015.0\n",
       "2  2018      q3  20149412  10028997  10120415  30137430.0\n",
       "3  2018      q4  26825439  13103056  13722382  43859812.0\n",
       "4  2019      q1  18166847   9321329   8845517   8845517.0\n",
       "5  2019      q2  19708851   9014912  10693939  19539456.0\n",
       "6  2019      q3  21717127   9861483  11855643  31395099.0\n",
       "7  2019      q4   2729007   1267781   1461225  32856324.0"
      ]
     },
     "execution_count": 68,
     "metadata": {},
     "output_type": "execute_result"
    }
   ],
   "source": [
    "q_18_19_compar"
   ]
  },
  {
   "cell_type": "code",
   "execution_count": 69,
   "metadata": {},
   "outputs": [
    {
     "name": "stderr",
     "output_type": "stream",
     "text": [
      "C:\\Users\\chanm\\AppData\\Local\\Temp\\ipykernel_23084\\4043305336.py:5: SettingWithCopyWarning:\n",
      "\n",
      "\n",
      "A value is trying to be set on a copy of a slice from a DataFrame.\n",
      "Try using .loc[row_indexer,col_indexer] = value instead\n",
      "\n",
      "See the caveats in the documentation: https://pandas.pydata.org/pandas-docs/stable/user_guide/indexing.html#returning-a-view-versus-a-copy\n",
      "\n",
      "C:\\Users\\chanm\\AppData\\Local\\Temp\\ipykernel_23084\\4043305336.py:5: SettingWithCopyWarning:\n",
      "\n",
      "\n",
      "A value is trying to be set on a copy of a slice from a DataFrame.\n",
      "Try using .loc[row_indexer,col_indexer] = value instead\n",
      "\n",
      "See the caveats in the documentation: https://pandas.pydata.org/pandas-docs/stable/user_guide/indexing.html#returning-a-view-versus-a-copy\n",
      "\n",
      "C:\\Users\\chanm\\AppData\\Local\\Temp\\ipykernel_23084\\4043305336.py:5: SettingWithCopyWarning:\n",
      "\n",
      "\n",
      "A value is trying to be set on a copy of a slice from a DataFrame.\n",
      "Try using .loc[row_indexer,col_indexer] = value instead\n",
      "\n",
      "See the caveats in the documentation: https://pandas.pydata.org/pandas-docs/stable/user_guide/indexing.html#returning-a-view-versus-a-copy\n",
      "\n",
      "C:\\Users\\chanm\\AppData\\Local\\Temp\\ipykernel_23084\\4043305336.py:5: SettingWithCopyWarning:\n",
      "\n",
      "\n",
      "A value is trying to be set on a copy of a slice from a DataFrame.\n",
      "Try using .loc[row_indexer,col_indexer] = value instead\n",
      "\n",
      "See the caveats in the documentation: https://pandas.pydata.org/pandas-docs/stable/user_guide/indexing.html#returning-a-view-versus-a-copy\n",
      "\n",
      "C:\\Users\\chanm\\AppData\\Local\\Temp\\ipykernel_23084\\4043305336.py:5: SettingWithCopyWarning:\n",
      "\n",
      "\n",
      "A value is trying to be set on a copy of a slice from a DataFrame.\n",
      "Try using .loc[row_indexer,col_indexer] = value instead\n",
      "\n",
      "See the caveats in the documentation: https://pandas.pydata.org/pandas-docs/stable/user_guide/indexing.html#returning-a-view-versus-a-copy\n",
      "\n",
      "C:\\Users\\chanm\\AppData\\Local\\Temp\\ipykernel_23084\\4043305336.py:5: SettingWithCopyWarning:\n",
      "\n",
      "\n",
      "A value is trying to be set on a copy of a slice from a DataFrame.\n",
      "Try using .loc[row_indexer,col_indexer] = value instead\n",
      "\n",
      "See the caveats in the documentation: https://pandas.pydata.org/pandas-docs/stable/user_guide/indexing.html#returning-a-view-versus-a-copy\n",
      "\n",
      "C:\\Users\\chanm\\AppData\\Local\\Temp\\ipykernel_23084\\4043305336.py:5: SettingWithCopyWarning:\n",
      "\n",
      "\n",
      "A value is trying to be set on a copy of a slice from a DataFrame.\n",
      "Try using .loc[row_indexer,col_indexer] = value instead\n",
      "\n",
      "See the caveats in the documentation: https://pandas.pydata.org/pandas-docs/stable/user_guide/indexing.html#returning-a-view-versus-a-copy\n",
      "\n",
      "C:\\Users\\chanm\\AppData\\Local\\Temp\\ipykernel_23084\\4043305336.py:5: SettingWithCopyWarning:\n",
      "\n",
      "\n",
      "A value is trying to be set on a copy of a slice from a DataFrame.\n",
      "Try using .loc[row_indexer,col_indexer] = value instead\n",
      "\n",
      "See the caveats in the documentation: https://pandas.pydata.org/pandas-docs/stable/user_guide/indexing.html#returning-a-view-versus-a-copy\n",
      "\n"
     ]
    }
   ],
   "source": [
    "q_18_19_growth = []\n",
    "for quarter in q_18_19_compar['quarter'].astype(str):\n",
    "    #rank = 1 \n",
    "    tmp_compar = q_18_19_compar[q_18_19_compar['quarter'] == quarter ]\n",
    "    tmp_compar['growth'] = round((( tmp_compar ['獲利'] - tmp_compar ['獲利'].shift(1) )/tmp_compar ['獲利'].shift(1))*100, 1)\n",
    "    tmp_compar = str(tmp_compar.iloc[1,5])\n",
    "    q_18_19_growth.append(tmp_compar)\n",
    "    "
   ]
  },
  {
   "cell_type": "code",
   "execution_count": 70,
   "metadata": {},
   "outputs": [
    {
     "data": {
      "text/plain": [
       "['8845517.0',\n",
       " '19539456.0',\n",
       " '31395099.0',\n",
       " '32856324.0',\n",
       " '8845517.0',\n",
       " '19539456.0',\n",
       " '31395099.0',\n",
       " '32856324.0']"
      ]
     },
     "execution_count": 70,
     "metadata": {},
     "output_type": "execute_result"
    }
   ],
   "source": [
    "q_18_19_growth"
   ]
  },
  {
   "cell_type": "code",
   "execution_count": 71,
   "metadata": {},
   "outputs": [
    {
     "data": {
      "text/html": [
       "<div>\n",
       "<style scoped>\n",
       "    .dataframe tbody tr th:only-of-type {\n",
       "        vertical-align: middle;\n",
       "    }\n",
       "\n",
       "    .dataframe tbody tr th {\n",
       "        vertical-align: top;\n",
       "    }\n",
       "\n",
       "    .dataframe thead th {\n",
       "        text-align: right;\n",
       "    }\n",
       "</style>\n",
       "<table border=\"1\" class=\"dataframe\">\n",
       "  <thead>\n",
       "    <tr style=\"text-align: right;\">\n",
       "      <th></th>\n",
       "      <th>0</th>\n",
       "    </tr>\n",
       "  </thead>\n",
       "  <tbody>\n",
       "    <tr>\n",
       "      <th>0</th>\n",
       "      <td>8845517.0</td>\n",
       "    </tr>\n",
       "    <tr>\n",
       "      <th>1</th>\n",
       "      <td>19539456.0</td>\n",
       "    </tr>\n",
       "    <tr>\n",
       "      <th>2</th>\n",
       "      <td>31395099.0</td>\n",
       "    </tr>\n",
       "    <tr>\n",
       "      <th>3</th>\n",
       "      <td>32856324.0</td>\n",
       "    </tr>\n",
       "  </tbody>\n",
       "</table>\n",
       "</div>"
      ],
      "text/plain": [
       "            0\n",
       "0   8845517.0\n",
       "1  19539456.0\n",
       "2  31395099.0\n",
       "3  32856324.0"
      ]
     },
     "execution_count": 71,
     "metadata": {},
     "output_type": "execute_result"
    }
   ],
   "source": [
    "q_18_19_growth = q_18_19_growth[0:4]\n",
    "q_18_19_growth = pd.DataFrame(q_18_19_growth)\n",
    "q_18_19_growth\n"
   ]
  },
  {
   "cell_type": "code",
   "execution_count": 72,
   "metadata": {},
   "outputs": [],
   "source": [
    "q_18_19_growth['季'] = range(1, 5)\n",
    "q_18_19_growth = q_18_19_growth.rename(columns={0:'成長率'})\n",
    "q_18_19_growth = q_18_19_growth[['季', '成長率']]"
   ]
  },
  {
   "cell_type": "code",
   "execution_count": 73,
   "metadata": {},
   "outputs": [
    {
     "data": {
      "text/html": [
       "<div>\n",
       "<style scoped>\n",
       "    .dataframe tbody tr th:only-of-type {\n",
       "        vertical-align: middle;\n",
       "    }\n",
       "\n",
       "    .dataframe tbody tr th {\n",
       "        vertical-align: top;\n",
       "    }\n",
       "\n",
       "    .dataframe thead th {\n",
       "        text-align: right;\n",
       "    }\n",
       "</style>\n",
       "<table border=\"1\" class=\"dataframe\">\n",
       "  <thead>\n",
       "    <tr style=\"text-align: right;\">\n",
       "      <th></th>\n",
       "      <th>季</th>\n",
       "      <th>成長率</th>\n",
       "    </tr>\n",
       "  </thead>\n",
       "  <tbody>\n",
       "    <tr>\n",
       "      <th>0</th>\n",
       "      <td>1</td>\n",
       "      <td>8845517.0</td>\n",
       "    </tr>\n",
       "    <tr>\n",
       "      <th>1</th>\n",
       "      <td>2</td>\n",
       "      <td>19539456.0</td>\n",
       "    </tr>\n",
       "    <tr>\n",
       "      <th>2</th>\n",
       "      <td>3</td>\n",
       "      <td>31395099.0</td>\n",
       "    </tr>\n",
       "    <tr>\n",
       "      <th>3</th>\n",
       "      <td>4</td>\n",
       "      <td>32856324.0</td>\n",
       "    </tr>\n",
       "  </tbody>\n",
       "</table>\n",
       "</div>"
      ],
      "text/plain": [
       "   季         成長率\n",
       "0  1   8845517.0\n",
       "1  2  19539456.0\n",
       "2  3  31395099.0\n",
       "3  4  32856324.0"
      ]
     },
     "execution_count": 73,
     "metadata": {},
     "output_type": "execute_result"
    }
   ],
   "source": [
    "q_18_19_growth"
   ]
  },
  {
   "cell_type": "markdown",
   "metadata": {},
   "source": [
    "\n",
    "# 利潤季度與利潤累積折線圖"
   ]
  },
  {
   "cell_type": "code",
   "execution_count": 74,
   "metadata": {},
   "outputs": [
    {
     "data": {
      "text/html": [
       "<div>\n",
       "<style scoped>\n",
       "    .dataframe tbody tr th:only-of-type {\n",
       "        vertical-align: middle;\n",
       "    }\n",
       "\n",
       "    .dataframe tbody tr th {\n",
       "        vertical-align: top;\n",
       "    }\n",
       "\n",
       "    .dataframe thead th {\n",
       "        text-align: right;\n",
       "    }\n",
       "</style>\n",
       "<table border=\"1\" class=\"dataframe\">\n",
       "  <thead>\n",
       "    <tr style=\"text-align: right;\">\n",
       "      <th></th>\n",
       "      <th>Year</th>\n",
       "      <th>quarter</th>\n",
       "      <th>營收</th>\n",
       "      <th>成本</th>\n",
       "      <th>獲利</th>\n",
       "      <th>同年累積利潤</th>\n",
       "    </tr>\n",
       "  </thead>\n",
       "  <tbody>\n",
       "    <tr>\n",
       "      <th>0</th>\n",
       "      <td>2018</td>\n",
       "      <td>q1</td>\n",
       "      <td>19134830</td>\n",
       "      <td>9736801</td>\n",
       "      <td>9398029</td>\n",
       "      <td>9398029.0</td>\n",
       "    </tr>\n",
       "    <tr>\n",
       "      <th>1</th>\n",
       "      <td>2018</td>\n",
       "      <td>q2</td>\n",
       "      <td>19673022</td>\n",
       "      <td>9054035</td>\n",
       "      <td>10618986</td>\n",
       "      <td>20017015.0</td>\n",
       "    </tr>\n",
       "    <tr>\n",
       "      <th>2</th>\n",
       "      <td>2018</td>\n",
       "      <td>q3</td>\n",
       "      <td>20149412</td>\n",
       "      <td>10028997</td>\n",
       "      <td>10120415</td>\n",
       "      <td>30137430.0</td>\n",
       "    </tr>\n",
       "    <tr>\n",
       "      <th>3</th>\n",
       "      <td>2018</td>\n",
       "      <td>q4</td>\n",
       "      <td>26825439</td>\n",
       "      <td>13103056</td>\n",
       "      <td>13722382</td>\n",
       "      <td>43859812.0</td>\n",
       "    </tr>\n",
       "    <tr>\n",
       "      <th>4</th>\n",
       "      <td>2019</td>\n",
       "      <td>q1</td>\n",
       "      <td>18166847</td>\n",
       "      <td>9321329</td>\n",
       "      <td>8845517</td>\n",
       "      <td>8845517.0</td>\n",
       "    </tr>\n",
       "    <tr>\n",
       "      <th>5</th>\n",
       "      <td>2019</td>\n",
       "      <td>q2</td>\n",
       "      <td>19708851</td>\n",
       "      <td>9014912</td>\n",
       "      <td>10693939</td>\n",
       "      <td>19539456.0</td>\n",
       "    </tr>\n",
       "    <tr>\n",
       "      <th>6</th>\n",
       "      <td>2019</td>\n",
       "      <td>q3</td>\n",
       "      <td>21717127</td>\n",
       "      <td>9861483</td>\n",
       "      <td>11855643</td>\n",
       "      <td>31395099.0</td>\n",
       "    </tr>\n",
       "    <tr>\n",
       "      <th>7</th>\n",
       "      <td>2019</td>\n",
       "      <td>q4</td>\n",
       "      <td>2729007</td>\n",
       "      <td>1267781</td>\n",
       "      <td>1461225</td>\n",
       "      <td>32856324.0</td>\n",
       "    </tr>\n",
       "  </tbody>\n",
       "</table>\n",
       "</div>"
      ],
      "text/plain": [
       "   Year quarter        營收        成本        獲利      同年累積利潤\n",
       "0  2018      q1  19134830   9736801   9398029   9398029.0\n",
       "1  2018      q2  19673022   9054035  10618986  20017015.0\n",
       "2  2018      q3  20149412  10028997  10120415  30137430.0\n",
       "3  2018      q4  26825439  13103056  13722382  43859812.0\n",
       "4  2019      q1  18166847   9321329   8845517   8845517.0\n",
       "5  2019      q2  19708851   9014912  10693939  19539456.0\n",
       "6  2019      q3  21717127   9861483  11855643  31395099.0\n",
       "7  2019      q4   2729007   1267781   1461225  32856324.0"
      ]
     },
     "execution_count": 74,
     "metadata": {},
     "output_type": "execute_result"
    }
   ],
   "source": [
    "q_18_19_compar"
   ]
  },
  {
   "cell_type": "code",
   "execution_count": 75,
   "metadata": {},
   "outputs": [
    {
     "data": {
      "application/vnd.plotly.v1+json": {
       "config": {
        "plotlyServerURL": "https://plot.ly"
       },
       "data": [
        {
         "alignmentgroup": "True",
         "bingroup": "x",
         "histfunc": "sum",
         "hovertemplate": "Year=2018<br>quarter=%{x}<br>sum of 獲利=%{y}<extra></extra>",
         "legendgroup": "2018",
         "marker": {
          "color": "#636efa",
          "pattern": {
           "shape": ""
          }
         },
         "name": "2018",
         "offsetgroup": "2018",
         "orientation": "v",
         "showlegend": true,
         "type": "histogram",
         "x": [
          "q1",
          "q2",
          "q3",
          "q4"
         ],
         "xaxis": "x",
         "y": [
          9398029,
          10618986,
          10120415,
          13722382
         ],
         "yaxis": "y"
        },
        {
         "alignmentgroup": "True",
         "bingroup": "x",
         "histfunc": "sum",
         "hovertemplate": "Year=2019<br>quarter=%{x}<br>sum of 獲利=%{y}<extra></extra>",
         "legendgroup": "2019",
         "marker": {
          "color": "#EF553B",
          "pattern": {
           "shape": ""
          }
         },
         "name": "2019",
         "offsetgroup": "2019",
         "orientation": "v",
         "showlegend": true,
         "type": "histogram",
         "x": [
          "q1",
          "q2",
          "q3",
          "q4"
         ],
         "xaxis": "x",
         "y": [
          8845517,
          10693939,
          11855643,
          1461225
         ],
         "yaxis": "y"
        }
       ],
       "layout": {
        "barmode": "group",
        "legend": {
         "title": {
          "text": "Year"
         },
         "tracegroupgap": 0
        },
        "margin": {
         "t": 60
        },
        "template": {
         "data": {
          "bar": [
           {
            "error_x": {
             "color": "#2a3f5f"
            },
            "error_y": {
             "color": "#2a3f5f"
            },
            "marker": {
             "line": {
              "color": "#E5ECF6",
              "width": 0.5
             },
             "pattern": {
              "fillmode": "overlay",
              "size": 10,
              "solidity": 0.2
             }
            },
            "type": "bar"
           }
          ],
          "barpolar": [
           {
            "marker": {
             "line": {
              "color": "#E5ECF6",
              "width": 0.5
             },
             "pattern": {
              "fillmode": "overlay",
              "size": 10,
              "solidity": 0.2
             }
            },
            "type": "barpolar"
           }
          ],
          "carpet": [
           {
            "aaxis": {
             "endlinecolor": "#2a3f5f",
             "gridcolor": "white",
             "linecolor": "white",
             "minorgridcolor": "white",
             "startlinecolor": "#2a3f5f"
            },
            "baxis": {
             "endlinecolor": "#2a3f5f",
             "gridcolor": "white",
             "linecolor": "white",
             "minorgridcolor": "white",
             "startlinecolor": "#2a3f5f"
            },
            "type": "carpet"
           }
          ],
          "choropleth": [
           {
            "colorbar": {
             "outlinewidth": 0,
             "ticks": ""
            },
            "type": "choropleth"
           }
          ],
          "contour": [
           {
            "colorbar": {
             "outlinewidth": 0,
             "ticks": ""
            },
            "colorscale": [
             [
              0,
              "#0d0887"
             ],
             [
              0.1111111111111111,
              "#46039f"
             ],
             [
              0.2222222222222222,
              "#7201a8"
             ],
             [
              0.3333333333333333,
              "#9c179e"
             ],
             [
              0.4444444444444444,
              "#bd3786"
             ],
             [
              0.5555555555555556,
              "#d8576b"
             ],
             [
              0.6666666666666666,
              "#ed7953"
             ],
             [
              0.7777777777777778,
              "#fb9f3a"
             ],
             [
              0.8888888888888888,
              "#fdca26"
             ],
             [
              1,
              "#f0f921"
             ]
            ],
            "type": "contour"
           }
          ],
          "contourcarpet": [
           {
            "colorbar": {
             "outlinewidth": 0,
             "ticks": ""
            },
            "type": "contourcarpet"
           }
          ],
          "heatmap": [
           {
            "colorbar": {
             "outlinewidth": 0,
             "ticks": ""
            },
            "colorscale": [
             [
              0,
              "#0d0887"
             ],
             [
              0.1111111111111111,
              "#46039f"
             ],
             [
              0.2222222222222222,
              "#7201a8"
             ],
             [
              0.3333333333333333,
              "#9c179e"
             ],
             [
              0.4444444444444444,
              "#bd3786"
             ],
             [
              0.5555555555555556,
              "#d8576b"
             ],
             [
              0.6666666666666666,
              "#ed7953"
             ],
             [
              0.7777777777777778,
              "#fb9f3a"
             ],
             [
              0.8888888888888888,
              "#fdca26"
             ],
             [
              1,
              "#f0f921"
             ]
            ],
            "type": "heatmap"
           }
          ],
          "heatmapgl": [
           {
            "colorbar": {
             "outlinewidth": 0,
             "ticks": ""
            },
            "colorscale": [
             [
              0,
              "#0d0887"
             ],
             [
              0.1111111111111111,
              "#46039f"
             ],
             [
              0.2222222222222222,
              "#7201a8"
             ],
             [
              0.3333333333333333,
              "#9c179e"
             ],
             [
              0.4444444444444444,
              "#bd3786"
             ],
             [
              0.5555555555555556,
              "#d8576b"
             ],
             [
              0.6666666666666666,
              "#ed7953"
             ],
             [
              0.7777777777777778,
              "#fb9f3a"
             ],
             [
              0.8888888888888888,
              "#fdca26"
             ],
             [
              1,
              "#f0f921"
             ]
            ],
            "type": "heatmapgl"
           }
          ],
          "histogram": [
           {
            "marker": {
             "pattern": {
              "fillmode": "overlay",
              "size": 10,
              "solidity": 0.2
             }
            },
            "type": "histogram"
           }
          ],
          "histogram2d": [
           {
            "colorbar": {
             "outlinewidth": 0,
             "ticks": ""
            },
            "colorscale": [
             [
              0,
              "#0d0887"
             ],
             [
              0.1111111111111111,
              "#46039f"
             ],
             [
              0.2222222222222222,
              "#7201a8"
             ],
             [
              0.3333333333333333,
              "#9c179e"
             ],
             [
              0.4444444444444444,
              "#bd3786"
             ],
             [
              0.5555555555555556,
              "#d8576b"
             ],
             [
              0.6666666666666666,
              "#ed7953"
             ],
             [
              0.7777777777777778,
              "#fb9f3a"
             ],
             [
              0.8888888888888888,
              "#fdca26"
             ],
             [
              1,
              "#f0f921"
             ]
            ],
            "type": "histogram2d"
           }
          ],
          "histogram2dcontour": [
           {
            "colorbar": {
             "outlinewidth": 0,
             "ticks": ""
            },
            "colorscale": [
             [
              0,
              "#0d0887"
             ],
             [
              0.1111111111111111,
              "#46039f"
             ],
             [
              0.2222222222222222,
              "#7201a8"
             ],
             [
              0.3333333333333333,
              "#9c179e"
             ],
             [
              0.4444444444444444,
              "#bd3786"
             ],
             [
              0.5555555555555556,
              "#d8576b"
             ],
             [
              0.6666666666666666,
              "#ed7953"
             ],
             [
              0.7777777777777778,
              "#fb9f3a"
             ],
             [
              0.8888888888888888,
              "#fdca26"
             ],
             [
              1,
              "#f0f921"
             ]
            ],
            "type": "histogram2dcontour"
           }
          ],
          "mesh3d": [
           {
            "colorbar": {
             "outlinewidth": 0,
             "ticks": ""
            },
            "type": "mesh3d"
           }
          ],
          "parcoords": [
           {
            "line": {
             "colorbar": {
              "outlinewidth": 0,
              "ticks": ""
             }
            },
            "type": "parcoords"
           }
          ],
          "pie": [
           {
            "automargin": true,
            "type": "pie"
           }
          ],
          "scatter": [
           {
            "marker": {
             "colorbar": {
              "outlinewidth": 0,
              "ticks": ""
             }
            },
            "type": "scatter"
           }
          ],
          "scatter3d": [
           {
            "line": {
             "colorbar": {
              "outlinewidth": 0,
              "ticks": ""
             }
            },
            "marker": {
             "colorbar": {
              "outlinewidth": 0,
              "ticks": ""
             }
            },
            "type": "scatter3d"
           }
          ],
          "scattercarpet": [
           {
            "marker": {
             "colorbar": {
              "outlinewidth": 0,
              "ticks": ""
             }
            },
            "type": "scattercarpet"
           }
          ],
          "scattergeo": [
           {
            "marker": {
             "colorbar": {
              "outlinewidth": 0,
              "ticks": ""
             }
            },
            "type": "scattergeo"
           }
          ],
          "scattergl": [
           {
            "marker": {
             "colorbar": {
              "outlinewidth": 0,
              "ticks": ""
             }
            },
            "type": "scattergl"
           }
          ],
          "scattermapbox": [
           {
            "marker": {
             "colorbar": {
              "outlinewidth": 0,
              "ticks": ""
             }
            },
            "type": "scattermapbox"
           }
          ],
          "scatterpolar": [
           {
            "marker": {
             "colorbar": {
              "outlinewidth": 0,
              "ticks": ""
             }
            },
            "type": "scatterpolar"
           }
          ],
          "scatterpolargl": [
           {
            "marker": {
             "colorbar": {
              "outlinewidth": 0,
              "ticks": ""
             }
            },
            "type": "scatterpolargl"
           }
          ],
          "scatterternary": [
           {
            "marker": {
             "colorbar": {
              "outlinewidth": 0,
              "ticks": ""
             }
            },
            "type": "scatterternary"
           }
          ],
          "surface": [
           {
            "colorbar": {
             "outlinewidth": 0,
             "ticks": ""
            },
            "colorscale": [
             [
              0,
              "#0d0887"
             ],
             [
              0.1111111111111111,
              "#46039f"
             ],
             [
              0.2222222222222222,
              "#7201a8"
             ],
             [
              0.3333333333333333,
              "#9c179e"
             ],
             [
              0.4444444444444444,
              "#bd3786"
             ],
             [
              0.5555555555555556,
              "#d8576b"
             ],
             [
              0.6666666666666666,
              "#ed7953"
             ],
             [
              0.7777777777777778,
              "#fb9f3a"
             ],
             [
              0.8888888888888888,
              "#fdca26"
             ],
             [
              1,
              "#f0f921"
             ]
            ],
            "type": "surface"
           }
          ],
          "table": [
           {
            "cells": {
             "fill": {
              "color": "#EBF0F8"
             },
             "line": {
              "color": "white"
             }
            },
            "header": {
             "fill": {
              "color": "#C8D4E3"
             },
             "line": {
              "color": "white"
             }
            },
            "type": "table"
           }
          ]
         },
         "layout": {
          "annotationdefaults": {
           "arrowcolor": "#2a3f5f",
           "arrowhead": 0,
           "arrowwidth": 1
          },
          "autotypenumbers": "strict",
          "coloraxis": {
           "colorbar": {
            "outlinewidth": 0,
            "ticks": ""
           }
          },
          "colorscale": {
           "diverging": [
            [
             0,
             "#8e0152"
            ],
            [
             0.1,
             "#c51b7d"
            ],
            [
             0.2,
             "#de77ae"
            ],
            [
             0.3,
             "#f1b6da"
            ],
            [
             0.4,
             "#fde0ef"
            ],
            [
             0.5,
             "#f7f7f7"
            ],
            [
             0.6,
             "#e6f5d0"
            ],
            [
             0.7,
             "#b8e186"
            ],
            [
             0.8,
             "#7fbc41"
            ],
            [
             0.9,
             "#4d9221"
            ],
            [
             1,
             "#276419"
            ]
           ],
           "sequential": [
            [
             0,
             "#0d0887"
            ],
            [
             0.1111111111111111,
             "#46039f"
            ],
            [
             0.2222222222222222,
             "#7201a8"
            ],
            [
             0.3333333333333333,
             "#9c179e"
            ],
            [
             0.4444444444444444,
             "#bd3786"
            ],
            [
             0.5555555555555556,
             "#d8576b"
            ],
            [
             0.6666666666666666,
             "#ed7953"
            ],
            [
             0.7777777777777778,
             "#fb9f3a"
            ],
            [
             0.8888888888888888,
             "#fdca26"
            ],
            [
             1,
             "#f0f921"
            ]
           ],
           "sequentialminus": [
            [
             0,
             "#0d0887"
            ],
            [
             0.1111111111111111,
             "#46039f"
            ],
            [
             0.2222222222222222,
             "#7201a8"
            ],
            [
             0.3333333333333333,
             "#9c179e"
            ],
            [
             0.4444444444444444,
             "#bd3786"
            ],
            [
             0.5555555555555556,
             "#d8576b"
            ],
            [
             0.6666666666666666,
             "#ed7953"
            ],
            [
             0.7777777777777778,
             "#fb9f3a"
            ],
            [
             0.8888888888888888,
             "#fdca26"
            ],
            [
             1,
             "#f0f921"
            ]
           ]
          },
          "colorway": [
           "#636efa",
           "#EF553B",
           "#00cc96",
           "#ab63fa",
           "#FFA15A",
           "#19d3f3",
           "#FF6692",
           "#B6E880",
           "#FF97FF",
           "#FECB52"
          ],
          "font": {
           "color": "#2a3f5f"
          },
          "geo": {
           "bgcolor": "white",
           "lakecolor": "white",
           "landcolor": "#E5ECF6",
           "showlakes": true,
           "showland": true,
           "subunitcolor": "white"
          },
          "hoverlabel": {
           "align": "left"
          },
          "hovermode": "closest",
          "mapbox": {
           "style": "light"
          },
          "paper_bgcolor": "white",
          "plot_bgcolor": "#E5ECF6",
          "polar": {
           "angularaxis": {
            "gridcolor": "white",
            "linecolor": "white",
            "ticks": ""
           },
           "bgcolor": "#E5ECF6",
           "radialaxis": {
            "gridcolor": "white",
            "linecolor": "white",
            "ticks": ""
           }
          },
          "scene": {
           "xaxis": {
            "backgroundcolor": "#E5ECF6",
            "gridcolor": "white",
            "gridwidth": 2,
            "linecolor": "white",
            "showbackground": true,
            "ticks": "",
            "zerolinecolor": "white"
           },
           "yaxis": {
            "backgroundcolor": "#E5ECF6",
            "gridcolor": "white",
            "gridwidth": 2,
            "linecolor": "white",
            "showbackground": true,
            "ticks": "",
            "zerolinecolor": "white"
           },
           "zaxis": {
            "backgroundcolor": "#E5ECF6",
            "gridcolor": "white",
            "gridwidth": 2,
            "linecolor": "white",
            "showbackground": true,
            "ticks": "",
            "zerolinecolor": "white"
           }
          },
          "shapedefaults": {
           "line": {
            "color": "#2a3f5f"
           }
          },
          "ternary": {
           "aaxis": {
            "gridcolor": "white",
            "linecolor": "white",
            "ticks": ""
           },
           "baxis": {
            "gridcolor": "white",
            "linecolor": "white",
            "ticks": ""
           },
           "bgcolor": "#E5ECF6",
           "caxis": {
            "gridcolor": "white",
            "linecolor": "white",
            "ticks": ""
           }
          },
          "title": {
           "x": 0.05
          },
          "xaxis": {
           "automargin": true,
           "gridcolor": "white",
           "linecolor": "white",
           "ticks": "",
           "title": {
            "standoff": 15
           },
           "zerolinecolor": "white",
           "zerolinewidth": 2
          },
          "yaxis": {
           "automargin": true,
           "gridcolor": "white",
           "linecolor": "white",
           "ticks": "",
           "title": {
            "standoff": 15
           },
           "zerolinecolor": "white",
           "zerolinewidth": 2
          }
         }
        },
        "title": {
         "text": "利潤季度YoY比較",
         "x": 0.5,
         "xanchor": "center",
         "y": 0.9,
         "yanchor": "top"
        },
        "xaxis": {
         "anchor": "y",
         "domain": [
          0,
          1
         ],
         "title": {
          "text": "季"
         }
        },
        "yaxis": {
         "anchor": "x",
         "domain": [
          0,
          1
         ],
         "title": {
          "text": "獲利"
         }
        }
       }
      }
     },
     "metadata": {},
     "output_type": "display_data"
    }
   ],
   "source": [
    "fig_q_18_19_compar = px.histogram(q_18_19_compar,\n",
    "                        x='quarter',\n",
    "                        y='獲利',\n",
    "                        color='Year',\n",
    "                        barmode='group')\n",
    "fig_q_18_19_compar.update_layout(\n",
    "                title={\n",
    "                    'text': '利潤季度YoY比較',\n",
    "                    'y':0.9,\n",
    "                    'x':0.5,\n",
    "                    'xanchor': 'center',\n",
    "                    'yanchor': 'top'},\n",
    "                xaxis_title='季',\n",
    "                yaxis_title='獲利')\n",
    "#fig_q_18_19_compar.add_scatter(x=q_18_19_compar['quarter'], y=q_18_19_compar['同年累積利潤'][0:4], mode=\"lines\", name ='2018年累積利潤', line=dict(color=\"royalblue\"))\n",
    "#fig_q_18_19_compar.add_scatter(x=q_18_19_compar['quarter'], y=q_18_19_compar['同年累積利潤'][4:8], mode=\"lines\", name ='2019年累積利潤', line=dict(color=\"red\"))\n",
    "#fig_q_compar.update_layout(barmode='overlay')\n",
    "#fig_q_compar.update_traces(opacity=0.75)\n",
    "\n",
    "# fig_month_profit_18_19.write_html(\"./demo.html\")   \n",
    "fig_q_18_19_compar.show()   "
   ]
  },
  {
   "cell_type": "markdown",
   "metadata": {},
   "source": [
    "# 利潤折線與利潤累積圖"
   ]
  },
  {
   "cell_type": "code",
   "execution_count": 76,
   "metadata": {},
   "outputs": [
    {
     "data": {
      "text/html": [
       "<div>\n",
       "<style scoped>\n",
       "    .dataframe tbody tr th:only-of-type {\n",
       "        vertical-align: middle;\n",
       "    }\n",
       "\n",
       "    .dataframe tbody tr th {\n",
       "        vertical-align: top;\n",
       "    }\n",
       "\n",
       "    .dataframe thead th {\n",
       "        text-align: right;\n",
       "    }\n",
       "</style>\n",
       "<table border=\"1\" class=\"dataframe\">\n",
       "  <thead>\n",
       "    <tr style=\"text-align: right;\">\n",
       "      <th></th>\n",
       "      <th>Unnamed: 0.2</th>\n",
       "      <th>Unnamed: 0.1</th>\n",
       "      <th>Unnamed: 0</th>\n",
       "      <th>顏色</th>\n",
       "      <th>單價</th>\n",
       "      <th>成本</th>\n",
       "      <th>系列</th>\n",
       "      <th>產品</th>\n",
       "      <th>訂單時間</th>\n",
       "      <th>會員</th>\n",
       "      <th>性別</th>\n",
       "      <th>年紀</th>\n",
       "      <th>廣告代號all</th>\n",
       "      <th>尺寸</th>\n",
       "      <th>Year</th>\n",
       "      <th>Month</th>\n",
       "      <th>獲利</th>\n",
       "      <th>GPM</th>\n",
       "      <th>order_count</th>\n",
       "    </tr>\n",
       "  </thead>\n",
       "  <tbody>\n",
       "    <tr>\n",
       "      <th>11049</th>\n",
       "      <td>11049</td>\n",
       "      <td>11049</td>\n",
       "      <td>11049</td>\n",
       "      <td>trigrayblack</td>\n",
       "      <td>985.355</td>\n",
       "      <td>470.470</td>\n",
       "      <td>系列4</td>\n",
       "      <td>產品4-14</td>\n",
       "      <td>2019-11-03 03:43:24</td>\n",
       "      <td>B_GSJ_79593</td>\n",
       "      <td>MALE</td>\n",
       "      <td>26.0</td>\n",
       "      <td>廣告_自然流量</td>\n",
       "      <td>M</td>\n",
       "      <td>2019</td>\n",
       "      <td>2019-11</td>\n",
       "      <td>514.885</td>\n",
       "      <td>52.3</td>\n",
       "      <td>11050</td>\n",
       "    </tr>\n",
       "    <tr>\n",
       "      <th>11050</th>\n",
       "      <td>11050</td>\n",
       "      <td>11050</td>\n",
       "      <td>11050</td>\n",
       "      <td>trigrayblack</td>\n",
       "      <td>985.355</td>\n",
       "      <td>470.470</td>\n",
       "      <td>系列4</td>\n",
       "      <td>產品4-11</td>\n",
       "      <td>2019-11-04 11:34:17</td>\n",
       "      <td>B_GSJ_17131</td>\n",
       "      <td>FEMALE</td>\n",
       "      <td>34.0</td>\n",
       "      <td>廣告_KBDG_MK</td>\n",
       "      <td>XL</td>\n",
       "      <td>2019</td>\n",
       "      <td>2019-11</td>\n",
       "      <td>514.885</td>\n",
       "      <td>52.3</td>\n",
       "      <td>11051</td>\n",
       "    </tr>\n",
       "    <tr>\n",
       "      <th>11051</th>\n",
       "      <td>11051</td>\n",
       "      <td>11051</td>\n",
       "      <td>11051</td>\n",
       "      <td>hamred</td>\n",
       "      <td>1135.050</td>\n",
       "      <td>432.635</td>\n",
       "      <td>系列4</td>\n",
       "      <td>產品4-29</td>\n",
       "      <td>2019-11-05 07:35:26</td>\n",
       "      <td>B_GSJ_74780</td>\n",
       "      <td>FEMALE</td>\n",
       "      <td>50.0</td>\n",
       "      <td>廣告_自然流量</td>\n",
       "      <td>S</td>\n",
       "      <td>2019</td>\n",
       "      <td>2019-11</td>\n",
       "      <td>702.415</td>\n",
       "      <td>61.9</td>\n",
       "      <td>11052</td>\n",
       "    </tr>\n",
       "    <tr>\n",
       "      <th>11052</th>\n",
       "      <td>11052</td>\n",
       "      <td>11052</td>\n",
       "      <td>11052</td>\n",
       "      <td>gray</td>\n",
       "      <td>1743.700</td>\n",
       "      <td>806.050</td>\n",
       "      <td>系列4</td>\n",
       "      <td>產品4-6</td>\n",
       "      <td>2019-11-05 07:35:26</td>\n",
       "      <td>B_GSJ_74780</td>\n",
       "      <td>FEMALE</td>\n",
       "      <td>50.0</td>\n",
       "      <td>廣告_自然流量</td>\n",
       "      <td>XL</td>\n",
       "      <td>2019</td>\n",
       "      <td>2019-11</td>\n",
       "      <td>937.650</td>\n",
       "      <td>53.8</td>\n",
       "      <td>11053</td>\n",
       "    </tr>\n",
       "    <tr>\n",
       "      <th>11053</th>\n",
       "      <td>11053</td>\n",
       "      <td>11053</td>\n",
       "      <td>11053</td>\n",
       "      <td>creamywhite</td>\n",
       "      <td>1628.550</td>\n",
       "      <td>732.025</td>\n",
       "      <td>系列4</td>\n",
       "      <td>產品4-6</td>\n",
       "      <td>2019-11-07 04:21:21</td>\n",
       "      <td>B_GSJ_86453</td>\n",
       "      <td>FEMALE</td>\n",
       "      <td>NaN</td>\n",
       "      <td>廣告_KBDG_MP</td>\n",
       "      <td>S</td>\n",
       "      <td>2019</td>\n",
       "      <td>2019-11</td>\n",
       "      <td>896.525</td>\n",
       "      <td>55.1</td>\n",
       "      <td>11054</td>\n",
       "    </tr>\n",
       "    <tr>\n",
       "      <th>...</th>\n",
       "      <td>...</td>\n",
       "      <td>...</td>\n",
       "      <td>...</td>\n",
       "      <td>...</td>\n",
       "      <td>...</td>\n",
       "      <td>...</td>\n",
       "      <td>...</td>\n",
       "      <td>...</td>\n",
       "      <td>...</td>\n",
       "      <td>...</td>\n",
       "      <td>...</td>\n",
       "      <td>...</td>\n",
       "      <td>...</td>\n",
       "      <td>...</td>\n",
       "      <td>...</td>\n",
       "      <td>...</td>\n",
       "      <td>...</td>\n",
       "      <td>...</td>\n",
       "      <td>...</td>\n",
       "    </tr>\n",
       "    <tr>\n",
       "      <th>353219</th>\n",
       "      <td>353219</td>\n",
       "      <td>353219</td>\n",
       "      <td>353219</td>\n",
       "      <td>NaN</td>\n",
       "      <td>575.750</td>\n",
       "      <td>403.025</td>\n",
       "      <td>系列207</td>\n",
       "      <td>產品207-35</td>\n",
       "      <td>2019-11-12 14:44:14</td>\n",
       "      <td>B_GSJ_25617</td>\n",
       "      <td>FEMALE</td>\n",
       "      <td>18.0</td>\n",
       "      <td>廣告_自然流量</td>\n",
       "      <td>無</td>\n",
       "      <td>2019</td>\n",
       "      <td>2019-11</td>\n",
       "      <td>172.725</td>\n",
       "      <td>30.0</td>\n",
       "      <td>353220</td>\n",
       "    </tr>\n",
       "    <tr>\n",
       "      <th>353220</th>\n",
       "      <td>353220</td>\n",
       "      <td>353220</td>\n",
       "      <td>353220</td>\n",
       "      <td>NaN</td>\n",
       "      <td>575.750</td>\n",
       "      <td>403.025</td>\n",
       "      <td>系列207</td>\n",
       "      <td>產品207-35</td>\n",
       "      <td>2019-11-13 09:37:06</td>\n",
       "      <td>B_GSJ_16318</td>\n",
       "      <td>FEMALE</td>\n",
       "      <td>24.0</td>\n",
       "      <td>廣告_自然流量</td>\n",
       "      <td>無</td>\n",
       "      <td>2019</td>\n",
       "      <td>2019-11</td>\n",
       "      <td>172.725</td>\n",
       "      <td>30.0</td>\n",
       "      <td>353221</td>\n",
       "    </tr>\n",
       "    <tr>\n",
       "      <th>353221</th>\n",
       "      <td>353221</td>\n",
       "      <td>353221</td>\n",
       "      <td>353221</td>\n",
       "      <td>NaN</td>\n",
       "      <td>575.750</td>\n",
       "      <td>403.025</td>\n",
       "      <td>系列207</td>\n",
       "      <td>產品207-35</td>\n",
       "      <td>2019-11-14 18:34:45</td>\n",
       "      <td>B_GSJ_77300</td>\n",
       "      <td>NaN</td>\n",
       "      <td>28.0</td>\n",
       "      <td>廣告_KBDG_MK</td>\n",
       "      <td>無</td>\n",
       "      <td>2019</td>\n",
       "      <td>2019-11</td>\n",
       "      <td>172.725</td>\n",
       "      <td>30.0</td>\n",
       "      <td>353222</td>\n",
       "    </tr>\n",
       "    <tr>\n",
       "      <th>353222</th>\n",
       "      <td>353222</td>\n",
       "      <td>353222</td>\n",
       "      <td>353222</td>\n",
       "      <td>NaN</td>\n",
       "      <td>575.750</td>\n",
       "      <td>403.025</td>\n",
       "      <td>系列207</td>\n",
       "      <td>產品207-35</td>\n",
       "      <td>2019-11-14 18:34:45</td>\n",
       "      <td>B_GSJ_77300</td>\n",
       "      <td>NaN</td>\n",
       "      <td>28.0</td>\n",
       "      <td>廣告_KBDG_MK</td>\n",
       "      <td>無</td>\n",
       "      <td>2019</td>\n",
       "      <td>2019-11</td>\n",
       "      <td>172.725</td>\n",
       "      <td>30.0</td>\n",
       "      <td>353223</td>\n",
       "    </tr>\n",
       "    <tr>\n",
       "      <th>353223</th>\n",
       "      <td>353223</td>\n",
       "      <td>353223</td>\n",
       "      <td>353223</td>\n",
       "      <td>NaN</td>\n",
       "      <td>575.750</td>\n",
       "      <td>403.025</td>\n",
       "      <td>系列207</td>\n",
       "      <td>產品207-35</td>\n",
       "      <td>2019-11-15 12:14:25</td>\n",
       "      <td>B_GSJ_04755</td>\n",
       "      <td>NaN</td>\n",
       "      <td>16.0</td>\n",
       "      <td>廣告_KBDG_MK</td>\n",
       "      <td>無</td>\n",
       "      <td>2019</td>\n",
       "      <td>2019-11</td>\n",
       "      <td>172.725</td>\n",
       "      <td>30.0</td>\n",
       "      <td>353224</td>\n",
       "    </tr>\n",
       "  </tbody>\n",
       "</table>\n",
       "<p>1329 rows × 19 columns</p>\n",
       "</div>"
      ],
      "text/plain": [
       "        Unnamed: 0.2  Unnamed: 0.1  Unnamed: 0            顏色        單價  \\\n",
       "11049          11049         11049       11049  trigrayblack   985.355   \n",
       "11050          11050         11050       11050  trigrayblack   985.355   \n",
       "11051          11051         11051       11051        hamred  1135.050   \n",
       "11052          11052         11052       11052          gray  1743.700   \n",
       "11053          11053         11053       11053   creamywhite  1628.550   \n",
       "...              ...           ...         ...           ...       ...   \n",
       "353219        353219        353219      353219           NaN   575.750   \n",
       "353220        353220        353220      353220           NaN   575.750   \n",
       "353221        353221        353221      353221           NaN   575.750   \n",
       "353222        353222        353222      353222           NaN   575.750   \n",
       "353223        353223        353223      353223           NaN   575.750   \n",
       "\n",
       "             成本     系列        產品                 訂單時間           會員      性別  \\\n",
       "11049   470.470    系列4    產品4-14  2019-11-03 03:43:24  B_GSJ_79593    MALE   \n",
       "11050   470.470    系列4    產品4-11  2019-11-04 11:34:17  B_GSJ_17131  FEMALE   \n",
       "11051   432.635    系列4    產品4-29  2019-11-05 07:35:26  B_GSJ_74780  FEMALE   \n",
       "11052   806.050    系列4     產品4-6  2019-11-05 07:35:26  B_GSJ_74780  FEMALE   \n",
       "11053   732.025    系列4     產品4-6  2019-11-07 04:21:21  B_GSJ_86453  FEMALE   \n",
       "...         ...    ...       ...                  ...          ...     ...   \n",
       "353219  403.025  系列207  產品207-35  2019-11-12 14:44:14  B_GSJ_25617  FEMALE   \n",
       "353220  403.025  系列207  產品207-35  2019-11-13 09:37:06  B_GSJ_16318  FEMALE   \n",
       "353221  403.025  系列207  產品207-35  2019-11-14 18:34:45  B_GSJ_77300     NaN   \n",
       "353222  403.025  系列207  產品207-35  2019-11-14 18:34:45  B_GSJ_77300     NaN   \n",
       "353223  403.025  系列207  產品207-35  2019-11-15 12:14:25  B_GSJ_04755     NaN   \n",
       "\n",
       "          年紀     廣告代號all  尺寸  Year    Month       獲利   GPM  order_count  \n",
       "11049   26.0     廣告_自然流量   M  2019  2019-11  514.885  52.3        11050  \n",
       "11050   34.0  廣告_KBDG_MK  XL  2019  2019-11  514.885  52.3        11051  \n",
       "11051   50.0     廣告_自然流量   S  2019  2019-11  702.415  61.9        11052  \n",
       "11052   50.0     廣告_自然流量  XL  2019  2019-11  937.650  53.8        11053  \n",
       "11053    NaN  廣告_KBDG_MP   S  2019  2019-11  896.525  55.1        11054  \n",
       "...      ...         ...  ..   ...      ...      ...   ...          ...  \n",
       "353219  18.0     廣告_自然流量   無  2019  2019-11  172.725  30.0       353220  \n",
       "353220  24.0     廣告_自然流量   無  2019  2019-11  172.725  30.0       353221  \n",
       "353221  28.0  廣告_KBDG_MK   無  2019  2019-11  172.725  30.0       353222  \n",
       "353222  28.0  廣告_KBDG_MK   無  2019  2019-11  172.725  30.0       353223  \n",
       "353223  16.0  廣告_KBDG_MK   無  2019  2019-11  172.725  30.0       353224  \n",
       "\n",
       "[1329 rows x 19 columns]"
      ]
     },
     "execution_count": 76,
     "metadata": {},
     "output_type": "execute_result"
    }
   ],
   "source": [
    "asda = pd.read_csv('new_all_data.csv')\n",
    "asda = asda [ asda['Month']=='2019-11' ]\n",
    "asda"
   ]
  },
  {
   "cell_type": "markdown",
   "metadata": {},
   "source": [
    "# 分析 9月 10月的銷售報表"
   ]
  },
  {
   "cell_type": "code",
   "execution_count": 77,
   "metadata": {},
   "outputs": [],
   "source": [
    "import pandas as pd\n",
    "import datetime as dt\n",
    "import numpy as np\n",
    "import seaborn as sns\n",
    "import plotly.express as px\n",
    "from plotly.offline import download_plotlyjs, init_notebook_mode, plot, iplot\n",
    "%config InlineBackend. figure_format = 'retina'"
   ]
  },
  {
   "cell_type": "code",
   "execution_count": 78,
   "metadata": {},
   "outputs": [],
   "source": [
    "all_data = pd.read_csv('new_all_data.csv')\n",
    "all_data['訂單時間'] = pd.to_datetime(all_data['訂單時間'])\n",
    "all_data['Y_M_D'] = all_data['訂單時間'].dt.to_period('D')\n",
    "all_data.loc[:,'order_count'] = 1"
   ]
  },
  {
   "cell_type": "markdown",
   "metadata": {},
   "source": [
    "# 各月營收組成: 新舊客、廣告"
   ]
  },
  {
   "cell_type": "code",
   "execution_count": 79,
   "metadata": {},
   "outputs": [
    {
     "data": {
      "text/plain": [
       "Index(['Unnamed: 0.2', 'Unnamed: 0.1', 'Unnamed: 0', '顏色', '單價', '成本', '系列',\n",
       "       '產品', '訂單時間', '會員', '性別', '年紀', '廣告代號all', '尺寸', 'Year', 'Month', '獲利',\n",
       "       'GPM', 'order_count', 'Y_M_D'],\n",
       "      dtype='object')"
      ]
     },
     "execution_count": 79,
     "metadata": {},
     "output_type": "execute_result"
    }
   ],
   "source": [
    "all_data.columns"
   ]
  },
  {
   "cell_type": "code",
   "execution_count": 80,
   "metadata": {},
   "outputs": [],
   "source": [
    "# 2019-9月消費資料 (沒有groupby)\n",
    "custmer2019_09 =  all_data [ all_data['Month']=='2019-09']\n",
    "# 2019-9月會員清單\n",
    "custmer2019_09_name = custmer2019_09.drop_duplicates(subset='會員')\n",
    "custmer2019_09_name = pd.DataFrame(custmer2019_09_name, columns=['會員'])\n",
    "custmer2019_09_name = custmer2019_09_name.sort_values('會員')\n",
    "#custmer2019_09_name = custmer2019_09_name.values.tolist()\n",
    "\n",
    "# 2018-09-2019年8月消費資料(沒有groupby)\n",
    "dates = ['2018-09','2018-10','2018-11','2018-12', '2019-01', '2019-02', '2019-03','2019-04','2019-05','2019-06','2019-07', '2019-08'] #想要的\n",
    "filt = all_data['Month'].isin(dates)\n",
    "custmer2019_1_9 = all_data.loc[filt, ['Month', '訂單時間', '會員', '單價', '廣告代號all']]\n",
    "\n",
    "# 2019年1-8月會員清單\n",
    "custmer2019_1_9_name = custmer2019_1_9.drop_duplicates(subset='會員')\n",
    "custmer2019_1_9_name = pd.DataFrame(custmer2019_1_9_name, columns=['會員'])\n",
    "custmer2019_1_9_name = custmer2019_1_9_name.sort_values('會員')\n",
    "#custmer2019_1_9_name = custmer2019_1_9_name.values.tolist()"
   ]
  },
  {
   "cell_type": "code",
   "execution_count": 81,
   "metadata": {},
   "outputs": [
    {
     "name": "stdout",
     "output_type": "stream",
     "text": [
      "661\n",
      "2019年9月消費者有86%是新客\n"
     ]
    }
   ],
   "source": [
    "# 篩選9月新舊客名單\n",
    "#check = []\n",
    "#for i in custmer2019_09['會員']:\n",
    "#    if (custmer2019_1_9['會員'] == i).any():\n",
    "#        check.append('yes')\n",
    "#len(check)\n",
    "#--------\n",
    "\n",
    "a = custmer2019_1_9_name['會員']\n",
    "b = custmer2019_09_name['會員']\n",
    "custmer2019_09_old_name = set(a).intersection(b) # = 舊客\n",
    "#custmer2019_09_old_name =[x for x in a for y in b if x == y] # = 舊客\n",
    "print(len(custmer2019_09_old_name))\n",
    "print('2019年9月消費者有' + str(round(100*(1-(len(custmer2019_09_old_name)/len(b))))) + '%是新客')"
   ]
  },
  {
   "cell_type": "code",
   "execution_count": 82,
   "metadata": {},
   "outputs": [
    {
     "data": {
      "text/html": [
       "<div>\n",
       "<style scoped>\n",
       "    .dataframe tbody tr th:only-of-type {\n",
       "        vertical-align: middle;\n",
       "    }\n",
       "\n",
       "    .dataframe tbody tr th {\n",
       "        vertical-align: top;\n",
       "    }\n",
       "\n",
       "    .dataframe thead th {\n",
       "        text-align: right;\n",
       "    }\n",
       "</style>\n",
       "<table border=\"1\" class=\"dataframe\">\n",
       "  <thead>\n",
       "    <tr style=\"text-align: right;\">\n",
       "      <th></th>\n",
       "      <th>Month</th>\n",
       "      <th>訂單時間</th>\n",
       "      <th>單價</th>\n",
       "      <th>會員</th>\n",
       "      <th>廣告代號all</th>\n",
       "      <th>分類</th>\n",
       "    </tr>\n",
       "  </thead>\n",
       "  <tbody>\n",
       "    <tr>\n",
       "      <th>10945</th>\n",
       "      <td>2019-09</td>\n",
       "      <td>2019-09-02 04:50:12</td>\n",
       "      <td>1222.235</td>\n",
       "      <td>B_GSJ_56026</td>\n",
       "      <td>廣告_自然流量</td>\n",
       "      <td>舊客</td>\n",
       "    </tr>\n",
       "    <tr>\n",
       "      <th>10946</th>\n",
       "      <td>2019-09</td>\n",
       "      <td>2019-09-02 04:50:12</td>\n",
       "      <td>1061.025</td>\n",
       "      <td>B_GSJ_56026</td>\n",
       "      <td>廣告_自然流量</td>\n",
       "      <td>舊客</td>\n",
       "    </tr>\n",
       "    <tr>\n",
       "      <th>10948</th>\n",
       "      <td>2019-09</td>\n",
       "      <td>2019-09-04 05:28:23</td>\n",
       "      <td>1079.120</td>\n",
       "      <td>B_GSJ_57763</td>\n",
       "      <td>廣告_GINEP_D</td>\n",
       "      <td>舊客</td>\n",
       "    </tr>\n",
       "    <tr>\n",
       "      <th>10953</th>\n",
       "      <td>2019-09</td>\n",
       "      <td>2019-09-08 04:32:47</td>\n",
       "      <td>1079.120</td>\n",
       "      <td>B_GSJ_76032</td>\n",
       "      <td>廣告_自然流量</td>\n",
       "      <td>舊客</td>\n",
       "    </tr>\n",
       "    <tr>\n",
       "      <th>10954</th>\n",
       "      <td>2019-09</td>\n",
       "      <td>2019-09-08 04:32:47</td>\n",
       "      <td>922.845</td>\n",
       "      <td>B_GSJ_76032</td>\n",
       "      <td>廣告_自然流量</td>\n",
       "      <td>舊客</td>\n",
       "    </tr>\n",
       "    <tr>\n",
       "      <th>...</th>\n",
       "      <td>...</td>\n",
       "      <td>...</td>\n",
       "      <td>...</td>\n",
       "      <td>...</td>\n",
       "      <td>...</td>\n",
       "      <td>...</td>\n",
       "    </tr>\n",
       "    <tr>\n",
       "      <th>352012</th>\n",
       "      <td>2019-09</td>\n",
       "      <td>2019-09-28 13:56:26</td>\n",
       "      <td>1011.675</td>\n",
       "      <td>B_GSJ_08961</td>\n",
       "      <td>廣告_B2KDG_P</td>\n",
       "      <td>舊客</td>\n",
       "    </tr>\n",
       "    <tr>\n",
       "      <th>352276</th>\n",
       "      <td>2019-09</td>\n",
       "      <td>2019-09-28 14:14:22</td>\n",
       "      <td>1011.675</td>\n",
       "      <td>B_GSJ_03122</td>\n",
       "      <td>廣告_B2KDG_P</td>\n",
       "      <td>舊客</td>\n",
       "    </tr>\n",
       "    <tr>\n",
       "      <th>352653</th>\n",
       "      <td>2019-09</td>\n",
       "      <td>2019-09-28 17:06:47</td>\n",
       "      <td>1011.675</td>\n",
       "      <td>B_GSJ_01933</td>\n",
       "      <td>廣告_B2KDG_P</td>\n",
       "      <td>舊客</td>\n",
       "    </tr>\n",
       "    <tr>\n",
       "      <th>352834</th>\n",
       "      <td>2019-09</td>\n",
       "      <td>2019-09-29 03:47:53</td>\n",
       "      <td>1011.675</td>\n",
       "      <td>B_GSJ_75365</td>\n",
       "      <td>廣告_B2KDG_P</td>\n",
       "      <td>舊客</td>\n",
       "    </tr>\n",
       "    <tr>\n",
       "      <th>352915</th>\n",
       "      <td>2019-09</td>\n",
       "      <td>2019-09-29 14:23:29</td>\n",
       "      <td>1011.675</td>\n",
       "      <td>B_GSJ_62491</td>\n",
       "      <td>廣告_B2KDG_P</td>\n",
       "      <td>舊客</td>\n",
       "    </tr>\n",
       "  </tbody>\n",
       "</table>\n",
       "<p>1680 rows × 6 columns</p>\n",
       "</div>"
      ],
      "text/plain": [
       "          Month                訂單時間        單價           會員     廣告代號all  分類\n",
       "10945   2019-09 2019-09-02 04:50:12  1222.235  B_GSJ_56026     廣告_自然流量  舊客\n",
       "10946   2019-09 2019-09-02 04:50:12  1061.025  B_GSJ_56026     廣告_自然流量  舊客\n",
       "10948   2019-09 2019-09-04 05:28:23  1079.120  B_GSJ_57763  廣告_GINEP_D  舊客\n",
       "10953   2019-09 2019-09-08 04:32:47  1079.120  B_GSJ_76032     廣告_自然流量  舊客\n",
       "10954   2019-09 2019-09-08 04:32:47   922.845  B_GSJ_76032     廣告_自然流量  舊客\n",
       "...         ...                 ...       ...          ...         ...  ..\n",
       "352012  2019-09 2019-09-28 13:56:26  1011.675  B_GSJ_08961  廣告_B2KDG_P  舊客\n",
       "352276  2019-09 2019-09-28 14:14:22  1011.675  B_GSJ_03122  廣告_B2KDG_P  舊客\n",
       "352653  2019-09 2019-09-28 17:06:47  1011.675  B_GSJ_01933  廣告_B2KDG_P  舊客\n",
       "352834  2019-09 2019-09-29 03:47:53  1011.675  B_GSJ_75365  廣告_B2KDG_P  舊客\n",
       "352915  2019-09 2019-09-29 14:23:29  1011.675  B_GSJ_62491  廣告_B2KDG_P  舊客\n",
       "\n",
       "[1680 rows x 6 columns]"
      ]
     },
     "execution_count": 82,
     "metadata": {},
     "output_type": "execute_result"
    }
   ],
   "source": [
    "# 9月舊客的消費資料\n",
    "filt = custmer2019_09['會員'].isin(custmer2019_09_old_name)\n",
    "custmer2019_09_old = custmer2019_09.loc[filt, ['Month', '訂單時間', '單價','會員', '廣告代號all']]\n",
    "custmer2019_09_old['分類'] = str('舊客')\n",
    "custmer2019_09_old"
   ]
  },
  {
   "cell_type": "code",
   "execution_count": 83,
   "metadata": {},
   "outputs": [],
   "source": [
    "# 9月新客名單 9月全-9月舊 \n",
    "# 返回兩個集合中不重複的元素set(b).symmetric_difference(c)\n",
    "custmer2019_09_old_name = list(custmer2019_09_old_name)\n",
    "c = pd.Series(custmer2019_09_old_name)#, index=index)\n",
    "custmer2019_09_new_name = set(b).symmetric_difference(c)"
   ]
  },
  {
   "cell_type": "code",
   "execution_count": 84,
   "metadata": {},
   "outputs": [
    {
     "data": {
      "text/html": [
       "<div>\n",
       "<style scoped>\n",
       "    .dataframe tbody tr th:only-of-type {\n",
       "        vertical-align: middle;\n",
       "    }\n",
       "\n",
       "    .dataframe tbody tr th {\n",
       "        vertical-align: top;\n",
       "    }\n",
       "\n",
       "    .dataframe thead th {\n",
       "        text-align: right;\n",
       "    }\n",
       "</style>\n",
       "<table border=\"1\" class=\"dataframe\">\n",
       "  <thead>\n",
       "    <tr style=\"text-align: right;\">\n",
       "      <th></th>\n",
       "      <th>Month</th>\n",
       "      <th>訂單時間</th>\n",
       "      <th>單價</th>\n",
       "      <th>會員</th>\n",
       "      <th>廣告代號all</th>\n",
       "      <th>分類</th>\n",
       "    </tr>\n",
       "  </thead>\n",
       "  <tbody>\n",
       "    <tr>\n",
       "      <th>10942</th>\n",
       "      <td>2019-09</td>\n",
       "      <td>2019-09-01 08:29:24</td>\n",
       "      <td>1079.120</td>\n",
       "      <td>B_GSJ_72088</td>\n",
       "      <td>廣告_KBDG_P</td>\n",
       "      <td>新客</td>\n",
       "    </tr>\n",
       "    <tr>\n",
       "      <th>10943</th>\n",
       "      <td>2019-09</td>\n",
       "      <td>2019-09-01 13:52:43</td>\n",
       "      <td>477.050</td>\n",
       "      <td>B_GSJ_85507</td>\n",
       "      <td>廣告_自然流量</td>\n",
       "      <td>新客</td>\n",
       "    </tr>\n",
       "    <tr>\n",
       "      <th>10944</th>\n",
       "      <td>2019-09</td>\n",
       "      <td>2019-09-01 14:35:30</td>\n",
       "      <td>1135.050</td>\n",
       "      <td>B_GSJ_84591</td>\n",
       "      <td>廣告_自然流量</td>\n",
       "      <td>新客</td>\n",
       "    </tr>\n",
       "    <tr>\n",
       "      <th>10947</th>\n",
       "      <td>2019-09</td>\n",
       "      <td>2019-09-02 13:39:16</td>\n",
       "      <td>970.550</td>\n",
       "      <td>B_GSJ_68310</td>\n",
       "      <td>廣告_自然流量</td>\n",
       "      <td>新客</td>\n",
       "    </tr>\n",
       "    <tr>\n",
       "      <th>10949</th>\n",
       "      <td>2019-09</td>\n",
       "      <td>2019-09-04 11:08:05</td>\n",
       "      <td>689.255</td>\n",
       "      <td>B_GSJ_01545</td>\n",
       "      <td>廣告_自然流量</td>\n",
       "      <td>新客</td>\n",
       "    </tr>\n",
       "    <tr>\n",
       "      <th>...</th>\n",
       "      <td>...</td>\n",
       "      <td>...</td>\n",
       "      <td>...</td>\n",
       "      <td>...</td>\n",
       "      <td>...</td>\n",
       "      <td>...</td>\n",
       "    </tr>\n",
       "    <tr>\n",
       "      <th>352965</th>\n",
       "      <td>2019-09</td>\n",
       "      <td>2019-09-30 15:09:18</td>\n",
       "      <td>1011.675</td>\n",
       "      <td>B_GSJ_82088</td>\n",
       "      <td>廣告_B2KDG_P</td>\n",
       "      <td>新客</td>\n",
       "    </tr>\n",
       "    <tr>\n",
       "      <th>352966</th>\n",
       "      <td>2019-09</td>\n",
       "      <td>2019-09-30 16:55:07</td>\n",
       "      <td>491.855</td>\n",
       "      <td>B_GSJ_14872</td>\n",
       "      <td>廣告_B2KDG_P</td>\n",
       "      <td>新客</td>\n",
       "    </tr>\n",
       "    <tr>\n",
       "      <th>352967</th>\n",
       "      <td>2019-09</td>\n",
       "      <td>2019-09-30 16:55:07</td>\n",
       "      <td>491.855</td>\n",
       "      <td>B_GSJ_14872</td>\n",
       "      <td>廣告_B2KDG_P</td>\n",
       "      <td>新客</td>\n",
       "    </tr>\n",
       "    <tr>\n",
       "      <th>352968</th>\n",
       "      <td>2019-09</td>\n",
       "      <td>2019-09-30 16:55:07</td>\n",
       "      <td>491.855</td>\n",
       "      <td>B_GSJ_14872</td>\n",
       "      <td>廣告_B2KDG_P</td>\n",
       "      <td>新客</td>\n",
       "    </tr>\n",
       "    <tr>\n",
       "      <th>352969</th>\n",
       "      <td>2019-09</td>\n",
       "      <td>2019-09-30 17:34:02</td>\n",
       "      <td>493.500</td>\n",
       "      <td>B_GSJ_47490</td>\n",
       "      <td>廣告_B2KDG_P</td>\n",
       "      <td>新客</td>\n",
       "    </tr>\n",
       "  </tbody>\n",
       "</table>\n",
       "<p>9439 rows × 6 columns</p>\n",
       "</div>"
      ],
      "text/plain": [
       "          Month                訂單時間        單價           會員     廣告代號all  分類\n",
       "10942   2019-09 2019-09-01 08:29:24  1079.120  B_GSJ_72088   廣告_KBDG_P  新客\n",
       "10943   2019-09 2019-09-01 13:52:43   477.050  B_GSJ_85507     廣告_自然流量  新客\n",
       "10944   2019-09 2019-09-01 14:35:30  1135.050  B_GSJ_84591     廣告_自然流量  新客\n",
       "10947   2019-09 2019-09-02 13:39:16   970.550  B_GSJ_68310     廣告_自然流量  新客\n",
       "10949   2019-09 2019-09-04 11:08:05   689.255  B_GSJ_01545     廣告_自然流量  新客\n",
       "...         ...                 ...       ...          ...         ...  ..\n",
       "352965  2019-09 2019-09-30 15:09:18  1011.675  B_GSJ_82088  廣告_B2KDG_P  新客\n",
       "352966  2019-09 2019-09-30 16:55:07   491.855  B_GSJ_14872  廣告_B2KDG_P  新客\n",
       "352967  2019-09 2019-09-30 16:55:07   491.855  B_GSJ_14872  廣告_B2KDG_P  新客\n",
       "352968  2019-09 2019-09-30 16:55:07   491.855  B_GSJ_14872  廣告_B2KDG_P  新客\n",
       "352969  2019-09 2019-09-30 17:34:02   493.500  B_GSJ_47490  廣告_B2KDG_P  新客\n",
       "\n",
       "[9439 rows x 6 columns]"
      ]
     },
     "execution_count": 84,
     "metadata": {},
     "output_type": "execute_result"
    }
   ],
   "source": [
    "# 9月新客的資料\n",
    "filt = custmer2019_09['會員'].isin(custmer2019_09_new_name)\n",
    "custmer2019_09_new = custmer2019_09.loc[filt, ['Month', '訂單時間', '單價','會員', '廣告代號all']]\n",
    "custmer2019_09_new['分類'] = str('新客')\n",
    "custmer2019_09_new\n"
   ]
  },
  {
   "cell_type": "code",
   "execution_count": 85,
   "metadata": {},
   "outputs": [
    {
     "data": {
      "text/html": [
       "<div>\n",
       "<style scoped>\n",
       "    .dataframe tbody tr th:only-of-type {\n",
       "        vertical-align: middle;\n",
       "    }\n",
       "\n",
       "    .dataframe tbody tr th {\n",
       "        vertical-align: top;\n",
       "    }\n",
       "\n",
       "    .dataframe thead th {\n",
       "        text-align: right;\n",
       "    }\n",
       "</style>\n",
       "<table border=\"1\" class=\"dataframe\">\n",
       "  <thead>\n",
       "    <tr style=\"text-align: right;\">\n",
       "      <th></th>\n",
       "      <th>分類</th>\n",
       "      <th>會員</th>\n",
       "      <th>單價</th>\n",
       "    </tr>\n",
       "  </thead>\n",
       "  <tbody>\n",
       "    <tr>\n",
       "      <th>0</th>\n",
       "      <td>新客</td>\n",
       "      <td>B_GSJ_00006</td>\n",
       "      <td>2462.565</td>\n",
       "    </tr>\n",
       "    <tr>\n",
       "      <th>1</th>\n",
       "      <td>新客</td>\n",
       "      <td>B_GSJ_00054</td>\n",
       "      <td>2817.885</td>\n",
       "    </tr>\n",
       "    <tr>\n",
       "      <th>2</th>\n",
       "      <td>新客</td>\n",
       "      <td>B_GSJ_00090</td>\n",
       "      <td>567.525</td>\n",
       "    </tr>\n",
       "    <tr>\n",
       "      <th>3</th>\n",
       "      <td>新客</td>\n",
       "      <td>B_GSJ_00094</td>\n",
       "      <td>2956.065</td>\n",
       "    </tr>\n",
       "    <tr>\n",
       "      <th>4</th>\n",
       "      <td>新客</td>\n",
       "      <td>B_GSJ_00100</td>\n",
       "      <td>1135.050</td>\n",
       "    </tr>\n",
       "    <tr>\n",
       "      <th>...</th>\n",
       "      <td>...</td>\n",
       "      <td>...</td>\n",
       "      <td>...</td>\n",
       "    </tr>\n",
       "    <tr>\n",
       "      <th>4859</th>\n",
       "      <td>舊客</td>\n",
       "      <td>L_CBY_04074</td>\n",
       "      <td>1858.850</td>\n",
       "    </tr>\n",
       "    <tr>\n",
       "      <th>4860</th>\n",
       "      <td>舊客</td>\n",
       "      <td>L_CBY_04075</td>\n",
       "      <td>1970.710</td>\n",
       "    </tr>\n",
       "    <tr>\n",
       "      <th>4861</th>\n",
       "      <td>舊客</td>\n",
       "      <td>L_CBY_04119</td>\n",
       "      <td>1825.950</td>\n",
       "    </tr>\n",
       "    <tr>\n",
       "      <th>4862</th>\n",
       "      <td>舊客</td>\n",
       "      <td>L_CBY_04165</td>\n",
       "      <td>1628.550</td>\n",
       "    </tr>\n",
       "    <tr>\n",
       "      <th>4863</th>\n",
       "      <td>舊客</td>\n",
       "      <td>L_CBY_04369</td>\n",
       "      <td>2956.065</td>\n",
       "    </tr>\n",
       "  </tbody>\n",
       "</table>\n",
       "<p>4864 rows × 3 columns</p>\n",
       "</div>"
      ],
      "text/plain": [
       "      分類           會員        單價\n",
       "0     新客  B_GSJ_00006  2462.565\n",
       "1     新客  B_GSJ_00054  2817.885\n",
       "2     新客  B_GSJ_00090   567.525\n",
       "3     新客  B_GSJ_00094  2956.065\n",
       "4     新客  B_GSJ_00100  1135.050\n",
       "...   ..          ...       ...\n",
       "4859  舊客  L_CBY_04074  1858.850\n",
       "4860  舊客  L_CBY_04075  1970.710\n",
       "4861  舊客  L_CBY_04119  1825.950\n",
       "4862  舊客  L_CBY_04165  1628.550\n",
       "4863  舊客  L_CBY_04369  2956.065\n",
       "\n",
       "[4864 rows x 3 columns]"
      ]
     },
     "execution_count": 85,
     "metadata": {},
     "output_type": "execute_result"
    }
   ],
   "source": [
    "custmer2019_09_con = pd.concat([custmer2019_09_old, custmer2019_09_new],axis=0)\n",
    "custmer2019_09_con = custmer2019_09_con.groupby(['分類', '會員'])['單價'].sum()\n",
    "custmer2019_09_con = pd.DataFrame(custmer2019_09_con)\n",
    "custmer2019_09_con = custmer2019_09_con.reset_index()\n",
    "custmer2019_09_con"
   ]
  },
  {
   "cell_type": "code",
   "execution_count": 86,
   "metadata": {},
   "outputs": [
    {
     "data": {
      "text/html": [
       "<div>\n",
       "<style scoped>\n",
       "    .dataframe tbody tr th:only-of-type {\n",
       "        vertical-align: middle;\n",
       "    }\n",
       "\n",
       "    .dataframe tbody tr th {\n",
       "        vertical-align: top;\n",
       "    }\n",
       "\n",
       "    .dataframe thead th {\n",
       "        text-align: right;\n",
       "    }\n",
       "</style>\n",
       "<table border=\"1\" class=\"dataframe\">\n",
       "  <thead>\n",
       "    <tr style=\"text-align: right;\">\n",
       "      <th></th>\n",
       "      <th>人數</th>\n",
       "    </tr>\n",
       "  </thead>\n",
       "  <tbody>\n",
       "    <tr>\n",
       "      <th>新客</th>\n",
       "      <td>NaN</td>\n",
       "    </tr>\n",
       "    <tr>\n",
       "      <th>舊客</th>\n",
       "      <td>NaN</td>\n",
       "    </tr>\n",
       "  </tbody>\n",
       "</table>\n",
       "</div>"
      ],
      "text/plain": [
       "     人數\n",
       "新客  NaN\n",
       "舊客  NaN"
      ]
     },
     "execution_count": 86,
     "metadata": {},
     "output_type": "execute_result"
    }
   ],
   "source": [
    "custmer2019_09_compr = pd.DataFrame(columns=['人數'], index=['新客', '舊客'])\n",
    "custmer2019_09_compr"
   ]
  },
  {
   "cell_type": "code",
   "execution_count": 87,
   "metadata": {},
   "outputs": [
    {
     "name": "stderr",
     "output_type": "stream",
     "text": [
      "C:\\Users\\chanm\\AppData\\Local\\Temp\\ipykernel_23084\\3598513811.py:1: FutureWarning:\n",
      "\n",
      "Slicing a positional slice with .loc is not supported, and will raise TypeError in a future version.  Use .loc with labels or .iloc with positions instead.\n",
      "\n",
      "C:\\Users\\chanm\\AppData\\Local\\Temp\\ipykernel_23084\\3598513811.py:2: FutureWarning:\n",
      "\n",
      "Slicing a positional slice with .loc is not supported, and will raise TypeError in a future version.  Use .loc with labels or .iloc with positions instead.\n",
      "\n",
      "C:\\Users\\chanm\\AppData\\Local\\Temp\\ipykernel_23084\\3598513811.py:3: FutureWarning:\n",
      "\n",
      "Slicing a positional slice with .loc is not supported, and will raise TypeError in a future version.  Use .loc with labels or .iloc with positions instead.\n",
      "\n",
      "C:\\Users\\chanm\\AppData\\Local\\Temp\\ipykernel_23084\\3598513811.py:4: FutureWarning:\n",
      "\n",
      "Slicing a positional slice with .loc is not supported, and will raise TypeError in a future version.  Use .loc with labels or .iloc with positions instead.\n",
      "\n",
      "C:\\Users\\chanm\\AppData\\Local\\Temp\\ipykernel_23084\\3598513811.py:5: FutureWarning:\n",
      "\n",
      "Slicing a positional slice with .loc is not supported, and will raise TypeError in a future version.  Use .loc with labels or .iloc with positions instead.\n",
      "\n",
      "C:\\Users\\chanm\\AppData\\Local\\Temp\\ipykernel_23084\\3598513811.py:6: FutureWarning:\n",
      "\n",
      "Slicing a positional slice with .loc is not supported, and will raise TypeError in a future version.  Use .loc with labels or .iloc with positions instead.\n",
      "\n",
      "C:\\Users\\chanm\\AppData\\Local\\Temp\\ipykernel_23084\\3598513811.py:7: FutureWarning:\n",
      "\n",
      "Slicing a positional slice with .loc is not supported, and will raise TypeError in a future version.  Use .loc with labels or .iloc with positions instead.\n",
      "\n",
      "C:\\Users\\chanm\\AppData\\Local\\Temp\\ipykernel_23084\\3598513811.py:8: FutureWarning:\n",
      "\n",
      "Slicing a positional slice with .loc is not supported, and will raise TypeError in a future version.  Use .loc with labels or .iloc with positions instead.\n",
      "\n",
      "C:\\Users\\chanm\\AppData\\Local\\Temp\\ipykernel_23084\\3598513811.py:9: FutureWarning:\n",
      "\n",
      "Slicing a positional slice with .loc is not supported, and will raise TypeError in a future version.  Use .loc with labels or .iloc with positions instead.\n",
      "\n"
     ]
    }
   ],
   "source": [
    "custmer2019_09_compr.loc[0:1,'人數'] = len(custmer2019_09_con[custmer2019_09_con['分類'] == '新客']) \n",
    "custmer2019_09_compr.loc[1:2,'人數'] = len(custmer2019_09_con[custmer2019_09_con['分類'] == '舊客'])\n",
    "custmer2019_09_compr.loc[0:1,'人數%'] = round(100*(custmer2019_09_compr.iloc[0,0] / len(custmer2019_09_con['分類'])),1)\n",
    "custmer2019_09_compr.loc[1:2,'人數%'] = round(100*(custmer2019_09_compr.iloc[1,0] / len(custmer2019_09_con['分類'])),1)\n",
    "custmer2019_09_compr.loc[0:2,'消費金額'] = round(custmer2019_09_con.groupby('分類')['單價'].sum())\n",
    "custmer2019_09_compr.loc[0:2,'消費金額%'] = round(100*(custmer2019_09_con.groupby('分類')['單價'].sum() / custmer2019_09_con['單價'].sum()), 1)\n",
    "custmer2019_09_compr.loc[0:2,'每人平均消費'] = round((custmer2019_09_compr['消費金額'] / custmer2019_09_compr['人數']).astype(float))\n",
    "custmer2019_09_compr.loc[0:1,'每人消費中位數'] = round(np.percentile(custmer2019_09_con[custmer2019_09_con['分類']=='新客']['單價'], (50)))\n",
    "custmer2019_09_compr.loc[1:2,'每人消費中位數'] = round(np.percentile(custmer2019_09_con[custmer2019_09_con['分類']=='舊客']['單價'], (50)))"
   ]
  },
  {
   "cell_type": "code",
   "execution_count": 88,
   "metadata": {},
   "outputs": [
    {
     "data": {
      "text/html": [
       "<div>\n",
       "<style scoped>\n",
       "    .dataframe tbody tr th:only-of-type {\n",
       "        vertical-align: middle;\n",
       "    }\n",
       "\n",
       "    .dataframe tbody tr th {\n",
       "        vertical-align: top;\n",
       "    }\n",
       "\n",
       "    .dataframe thead th {\n",
       "        text-align: right;\n",
       "    }\n",
       "</style>\n",
       "<table border=\"1\" class=\"dataframe\">\n",
       "  <thead>\n",
       "    <tr style=\"text-align: right;\">\n",
       "      <th></th>\n",
       "      <th>人數</th>\n",
       "      <th>人數%</th>\n",
       "      <th>消費金額</th>\n",
       "      <th>消費金額%</th>\n",
       "      <th>每人平均消費</th>\n",
       "      <th>每人消費中位數</th>\n",
       "    </tr>\n",
       "  </thead>\n",
       "  <tbody>\n",
       "    <tr>\n",
       "      <th>新客</th>\n",
       "      <td>4203</td>\n",
       "      <td>86.4</td>\n",
       "      <td>8987759.0</td>\n",
       "      <td>85.1</td>\n",
       "      <td>2138.0</td>\n",
       "      <td>2023.0</td>\n",
       "    </tr>\n",
       "    <tr>\n",
       "      <th>舊客</th>\n",
       "      <td>661</td>\n",
       "      <td>13.6</td>\n",
       "      <td>1579792.0</td>\n",
       "      <td>14.9</td>\n",
       "      <td>2390.0</td>\n",
       "      <td>1969.0</td>\n",
       "    </tr>\n",
       "  </tbody>\n",
       "</table>\n",
       "</div>"
      ],
      "text/plain": [
       "      人數   人數%       消費金額  消費金額%  每人平均消費  每人消費中位數\n",
       "新客  4203  86.4  8987759.0   85.1  2138.0   2023.0\n",
       "舊客   661  13.6  1579792.0   14.9  2390.0   1969.0"
      ]
     },
     "execution_count": 88,
     "metadata": {},
     "output_type": "execute_result"
    }
   ],
   "source": [
    "custmer2019_09_compr"
   ]
  },
  {
   "cell_type": "markdown",
   "metadata": {},
   "source": [
    "# 廣告帶來收益分析"
   ]
  },
  {
   "cell_type": "code",
   "execution_count": 89,
   "metadata": {},
   "outputs": [],
   "source": [
    "custmer2019_09_ad =  pd.concat([custmer2019_09_old, custmer2019_09_new],axis=0)"
   ]
  },
  {
   "cell_type": "code",
   "execution_count": 90,
   "metadata": {},
   "outputs": [
    {
     "data": {
      "text/html": [
       "<div>\n",
       "<style scoped>\n",
       "    .dataframe tbody tr th:only-of-type {\n",
       "        vertical-align: middle;\n",
       "    }\n",
       "\n",
       "    .dataframe tbody tr th {\n",
       "        vertical-align: top;\n",
       "    }\n",
       "\n",
       "    .dataframe thead th {\n",
       "        text-align: right;\n",
       "    }\n",
       "</style>\n",
       "<table border=\"1\" class=\"dataframe\">\n",
       "  <thead>\n",
       "    <tr style=\"text-align: right;\">\n",
       "      <th></th>\n",
       "      <th>廣告代號all</th>\n",
       "      <th>單價</th>\n",
       "    </tr>\n",
       "  </thead>\n",
       "  <tbody>\n",
       "    <tr>\n",
       "      <th>2</th>\n",
       "      <td>廣告_B2KDG_P</td>\n",
       "      <td>4741072.595</td>\n",
       "    </tr>\n",
       "    <tr>\n",
       "      <th>37</th>\n",
       "      <td>廣告_自然流量</td>\n",
       "      <td>3661490.350</td>\n",
       "    </tr>\n",
       "    <tr>\n",
       "      <th>21</th>\n",
       "      <td>廣告_KBDG_P</td>\n",
       "      <td>455028.385</td>\n",
       "    </tr>\n",
       "    <tr>\n",
       "      <th>3</th>\n",
       "      <td>廣告_B2KDG_mp</td>\n",
       "      <td>300990.585</td>\n",
       "    </tr>\n",
       "    <tr>\n",
       "      <th>20</th>\n",
       "      <td>廣告_KBDG_MP</td>\n",
       "      <td>262818.360</td>\n",
       "    </tr>\n",
       "    <tr>\n",
       "      <th>19</th>\n",
       "      <td>廣告_KBDG_MK</td>\n",
       "      <td>206388.280</td>\n",
       "    </tr>\n",
       "    <tr>\n",
       "      <th>13</th>\n",
       "      <td>廣告_GINEMP_D</td>\n",
       "      <td>140706.720</td>\n",
       "    </tr>\n",
       "    <tr>\n",
       "      <th>15</th>\n",
       "      <td>廣告_GINEP_D</td>\n",
       "      <td>111715.240</td>\n",
       "    </tr>\n",
       "    <tr>\n",
       "      <th>12</th>\n",
       "      <td>廣告_GINEMK_D</td>\n",
       "      <td>97288.590</td>\n",
       "    </tr>\n",
       "    <tr>\n",
       "      <th>35</th>\n",
       "      <td>廣告_edmP_C</td>\n",
       "      <td>77986.160</td>\n",
       "    </tr>\n",
       "    <tr>\n",
       "      <th>27</th>\n",
       "      <td>廣告_KDMP_D</td>\n",
       "      <td>65321.305</td>\n",
       "    </tr>\n",
       "    <tr>\n",
       "      <th>1</th>\n",
       "      <td>廣告_B2KDG_MP</td>\n",
       "      <td>64433.005</td>\n",
       "    </tr>\n",
       "    <tr>\n",
       "      <th>10</th>\n",
       "      <td>廣告_Ddwirds_GT</td>\n",
       "      <td>62266.540</td>\n",
       "    </tr>\n",
       "    <tr>\n",
       "      <th>14</th>\n",
       "      <td>廣告_GINEP_C</td>\n",
       "      <td>47186.825</td>\n",
       "    </tr>\n",
       "    <tr>\n",
       "      <th>34</th>\n",
       "      <td>廣告_edmMP_D</td>\n",
       "      <td>42248.535</td>\n",
       "    </tr>\n",
       "    <tr>\n",
       "      <th>0</th>\n",
       "      <td>廣告_B2KDG_MK</td>\n",
       "      <td>41171.060</td>\n",
       "    </tr>\n",
       "    <tr>\n",
       "      <th>11</th>\n",
       "      <td>廣告_GINEMK_C</td>\n",
       "      <td>25935.070</td>\n",
       "    </tr>\n",
       "    <tr>\n",
       "      <th>25</th>\n",
       "      <td>廣告_KBP_D</td>\n",
       "      <td>24949.715</td>\n",
       "    </tr>\n",
       "    <tr>\n",
       "      <th>6</th>\n",
       "      <td>廣告_B2KP_D</td>\n",
       "      <td>21588.980</td>\n",
       "    </tr>\n",
       "    <tr>\n",
       "      <th>8</th>\n",
       "      <td>廣告_DMDMP_D</td>\n",
       "      <td>19378.100</td>\n",
       "    </tr>\n",
       "    <tr>\n",
       "      <th>9</th>\n",
       "      <td>廣告_DPPP_D</td>\n",
       "      <td>16907.310</td>\n",
       "    </tr>\n",
       "    <tr>\n",
       "      <th>30</th>\n",
       "      <td>廣告_KDP_D</td>\n",
       "      <td>13136.970</td>\n",
       "    </tr>\n",
       "    <tr>\n",
       "      <th>17</th>\n",
       "      <td>廣告_IGDG_P</td>\n",
       "      <td>13076.105</td>\n",
       "    </tr>\n",
       "    <tr>\n",
       "      <th>36</th>\n",
       "      <td>廣告_edmP_D</td>\n",
       "      <td>8725.080</td>\n",
       "    </tr>\n",
       "    <tr>\n",
       "      <th>31</th>\n",
       "      <td>廣告_edmMK_C</td>\n",
       "      <td>7751.240</td>\n",
       "    </tr>\n",
       "    <tr>\n",
       "      <th>33</th>\n",
       "      <td>廣告_edmMP_C</td>\n",
       "      <td>7048.825</td>\n",
       "    </tr>\n",
       "    <tr>\n",
       "      <th>4</th>\n",
       "      <td>廣告_B2KMP_D</td>\n",
       "      <td>6509.265</td>\n",
       "    </tr>\n",
       "    <tr>\n",
       "      <th>16</th>\n",
       "      <td>廣告_IGDG_MP</td>\n",
       "      <td>5703.215</td>\n",
       "    </tr>\n",
       "    <tr>\n",
       "      <th>32</th>\n",
       "      <td>廣告_edmMK_D</td>\n",
       "      <td>4768.855</td>\n",
       "    </tr>\n",
       "    <tr>\n",
       "      <th>29</th>\n",
       "      <td>廣告_KDPOD_select</td>\n",
       "      <td>3285.065</td>\n",
       "    </tr>\n",
       "    <tr>\n",
       "      <th>7</th>\n",
       "      <td>廣告_B2K_jqejqe</td>\n",
       "      <td>2122.050</td>\n",
       "    </tr>\n",
       "    <tr>\n",
       "      <th>18</th>\n",
       "      <td>廣告_IGMP_D</td>\n",
       "      <td>2122.050</td>\n",
       "    </tr>\n",
       "    <tr>\n",
       "      <th>23</th>\n",
       "      <td>廣告_KBMP_D</td>\n",
       "      <td>1612.100</td>\n",
       "    </tr>\n",
       "    <tr>\n",
       "      <th>26</th>\n",
       "      <td>廣告_KDMK_C</td>\n",
       "      <td>1232.105</td>\n",
       "    </tr>\n",
       "    <tr>\n",
       "      <th>24</th>\n",
       "      <td>廣告_KBP_C</td>\n",
       "      <td>1135.050</td>\n",
       "    </tr>\n",
       "    <tr>\n",
       "      <th>5</th>\n",
       "      <td>廣告_B2KMP_P</td>\n",
       "      <td>987.000</td>\n",
       "    </tr>\n",
       "    <tr>\n",
       "      <th>22</th>\n",
       "      <td>廣告_KBDG_mp</td>\n",
       "      <td>970.550</td>\n",
       "    </tr>\n",
       "    <tr>\n",
       "      <th>28</th>\n",
       "      <td>廣告_KDMP_P</td>\n",
       "      <td>493.500</td>\n",
       "    </tr>\n",
       "  </tbody>\n",
       "</table>\n",
       "</div>"
      ],
      "text/plain": [
       "            廣告代號all           單價\n",
       "2        廣告_B2KDG_P  4741072.595\n",
       "37          廣告_自然流量  3661490.350\n",
       "21        廣告_KBDG_P   455028.385\n",
       "3       廣告_B2KDG_mp   300990.585\n",
       "20       廣告_KBDG_MP   262818.360\n",
       "19       廣告_KBDG_MK   206388.280\n",
       "13      廣告_GINEMP_D   140706.720\n",
       "15       廣告_GINEP_D   111715.240\n",
       "12      廣告_GINEMK_D    97288.590\n",
       "35        廣告_edmP_C    77986.160\n",
       "27        廣告_KDMP_D    65321.305\n",
       "1       廣告_B2KDG_MP    64433.005\n",
       "10    廣告_Ddwirds_GT    62266.540\n",
       "14       廣告_GINEP_C    47186.825\n",
       "34       廣告_edmMP_D    42248.535\n",
       "0       廣告_B2KDG_MK    41171.060\n",
       "11      廣告_GINEMK_C    25935.070\n",
       "25         廣告_KBP_D    24949.715\n",
       "6         廣告_B2KP_D    21588.980\n",
       "8        廣告_DMDMP_D    19378.100\n",
       "9         廣告_DPPP_D    16907.310\n",
       "30         廣告_KDP_D    13136.970\n",
       "17        廣告_IGDG_P    13076.105\n",
       "36        廣告_edmP_D     8725.080\n",
       "31       廣告_edmMK_C     7751.240\n",
       "33       廣告_edmMP_C     7048.825\n",
       "4        廣告_B2KMP_D     6509.265\n",
       "16       廣告_IGDG_MP     5703.215\n",
       "32       廣告_edmMK_D     4768.855\n",
       "29  廣告_KDPOD_select     3285.065\n",
       "7     廣告_B2K_jqejqe     2122.050\n",
       "18        廣告_IGMP_D     2122.050\n",
       "23        廣告_KBMP_D     1612.100\n",
       "26        廣告_KDMK_C     1232.105\n",
       "24         廣告_KBP_C     1135.050\n",
       "5        廣告_B2KMP_P      987.000\n",
       "22       廣告_KBDG_mp      970.550\n",
       "28        廣告_KDMP_P      493.500"
      ]
     },
     "execution_count": 90,
     "metadata": {},
     "output_type": "execute_result"
    }
   ],
   "source": [
    "# 計算9月每種廣告帶來的營收\n",
    "custmer2019_09_ad = custmer2019_09_ad.groupby('廣告代號all', as_index=False)['單價'].sum()\n",
    "#test_new_ad = (test_new_ad['會員'].count().merge(test_new_ad['單價'].sum()))\n",
    "custmer2019_09_ad = custmer2019_09_ad.sort_values('單價', ascending=False)\n",
    "custmer2019_09_ad"
   ]
  },
  {
   "cell_type": "code",
   "execution_count": 91,
   "metadata": {},
   "outputs": [
    {
     "data": {
      "application/vnd.plotly.v1+json": {
       "config": {
        "plotlyServerURL": "https://plot.ly"
       },
       "data": [
        {
         "domain": {
          "x": [
           0,
           1
          ],
          "y": [
           0,
           1
          ]
         },
         "hovertemplate": "廣告代號all=%{label}<br>單價=%{value}<extra></extra>",
         "labels": [
          "廣告_B2KDG_P",
          "廣告_自然流量",
          "廣告_KBDG_P",
          "廣告_B2KDG_mp",
          "廣告_KBDG_MP",
          "廣告_KBDG_MK",
          "廣告_GINEMP_D",
          "廣告_GINEP_D",
          "廣告_GINEMK_D",
          "廣告_edmP_C",
          "廣告_KDMP_D",
          "廣告_B2KDG_MP",
          "廣告_Ddwirds_GT",
          "廣告_GINEP_C",
          "廣告_edmMP_D",
          "廣告_B2KDG_MK",
          "廣告_GINEMK_C",
          "廣告_KBP_D",
          "廣告_B2KP_D",
          "廣告_DMDMP_D",
          "廣告_DPPP_D",
          "廣告_KDP_D",
          "廣告_IGDG_P",
          "廣告_edmP_D",
          "廣告_edmMK_C",
          "廣告_edmMP_C",
          "廣告_B2KMP_D",
          "廣告_IGDG_MP",
          "廣告_edmMK_D",
          "廣告_KDPOD_select",
          "廣告_B2K_jqejqe",
          "廣告_IGMP_D",
          "廣告_KBMP_D",
          "廣告_KDMK_C",
          "廣告_KBP_C",
          "廣告_B2KMP_P",
          "廣告_KBDG_mp",
          "廣告_KDMP_P"
         ],
         "legendgroup": "",
         "name": "",
         "showlegend": true,
         "textinfo": "percent+label",
         "textposition": "inside",
         "type": "pie",
         "values": [
          4741072.595,
          3661490.35,
          455028.385,
          300990.585,
          262818.36,
          206388.28,
          140706.72,
          111715.24,
          97288.59,
          77986.16,
          65321.305,
          64433.005,
          62266.54,
          47186.825,
          42248.534999999996,
          41171.06,
          25935.07,
          24949.715,
          21588.98,
          19378.1,
          16907.31,
          13136.97,
          13076.105,
          8725.08,
          7751.24,
          7048.825,
          6509.265,
          5703.215,
          4768.855,
          3285.065,
          2122.05,
          2122.05,
          1612.1,
          1232.105,
          1135.05,
          987,
          970.55,
          493.5
         ]
        }
       ],
       "layout": {
        "legend": {
         "tracegroupgap": 0
        },
        "margin": {
         "t": 60
        },
        "template": {
         "data": {
          "bar": [
           {
            "error_x": {
             "color": "#2a3f5f"
            },
            "error_y": {
             "color": "#2a3f5f"
            },
            "marker": {
             "line": {
              "color": "#E5ECF6",
              "width": 0.5
             },
             "pattern": {
              "fillmode": "overlay",
              "size": 10,
              "solidity": 0.2
             }
            },
            "type": "bar"
           }
          ],
          "barpolar": [
           {
            "marker": {
             "line": {
              "color": "#E5ECF6",
              "width": 0.5
             },
             "pattern": {
              "fillmode": "overlay",
              "size": 10,
              "solidity": 0.2
             }
            },
            "type": "barpolar"
           }
          ],
          "carpet": [
           {
            "aaxis": {
             "endlinecolor": "#2a3f5f",
             "gridcolor": "white",
             "linecolor": "white",
             "minorgridcolor": "white",
             "startlinecolor": "#2a3f5f"
            },
            "baxis": {
             "endlinecolor": "#2a3f5f",
             "gridcolor": "white",
             "linecolor": "white",
             "minorgridcolor": "white",
             "startlinecolor": "#2a3f5f"
            },
            "type": "carpet"
           }
          ],
          "choropleth": [
           {
            "colorbar": {
             "outlinewidth": 0,
             "ticks": ""
            },
            "type": "choropleth"
           }
          ],
          "contour": [
           {
            "colorbar": {
             "outlinewidth": 0,
             "ticks": ""
            },
            "colorscale": [
             [
              0,
              "#0d0887"
             ],
             [
              0.1111111111111111,
              "#46039f"
             ],
             [
              0.2222222222222222,
              "#7201a8"
             ],
             [
              0.3333333333333333,
              "#9c179e"
             ],
             [
              0.4444444444444444,
              "#bd3786"
             ],
             [
              0.5555555555555556,
              "#d8576b"
             ],
             [
              0.6666666666666666,
              "#ed7953"
             ],
             [
              0.7777777777777778,
              "#fb9f3a"
             ],
             [
              0.8888888888888888,
              "#fdca26"
             ],
             [
              1,
              "#f0f921"
             ]
            ],
            "type": "contour"
           }
          ],
          "contourcarpet": [
           {
            "colorbar": {
             "outlinewidth": 0,
             "ticks": ""
            },
            "type": "contourcarpet"
           }
          ],
          "heatmap": [
           {
            "colorbar": {
             "outlinewidth": 0,
             "ticks": ""
            },
            "colorscale": [
             [
              0,
              "#0d0887"
             ],
             [
              0.1111111111111111,
              "#46039f"
             ],
             [
              0.2222222222222222,
              "#7201a8"
             ],
             [
              0.3333333333333333,
              "#9c179e"
             ],
             [
              0.4444444444444444,
              "#bd3786"
             ],
             [
              0.5555555555555556,
              "#d8576b"
             ],
             [
              0.6666666666666666,
              "#ed7953"
             ],
             [
              0.7777777777777778,
              "#fb9f3a"
             ],
             [
              0.8888888888888888,
              "#fdca26"
             ],
             [
              1,
              "#f0f921"
             ]
            ],
            "type": "heatmap"
           }
          ],
          "heatmapgl": [
           {
            "colorbar": {
             "outlinewidth": 0,
             "ticks": ""
            },
            "colorscale": [
             [
              0,
              "#0d0887"
             ],
             [
              0.1111111111111111,
              "#46039f"
             ],
             [
              0.2222222222222222,
              "#7201a8"
             ],
             [
              0.3333333333333333,
              "#9c179e"
             ],
             [
              0.4444444444444444,
              "#bd3786"
             ],
             [
              0.5555555555555556,
              "#d8576b"
             ],
             [
              0.6666666666666666,
              "#ed7953"
             ],
             [
              0.7777777777777778,
              "#fb9f3a"
             ],
             [
              0.8888888888888888,
              "#fdca26"
             ],
             [
              1,
              "#f0f921"
             ]
            ],
            "type": "heatmapgl"
           }
          ],
          "histogram": [
           {
            "marker": {
             "pattern": {
              "fillmode": "overlay",
              "size": 10,
              "solidity": 0.2
             }
            },
            "type": "histogram"
           }
          ],
          "histogram2d": [
           {
            "colorbar": {
             "outlinewidth": 0,
             "ticks": ""
            },
            "colorscale": [
             [
              0,
              "#0d0887"
             ],
             [
              0.1111111111111111,
              "#46039f"
             ],
             [
              0.2222222222222222,
              "#7201a8"
             ],
             [
              0.3333333333333333,
              "#9c179e"
             ],
             [
              0.4444444444444444,
              "#bd3786"
             ],
             [
              0.5555555555555556,
              "#d8576b"
             ],
             [
              0.6666666666666666,
              "#ed7953"
             ],
             [
              0.7777777777777778,
              "#fb9f3a"
             ],
             [
              0.8888888888888888,
              "#fdca26"
             ],
             [
              1,
              "#f0f921"
             ]
            ],
            "type": "histogram2d"
           }
          ],
          "histogram2dcontour": [
           {
            "colorbar": {
             "outlinewidth": 0,
             "ticks": ""
            },
            "colorscale": [
             [
              0,
              "#0d0887"
             ],
             [
              0.1111111111111111,
              "#46039f"
             ],
             [
              0.2222222222222222,
              "#7201a8"
             ],
             [
              0.3333333333333333,
              "#9c179e"
             ],
             [
              0.4444444444444444,
              "#bd3786"
             ],
             [
              0.5555555555555556,
              "#d8576b"
             ],
             [
              0.6666666666666666,
              "#ed7953"
             ],
             [
              0.7777777777777778,
              "#fb9f3a"
             ],
             [
              0.8888888888888888,
              "#fdca26"
             ],
             [
              1,
              "#f0f921"
             ]
            ],
            "type": "histogram2dcontour"
           }
          ],
          "mesh3d": [
           {
            "colorbar": {
             "outlinewidth": 0,
             "ticks": ""
            },
            "type": "mesh3d"
           }
          ],
          "parcoords": [
           {
            "line": {
             "colorbar": {
              "outlinewidth": 0,
              "ticks": ""
             }
            },
            "type": "parcoords"
           }
          ],
          "pie": [
           {
            "automargin": true,
            "type": "pie"
           }
          ],
          "scatter": [
           {
            "marker": {
             "colorbar": {
              "outlinewidth": 0,
              "ticks": ""
             }
            },
            "type": "scatter"
           }
          ],
          "scatter3d": [
           {
            "line": {
             "colorbar": {
              "outlinewidth": 0,
              "ticks": ""
             }
            },
            "marker": {
             "colorbar": {
              "outlinewidth": 0,
              "ticks": ""
             }
            },
            "type": "scatter3d"
           }
          ],
          "scattercarpet": [
           {
            "marker": {
             "colorbar": {
              "outlinewidth": 0,
              "ticks": ""
             }
            },
            "type": "scattercarpet"
           }
          ],
          "scattergeo": [
           {
            "marker": {
             "colorbar": {
              "outlinewidth": 0,
              "ticks": ""
             }
            },
            "type": "scattergeo"
           }
          ],
          "scattergl": [
           {
            "marker": {
             "colorbar": {
              "outlinewidth": 0,
              "ticks": ""
             }
            },
            "type": "scattergl"
           }
          ],
          "scattermapbox": [
           {
            "marker": {
             "colorbar": {
              "outlinewidth": 0,
              "ticks": ""
             }
            },
            "type": "scattermapbox"
           }
          ],
          "scatterpolar": [
           {
            "marker": {
             "colorbar": {
              "outlinewidth": 0,
              "ticks": ""
             }
            },
            "type": "scatterpolar"
           }
          ],
          "scatterpolargl": [
           {
            "marker": {
             "colorbar": {
              "outlinewidth": 0,
              "ticks": ""
             }
            },
            "type": "scatterpolargl"
           }
          ],
          "scatterternary": [
           {
            "marker": {
             "colorbar": {
              "outlinewidth": 0,
              "ticks": ""
             }
            },
            "type": "scatterternary"
           }
          ],
          "surface": [
           {
            "colorbar": {
             "outlinewidth": 0,
             "ticks": ""
            },
            "colorscale": [
             [
              0,
              "#0d0887"
             ],
             [
              0.1111111111111111,
              "#46039f"
             ],
             [
              0.2222222222222222,
              "#7201a8"
             ],
             [
              0.3333333333333333,
              "#9c179e"
             ],
             [
              0.4444444444444444,
              "#bd3786"
             ],
             [
              0.5555555555555556,
              "#d8576b"
             ],
             [
              0.6666666666666666,
              "#ed7953"
             ],
             [
              0.7777777777777778,
              "#fb9f3a"
             ],
             [
              0.8888888888888888,
              "#fdca26"
             ],
             [
              1,
              "#f0f921"
             ]
            ],
            "type": "surface"
           }
          ],
          "table": [
           {
            "cells": {
             "fill": {
              "color": "#EBF0F8"
             },
             "line": {
              "color": "white"
             }
            },
            "header": {
             "fill": {
              "color": "#C8D4E3"
             },
             "line": {
              "color": "white"
             }
            },
            "type": "table"
           }
          ]
         },
         "layout": {
          "annotationdefaults": {
           "arrowcolor": "#2a3f5f",
           "arrowhead": 0,
           "arrowwidth": 1
          },
          "autotypenumbers": "strict",
          "coloraxis": {
           "colorbar": {
            "outlinewidth": 0,
            "ticks": ""
           }
          },
          "colorscale": {
           "diverging": [
            [
             0,
             "#8e0152"
            ],
            [
             0.1,
             "#c51b7d"
            ],
            [
             0.2,
             "#de77ae"
            ],
            [
             0.3,
             "#f1b6da"
            ],
            [
             0.4,
             "#fde0ef"
            ],
            [
             0.5,
             "#f7f7f7"
            ],
            [
             0.6,
             "#e6f5d0"
            ],
            [
             0.7,
             "#b8e186"
            ],
            [
             0.8,
             "#7fbc41"
            ],
            [
             0.9,
             "#4d9221"
            ],
            [
             1,
             "#276419"
            ]
           ],
           "sequential": [
            [
             0,
             "#0d0887"
            ],
            [
             0.1111111111111111,
             "#46039f"
            ],
            [
             0.2222222222222222,
             "#7201a8"
            ],
            [
             0.3333333333333333,
             "#9c179e"
            ],
            [
             0.4444444444444444,
             "#bd3786"
            ],
            [
             0.5555555555555556,
             "#d8576b"
            ],
            [
             0.6666666666666666,
             "#ed7953"
            ],
            [
             0.7777777777777778,
             "#fb9f3a"
            ],
            [
             0.8888888888888888,
             "#fdca26"
            ],
            [
             1,
             "#f0f921"
            ]
           ],
           "sequentialminus": [
            [
             0,
             "#0d0887"
            ],
            [
             0.1111111111111111,
             "#46039f"
            ],
            [
             0.2222222222222222,
             "#7201a8"
            ],
            [
             0.3333333333333333,
             "#9c179e"
            ],
            [
             0.4444444444444444,
             "#bd3786"
            ],
            [
             0.5555555555555556,
             "#d8576b"
            ],
            [
             0.6666666666666666,
             "#ed7953"
            ],
            [
             0.7777777777777778,
             "#fb9f3a"
            ],
            [
             0.8888888888888888,
             "#fdca26"
            ],
            [
             1,
             "#f0f921"
            ]
           ]
          },
          "colorway": [
           "#636efa",
           "#EF553B",
           "#00cc96",
           "#ab63fa",
           "#FFA15A",
           "#19d3f3",
           "#FF6692",
           "#B6E880",
           "#FF97FF",
           "#FECB52"
          ],
          "font": {
           "color": "#2a3f5f"
          },
          "geo": {
           "bgcolor": "white",
           "lakecolor": "white",
           "landcolor": "#E5ECF6",
           "showlakes": true,
           "showland": true,
           "subunitcolor": "white"
          },
          "hoverlabel": {
           "align": "left"
          },
          "hovermode": "closest",
          "mapbox": {
           "style": "light"
          },
          "paper_bgcolor": "white",
          "plot_bgcolor": "#E5ECF6",
          "polar": {
           "angularaxis": {
            "gridcolor": "white",
            "linecolor": "white",
            "ticks": ""
           },
           "bgcolor": "#E5ECF6",
           "radialaxis": {
            "gridcolor": "white",
            "linecolor": "white",
            "ticks": ""
           }
          },
          "scene": {
           "xaxis": {
            "backgroundcolor": "#E5ECF6",
            "gridcolor": "white",
            "gridwidth": 2,
            "linecolor": "white",
            "showbackground": true,
            "ticks": "",
            "zerolinecolor": "white"
           },
           "yaxis": {
            "backgroundcolor": "#E5ECF6",
            "gridcolor": "white",
            "gridwidth": 2,
            "linecolor": "white",
            "showbackground": true,
            "ticks": "",
            "zerolinecolor": "white"
           },
           "zaxis": {
            "backgroundcolor": "#E5ECF6",
            "gridcolor": "white",
            "gridwidth": 2,
            "linecolor": "white",
            "showbackground": true,
            "ticks": "",
            "zerolinecolor": "white"
           }
          },
          "shapedefaults": {
           "line": {
            "color": "#2a3f5f"
           }
          },
          "ternary": {
           "aaxis": {
            "gridcolor": "white",
            "linecolor": "white",
            "ticks": ""
           },
           "baxis": {
            "gridcolor": "white",
            "linecolor": "white",
            "ticks": ""
           },
           "bgcolor": "#E5ECF6",
           "caxis": {
            "gridcolor": "white",
            "linecolor": "white",
            "ticks": ""
           }
          },
          "title": {
           "x": 0.05
          },
          "xaxis": {
           "automargin": true,
           "gridcolor": "white",
           "linecolor": "white",
           "ticks": "",
           "title": {
            "standoff": 15
           },
           "zerolinecolor": "white",
           "zerolinewidth": 2
          },
          "yaxis": {
           "automargin": true,
           "gridcolor": "white",
           "linecolor": "white",
           "ticks": "",
           "title": {
            "standoff": 15
           },
           "zerolinecolor": "white",
           "zerolinewidth": 2
          }
         }
        }
       }
      }
     },
     "metadata": {},
     "output_type": "display_data"
    }
   ],
   "source": [
    "# title='2019-9廣告帶來的收益'\n",
    "fig_custmer2019_09_ad = px.pie(custmer2019_09_ad, values='單價', names='廣告代號all')\n",
    "fig_custmer2019_09_ad.update_traces(textposition='inside', textinfo='percent+label')\n",
    "fig_custmer2019_09_ad.show()"
   ]
  },
  {
   "cell_type": "code",
   "execution_count": 92,
   "metadata": {},
   "outputs": [
    {
     "data": {
      "text/html": [
       "<div>\n",
       "<style scoped>\n",
       "    .dataframe tbody tr th:only-of-type {\n",
       "        vertical-align: middle;\n",
       "    }\n",
       "\n",
       "    .dataframe tbody tr th {\n",
       "        vertical-align: top;\n",
       "    }\n",
       "\n",
       "    .dataframe thead th {\n",
       "        text-align: right;\n",
       "    }\n",
       "</style>\n",
       "<table border=\"1\" class=\"dataframe\">\n",
       "  <thead>\n",
       "    <tr style=\"text-align: right;\">\n",
       "      <th></th>\n",
       "      <th>廣告代號all</th>\n",
       "      <th>會員</th>\n",
       "    </tr>\n",
       "  </thead>\n",
       "  <tbody>\n",
       "    <tr>\n",
       "      <th>2</th>\n",
       "      <td>廣告_B2KDG_P</td>\n",
       "      <td>2148</td>\n",
       "    </tr>\n",
       "    <tr>\n",
       "      <th>36</th>\n",
       "      <td>廣告_自然流量</td>\n",
       "      <td>1313</td>\n",
       "    </tr>\n",
       "    <tr>\n",
       "      <th>21</th>\n",
       "      <td>廣告_KBDG_P</td>\n",
       "      <td>146</td>\n",
       "    </tr>\n",
       "    <tr>\n",
       "      <th>3</th>\n",
       "      <td>廣告_B2KDG_mp</td>\n",
       "      <td>133</td>\n",
       "    </tr>\n",
       "    <tr>\n",
       "      <th>20</th>\n",
       "      <td>廣告_KBDG_MP</td>\n",
       "      <td>118</td>\n",
       "    </tr>\n",
       "    <tr>\n",
       "      <th>19</th>\n",
       "      <td>廣告_KBDG_MK</td>\n",
       "      <td>104</td>\n",
       "    </tr>\n",
       "    <tr>\n",
       "      <th>0</th>\n",
       "      <td>廣告_B2KDG_MK</td>\n",
       "      <td>46</td>\n",
       "    </tr>\n",
       "    <tr>\n",
       "      <th>10</th>\n",
       "      <td>廣告_Ddwirds_GT</td>\n",
       "      <td>39</td>\n",
       "    </tr>\n",
       "    <tr>\n",
       "      <th>1</th>\n",
       "      <td>廣告_B2KDG_MP</td>\n",
       "      <td>21</td>\n",
       "    </tr>\n",
       "    <tr>\n",
       "      <th>13</th>\n",
       "      <td>廣告_GINEMP_D</td>\n",
       "      <td>21</td>\n",
       "    </tr>\n",
       "    <tr>\n",
       "      <th>27</th>\n",
       "      <td>廣告_KDMP_D</td>\n",
       "      <td>19</td>\n",
       "    </tr>\n",
       "    <tr>\n",
       "      <th>12</th>\n",
       "      <td>廣告_GINEMK_D</td>\n",
       "      <td>16</td>\n",
       "    </tr>\n",
       "    <tr>\n",
       "      <th>15</th>\n",
       "      <td>廣告_GINEP_D</td>\n",
       "      <td>12</td>\n",
       "    </tr>\n",
       "    <tr>\n",
       "      <th>17</th>\n",
       "      <td>廣告_IGDG_P</td>\n",
       "      <td>12</td>\n",
       "    </tr>\n",
       "    <tr>\n",
       "      <th>6</th>\n",
       "      <td>廣告_B2KP_D</td>\n",
       "      <td>11</td>\n",
       "    </tr>\n",
       "    <tr>\n",
       "      <th>9</th>\n",
       "      <td>廣告_DPPP_D</td>\n",
       "      <td>10</td>\n",
       "    </tr>\n",
       "    <tr>\n",
       "      <th>34</th>\n",
       "      <td>廣告_edmP_C</td>\n",
       "      <td>10</td>\n",
       "    </tr>\n",
       "    <tr>\n",
       "      <th>25</th>\n",
       "      <td>廣告_KBP_D</td>\n",
       "      <td>7</td>\n",
       "    </tr>\n",
       "    <tr>\n",
       "      <th>33</th>\n",
       "      <td>廣告_edmMP_D</td>\n",
       "      <td>5</td>\n",
       "    </tr>\n",
       "    <tr>\n",
       "      <th>14</th>\n",
       "      <td>廣告_GINEP_C</td>\n",
       "      <td>4</td>\n",
       "    </tr>\n",
       "    <tr>\n",
       "      <th>30</th>\n",
       "      <td>廣告_KDP_D</td>\n",
       "      <td>4</td>\n",
       "    </tr>\n",
       "    <tr>\n",
       "      <th>35</th>\n",
       "      <td>廣告_edmP_D</td>\n",
       "      <td>3</td>\n",
       "    </tr>\n",
       "    <tr>\n",
       "      <th>31</th>\n",
       "      <td>廣告_edmMK_C</td>\n",
       "      <td>3</td>\n",
       "    </tr>\n",
       "    <tr>\n",
       "      <th>8</th>\n",
       "      <td>廣告_DMDMP_D</td>\n",
       "      <td>2</td>\n",
       "    </tr>\n",
       "    <tr>\n",
       "      <th>4</th>\n",
       "      <td>廣告_B2KMP_D</td>\n",
       "      <td>2</td>\n",
       "    </tr>\n",
       "    <tr>\n",
       "      <th>5</th>\n",
       "      <td>廣告_B2KMP_P</td>\n",
       "      <td>2</td>\n",
       "    </tr>\n",
       "    <tr>\n",
       "      <th>16</th>\n",
       "      <td>廣告_IGDG_MP</td>\n",
       "      <td>2</td>\n",
       "    </tr>\n",
       "    <tr>\n",
       "      <th>11</th>\n",
       "      <td>廣告_GINEMK_C</td>\n",
       "      <td>2</td>\n",
       "    </tr>\n",
       "    <tr>\n",
       "      <th>32</th>\n",
       "      <td>廣告_edmMP_C</td>\n",
       "      <td>2</td>\n",
       "    </tr>\n",
       "    <tr>\n",
       "      <th>7</th>\n",
       "      <td>廣告_B2K_jqejqe</td>\n",
       "      <td>1</td>\n",
       "    </tr>\n",
       "    <tr>\n",
       "      <th>22</th>\n",
       "      <td>廣告_KBDG_mp</td>\n",
       "      <td>1</td>\n",
       "    </tr>\n",
       "    <tr>\n",
       "      <th>29</th>\n",
       "      <td>廣告_KDPOD_select</td>\n",
       "      <td>1</td>\n",
       "    </tr>\n",
       "    <tr>\n",
       "      <th>28</th>\n",
       "      <td>廣告_KDMP_P</td>\n",
       "      <td>1</td>\n",
       "    </tr>\n",
       "    <tr>\n",
       "      <th>26</th>\n",
       "      <td>廣告_KDMK_C</td>\n",
       "      <td>1</td>\n",
       "    </tr>\n",
       "    <tr>\n",
       "      <th>24</th>\n",
       "      <td>廣告_KBP_C</td>\n",
       "      <td>1</td>\n",
       "    </tr>\n",
       "    <tr>\n",
       "      <th>23</th>\n",
       "      <td>廣告_KBMP_D</td>\n",
       "      <td>1</td>\n",
       "    </tr>\n",
       "    <tr>\n",
       "      <th>18</th>\n",
       "      <td>廣告_IGMP_D</td>\n",
       "      <td>1</td>\n",
       "    </tr>\n",
       "  </tbody>\n",
       "</table>\n",
       "</div>"
      ],
      "text/plain": [
       "            廣告代號all    會員\n",
       "2        廣告_B2KDG_P  2148\n",
       "36          廣告_自然流量  1313\n",
       "21        廣告_KBDG_P   146\n",
       "3       廣告_B2KDG_mp   133\n",
       "20       廣告_KBDG_MP   118\n",
       "19       廣告_KBDG_MK   104\n",
       "0       廣告_B2KDG_MK    46\n",
       "10    廣告_Ddwirds_GT    39\n",
       "1       廣告_B2KDG_MP    21\n",
       "13      廣告_GINEMP_D    21\n",
       "27        廣告_KDMP_D    19\n",
       "12      廣告_GINEMK_D    16\n",
       "15       廣告_GINEP_D    12\n",
       "17        廣告_IGDG_P    12\n",
       "6         廣告_B2KP_D    11\n",
       "9         廣告_DPPP_D    10\n",
       "34        廣告_edmP_C    10\n",
       "25         廣告_KBP_D     7\n",
       "33       廣告_edmMP_D     5\n",
       "14       廣告_GINEP_C     4\n",
       "30         廣告_KDP_D     4\n",
       "35        廣告_edmP_D     3\n",
       "31       廣告_edmMK_C     3\n",
       "8        廣告_DMDMP_D     2\n",
       "4        廣告_B2KMP_D     2\n",
       "5        廣告_B2KMP_P     2\n",
       "16       廣告_IGDG_MP     2\n",
       "11      廣告_GINEMK_C     2\n",
       "32       廣告_edmMP_C     2\n",
       "7     廣告_B2K_jqejqe     1\n",
       "22       廣告_KBDG_mp     1\n",
       "29  廣告_KDPOD_select     1\n",
       "28        廣告_KDMP_P     1\n",
       "26        廣告_KDMK_C     1\n",
       "24         廣告_KBP_C     1\n",
       "23        廣告_KBMP_D     1\n",
       "18        廣告_IGMP_D     1"
      ]
     },
     "execution_count": 92,
     "metadata": {},
     "output_type": "execute_result"
    }
   ],
   "source": [
    "# title='2019-9廣告帶來的新客' \n",
    "custmer2019_09_ad_new = custmer2019_09_new.groupby(['會員', '廣告代號all'], as_index=False)['單價'].sum()\n",
    "custmer2019_09_ad_new = custmer2019_09_ad_new.sort_values('單價', ascending=False)\n",
    "custmer2019_09_ad_new = custmer2019_09_ad_new.groupby('廣告代號all', as_index=False)['會員'].count()\n",
    "custmer2019_09_ad_new = custmer2019_09_ad_new.sort_values('會員', ascending=False)\n",
    "custmer2019_09_ad_new\n"
   ]
  },
  {
   "cell_type": "code",
   "execution_count": 93,
   "metadata": {},
   "outputs": [
    {
     "data": {
      "application/vnd.plotly.v1+json": {
       "config": {
        "plotlyServerURL": "https://plot.ly"
       },
       "data": [
        {
         "domain": {
          "x": [
           0,
           1
          ],
          "y": [
           0,
           1
          ]
         },
         "hovertemplate": "廣告代號all=%{label}<br>會員=%{value}<extra></extra>",
         "labels": [
          "廣告_B2KDG_P",
          "廣告_自然流量",
          "廣告_KBDG_P",
          "廣告_B2KDG_mp",
          "廣告_KBDG_MP",
          "廣告_KBDG_MK",
          "廣告_B2KDG_MK",
          "廣告_Ddwirds_GT",
          "廣告_B2KDG_MP",
          "廣告_GINEMP_D",
          "廣告_KDMP_D",
          "廣告_GINEMK_D",
          "廣告_GINEP_D",
          "廣告_IGDG_P",
          "廣告_B2KP_D",
          "廣告_DPPP_D",
          "廣告_edmP_C",
          "廣告_KBP_D",
          "廣告_edmMP_D",
          "廣告_GINEP_C",
          "廣告_KDP_D",
          "廣告_edmP_D",
          "廣告_edmMK_C",
          "廣告_DMDMP_D",
          "廣告_B2KMP_D",
          "廣告_B2KMP_P",
          "廣告_IGDG_MP",
          "廣告_GINEMK_C",
          "廣告_edmMP_C",
          "廣告_B2K_jqejqe",
          "廣告_KBDG_mp",
          "廣告_KDPOD_select",
          "廣告_KDMP_P",
          "廣告_KDMK_C",
          "廣告_KBP_C",
          "廣告_KBMP_D",
          "廣告_IGMP_D"
         ],
         "legendgroup": "",
         "name": "",
         "showlegend": true,
         "textinfo": "percent+label",
         "textposition": "inside",
         "type": "pie",
         "values": [
          2148,
          1313,
          146,
          133,
          118,
          104,
          46,
          39,
          21,
          21,
          19,
          16,
          12,
          12,
          11,
          10,
          10,
          7,
          5,
          4,
          4,
          3,
          3,
          2,
          2,
          2,
          2,
          2,
          2,
          1,
          1,
          1,
          1,
          1,
          1,
          1,
          1
         ]
        }
       ],
       "layout": {
        "legend": {
         "tracegroupgap": 0
        },
        "margin": {
         "t": 60
        },
        "template": {
         "data": {
          "bar": [
           {
            "error_x": {
             "color": "#2a3f5f"
            },
            "error_y": {
             "color": "#2a3f5f"
            },
            "marker": {
             "line": {
              "color": "#E5ECF6",
              "width": 0.5
             },
             "pattern": {
              "fillmode": "overlay",
              "size": 10,
              "solidity": 0.2
             }
            },
            "type": "bar"
           }
          ],
          "barpolar": [
           {
            "marker": {
             "line": {
              "color": "#E5ECF6",
              "width": 0.5
             },
             "pattern": {
              "fillmode": "overlay",
              "size": 10,
              "solidity": 0.2
             }
            },
            "type": "barpolar"
           }
          ],
          "carpet": [
           {
            "aaxis": {
             "endlinecolor": "#2a3f5f",
             "gridcolor": "white",
             "linecolor": "white",
             "minorgridcolor": "white",
             "startlinecolor": "#2a3f5f"
            },
            "baxis": {
             "endlinecolor": "#2a3f5f",
             "gridcolor": "white",
             "linecolor": "white",
             "minorgridcolor": "white",
             "startlinecolor": "#2a3f5f"
            },
            "type": "carpet"
           }
          ],
          "choropleth": [
           {
            "colorbar": {
             "outlinewidth": 0,
             "ticks": ""
            },
            "type": "choropleth"
           }
          ],
          "contour": [
           {
            "colorbar": {
             "outlinewidth": 0,
             "ticks": ""
            },
            "colorscale": [
             [
              0,
              "#0d0887"
             ],
             [
              0.1111111111111111,
              "#46039f"
             ],
             [
              0.2222222222222222,
              "#7201a8"
             ],
             [
              0.3333333333333333,
              "#9c179e"
             ],
             [
              0.4444444444444444,
              "#bd3786"
             ],
             [
              0.5555555555555556,
              "#d8576b"
             ],
             [
              0.6666666666666666,
              "#ed7953"
             ],
             [
              0.7777777777777778,
              "#fb9f3a"
             ],
             [
              0.8888888888888888,
              "#fdca26"
             ],
             [
              1,
              "#f0f921"
             ]
            ],
            "type": "contour"
           }
          ],
          "contourcarpet": [
           {
            "colorbar": {
             "outlinewidth": 0,
             "ticks": ""
            },
            "type": "contourcarpet"
           }
          ],
          "heatmap": [
           {
            "colorbar": {
             "outlinewidth": 0,
             "ticks": ""
            },
            "colorscale": [
             [
              0,
              "#0d0887"
             ],
             [
              0.1111111111111111,
              "#46039f"
             ],
             [
              0.2222222222222222,
              "#7201a8"
             ],
             [
              0.3333333333333333,
              "#9c179e"
             ],
             [
              0.4444444444444444,
              "#bd3786"
             ],
             [
              0.5555555555555556,
              "#d8576b"
             ],
             [
              0.6666666666666666,
              "#ed7953"
             ],
             [
              0.7777777777777778,
              "#fb9f3a"
             ],
             [
              0.8888888888888888,
              "#fdca26"
             ],
             [
              1,
              "#f0f921"
             ]
            ],
            "type": "heatmap"
           }
          ],
          "heatmapgl": [
           {
            "colorbar": {
             "outlinewidth": 0,
             "ticks": ""
            },
            "colorscale": [
             [
              0,
              "#0d0887"
             ],
             [
              0.1111111111111111,
              "#46039f"
             ],
             [
              0.2222222222222222,
              "#7201a8"
             ],
             [
              0.3333333333333333,
              "#9c179e"
             ],
             [
              0.4444444444444444,
              "#bd3786"
             ],
             [
              0.5555555555555556,
              "#d8576b"
             ],
             [
              0.6666666666666666,
              "#ed7953"
             ],
             [
              0.7777777777777778,
              "#fb9f3a"
             ],
             [
              0.8888888888888888,
              "#fdca26"
             ],
             [
              1,
              "#f0f921"
             ]
            ],
            "type": "heatmapgl"
           }
          ],
          "histogram": [
           {
            "marker": {
             "pattern": {
              "fillmode": "overlay",
              "size": 10,
              "solidity": 0.2
             }
            },
            "type": "histogram"
           }
          ],
          "histogram2d": [
           {
            "colorbar": {
             "outlinewidth": 0,
             "ticks": ""
            },
            "colorscale": [
             [
              0,
              "#0d0887"
             ],
             [
              0.1111111111111111,
              "#46039f"
             ],
             [
              0.2222222222222222,
              "#7201a8"
             ],
             [
              0.3333333333333333,
              "#9c179e"
             ],
             [
              0.4444444444444444,
              "#bd3786"
             ],
             [
              0.5555555555555556,
              "#d8576b"
             ],
             [
              0.6666666666666666,
              "#ed7953"
             ],
             [
              0.7777777777777778,
              "#fb9f3a"
             ],
             [
              0.8888888888888888,
              "#fdca26"
             ],
             [
              1,
              "#f0f921"
             ]
            ],
            "type": "histogram2d"
           }
          ],
          "histogram2dcontour": [
           {
            "colorbar": {
             "outlinewidth": 0,
             "ticks": ""
            },
            "colorscale": [
             [
              0,
              "#0d0887"
             ],
             [
              0.1111111111111111,
              "#46039f"
             ],
             [
              0.2222222222222222,
              "#7201a8"
             ],
             [
              0.3333333333333333,
              "#9c179e"
             ],
             [
              0.4444444444444444,
              "#bd3786"
             ],
             [
              0.5555555555555556,
              "#d8576b"
             ],
             [
              0.6666666666666666,
              "#ed7953"
             ],
             [
              0.7777777777777778,
              "#fb9f3a"
             ],
             [
              0.8888888888888888,
              "#fdca26"
             ],
             [
              1,
              "#f0f921"
             ]
            ],
            "type": "histogram2dcontour"
           }
          ],
          "mesh3d": [
           {
            "colorbar": {
             "outlinewidth": 0,
             "ticks": ""
            },
            "type": "mesh3d"
           }
          ],
          "parcoords": [
           {
            "line": {
             "colorbar": {
              "outlinewidth": 0,
              "ticks": ""
             }
            },
            "type": "parcoords"
           }
          ],
          "pie": [
           {
            "automargin": true,
            "type": "pie"
           }
          ],
          "scatter": [
           {
            "marker": {
             "colorbar": {
              "outlinewidth": 0,
              "ticks": ""
             }
            },
            "type": "scatter"
           }
          ],
          "scatter3d": [
           {
            "line": {
             "colorbar": {
              "outlinewidth": 0,
              "ticks": ""
             }
            },
            "marker": {
             "colorbar": {
              "outlinewidth": 0,
              "ticks": ""
             }
            },
            "type": "scatter3d"
           }
          ],
          "scattercarpet": [
           {
            "marker": {
             "colorbar": {
              "outlinewidth": 0,
              "ticks": ""
             }
            },
            "type": "scattercarpet"
           }
          ],
          "scattergeo": [
           {
            "marker": {
             "colorbar": {
              "outlinewidth": 0,
              "ticks": ""
             }
            },
            "type": "scattergeo"
           }
          ],
          "scattergl": [
           {
            "marker": {
             "colorbar": {
              "outlinewidth": 0,
              "ticks": ""
             }
            },
            "type": "scattergl"
           }
          ],
          "scattermapbox": [
           {
            "marker": {
             "colorbar": {
              "outlinewidth": 0,
              "ticks": ""
             }
            },
            "type": "scattermapbox"
           }
          ],
          "scatterpolar": [
           {
            "marker": {
             "colorbar": {
              "outlinewidth": 0,
              "ticks": ""
             }
            },
            "type": "scatterpolar"
           }
          ],
          "scatterpolargl": [
           {
            "marker": {
             "colorbar": {
              "outlinewidth": 0,
              "ticks": ""
             }
            },
            "type": "scatterpolargl"
           }
          ],
          "scatterternary": [
           {
            "marker": {
             "colorbar": {
              "outlinewidth": 0,
              "ticks": ""
             }
            },
            "type": "scatterternary"
           }
          ],
          "surface": [
           {
            "colorbar": {
             "outlinewidth": 0,
             "ticks": ""
            },
            "colorscale": [
             [
              0,
              "#0d0887"
             ],
             [
              0.1111111111111111,
              "#46039f"
             ],
             [
              0.2222222222222222,
              "#7201a8"
             ],
             [
              0.3333333333333333,
              "#9c179e"
             ],
             [
              0.4444444444444444,
              "#bd3786"
             ],
             [
              0.5555555555555556,
              "#d8576b"
             ],
             [
              0.6666666666666666,
              "#ed7953"
             ],
             [
              0.7777777777777778,
              "#fb9f3a"
             ],
             [
              0.8888888888888888,
              "#fdca26"
             ],
             [
              1,
              "#f0f921"
             ]
            ],
            "type": "surface"
           }
          ],
          "table": [
           {
            "cells": {
             "fill": {
              "color": "#EBF0F8"
             },
             "line": {
              "color": "white"
             }
            },
            "header": {
             "fill": {
              "color": "#C8D4E3"
             },
             "line": {
              "color": "white"
             }
            },
            "type": "table"
           }
          ]
         },
         "layout": {
          "annotationdefaults": {
           "arrowcolor": "#2a3f5f",
           "arrowhead": 0,
           "arrowwidth": 1
          },
          "autotypenumbers": "strict",
          "coloraxis": {
           "colorbar": {
            "outlinewidth": 0,
            "ticks": ""
           }
          },
          "colorscale": {
           "diverging": [
            [
             0,
             "#8e0152"
            ],
            [
             0.1,
             "#c51b7d"
            ],
            [
             0.2,
             "#de77ae"
            ],
            [
             0.3,
             "#f1b6da"
            ],
            [
             0.4,
             "#fde0ef"
            ],
            [
             0.5,
             "#f7f7f7"
            ],
            [
             0.6,
             "#e6f5d0"
            ],
            [
             0.7,
             "#b8e186"
            ],
            [
             0.8,
             "#7fbc41"
            ],
            [
             0.9,
             "#4d9221"
            ],
            [
             1,
             "#276419"
            ]
           ],
           "sequential": [
            [
             0,
             "#0d0887"
            ],
            [
             0.1111111111111111,
             "#46039f"
            ],
            [
             0.2222222222222222,
             "#7201a8"
            ],
            [
             0.3333333333333333,
             "#9c179e"
            ],
            [
             0.4444444444444444,
             "#bd3786"
            ],
            [
             0.5555555555555556,
             "#d8576b"
            ],
            [
             0.6666666666666666,
             "#ed7953"
            ],
            [
             0.7777777777777778,
             "#fb9f3a"
            ],
            [
             0.8888888888888888,
             "#fdca26"
            ],
            [
             1,
             "#f0f921"
            ]
           ],
           "sequentialminus": [
            [
             0,
             "#0d0887"
            ],
            [
             0.1111111111111111,
             "#46039f"
            ],
            [
             0.2222222222222222,
             "#7201a8"
            ],
            [
             0.3333333333333333,
             "#9c179e"
            ],
            [
             0.4444444444444444,
             "#bd3786"
            ],
            [
             0.5555555555555556,
             "#d8576b"
            ],
            [
             0.6666666666666666,
             "#ed7953"
            ],
            [
             0.7777777777777778,
             "#fb9f3a"
            ],
            [
             0.8888888888888888,
             "#fdca26"
            ],
            [
             1,
             "#f0f921"
            ]
           ]
          },
          "colorway": [
           "#636efa",
           "#EF553B",
           "#00cc96",
           "#ab63fa",
           "#FFA15A",
           "#19d3f3",
           "#FF6692",
           "#B6E880",
           "#FF97FF",
           "#FECB52"
          ],
          "font": {
           "color": "#2a3f5f"
          },
          "geo": {
           "bgcolor": "white",
           "lakecolor": "white",
           "landcolor": "#E5ECF6",
           "showlakes": true,
           "showland": true,
           "subunitcolor": "white"
          },
          "hoverlabel": {
           "align": "left"
          },
          "hovermode": "closest",
          "mapbox": {
           "style": "light"
          },
          "paper_bgcolor": "white",
          "plot_bgcolor": "#E5ECF6",
          "polar": {
           "angularaxis": {
            "gridcolor": "white",
            "linecolor": "white",
            "ticks": ""
           },
           "bgcolor": "#E5ECF6",
           "radialaxis": {
            "gridcolor": "white",
            "linecolor": "white",
            "ticks": ""
           }
          },
          "scene": {
           "xaxis": {
            "backgroundcolor": "#E5ECF6",
            "gridcolor": "white",
            "gridwidth": 2,
            "linecolor": "white",
            "showbackground": true,
            "ticks": "",
            "zerolinecolor": "white"
           },
           "yaxis": {
            "backgroundcolor": "#E5ECF6",
            "gridcolor": "white",
            "gridwidth": 2,
            "linecolor": "white",
            "showbackground": true,
            "ticks": "",
            "zerolinecolor": "white"
           },
           "zaxis": {
            "backgroundcolor": "#E5ECF6",
            "gridcolor": "white",
            "gridwidth": 2,
            "linecolor": "white",
            "showbackground": true,
            "ticks": "",
            "zerolinecolor": "white"
           }
          },
          "shapedefaults": {
           "line": {
            "color": "#2a3f5f"
           }
          },
          "ternary": {
           "aaxis": {
            "gridcolor": "white",
            "linecolor": "white",
            "ticks": ""
           },
           "baxis": {
            "gridcolor": "white",
            "linecolor": "white",
            "ticks": ""
           },
           "bgcolor": "#E5ECF6",
           "caxis": {
            "gridcolor": "white",
            "linecolor": "white",
            "ticks": ""
           }
          },
          "title": {
           "x": 0.05
          },
          "xaxis": {
           "automargin": true,
           "gridcolor": "white",
           "linecolor": "white",
           "ticks": "",
           "title": {
            "standoff": 15
           },
           "zerolinecolor": "white",
           "zerolinewidth": 2
          },
          "yaxis": {
           "automargin": true,
           "gridcolor": "white",
           "linecolor": "white",
           "ticks": "",
           "title": {
            "standoff": 15
           },
           "zerolinecolor": "white",
           "zerolinewidth": 2
          }
         }
        }
       }
      }
     },
     "metadata": {},
     "output_type": "display_data"
    }
   ],
   "source": [
    "# title='2019-9廣告帶來的新客比'\n",
    "fig_custmer2019_09_ad_new= px.pie(custmer2019_09_ad_new, values='會員', names='廣告代號all')\n",
    "fig_custmer2019_09_ad_new.update_traces(textposition='inside', textinfo='percent+label')\n",
    "fig_custmer2019_09_ad_new.show()"
   ]
  },
  {
   "cell_type": "markdown",
   "metadata": {},
   "source": [
    "# 製作銷售資訊比較表 (訂單數、來客數、AOV)"
   ]
  },
  {
   "cell_type": "code",
   "execution_count": 94,
   "metadata": {},
   "outputs": [],
   "source": [
    "all_data = pd.read_csv('new_all_data.csv')\n",
    "all_data['訂單時間'] = pd.to_datetime(all_data['訂單時間'])\n",
    "all_data['Y_M_D'] = all_data['訂單時間'].dt.to_period('D')\n",
    "all_data.loc[:,'order_count'] = 1"
   ]
  },
  {
   "cell_type": "code",
   "execution_count": 95,
   "metadata": {},
   "outputs": [],
   "source": [
    "# 製作每月來客數表(每個會員在不同時間購買) = 人次\n",
    "custmer = all_data[['Month', '訂單時間', '會員']]\n",
    "a = custmer['Month'].unique()\n",
    "new_custmer = pd.DataFrame(columns=['Month', '來客數'])\n",
    "for i in a:\n",
    "    tmp = custmer[custmer['Month']== i]#.item()\n",
    "    tmp = tmp.drop_duplicates()\n",
    "    tmp = tmp[['Month','會員']]\n",
    "    tmp['會員'] = tmp['會員'].count()\n",
    "    tmp = tmp.iloc[0:1, 0:2]\n",
    "    tmp = tmp.rename(columns={'會員':'來客數'})\n",
    "    new_custmer = pd.concat([new_custmer, tmp])"
   ]
  },
  {
   "cell_type": "code",
   "execution_count": 96,
   "metadata": {},
   "outputs": [
    {
     "data": {
      "text/html": [
       "<div>\n",
       "<style scoped>\n",
       "    .dataframe tbody tr th:only-of-type {\n",
       "        vertical-align: middle;\n",
       "    }\n",
       "\n",
       "    .dataframe tbody tr th {\n",
       "        vertical-align: top;\n",
       "    }\n",
       "\n",
       "    .dataframe thead th {\n",
       "        text-align: right;\n",
       "    }\n",
       "</style>\n",
       "<table border=\"1\" class=\"dataframe\">\n",
       "  <thead>\n",
       "    <tr style=\"text-align: right;\">\n",
       "      <th></th>\n",
       "      <th>Month</th>\n",
       "      <th>來客數</th>\n",
       "    </tr>\n",
       "  </thead>\n",
       "  <tbody>\n",
       "    <tr>\n",
       "      <th>0</th>\n",
       "      <td>2016-01</td>\n",
       "      <td>2786</td>\n",
       "    </tr>\n",
       "    <tr>\n",
       "      <th>1057</th>\n",
       "      <td>2016-02</td>\n",
       "      <td>1945</td>\n",
       "    </tr>\n",
       "    <tr>\n",
       "      <th>1299</th>\n",
       "      <td>2016-03</td>\n",
       "      <td>2050</td>\n",
       "    </tr>\n",
       "    <tr>\n",
       "      <th>1701</th>\n",
       "      <td>2016-04</td>\n",
       "      <td>2398</td>\n",
       "    </tr>\n",
       "    <tr>\n",
       "      <th>2025</th>\n",
       "      <td>2016-05</td>\n",
       "      <td>2906</td>\n",
       "    </tr>\n",
       "    <tr>\n",
       "      <th>3035</th>\n",
       "      <td>2016-06</td>\n",
       "      <td>3018</td>\n",
       "    </tr>\n",
       "    <tr>\n",
       "      <th>3468</th>\n",
       "      <td>2016-07</td>\n",
       "      <td>2933</td>\n",
       "    </tr>\n",
       "    <tr>\n",
       "      <th>3804</th>\n",
       "      <td>2016-08</td>\n",
       "      <td>2736</td>\n",
       "    </tr>\n",
       "    <tr>\n",
       "      <th>4284</th>\n",
       "      <td>2016-09</td>\n",
       "      <td>2709</td>\n",
       "    </tr>\n",
       "    <tr>\n",
       "      <th>4547</th>\n",
       "      <td>2016-10</td>\n",
       "      <td>2308</td>\n",
       "    </tr>\n",
       "    <tr>\n",
       "      <th>4759</th>\n",
       "      <td>2016-11</td>\n",
       "      <td>1791</td>\n",
       "    </tr>\n",
       "    <tr>\n",
       "      <th>5191</th>\n",
       "      <td>2016-12</td>\n",
       "      <td>2628</td>\n",
       "    </tr>\n",
       "    <tr>\n",
       "      <th>5315</th>\n",
       "      <td>2017-01</td>\n",
       "      <td>2005</td>\n",
       "    </tr>\n",
       "    <tr>\n",
       "      <th>5690</th>\n",
       "      <td>2017-02</td>\n",
       "      <td>2662</td>\n",
       "    </tr>\n",
       "    <tr>\n",
       "      <th>5848</th>\n",
       "      <td>2017-03</td>\n",
       "      <td>3279</td>\n",
       "    </tr>\n",
       "    <tr>\n",
       "      <th>6201</th>\n",
       "      <td>2017-04</td>\n",
       "      <td>3234</td>\n",
       "    </tr>\n",
       "    <tr>\n",
       "      <th>6722</th>\n",
       "      <td>2017-05</td>\n",
       "      <td>4284</td>\n",
       "    </tr>\n",
       "    <tr>\n",
       "      <th>7645</th>\n",
       "      <td>2017-06</td>\n",
       "      <td>4445</td>\n",
       "    </tr>\n",
       "    <tr>\n",
       "      <th>8048</th>\n",
       "      <td>2017-07</td>\n",
       "      <td>4260</td>\n",
       "    </tr>\n",
       "    <tr>\n",
       "      <th>8294</th>\n",
       "      <td>2017-08</td>\n",
       "      <td>3965</td>\n",
       "    </tr>\n",
       "    <tr>\n",
       "      <th>8424</th>\n",
       "      <td>2017-09</td>\n",
       "      <td>4560</td>\n",
       "    </tr>\n",
       "    <tr>\n",
       "      <th>8538</th>\n",
       "      <td>2017-10</td>\n",
       "      <td>3127</td>\n",
       "    </tr>\n",
       "    <tr>\n",
       "      <th>8617</th>\n",
       "      <td>2017-11</td>\n",
       "      <td>2357</td>\n",
       "    </tr>\n",
       "    <tr>\n",
       "      <th>8692</th>\n",
       "      <td>2017-12</td>\n",
       "      <td>2315</td>\n",
       "    </tr>\n",
       "    <tr>\n",
       "      <th>8733</th>\n",
       "      <td>2018-01</td>\n",
       "      <td>2712</td>\n",
       "    </tr>\n",
       "    <tr>\n",
       "      <th>8921</th>\n",
       "      <td>2018-02</td>\n",
       "      <td>2730</td>\n",
       "    </tr>\n",
       "    <tr>\n",
       "      <th>8960</th>\n",
       "      <td>2018-03</td>\n",
       "      <td>2677</td>\n",
       "    </tr>\n",
       "    <tr>\n",
       "      <th>9022</th>\n",
       "      <td>2018-04</td>\n",
       "      <td>3651</td>\n",
       "    </tr>\n",
       "    <tr>\n",
       "      <th>9065</th>\n",
       "      <td>2018-05</td>\n",
       "      <td>2864</td>\n",
       "    </tr>\n",
       "    <tr>\n",
       "      <th>9272</th>\n",
       "      <td>2018-06</td>\n",
       "      <td>2340</td>\n",
       "    </tr>\n",
       "    <tr>\n",
       "      <th>9350</th>\n",
       "      <td>2018-07</td>\n",
       "      <td>3884</td>\n",
       "    </tr>\n",
       "    <tr>\n",
       "      <th>9479</th>\n",
       "      <td>2018-08</td>\n",
       "      <td>3300</td>\n",
       "    </tr>\n",
       "    <tr>\n",
       "      <th>9728</th>\n",
       "      <td>2018-09</td>\n",
       "      <td>2500</td>\n",
       "    </tr>\n",
       "    <tr>\n",
       "      <th>9811</th>\n",
       "      <td>2018-10</td>\n",
       "      <td>3863</td>\n",
       "    </tr>\n",
       "    <tr>\n",
       "      <th>9845</th>\n",
       "      <td>2018-11</td>\n",
       "      <td>3937</td>\n",
       "    </tr>\n",
       "    <tr>\n",
       "      <th>9903</th>\n",
       "      <td>2018-12</td>\n",
       "      <td>4265</td>\n",
       "    </tr>\n",
       "    <tr>\n",
       "      <th>9955</th>\n",
       "      <td>2019-01</td>\n",
       "      <td>3156</td>\n",
       "    </tr>\n",
       "    <tr>\n",
       "      <th>10094</th>\n",
       "      <td>2019-02</td>\n",
       "      <td>3018</td>\n",
       "    </tr>\n",
       "    <tr>\n",
       "      <th>10320</th>\n",
       "      <td>2019-03</td>\n",
       "      <td>2515</td>\n",
       "    </tr>\n",
       "    <tr>\n",
       "      <th>10471</th>\n",
       "      <td>2019-04</td>\n",
       "      <td>3446</td>\n",
       "    </tr>\n",
       "    <tr>\n",
       "      <th>10521</th>\n",
       "      <td>2019-05</td>\n",
       "      <td>2787</td>\n",
       "    </tr>\n",
       "    <tr>\n",
       "      <th>10541</th>\n",
       "      <td>2019-06</td>\n",
       "      <td>2635</td>\n",
       "    </tr>\n",
       "    <tr>\n",
       "      <th>10708</th>\n",
       "      <td>2019-07</td>\n",
       "      <td>2674</td>\n",
       "    </tr>\n",
       "    <tr>\n",
       "      <th>10830</th>\n",
       "      <td>2019-08</td>\n",
       "      <td>2258</td>\n",
       "    </tr>\n",
       "    <tr>\n",
       "      <th>10942</th>\n",
       "      <td>2019-09</td>\n",
       "      <td>5075</td>\n",
       "    </tr>\n",
       "    <tr>\n",
       "      <th>11025</th>\n",
       "      <td>2019-10</td>\n",
       "      <td>1344</td>\n",
       "    </tr>\n",
       "    <tr>\n",
       "      <th>11049</th>\n",
       "      <td>2019-11</td>\n",
       "      <td>608</td>\n",
       "    </tr>\n",
       "  </tbody>\n",
       "</table>\n",
       "</div>"
      ],
      "text/plain": [
       "         Month   來客數\n",
       "0      2016-01  2786\n",
       "1057   2016-02  1945\n",
       "1299   2016-03  2050\n",
       "1701   2016-04  2398\n",
       "2025   2016-05  2906\n",
       "3035   2016-06  3018\n",
       "3468   2016-07  2933\n",
       "3804   2016-08  2736\n",
       "4284   2016-09  2709\n",
       "4547   2016-10  2308\n",
       "4759   2016-11  1791\n",
       "5191   2016-12  2628\n",
       "5315   2017-01  2005\n",
       "5690   2017-02  2662\n",
       "5848   2017-03  3279\n",
       "6201   2017-04  3234\n",
       "6722   2017-05  4284\n",
       "7645   2017-06  4445\n",
       "8048   2017-07  4260\n",
       "8294   2017-08  3965\n",
       "8424   2017-09  4560\n",
       "8538   2017-10  3127\n",
       "8617   2017-11  2357\n",
       "8692   2017-12  2315\n",
       "8733   2018-01  2712\n",
       "8921   2018-02  2730\n",
       "8960   2018-03  2677\n",
       "9022   2018-04  3651\n",
       "9065   2018-05  2864\n",
       "9272   2018-06  2340\n",
       "9350   2018-07  3884\n",
       "9479   2018-08  3300\n",
       "9728   2018-09  2500\n",
       "9811   2018-10  3863\n",
       "9845   2018-11  3937\n",
       "9903   2018-12  4265\n",
       "9955   2019-01  3156\n",
       "10094  2019-02  3018\n",
       "10320  2019-03  2515\n",
       "10471  2019-04  3446\n",
       "10521  2019-05  2787\n",
       "10541  2019-06  2635\n",
       "10708  2019-07  2674\n",
       "10830  2019-08  2258\n",
       "10942  2019-09  5075\n",
       "11025  2019-10  1344\n",
       "11049  2019-11   608"
      ]
     },
     "execution_count": 96,
     "metadata": {},
     "output_type": "execute_result"
    }
   ],
   "source": [
    "new_custmer"
   ]
  },
  {
   "cell_type": "code",
   "execution_count": 97,
   "metadata": {},
   "outputs": [
    {
     "name": "stderr",
     "output_type": "stream",
     "text": [
      "C:\\Users\\chanm\\AppData\\Local\\Temp\\ipykernel_23084\\969895873.py:2: FutureWarning:\n",
      "\n",
      "Indexing with multiple keys (implicitly converted to a tuple of keys) will be deprecated, use a list instead.\n",
      "\n"
     ]
    }
   ],
   "source": [
    "all_data = all_data[['Year', 'Month', '單價', '成本', '獲利', 'order_count']]\n",
    "all_data = all_data.groupby(['Year', 'Month'], as_index=False)['單價', '成本', '獲利', 'order_count'].sum()\n",
    "all_data = all_data.merge(new_custmer)"
   ]
  },
  {
   "cell_type": "code",
   "execution_count": 98,
   "metadata": {},
   "outputs": [
    {
     "data": {
      "text/html": [
       "<div>\n",
       "<style scoped>\n",
       "    .dataframe tbody tr th:only-of-type {\n",
       "        vertical-align: middle;\n",
       "    }\n",
       "\n",
       "    .dataframe tbody tr th {\n",
       "        vertical-align: top;\n",
       "    }\n",
       "\n",
       "    .dataframe thead th {\n",
       "        text-align: right;\n",
       "    }\n",
       "</style>\n",
       "<table border=\"1\" class=\"dataframe\">\n",
       "  <thead>\n",
       "    <tr style=\"text-align: right;\">\n",
       "      <th></th>\n",
       "      <th>Year</th>\n",
       "      <th>Month</th>\n",
       "      <th>營收</th>\n",
       "      <th>成本</th>\n",
       "      <th>獲利</th>\n",
       "      <th>銷量</th>\n",
       "      <th>來客數</th>\n",
       "      <th>AOV</th>\n",
       "      <th>GMP</th>\n",
       "      <th>單筆平均金額</th>\n",
       "    </tr>\n",
       "  </thead>\n",
       "  <tbody>\n",
       "    <tr>\n",
       "      <th>0</th>\n",
       "      <td>2016</td>\n",
       "      <td>2016-01</td>\n",
       "      <td>6341657</td>\n",
       "      <td>4281043</td>\n",
       "      <td>2060614</td>\n",
       "      <td>7222</td>\n",
       "      <td>2786</td>\n",
       "      <td>2276</td>\n",
       "      <td>32.5</td>\n",
       "      <td>878.0</td>\n",
       "    </tr>\n",
       "    <tr>\n",
       "      <th>1</th>\n",
       "      <td>2016</td>\n",
       "      <td>2016-02</td>\n",
       "      <td>4425429</td>\n",
       "      <td>2737852</td>\n",
       "      <td>1687577</td>\n",
       "      <td>4925</td>\n",
       "      <td>1945</td>\n",
       "      <td>2275</td>\n",
       "      <td>38.1</td>\n",
       "      <td>899.0</td>\n",
       "    </tr>\n",
       "    <tr>\n",
       "      <th>2</th>\n",
       "      <td>2016</td>\n",
       "      <td>2016-03</td>\n",
       "      <td>4419310</td>\n",
       "      <td>2605346</td>\n",
       "      <td>1813964</td>\n",
       "      <td>5428</td>\n",
       "      <td>2050</td>\n",
       "      <td>2156</td>\n",
       "      <td>41.0</td>\n",
       "      <td>814.0</td>\n",
       "    </tr>\n",
       "    <tr>\n",
       "      <th>3</th>\n",
       "      <td>2016</td>\n",
       "      <td>2016-04</td>\n",
       "      <td>5906344</td>\n",
       "      <td>2837147</td>\n",
       "      <td>3069196</td>\n",
       "      <td>7335</td>\n",
       "      <td>2398</td>\n",
       "      <td>2463</td>\n",
       "      <td>52.0</td>\n",
       "      <td>805.0</td>\n",
       "    </tr>\n",
       "    <tr>\n",
       "      <th>4</th>\n",
       "      <td>2016</td>\n",
       "      <td>2016-05</td>\n",
       "      <td>7040271</td>\n",
       "      <td>3354046</td>\n",
       "      <td>3686224</td>\n",
       "      <td>8669</td>\n",
       "      <td>2906</td>\n",
       "      <td>2423</td>\n",
       "      <td>52.4</td>\n",
       "      <td>812.0</td>\n",
       "    </tr>\n",
       "    <tr>\n",
       "      <th>5</th>\n",
       "      <td>2016</td>\n",
       "      <td>2016-06</td>\n",
       "      <td>7713770</td>\n",
       "      <td>3850444</td>\n",
       "      <td>3863325</td>\n",
       "      <td>9892</td>\n",
       "      <td>3018</td>\n",
       "      <td>2556</td>\n",
       "      <td>50.1</td>\n",
       "      <td>780.0</td>\n",
       "    </tr>\n",
       "    <tr>\n",
       "      <th>6</th>\n",
       "      <td>2016</td>\n",
       "      <td>2016-07</td>\n",
       "      <td>6809492</td>\n",
       "      <td>3423455</td>\n",
       "      <td>3386036</td>\n",
       "      <td>8609</td>\n",
       "      <td>2933</td>\n",
       "      <td>2322</td>\n",
       "      <td>49.7</td>\n",
       "      <td>791.0</td>\n",
       "    </tr>\n",
       "    <tr>\n",
       "      <th>7</th>\n",
       "      <td>2016</td>\n",
       "      <td>2016-08</td>\n",
       "      <td>6465509</td>\n",
       "      <td>3257519</td>\n",
       "      <td>3207990</td>\n",
       "      <td>8317</td>\n",
       "      <td>2736</td>\n",
       "      <td>2363</td>\n",
       "      <td>49.6</td>\n",
       "      <td>777.0</td>\n",
       "    </tr>\n",
       "    <tr>\n",
       "      <th>8</th>\n",
       "      <td>2016</td>\n",
       "      <td>2016-09</td>\n",
       "      <td>5954097</td>\n",
       "      <td>3203848</td>\n",
       "      <td>2750249</td>\n",
       "      <td>8069</td>\n",
       "      <td>2709</td>\n",
       "      <td>2198</td>\n",
       "      <td>46.2</td>\n",
       "      <td>738.0</td>\n",
       "    </tr>\n",
       "    <tr>\n",
       "      <th>9</th>\n",
       "      <td>2016</td>\n",
       "      <td>2016-10</td>\n",
       "      <td>5305047</td>\n",
       "      <td>2827649</td>\n",
       "      <td>2477397</td>\n",
       "      <td>6360</td>\n",
       "      <td>2308</td>\n",
       "      <td>2299</td>\n",
       "      <td>46.7</td>\n",
       "      <td>834.0</td>\n",
       "    </tr>\n",
       "    <tr>\n",
       "      <th>10</th>\n",
       "      <td>2016</td>\n",
       "      <td>2016-11</td>\n",
       "      <td>4789259</td>\n",
       "      <td>2526506</td>\n",
       "      <td>2262753</td>\n",
       "      <td>5000</td>\n",
       "      <td>1791</td>\n",
       "      <td>2674</td>\n",
       "      <td>47.2</td>\n",
       "      <td>958.0</td>\n",
       "    </tr>\n",
       "    <tr>\n",
       "      <th>11</th>\n",
       "      <td>2016</td>\n",
       "      <td>2016-12</td>\n",
       "      <td>4852457</td>\n",
       "      <td>2576736</td>\n",
       "      <td>2275720</td>\n",
       "      <td>6141</td>\n",
       "      <td>2628</td>\n",
       "      <td>1846</td>\n",
       "      <td>46.9</td>\n",
       "      <td>790.0</td>\n",
       "    </tr>\n",
       "    <tr>\n",
       "      <th>12</th>\n",
       "      <td>2017</td>\n",
       "      <td>2017-01</td>\n",
       "      <td>4658450</td>\n",
       "      <td>2529942</td>\n",
       "      <td>2128508</td>\n",
       "      <td>5551</td>\n",
       "      <td>2005</td>\n",
       "      <td>2323</td>\n",
       "      <td>45.7</td>\n",
       "      <td>839.0</td>\n",
       "    </tr>\n",
       "    <tr>\n",
       "      <th>13</th>\n",
       "      <td>2017</td>\n",
       "      <td>2017-02</td>\n",
       "      <td>6353195</td>\n",
       "      <td>3185942</td>\n",
       "      <td>3167253</td>\n",
       "      <td>7245</td>\n",
       "      <td>2662</td>\n",
       "      <td>2387</td>\n",
       "      <td>49.9</td>\n",
       "      <td>877.0</td>\n",
       "    </tr>\n",
       "    <tr>\n",
       "      <th>14</th>\n",
       "      <td>2017</td>\n",
       "      <td>2017-03</td>\n",
       "      <td>7789571</td>\n",
       "      <td>3742328</td>\n",
       "      <td>4047242</td>\n",
       "      <td>9634</td>\n",
       "      <td>3279</td>\n",
       "      <td>2376</td>\n",
       "      <td>52.0</td>\n",
       "      <td>809.0</td>\n",
       "    </tr>\n",
       "    <tr>\n",
       "      <th>15</th>\n",
       "      <td>2017</td>\n",
       "      <td>2017-04</td>\n",
       "      <td>7045293</td>\n",
       "      <td>3341860</td>\n",
       "      <td>3703432</td>\n",
       "      <td>9179</td>\n",
       "      <td>3234</td>\n",
       "      <td>2179</td>\n",
       "      <td>52.6</td>\n",
       "      <td>768.0</td>\n",
       "    </tr>\n",
       "    <tr>\n",
       "      <th>16</th>\n",
       "      <td>2017</td>\n",
       "      <td>2017-05</td>\n",
       "      <td>9898249</td>\n",
       "      <td>4628717</td>\n",
       "      <td>5269532</td>\n",
       "      <td>12073</td>\n",
       "      <td>4284</td>\n",
       "      <td>2311</td>\n",
       "      <td>53.2</td>\n",
       "      <td>820.0</td>\n",
       "    </tr>\n",
       "    <tr>\n",
       "      <th>17</th>\n",
       "      <td>2017</td>\n",
       "      <td>2017-06</td>\n",
       "      <td>11179921</td>\n",
       "      <td>5205140</td>\n",
       "      <td>5974781</td>\n",
       "      <td>13179</td>\n",
       "      <td>4445</td>\n",
       "      <td>2515</td>\n",
       "      <td>53.4</td>\n",
       "      <td>848.0</td>\n",
       "    </tr>\n",
       "    <tr>\n",
       "      <th>18</th>\n",
       "      <td>2017</td>\n",
       "      <td>2017-07</td>\n",
       "      <td>10342504</td>\n",
       "      <td>4995560</td>\n",
       "      <td>5346944</td>\n",
       "      <td>12467</td>\n",
       "      <td>4260</td>\n",
       "      <td>2428</td>\n",
       "      <td>51.7</td>\n",
       "      <td>830.0</td>\n",
       "    </tr>\n",
       "    <tr>\n",
       "      <th>19</th>\n",
       "      <td>2017</td>\n",
       "      <td>2017-08</td>\n",
       "      <td>9504392</td>\n",
       "      <td>4701551</td>\n",
       "      <td>4802840</td>\n",
       "      <td>11515</td>\n",
       "      <td>3965</td>\n",
       "      <td>2397</td>\n",
       "      <td>50.5</td>\n",
       "      <td>825.0</td>\n",
       "    </tr>\n",
       "    <tr>\n",
       "      <th>20</th>\n",
       "      <td>2017</td>\n",
       "      <td>2017-09</td>\n",
       "      <td>11712921</td>\n",
       "      <td>5411535</td>\n",
       "      <td>6301386</td>\n",
       "      <td>12744</td>\n",
       "      <td>4560</td>\n",
       "      <td>2569</td>\n",
       "      <td>53.8</td>\n",
       "      <td>919.0</td>\n",
       "    </tr>\n",
       "    <tr>\n",
       "      <th>21</th>\n",
       "      <td>2017</td>\n",
       "      <td>2017-10</td>\n",
       "      <td>6811951</td>\n",
       "      <td>3205759</td>\n",
       "      <td>3606192</td>\n",
       "      <td>7183</td>\n",
       "      <td>3127</td>\n",
       "      <td>2178</td>\n",
       "      <td>52.9</td>\n",
       "      <td>948.0</td>\n",
       "    </tr>\n",
       "    <tr>\n",
       "      <th>22</th>\n",
       "      <td>2017</td>\n",
       "      <td>2017-11</td>\n",
       "      <td>6622334</td>\n",
       "      <td>3391104</td>\n",
       "      <td>3231229</td>\n",
       "      <td>6139</td>\n",
       "      <td>2357</td>\n",
       "      <td>2810</td>\n",
       "      <td>48.8</td>\n",
       "      <td>1079.0</td>\n",
       "    </tr>\n",
       "    <tr>\n",
       "      <th>23</th>\n",
       "      <td>2017</td>\n",
       "      <td>2017-12</td>\n",
       "      <td>6090482</td>\n",
       "      <td>3255275</td>\n",
       "      <td>2835206</td>\n",
       "      <td>5473</td>\n",
       "      <td>2315</td>\n",
       "      <td>2631</td>\n",
       "      <td>46.6</td>\n",
       "      <td>1113.0</td>\n",
       "    </tr>\n",
       "    <tr>\n",
       "      <th>24</th>\n",
       "      <td>2018</td>\n",
       "      <td>2018-01</td>\n",
       "      <td>6321986</td>\n",
       "      <td>3231230</td>\n",
       "      <td>3090755</td>\n",
       "      <td>6028</td>\n",
       "      <td>2712</td>\n",
       "      <td>2331</td>\n",
       "      <td>48.9</td>\n",
       "      <td>1049.0</td>\n",
       "    </tr>\n",
       "    <tr>\n",
       "      <th>25</th>\n",
       "      <td>2018</td>\n",
       "      <td>2018-02</td>\n",
       "      <td>6662085</td>\n",
       "      <td>3418726</td>\n",
       "      <td>3243359</td>\n",
       "      <td>6107</td>\n",
       "      <td>2730</td>\n",
       "      <td>2440</td>\n",
       "      <td>48.7</td>\n",
       "      <td>1091.0</td>\n",
       "    </tr>\n",
       "    <tr>\n",
       "      <th>26</th>\n",
       "      <td>2018</td>\n",
       "      <td>2018-03</td>\n",
       "      <td>6150758</td>\n",
       "      <td>3086844</td>\n",
       "      <td>3063914</td>\n",
       "      <td>6599</td>\n",
       "      <td>2677</td>\n",
       "      <td>2298</td>\n",
       "      <td>49.8</td>\n",
       "      <td>932.0</td>\n",
       "    </tr>\n",
       "    <tr>\n",
       "      <th>27</th>\n",
       "      <td>2018</td>\n",
       "      <td>2018-04</td>\n",
       "      <td>7607202</td>\n",
       "      <td>3564494</td>\n",
       "      <td>4042707</td>\n",
       "      <td>8524</td>\n",
       "      <td>3651</td>\n",
       "      <td>2084</td>\n",
       "      <td>53.1</td>\n",
       "      <td>892.0</td>\n",
       "    </tr>\n",
       "    <tr>\n",
       "      <th>28</th>\n",
       "      <td>2018</td>\n",
       "      <td>2018-05</td>\n",
       "      <td>6696707</td>\n",
       "      <td>3091469</td>\n",
       "      <td>3605237</td>\n",
       "      <td>7550</td>\n",
       "      <td>2864</td>\n",
       "      <td>2338</td>\n",
       "      <td>53.8</td>\n",
       "      <td>887.0</td>\n",
       "    </tr>\n",
       "    <tr>\n",
       "      <th>29</th>\n",
       "      <td>2018</td>\n",
       "      <td>2018-06</td>\n",
       "      <td>5369112</td>\n",
       "      <td>2398071</td>\n",
       "      <td>2971041</td>\n",
       "      <td>5861</td>\n",
       "      <td>2340</td>\n",
       "      <td>2294</td>\n",
       "      <td>55.3</td>\n",
       "      <td>916.0</td>\n",
       "    </tr>\n",
       "    <tr>\n",
       "      <th>30</th>\n",
       "      <td>2018</td>\n",
       "      <td>2018-07</td>\n",
       "      <td>7785941</td>\n",
       "      <td>3823540</td>\n",
       "      <td>3962400</td>\n",
       "      <td>9133</td>\n",
       "      <td>3884</td>\n",
       "      <td>2005</td>\n",
       "      <td>50.9</td>\n",
       "      <td>853.0</td>\n",
       "    </tr>\n",
       "    <tr>\n",
       "      <th>31</th>\n",
       "      <td>2018</td>\n",
       "      <td>2018-08</td>\n",
       "      <td>6690657</td>\n",
       "      <td>3533407</td>\n",
       "      <td>3157250</td>\n",
       "      <td>7645</td>\n",
       "      <td>3300</td>\n",
       "      <td>2027</td>\n",
       "      <td>47.2</td>\n",
       "      <td>875.0</td>\n",
       "    </tr>\n",
       "    <tr>\n",
       "      <th>32</th>\n",
       "      <td>2018</td>\n",
       "      <td>2018-09</td>\n",
       "      <td>5672813</td>\n",
       "      <td>2672049</td>\n",
       "      <td>3000764</td>\n",
       "      <td>6280</td>\n",
       "      <td>2500</td>\n",
       "      <td>2269</td>\n",
       "      <td>52.9</td>\n",
       "      <td>903.0</td>\n",
       "    </tr>\n",
       "    <tr>\n",
       "      <th>33</th>\n",
       "      <td>2018</td>\n",
       "      <td>2018-10</td>\n",
       "      <td>7836798</td>\n",
       "      <td>3792919</td>\n",
       "      <td>4043878</td>\n",
       "      <td>8355</td>\n",
       "      <td>3863</td>\n",
       "      <td>2029</td>\n",
       "      <td>51.6</td>\n",
       "      <td>938.0</td>\n",
       "    </tr>\n",
       "    <tr>\n",
       "      <th>34</th>\n",
       "      <td>2018</td>\n",
       "      <td>2018-11</td>\n",
       "      <td>9478802</td>\n",
       "      <td>4577240</td>\n",
       "      <td>4901562</td>\n",
       "      <td>8207</td>\n",
       "      <td>3937</td>\n",
       "      <td>2408</td>\n",
       "      <td>51.7</td>\n",
       "      <td>1155.0</td>\n",
       "    </tr>\n",
       "    <tr>\n",
       "      <th>35</th>\n",
       "      <td>2018</td>\n",
       "      <td>2018-12</td>\n",
       "      <td>9509838</td>\n",
       "      <td>4732896</td>\n",
       "      <td>4776941</td>\n",
       "      <td>8386</td>\n",
       "      <td>4265</td>\n",
       "      <td>2230</td>\n",
       "      <td>50.2</td>\n",
       "      <td>1134.0</td>\n",
       "    </tr>\n",
       "    <tr>\n",
       "      <th>36</th>\n",
       "      <td>2019</td>\n",
       "      <td>2019-01</td>\n",
       "      <td>7380022</td>\n",
       "      <td>3726328</td>\n",
       "      <td>3653694</td>\n",
       "      <td>6245</td>\n",
       "      <td>3156</td>\n",
       "      <td>2338</td>\n",
       "      <td>49.5</td>\n",
       "      <td>1182.0</td>\n",
       "    </tr>\n",
       "    <tr>\n",
       "      <th>37</th>\n",
       "      <td>2019</td>\n",
       "      <td>2019-02</td>\n",
       "      <td>5516570</td>\n",
       "      <td>2919350</td>\n",
       "      <td>2597219</td>\n",
       "      <td>5755</td>\n",
       "      <td>3018</td>\n",
       "      <td>1828</td>\n",
       "      <td>47.1</td>\n",
       "      <td>959.0</td>\n",
       "    </tr>\n",
       "    <tr>\n",
       "      <th>38</th>\n",
       "      <td>2019</td>\n",
       "      <td>2019-03</td>\n",
       "      <td>5270254</td>\n",
       "      <td>2675651</td>\n",
       "      <td>2594602</td>\n",
       "      <td>5454</td>\n",
       "      <td>2515</td>\n",
       "      <td>2096</td>\n",
       "      <td>49.2</td>\n",
       "      <td>966.0</td>\n",
       "    </tr>\n",
       "    <tr>\n",
       "      <th>39</th>\n",
       "      <td>2019</td>\n",
       "      <td>2019-04</td>\n",
       "      <td>7603548</td>\n",
       "      <td>3424904</td>\n",
       "      <td>4178643</td>\n",
       "      <td>8124</td>\n",
       "      <td>3446</td>\n",
       "      <td>2206</td>\n",
       "      <td>55.0</td>\n",
       "      <td>936.0</td>\n",
       "    </tr>\n",
       "    <tr>\n",
       "      <th>40</th>\n",
       "      <td>2019</td>\n",
       "      <td>2019-05</td>\n",
       "      <td>6222210</td>\n",
       "      <td>2912020</td>\n",
       "      <td>3310190</td>\n",
       "      <td>6453</td>\n",
       "      <td>2787</td>\n",
       "      <td>2233</td>\n",
       "      <td>53.2</td>\n",
       "      <td>964.0</td>\n",
       "    </tr>\n",
       "    <tr>\n",
       "      <th>41</th>\n",
       "      <td>2019</td>\n",
       "      <td>2019-06</td>\n",
       "      <td>5883092</td>\n",
       "      <td>2677987</td>\n",
       "      <td>3205104</td>\n",
       "      <td>6454</td>\n",
       "      <td>2635</td>\n",
       "      <td>2233</td>\n",
       "      <td>54.5</td>\n",
       "      <td>912.0</td>\n",
       "    </tr>\n",
       "    <tr>\n",
       "      <th>42</th>\n",
       "      <td>2019</td>\n",
       "      <td>2019-07</td>\n",
       "      <td>6222288</td>\n",
       "      <td>2807266</td>\n",
       "      <td>3415021</td>\n",
       "      <td>6657</td>\n",
       "      <td>2674</td>\n",
       "      <td>2327</td>\n",
       "      <td>54.9</td>\n",
       "      <td>935.0</td>\n",
       "    </tr>\n",
       "    <tr>\n",
       "      <th>43</th>\n",
       "      <td>2019</td>\n",
       "      <td>2019-08</td>\n",
       "      <td>4927288</td>\n",
       "      <td>2350744</td>\n",
       "      <td>2576543</td>\n",
       "      <td>5501</td>\n",
       "      <td>2258</td>\n",
       "      <td>2182</td>\n",
       "      <td>52.3</td>\n",
       "      <td>896.0</td>\n",
       "    </tr>\n",
       "    <tr>\n",
       "      <th>44</th>\n",
       "      <td>2019</td>\n",
       "      <td>2019-09</td>\n",
       "      <td>10567550</td>\n",
       "      <td>4703472</td>\n",
       "      <td>5864077</td>\n",
       "      <td>11119</td>\n",
       "      <td>5075</td>\n",
       "      <td>2082</td>\n",
       "      <td>55.5</td>\n",
       "      <td>950.0</td>\n",
       "    </tr>\n",
       "    <tr>\n",
       "      <th>45</th>\n",
       "      <td>2019</td>\n",
       "      <td>2019-10</td>\n",
       "      <td>2729007</td>\n",
       "      <td>1267781</td>\n",
       "      <td>1461225</td>\n",
       "      <td>3109</td>\n",
       "      <td>1344</td>\n",
       "      <td>2031</td>\n",
       "      <td>53.5</td>\n",
       "      <td>878.0</td>\n",
       "    </tr>\n",
       "    <tr>\n",
       "      <th>46</th>\n",
       "      <td>2019</td>\n",
       "      <td>2019-11</td>\n",
       "      <td>1047369</td>\n",
       "      <td>530050</td>\n",
       "      <td>517319</td>\n",
       "      <td>1329</td>\n",
       "      <td>608</td>\n",
       "      <td>1723</td>\n",
       "      <td>49.4</td>\n",
       "      <td>788.0</td>\n",
       "    </tr>\n",
       "  </tbody>\n",
       "</table>\n",
       "</div>"
      ],
      "text/plain": [
       "    Year    Month        營收       成本       獲利     銷量   來客數   AOV   GMP  單筆平均金額\n",
       "0   2016  2016-01   6341657  4281043  2060614   7222  2786  2276  32.5   878.0\n",
       "1   2016  2016-02   4425429  2737852  1687577   4925  1945  2275  38.1   899.0\n",
       "2   2016  2016-03   4419310  2605346  1813964   5428  2050  2156  41.0   814.0\n",
       "3   2016  2016-04   5906344  2837147  3069196   7335  2398  2463  52.0   805.0\n",
       "4   2016  2016-05   7040271  3354046  3686224   8669  2906  2423  52.4   812.0\n",
       "5   2016  2016-06   7713770  3850444  3863325   9892  3018  2556  50.1   780.0\n",
       "6   2016  2016-07   6809492  3423455  3386036   8609  2933  2322  49.7   791.0\n",
       "7   2016  2016-08   6465509  3257519  3207990   8317  2736  2363  49.6   777.0\n",
       "8   2016  2016-09   5954097  3203848  2750249   8069  2709  2198  46.2   738.0\n",
       "9   2016  2016-10   5305047  2827649  2477397   6360  2308  2299  46.7   834.0\n",
       "10  2016  2016-11   4789259  2526506  2262753   5000  1791  2674  47.2   958.0\n",
       "11  2016  2016-12   4852457  2576736  2275720   6141  2628  1846  46.9   790.0\n",
       "12  2017  2017-01   4658450  2529942  2128508   5551  2005  2323  45.7   839.0\n",
       "13  2017  2017-02   6353195  3185942  3167253   7245  2662  2387  49.9   877.0\n",
       "14  2017  2017-03   7789571  3742328  4047242   9634  3279  2376  52.0   809.0\n",
       "15  2017  2017-04   7045293  3341860  3703432   9179  3234  2179  52.6   768.0\n",
       "16  2017  2017-05   9898249  4628717  5269532  12073  4284  2311  53.2   820.0\n",
       "17  2017  2017-06  11179921  5205140  5974781  13179  4445  2515  53.4   848.0\n",
       "18  2017  2017-07  10342504  4995560  5346944  12467  4260  2428  51.7   830.0\n",
       "19  2017  2017-08   9504392  4701551  4802840  11515  3965  2397  50.5   825.0\n",
       "20  2017  2017-09  11712921  5411535  6301386  12744  4560  2569  53.8   919.0\n",
       "21  2017  2017-10   6811951  3205759  3606192   7183  3127  2178  52.9   948.0\n",
       "22  2017  2017-11   6622334  3391104  3231229   6139  2357  2810  48.8  1079.0\n",
       "23  2017  2017-12   6090482  3255275  2835206   5473  2315  2631  46.6  1113.0\n",
       "24  2018  2018-01   6321986  3231230  3090755   6028  2712  2331  48.9  1049.0\n",
       "25  2018  2018-02   6662085  3418726  3243359   6107  2730  2440  48.7  1091.0\n",
       "26  2018  2018-03   6150758  3086844  3063914   6599  2677  2298  49.8   932.0\n",
       "27  2018  2018-04   7607202  3564494  4042707   8524  3651  2084  53.1   892.0\n",
       "28  2018  2018-05   6696707  3091469  3605237   7550  2864  2338  53.8   887.0\n",
       "29  2018  2018-06   5369112  2398071  2971041   5861  2340  2294  55.3   916.0\n",
       "30  2018  2018-07   7785941  3823540  3962400   9133  3884  2005  50.9   853.0\n",
       "31  2018  2018-08   6690657  3533407  3157250   7645  3300  2027  47.2   875.0\n",
       "32  2018  2018-09   5672813  2672049  3000764   6280  2500  2269  52.9   903.0\n",
       "33  2018  2018-10   7836798  3792919  4043878   8355  3863  2029  51.6   938.0\n",
       "34  2018  2018-11   9478802  4577240  4901562   8207  3937  2408  51.7  1155.0\n",
       "35  2018  2018-12   9509838  4732896  4776941   8386  4265  2230  50.2  1134.0\n",
       "36  2019  2019-01   7380022  3726328  3653694   6245  3156  2338  49.5  1182.0\n",
       "37  2019  2019-02   5516570  2919350  2597219   5755  3018  1828  47.1   959.0\n",
       "38  2019  2019-03   5270254  2675651  2594602   5454  2515  2096  49.2   966.0\n",
       "39  2019  2019-04   7603548  3424904  4178643   8124  3446  2206  55.0   936.0\n",
       "40  2019  2019-05   6222210  2912020  3310190   6453  2787  2233  53.2   964.0\n",
       "41  2019  2019-06   5883092  2677987  3205104   6454  2635  2233  54.5   912.0\n",
       "42  2019  2019-07   6222288  2807266  3415021   6657  2674  2327  54.9   935.0\n",
       "43  2019  2019-08   4927288  2350744  2576543   5501  2258  2182  52.3   896.0\n",
       "44  2019  2019-09  10567550  4703472  5864077  11119  5075  2082  55.5   950.0\n",
       "45  2019  2019-10   2729007  1267781  1461225   3109  1344  2031  53.5   878.0\n",
       "46  2019  2019-11   1047369   530050   517319   1329   608  1723  49.4   788.0"
      ]
     },
     "execution_count": 98,
     "metadata": {},
     "output_type": "execute_result"
    }
   ],
   "source": [
    "# 新增欄位、優化表格\n",
    "all_data[['單價', '成本', '獲利', '來客數']] = round(all_data[['單價', '成本', '獲利', '來客數']].astype(int))\n",
    "all_data = all_data.rename(columns={'單價':'營收'})\n",
    "all_data = all_data.rename(columns={'order_count':'銷量'})\n",
    "all_data['AOV'] = round(all_data['營收']/all_data['來客數'])\n",
    "all_data['AOV'] = all_data['AOV'].astype(int)\n",
    "all_data['GMP'] = round(100*(all_data['獲利']/all_data['營收']), 1)\n",
    "all_data['單筆平均金額'] = round(all_data['營收'] / all_data['銷量'])\n",
    "all_data"
   ]
  },
  {
   "cell_type": "markdown",
   "metadata": {},
   "source": [
    "# 來客數變化圖"
   ]
  },
  {
   "cell_type": "code",
   "execution_count": 99,
   "metadata": {},
   "outputs": [
    {
     "name": "stderr",
     "output_type": "stream",
     "text": [
      "C:\\Users\\chanm\\AppData\\Local\\Temp\\ipykernel_23084\\2896195233.py:2: SettingWithCopyWarning:\n",
      "\n",
      "\n",
      "A value is trying to be set on a copy of a slice from a DataFrame.\n",
      "Try using .loc[row_indexer,col_indexer] = value instead\n",
      "\n",
      "See the caveats in the documentation: https://pandas.pydata.org/pandas-docs/stable/user_guide/indexing.html#returning-a-view-versus-a-copy\n",
      "\n",
      "C:\\Users\\chanm\\AppData\\Local\\Temp\\ipykernel_23084\\2896195233.py:5: DeprecationWarning:\n",
      "\n",
      "`np.int` is a deprecated alias for the builtin `int`. To silence this warning, use `int` by itself. Doing this will not modify any behavior and is safe. When replacing `np.int`, you may wish to use e.g. `np.int64` or `np.int32` to specify the precision. If you wish to review your current use, check the release note link for additional information.\n",
      "Deprecated in NumPy 1.20; for more details and guidance: https://numpy.org/devdocs/release/1.20.0-notes.html#deprecations\n",
      "\n"
     ]
    },
    {
     "data": {
      "text/plain": [
       "[<matplotlib.lines.Line2D at 0x23791708640>]"
      ]
     },
     "execution_count": 99,
     "metadata": {},
     "output_type": "execute_result"
    },
    {
     "data": {
      "image/png": "[encoded data removed]",
      "text/plain": [
       "<Figure size 432x288 with 1 Axes>"
      ]
     },
     "metadata": {
      "image/png": {
       "height": 261,
       "width": 395
      },
      "needs_background": "light"
     },
     "output_type": "display_data"
    }
   ],
   "source": [
    "\n",
    "kk = all_data[all_data['Year']==2019]\n",
    "kk['no.'] = range(1, len(kk)+1)\n",
    "x = kk['no.'].to_numpy()\n",
    "x = x[0:8]\n",
    "y = kk['來客數'].to_numpy().astype(np.int)\n",
    "y = y[0:8] \n",
    "import numpy as np\n",
    "from matplotlib import pyplot as plt\n",
    "# 來客數趨勢線\n",
    "\n",
    "plt.plot(x, y)\n",
    "plt.xlabel('month')\n",
    "plt.ylabel('customer')\n",
    "\n",
    "# Calculate the Trendline\n",
    "z = np.polyfit(x, y, 1)\n",
    "p = np.poly1d(z)\n",
    "\n",
    "\n",
    "plt.plot(x, p(x))"
   ]
  },
  {
   "cell_type": "markdown",
   "metadata": {},
   "source": []
  },
  {
   "cell_type": "code",
   "execution_count": 100,
   "metadata": {},
   "outputs": [
    {
     "data": {
      "text/plain": [
       "-3.239436287435254"
      ]
     },
     "execution_count": 100,
     "metadata": {},
     "output_type": "execute_result"
    }
   ],
   "source": [
    "# 至8月平均漲幅\n",
    "y_diff = 100* np.diff(y)/y[:-1]\n",
    "y_diff = y_diff[:7]\n",
    "y_diff = y_diff.sum() / 7\n",
    "y_diff"
   ]
  },
  {
   "cell_type": "code",
   "execution_count": 101,
   "metadata": {},
   "outputs": [
    {
     "data": {
      "text/plain": [
       "-4.064819844287525"
      ]
     },
     "execution_count": 101,
     "metadata": {},
     "output_type": "execute_result"
    }
   ],
   "source": [
    "100*((2258 - 3156)/3156) / 7"
   ]
  },
  {
   "cell_type": "code",
   "execution_count": 102,
   "metadata": {},
   "outputs": [
    {
     "data": {
      "text/plain": [
       "array([ -4.37262357, -16.66666667,  37.01789264, -19.12362159,\n",
       "        -5.45389307,   1.4800759 , -15.55721765])"
      ]
     },
     "execution_count": 102,
     "metadata": {},
     "output_type": "execute_result"
    }
   ],
   "source": [
    "100* (np.diff(y)/y[:-1])"
   ]
  },
  {
   "cell_type": "code",
   "execution_count": 103,
   "metadata": {},
   "outputs": [
    {
     "data": {
      "text/plain": [
       "-2.5195615568940863"
      ]
     },
     "execution_count": 103,
     "metadata": {},
     "output_type": "execute_result"
    }
   ],
   "source": [
    "# 至10月平均漲幅\n",
    "y_diff = 100* np.diff(y)/y[:-1]\n",
    "y_diff = y_diff[:9]\n",
    "y_diff = y_diff.sum() / 9\n",
    "y_diff"
   ]
  },
  {
   "cell_type": "code",
   "execution_count": 104,
   "metadata": {},
   "outputs": [
    {
     "data": {
      "text/plain": [
       "array([2449., 2786., 3373.])"
      ]
     },
     "execution_count": 104,
     "metadata": {},
     "output_type": "execute_result"
    }
   ],
   "source": [
    "np.percentile(all_data['來客數'], (25, 50, 75))"
   ]
  },
  {
   "cell_type": "code",
   "execution_count": 105,
   "metadata": {},
   "outputs": [
    {
     "data": {
      "text/plain": [
       "array([2178.5, 2298. , 2392. ])"
      ]
     },
     "execution_count": 105,
     "metadata": {},
     "output_type": "execute_result"
    }
   ],
   "source": [
    "np.percentile(all_data['AOV'], (25, 50, 75))"
   ]
  },
  {
   "cell_type": "code",
   "execution_count": 106,
   "metadata": {},
   "outputs": [
    {
     "data": {
      "text/plain": [
       "2276.31914893617"
      ]
     },
     "execution_count": 106,
     "metadata": {},
     "output_type": "execute_result"
    }
   ],
   "source": [
    "all_data['AOV'].mean()"
   ]
  },
  {
   "cell_type": "code",
   "execution_count": 107,
   "metadata": {},
   "outputs": [
    {
     "data": {
      "text/html": [
       "<div>\n",
       "<style scoped>\n",
       "    .dataframe tbody tr th:only-of-type {\n",
       "        vertical-align: middle;\n",
       "    }\n",
       "\n",
       "    .dataframe tbody tr th {\n",
       "        vertical-align: top;\n",
       "    }\n",
       "\n",
       "    .dataframe thead th {\n",
       "        text-align: right;\n",
       "    }\n",
       "</style>\n",
       "<table border=\"1\" class=\"dataframe\">\n",
       "  <thead>\n",
       "    <tr style=\"text-align: right;\">\n",
       "      <th></th>\n",
       "      <th>Year</th>\n",
       "      <th>Month</th>\n",
       "      <th>營收</th>\n",
       "      <th>成本</th>\n",
       "      <th>獲利</th>\n",
       "      <th>銷量</th>\n",
       "      <th>來客數</th>\n",
       "      <th>AOV</th>\n",
       "      <th>GMP</th>\n",
       "    </tr>\n",
       "  </thead>\n",
       "  <tbody>\n",
       "    <tr>\n",
       "      <th>0</th>\n",
       "      <td>2018</td>\n",
       "      <td>09</td>\n",
       "      <td>5672813</td>\n",
       "      <td>2672049</td>\n",
       "      <td>3000764</td>\n",
       "      <td>6280</td>\n",
       "      <td>2500</td>\n",
       "      <td>2269</td>\n",
       "      <td>52.9</td>\n",
       "    </tr>\n",
       "    <tr>\n",
       "      <th>1</th>\n",
       "      <td>2019</td>\n",
       "      <td>09</td>\n",
       "      <td>10567550</td>\n",
       "      <td>4703472</td>\n",
       "      <td>5864077</td>\n",
       "      <td>11119</td>\n",
       "      <td>5075</td>\n",
       "      <td>2082</td>\n",
       "      <td>55.5</td>\n",
       "    </tr>\n",
       "    <tr>\n",
       "      <th>2</th>\n",
       "      <td>2018</td>\n",
       "      <td>10</td>\n",
       "      <td>7836798</td>\n",
       "      <td>3792919</td>\n",
       "      <td>4043878</td>\n",
       "      <td>8355</td>\n",
       "      <td>3863</td>\n",
       "      <td>2029</td>\n",
       "      <td>51.6</td>\n",
       "    </tr>\n",
       "    <tr>\n",
       "      <th>3</th>\n",
       "      <td>2019</td>\n",
       "      <td>10</td>\n",
       "      <td>2729007</td>\n",
       "      <td>1267781</td>\n",
       "      <td>1461225</td>\n",
       "      <td>3109</td>\n",
       "      <td>1344</td>\n",
       "      <td>2031</td>\n",
       "      <td>53.5</td>\n",
       "    </tr>\n",
       "    <tr>\n",
       "      <th>4</th>\n",
       "      <td>2018</td>\n",
       "      <td>11</td>\n",
       "      <td>9478802</td>\n",
       "      <td>4577240</td>\n",
       "      <td>4901562</td>\n",
       "      <td>8207</td>\n",
       "      <td>3937</td>\n",
       "      <td>2408</td>\n",
       "      <td>51.7</td>\n",
       "    </tr>\n",
       "    <tr>\n",
       "      <th>5</th>\n",
       "      <td>2019</td>\n",
       "      <td>11</td>\n",
       "      <td>1047369</td>\n",
       "      <td>530050</td>\n",
       "      <td>517319</td>\n",
       "      <td>1329</td>\n",
       "      <td>608</td>\n",
       "      <td>1723</td>\n",
       "      <td>49.4</td>\n",
       "    </tr>\n",
       "  </tbody>\n",
       "</table>\n",
       "</div>"
      ],
      "text/plain": [
       "   Year Month        營收       成本       獲利     銷量   來客數   AOV   GMP\n",
       "0  2018    09   5672813  2672049  3000764   6280  2500  2269  52.9\n",
       "1  2019    09  10567550  4703472  5864077  11119  5075  2082  55.5\n",
       "2  2018    10   7836798  3792919  4043878   8355  3863  2029  51.6\n",
       "3  2019    10   2729007  1267781  1461225   3109  1344  2031  53.5\n",
       "4  2018    11   9478802  4577240  4901562   8207  3937  2408  51.7\n",
       "5  2019    11   1047369   530050   517319   1329   608  1723  49.4"
      ]
     },
     "execution_count": 107,
     "metadata": {},
     "output_type": "execute_result"
    }
   ],
   "source": [
    "# 篩選要比較的資料\n",
    "date = ['2018-09', '2018-10', '2018-11','2019-09', '2019-10', '2019-11'] #想要的值\n",
    "filt = all_data['Month'].isin(date)\n",
    "compr_data = all_data.loc[filt, ['Year', 'Month', '營收', '成本', '獲利', '銷量', '來客數', 'AOV', 'GMP']]\n",
    "compr_data['Month'] = compr_data['Month'].str.split('-', expand = True)[1]\n",
    "compr_data = compr_data.loc[[32, 44, 33, 45, 34, 46],:]\n",
    "compr_data.reset_index(drop=True, inplace=True)\n",
    "compr_data"
   ]
  },
  {
   "cell_type": "code",
   "execution_count": 108,
   "metadata": {},
   "outputs": [
    {
     "name": "stderr",
     "output_type": "stream",
     "text": [
      "d:\\user\\ana\\lib\\site-packages\\IPython\\core\\pylabtools.py:151: UserWarning:\n",
      "\n",
      "Glyph 27599 (\\N{CJK UNIFIED IDEOGRAPH-6BCF}) missing from current font.\n",
      "\n",
      "d:\\user\\ana\\lib\\site-packages\\IPython\\core\\pylabtools.py:151: UserWarning:\n",
      "\n",
      "Glyph 26376 (\\N{CJK UNIFIED IDEOGRAPH-6708}) missing from current font.\n",
      "\n",
      "d:\\user\\ana\\lib\\site-packages\\IPython\\core\\pylabtools.py:151: UserWarning:\n",
      "\n",
      "Glyph 20358 (\\N{CJK UNIFIED IDEOGRAPH-4F86}) missing from current font.\n",
      "\n",
      "d:\\user\\ana\\lib\\site-packages\\IPython\\core\\pylabtools.py:151: UserWarning:\n",
      "\n",
      "Glyph 23458 (\\N{CJK UNIFIED IDEOGRAPH-5BA2}) missing from current font.\n",
      "\n",
      "d:\\user\\ana\\lib\\site-packages\\IPython\\core\\pylabtools.py:151: UserWarning:\n",
      "\n",
      "Glyph 25976 (\\N{CJK UNIFIED IDEOGRAPH-6578}) missing from current font.\n",
      "\n",
      "d:\\user\\ana\\lib\\site-packages\\IPython\\core\\pylabtools.py:151: UserWarning:\n",
      "\n",
      "Glyph 33287 (\\N{CJK UNIFIED IDEOGRAPH-8207}) missing from current font.\n",
      "\n",
      "d:\\user\\ana\\lib\\site-packages\\IPython\\core\\pylabtools.py:151: UserWarning:\n",
      "\n",
      "Glyph 21934 (\\N{CJK UNIFIED IDEOGRAPH-55AE}) missing from current font.\n",
      "\n",
      "d:\\user\\ana\\lib\\site-packages\\IPython\\core\\pylabtools.py:151: UserWarning:\n",
      "\n",
      "Glyph 20729 (\\N{CJK UNIFIED IDEOGRAPH-50F9}) missing from current font.\n",
      "\n",
      "d:\\user\\ana\\lib\\site-packages\\IPython\\core\\pylabtools.py:151: UserWarning:\n",
      "\n",
      "Glyph 25240 (\\N{CJK UNIFIED IDEOGRAPH-6298}) missing from current font.\n",
      "\n",
      "d:\\user\\ana\\lib\\site-packages\\IPython\\core\\pylabtools.py:151: UserWarning:\n",
      "\n",
      "Glyph 32218 (\\N{CJK UNIFIED IDEOGRAPH-7DDA}) missing from current font.\n",
      "\n",
      "d:\\user\\ana\\lib\\site-packages\\IPython\\core\\pylabtools.py:151: UserWarning:\n",
      "\n",
      "Glyph 22294 (\\N{CJK UNIFIED IDEOGRAPH-5716}) missing from current font.\n",
      "\n"
     ]
    },
    {
     "data": {
      "image/png": "[encoded data removed]",
      "text/plain": [
       "<Figure size 432x288 with 1 Axes>"
      ]
     },
     "metadata": {
      "image/png": {
       "height": 286,
       "width": 404
      },
      "needs_background": "light"
     },
     "output_type": "display_data"
    }
   ],
   "source": [
    "# 每月來客數與客單價折線圖\n",
    "x=all_data['Month']\n",
    "y1=all_data['AOV']                          \n",
    "y2=all_data['來客數'] \n",
    "plt.plot(x,y1)#, label=\"客單價\")\n",
    "plt.plot(x,y2)#, label=\"來客數\")\n",
    "\n",
    "plt.title(\"每月來客數與客單價折線圖\",fontsize=20)\n",
    "plt.xlabel(\"X\",fontsize=13)\n",
    "plt.ylabel(\"Y\",fontsize=13)\n",
    "plt.show()"
   ]
  },
  {
   "cell_type": "markdown",
   "metadata": {},
   "source": [
    "# 製作營收廣告來源表"
   ]
  },
  {
   "cell_type": "code",
   "execution_count": 109,
   "metadata": {},
   "outputs": [],
   "source": [
    "\n",
    "ad_data_all = pd.read_csv('new_all_data.csv')\n",
    "ad_data_all = ad_data_all[['系列', '產品', '單價', 'Month', '成本', '獲利', '會員', '廣告代號all']]\n"
   ]
  },
  {
   "cell_type": "code",
   "execution_count": 110,
   "metadata": {},
   "outputs": [
    {
     "name": "stderr",
     "output_type": "stream",
     "text": [
      "C:\\Users\\chanm\\AppData\\Local\\Temp\\ipykernel_23084\\1374549537.py:2: FutureWarning:\n",
      "\n",
      "Indexing with multiple keys (implicitly converted to a tuple of keys) will be deprecated, use a list instead.\n",
      "\n"
     ]
    },
    {
     "data": {
      "text/html": [
       "<div>\n",
       "<style scoped>\n",
       "    .dataframe tbody tr th:only-of-type {\n",
       "        vertical-align: middle;\n",
       "    }\n",
       "\n",
       "    .dataframe tbody tr th {\n",
       "        vertical-align: top;\n",
       "    }\n",
       "\n",
       "    .dataframe thead th {\n",
       "        text-align: right;\n",
       "    }\n",
       "</style>\n",
       "<table border=\"1\" class=\"dataframe\">\n",
       "  <thead>\n",
       "    <tr style=\"text-align: right;\">\n",
       "      <th></th>\n",
       "      <th>廣告代號all</th>\n",
       "      <th>單價</th>\n",
       "      <th>獲利</th>\n",
       "      <th>佔銷售比</th>\n",
       "      <th>毛利率</th>\n",
       "    </tr>\n",
       "  </thead>\n",
       "  <tbody>\n",
       "    <tr>\n",
       "      <th>0</th>\n",
       "      <td>廣告_B2KDG_MK</td>\n",
       "      <td>41171.060</td>\n",
       "      <td>20597.045</td>\n",
       "      <td>0.4</td>\n",
       "      <td>50.0</td>\n",
       "    </tr>\n",
       "    <tr>\n",
       "      <th>1</th>\n",
       "      <td>廣告_B2KDG_MP</td>\n",
       "      <td>64433.005</td>\n",
       "      <td>37267.475</td>\n",
       "      <td>0.6</td>\n",
       "      <td>57.8</td>\n",
       "    </tr>\n",
       "    <tr>\n",
       "      <th>2</th>\n",
       "      <td>廣告_B2KDG_P</td>\n",
       "      <td>4741072.595</td>\n",
       "      <td>2671741.555</td>\n",
       "      <td>44.9</td>\n",
       "      <td>56.4</td>\n",
       "    </tr>\n",
       "    <tr>\n",
       "      <th>3</th>\n",
       "      <td>廣告_B2KDG_mp</td>\n",
       "      <td>300990.585</td>\n",
       "      <td>169002.365</td>\n",
       "      <td>2.8</td>\n",
       "      <td>56.1</td>\n",
       "    </tr>\n",
       "    <tr>\n",
       "      <th>4</th>\n",
       "      <td>廣告_B2KMP_D</td>\n",
       "      <td>6509.265</td>\n",
       "      <td>3553.200</td>\n",
       "      <td>0.1</td>\n",
       "      <td>54.6</td>\n",
       "    </tr>\n",
       "    <tr>\n",
       "      <th>5</th>\n",
       "      <td>廣告_B2KMP_P</td>\n",
       "      <td>987.000</td>\n",
       "      <td>329.000</td>\n",
       "      <td>0.0</td>\n",
       "      <td>33.3</td>\n",
       "    </tr>\n",
       "    <tr>\n",
       "      <th>6</th>\n",
       "      <td>廣告_B2KP_D</td>\n",
       "      <td>21588.980</td>\n",
       "      <td>11607.120</td>\n",
       "      <td>0.2</td>\n",
       "      <td>53.8</td>\n",
       "    </tr>\n",
       "    <tr>\n",
       "      <th>7</th>\n",
       "      <td>廣告_B2K_jqejqe</td>\n",
       "      <td>2122.050</td>\n",
       "      <td>1256.780</td>\n",
       "      <td>0.0</td>\n",
       "      <td>59.2</td>\n",
       "    </tr>\n",
       "    <tr>\n",
       "      <th>8</th>\n",
       "      <td>廣告_DMDMP_D</td>\n",
       "      <td>19378.100</td>\n",
       "      <td>11264.960</td>\n",
       "      <td>0.2</td>\n",
       "      <td>58.1</td>\n",
       "    </tr>\n",
       "    <tr>\n",
       "      <th>9</th>\n",
       "      <td>廣告_DPPP_D</td>\n",
       "      <td>16907.310</td>\n",
       "      <td>9772.945</td>\n",
       "      <td>0.2</td>\n",
       "      <td>57.8</td>\n",
       "    </tr>\n",
       "    <tr>\n",
       "      <th>10</th>\n",
       "      <td>廣告_Ddwirds_GT</td>\n",
       "      <td>62266.540</td>\n",
       "      <td>32371.955</td>\n",
       "      <td>0.6</td>\n",
       "      <td>52.0</td>\n",
       "    </tr>\n",
       "    <tr>\n",
       "      <th>11</th>\n",
       "      <td>廣告_GINEMK_C</td>\n",
       "      <td>25935.070</td>\n",
       "      <td>12253.605</td>\n",
       "      <td>0.2</td>\n",
       "      <td>47.2</td>\n",
       "    </tr>\n",
       "    <tr>\n",
       "      <th>12</th>\n",
       "      <td>廣告_GINEMK_D</td>\n",
       "      <td>97288.590</td>\n",
       "      <td>47525.695</td>\n",
       "      <td>0.9</td>\n",
       "      <td>48.9</td>\n",
       "    </tr>\n",
       "    <tr>\n",
       "      <th>13</th>\n",
       "      <td>廣告_GINEMP_D</td>\n",
       "      <td>140706.720</td>\n",
       "      <td>78232.910</td>\n",
       "      <td>1.3</td>\n",
       "      <td>55.6</td>\n",
       "    </tr>\n",
       "    <tr>\n",
       "      <th>14</th>\n",
       "      <td>廣告_GINEP_C</td>\n",
       "      <td>47186.825</td>\n",
       "      <td>22664.810</td>\n",
       "      <td>0.4</td>\n",
       "      <td>48.0</td>\n",
       "    </tr>\n",
       "    <tr>\n",
       "      <th>15</th>\n",
       "      <td>廣告_GINEP_D</td>\n",
       "      <td>111715.240</td>\n",
       "      <td>59318.700</td>\n",
       "      <td>1.1</td>\n",
       "      <td>53.1</td>\n",
       "    </tr>\n",
       "    <tr>\n",
       "      <th>16</th>\n",
       "      <td>廣告_IGDG_MP</td>\n",
       "      <td>5703.215</td>\n",
       "      <td>3337.705</td>\n",
       "      <td>0.1</td>\n",
       "      <td>58.5</td>\n",
       "    </tr>\n",
       "    <tr>\n",
       "      <th>17</th>\n",
       "      <td>廣告_IGDG_P</td>\n",
       "      <td>13076.105</td>\n",
       "      <td>7642.670</td>\n",
       "      <td>0.1</td>\n",
       "      <td>58.4</td>\n",
       "    </tr>\n",
       "    <tr>\n",
       "      <th>18</th>\n",
       "      <td>廣告_IGMP_D</td>\n",
       "      <td>2122.050</td>\n",
       "      <td>1238.685</td>\n",
       "      <td>0.0</td>\n",
       "      <td>58.4</td>\n",
       "    </tr>\n",
       "    <tr>\n",
       "      <th>19</th>\n",
       "      <td>廣告_KBDG_MK</td>\n",
       "      <td>206388.280</td>\n",
       "      <td>96469.380</td>\n",
       "      <td>2.0</td>\n",
       "      <td>46.7</td>\n",
       "    </tr>\n",
       "    <tr>\n",
       "      <th>20</th>\n",
       "      <td>廣告_KBDG_MP</td>\n",
       "      <td>262818.360</td>\n",
       "      <td>144273.080</td>\n",
       "      <td>2.5</td>\n",
       "      <td>54.9</td>\n",
       "    </tr>\n",
       "    <tr>\n",
       "      <th>21</th>\n",
       "      <td>廣告_KBDG_P</td>\n",
       "      <td>455028.385</td>\n",
       "      <td>248363.745</td>\n",
       "      <td>4.3</td>\n",
       "      <td>54.6</td>\n",
       "    </tr>\n",
       "    <tr>\n",
       "      <th>22</th>\n",
       "      <td>廣告_KBDG_mp</td>\n",
       "      <td>970.550</td>\n",
       "      <td>508.305</td>\n",
       "      <td>0.0</td>\n",
       "      <td>52.4</td>\n",
       "    </tr>\n",
       "    <tr>\n",
       "      <th>23</th>\n",
       "      <td>廣告_KBMP_D</td>\n",
       "      <td>1612.100</td>\n",
       "      <td>1065.960</td>\n",
       "      <td>0.0</td>\n",
       "      <td>66.1</td>\n",
       "    </tr>\n",
       "    <tr>\n",
       "      <th>24</th>\n",
       "      <td>廣告_KBP_C</td>\n",
       "      <td>1135.050</td>\n",
       "      <td>684.320</td>\n",
       "      <td>0.0</td>\n",
       "      <td>60.3</td>\n",
       "    </tr>\n",
       "    <tr>\n",
       "      <th>25</th>\n",
       "      <td>廣告_KBP_D</td>\n",
       "      <td>24949.715</td>\n",
       "      <td>14290.115</td>\n",
       "      <td>0.2</td>\n",
       "      <td>57.3</td>\n",
       "    </tr>\n",
       "    <tr>\n",
       "      <th>26</th>\n",
       "      <td>廣告_KDMK_C</td>\n",
       "      <td>1232.105</td>\n",
       "      <td>575.750</td>\n",
       "      <td>0.0</td>\n",
       "      <td>46.7</td>\n",
       "    </tr>\n",
       "    <tr>\n",
       "      <th>27</th>\n",
       "      <td>廣告_KDMP_D</td>\n",
       "      <td>65321.305</td>\n",
       "      <td>39068.750</td>\n",
       "      <td>0.6</td>\n",
       "      <td>59.8</td>\n",
       "    </tr>\n",
       "    <tr>\n",
       "      <th>28</th>\n",
       "      <td>廣告_KDMP_P</td>\n",
       "      <td>493.500</td>\n",
       "      <td>164.500</td>\n",
       "      <td>0.0</td>\n",
       "      <td>33.3</td>\n",
       "    </tr>\n",
       "    <tr>\n",
       "      <th>29</th>\n",
       "      <td>廣告_KDPOD_select</td>\n",
       "      <td>3285.065</td>\n",
       "      <td>1760.150</td>\n",
       "      <td>0.0</td>\n",
       "      <td>53.6</td>\n",
       "    </tr>\n",
       "    <tr>\n",
       "      <th>30</th>\n",
       "      <td>廣告_KDP_D</td>\n",
       "      <td>13136.970</td>\n",
       "      <td>7037.310</td>\n",
       "      <td>0.1</td>\n",
       "      <td>53.6</td>\n",
       "    </tr>\n",
       "    <tr>\n",
       "      <th>31</th>\n",
       "      <td>廣告_edmMK_C</td>\n",
       "      <td>7751.240</td>\n",
       "      <td>3031.735</td>\n",
       "      <td>0.1</td>\n",
       "      <td>39.1</td>\n",
       "    </tr>\n",
       "    <tr>\n",
       "      <th>32</th>\n",
       "      <td>廣告_edmMK_D</td>\n",
       "      <td>4768.855</td>\n",
       "      <td>2831.045</td>\n",
       "      <td>0.0</td>\n",
       "      <td>59.4</td>\n",
       "    </tr>\n",
       "    <tr>\n",
       "      <th>33</th>\n",
       "      <td>廣告_edmMP_C</td>\n",
       "      <td>7048.825</td>\n",
       "      <td>3785.145</td>\n",
       "      <td>0.1</td>\n",
       "      <td>53.7</td>\n",
       "    </tr>\n",
       "    <tr>\n",
       "      <th>34</th>\n",
       "      <td>廣告_edmMP_D</td>\n",
       "      <td>42248.535</td>\n",
       "      <td>24199.595</td>\n",
       "      <td>0.4</td>\n",
       "      <td>57.3</td>\n",
       "    </tr>\n",
       "    <tr>\n",
       "      <th>35</th>\n",
       "      <td>廣告_edmP_C</td>\n",
       "      <td>77986.160</td>\n",
       "      <td>41664.560</td>\n",
       "      <td>0.7</td>\n",
       "      <td>53.4</td>\n",
       "    </tr>\n",
       "    <tr>\n",
       "      <th>36</th>\n",
       "      <td>廣告_edmP_D</td>\n",
       "      <td>8725.080</td>\n",
       "      <td>4584.615</td>\n",
       "      <td>0.1</td>\n",
       "      <td>52.5</td>\n",
       "    </tr>\n",
       "    <tr>\n",
       "      <th>37</th>\n",
       "      <td>廣告_自然流量</td>\n",
       "      <td>3661490.350</td>\n",
       "      <td>2028740.665</td>\n",
       "      <td>34.6</td>\n",
       "      <td>55.4</td>\n",
       "    </tr>\n",
       "  </tbody>\n",
       "</table>\n",
       "</div>"
      ],
      "text/plain": [
       "            廣告代號all           單價           獲利  佔銷售比   毛利率\n",
       "0       廣告_B2KDG_MK    41171.060    20597.045   0.4  50.0\n",
       "1       廣告_B2KDG_MP    64433.005    37267.475   0.6  57.8\n",
       "2        廣告_B2KDG_P  4741072.595  2671741.555  44.9  56.4\n",
       "3       廣告_B2KDG_mp   300990.585   169002.365   2.8  56.1\n",
       "4        廣告_B2KMP_D     6509.265     3553.200   0.1  54.6\n",
       "5        廣告_B2KMP_P      987.000      329.000   0.0  33.3\n",
       "6         廣告_B2KP_D    21588.980    11607.120   0.2  53.8\n",
       "7     廣告_B2K_jqejqe     2122.050     1256.780   0.0  59.2\n",
       "8        廣告_DMDMP_D    19378.100    11264.960   0.2  58.1\n",
       "9         廣告_DPPP_D    16907.310     9772.945   0.2  57.8\n",
       "10    廣告_Ddwirds_GT    62266.540    32371.955   0.6  52.0\n",
       "11      廣告_GINEMK_C    25935.070    12253.605   0.2  47.2\n",
       "12      廣告_GINEMK_D    97288.590    47525.695   0.9  48.9\n",
       "13      廣告_GINEMP_D   140706.720    78232.910   1.3  55.6\n",
       "14       廣告_GINEP_C    47186.825    22664.810   0.4  48.0\n",
       "15       廣告_GINEP_D   111715.240    59318.700   1.1  53.1\n",
       "16       廣告_IGDG_MP     5703.215     3337.705   0.1  58.5\n",
       "17        廣告_IGDG_P    13076.105     7642.670   0.1  58.4\n",
       "18        廣告_IGMP_D     2122.050     1238.685   0.0  58.4\n",
       "19       廣告_KBDG_MK   206388.280    96469.380   2.0  46.7\n",
       "20       廣告_KBDG_MP   262818.360   144273.080   2.5  54.9\n",
       "21        廣告_KBDG_P   455028.385   248363.745   4.3  54.6\n",
       "22       廣告_KBDG_mp      970.550      508.305   0.0  52.4\n",
       "23        廣告_KBMP_D     1612.100     1065.960   0.0  66.1\n",
       "24         廣告_KBP_C     1135.050      684.320   0.0  60.3\n",
       "25         廣告_KBP_D    24949.715    14290.115   0.2  57.3\n",
       "26        廣告_KDMK_C     1232.105      575.750   0.0  46.7\n",
       "27        廣告_KDMP_D    65321.305    39068.750   0.6  59.8\n",
       "28        廣告_KDMP_P      493.500      164.500   0.0  33.3\n",
       "29  廣告_KDPOD_select     3285.065     1760.150   0.0  53.6\n",
       "30         廣告_KDP_D    13136.970     7037.310   0.1  53.6\n",
       "31       廣告_edmMK_C     7751.240     3031.735   0.1  39.1\n",
       "32       廣告_edmMK_D     4768.855     2831.045   0.0  59.4\n",
       "33       廣告_edmMP_C     7048.825     3785.145   0.1  53.7\n",
       "34       廣告_edmMP_D    42248.535    24199.595   0.4  57.3\n",
       "35        廣告_edmP_C    77986.160    41664.560   0.7  53.4\n",
       "36        廣告_edmP_D     8725.080     4584.615   0.1  52.5\n",
       "37          廣告_自然流量  3661490.350  2028740.665  34.6  55.4"
      ]
     },
     "execution_count": 110,
     "metadata": {},
     "output_type": "execute_result"
    }
   ],
   "source": [
    "ad_data_2019_09  = ad_data_all [ ad_data_all['Month'] == '2019-09' ]\n",
    "ad_data_2019_09 = ad_data_2019_09.groupby('廣告代號all', as_index=False)['單價', '獲利'].sum()\n",
    "ad_data_2019_09['佔銷售比'] = round(100*(ad_data_2019_09['單價'] / ad_data_2019_09['單價'].sum()), 1)\n",
    "ad_data_2019_09['毛利率'] = round(100*(ad_data_2019_09['獲利'] / ad_data_2019_09['單價']), 1)\n",
    "ad_data_2019_09"
   ]
  },
  {
   "cell_type": "code",
   "execution_count": 111,
   "metadata": {},
   "outputs": [
    {
     "data": {
      "text/html": [
       "<div>\n",
       "<style scoped>\n",
       "    .dataframe tbody tr th:only-of-type {\n",
       "        vertical-align: middle;\n",
       "    }\n",
       "\n",
       "    .dataframe tbody tr th {\n",
       "        vertical-align: top;\n",
       "    }\n",
       "\n",
       "    .dataframe thead th {\n",
       "        text-align: right;\n",
       "    }\n",
       "</style>\n",
       "<table border=\"1\" class=\"dataframe\">\n",
       "  <thead>\n",
       "    <tr style=\"text-align: right;\">\n",
       "      <th></th>\n",
       "      <th>廣告代號all</th>\n",
       "      <th>單價</th>\n",
       "    </tr>\n",
       "  </thead>\n",
       "  <tbody>\n",
       "    <tr>\n",
       "      <th>0</th>\n",
       "      <td>廣告_B2KDG_MK</td>\n",
       "      <td>41171.060</td>\n",
       "    </tr>\n",
       "    <tr>\n",
       "      <th>1</th>\n",
       "      <td>廣告_B2KDG_MP</td>\n",
       "      <td>64433.005</td>\n",
       "    </tr>\n",
       "    <tr>\n",
       "      <th>2</th>\n",
       "      <td>廣告_B2KDG_P</td>\n",
       "      <td>4741072.595</td>\n",
       "    </tr>\n",
       "    <tr>\n",
       "      <th>3</th>\n",
       "      <td>廣告_B2KDG_mp</td>\n",
       "      <td>300990.585</td>\n",
       "    </tr>\n",
       "    <tr>\n",
       "      <th>4</th>\n",
       "      <td>廣告_B2KMP_D</td>\n",
       "      <td>6509.265</td>\n",
       "    </tr>\n",
       "    <tr>\n",
       "      <th>5</th>\n",
       "      <td>廣告_B2KMP_P</td>\n",
       "      <td>987.000</td>\n",
       "    </tr>\n",
       "    <tr>\n",
       "      <th>6</th>\n",
       "      <td>廣告_B2KP_D</td>\n",
       "      <td>21588.980</td>\n",
       "    </tr>\n",
       "    <tr>\n",
       "      <th>7</th>\n",
       "      <td>廣告_B2K_jqejqe</td>\n",
       "      <td>2122.050</td>\n",
       "    </tr>\n",
       "    <tr>\n",
       "      <th>8</th>\n",
       "      <td>廣告_DMDMP_D</td>\n",
       "      <td>19378.100</td>\n",
       "    </tr>\n",
       "    <tr>\n",
       "      <th>9</th>\n",
       "      <td>廣告_DPPP_D</td>\n",
       "      <td>16907.310</td>\n",
       "    </tr>\n",
       "    <tr>\n",
       "      <th>10</th>\n",
       "      <td>廣告_Ddwirds_GT</td>\n",
       "      <td>62266.540</td>\n",
       "    </tr>\n",
       "    <tr>\n",
       "      <th>11</th>\n",
       "      <td>廣告_GINEMK_C</td>\n",
       "      <td>25935.070</td>\n",
       "    </tr>\n",
       "    <tr>\n",
       "      <th>12</th>\n",
       "      <td>廣告_GINEMK_D</td>\n",
       "      <td>97288.590</td>\n",
       "    </tr>\n",
       "    <tr>\n",
       "      <th>13</th>\n",
       "      <td>廣告_GINEMP_D</td>\n",
       "      <td>140706.720</td>\n",
       "    </tr>\n",
       "    <tr>\n",
       "      <th>14</th>\n",
       "      <td>廣告_GINEP_C</td>\n",
       "      <td>47186.825</td>\n",
       "    </tr>\n",
       "    <tr>\n",
       "      <th>15</th>\n",
       "      <td>廣告_GINEP_D</td>\n",
       "      <td>111715.240</td>\n",
       "    </tr>\n",
       "    <tr>\n",
       "      <th>16</th>\n",
       "      <td>廣告_IGDG_MP</td>\n",
       "      <td>5703.215</td>\n",
       "    </tr>\n",
       "    <tr>\n",
       "      <th>17</th>\n",
       "      <td>廣告_IGDG_P</td>\n",
       "      <td>13076.105</td>\n",
       "    </tr>\n",
       "    <tr>\n",
       "      <th>18</th>\n",
       "      <td>廣告_IGMP_D</td>\n",
       "      <td>2122.050</td>\n",
       "    </tr>\n",
       "    <tr>\n",
       "      <th>19</th>\n",
       "      <td>廣告_KBDG_MK</td>\n",
       "      <td>206388.280</td>\n",
       "    </tr>\n",
       "    <tr>\n",
       "      <th>20</th>\n",
       "      <td>廣告_KBDG_MP</td>\n",
       "      <td>262818.360</td>\n",
       "    </tr>\n",
       "    <tr>\n",
       "      <th>21</th>\n",
       "      <td>廣告_KBDG_P</td>\n",
       "      <td>455028.385</td>\n",
       "    </tr>\n",
       "    <tr>\n",
       "      <th>22</th>\n",
       "      <td>廣告_KBDG_mp</td>\n",
       "      <td>970.550</td>\n",
       "    </tr>\n",
       "    <tr>\n",
       "      <th>23</th>\n",
       "      <td>廣告_KBMP_D</td>\n",
       "      <td>1612.100</td>\n",
       "    </tr>\n",
       "    <tr>\n",
       "      <th>24</th>\n",
       "      <td>廣告_KBP_C</td>\n",
       "      <td>1135.050</td>\n",
       "    </tr>\n",
       "    <tr>\n",
       "      <th>25</th>\n",
       "      <td>廣告_KBP_D</td>\n",
       "      <td>24949.715</td>\n",
       "    </tr>\n",
       "    <tr>\n",
       "      <th>26</th>\n",
       "      <td>廣告_KDMK_C</td>\n",
       "      <td>1232.105</td>\n",
       "    </tr>\n",
       "    <tr>\n",
       "      <th>27</th>\n",
       "      <td>廣告_KDMP_D</td>\n",
       "      <td>65321.305</td>\n",
       "    </tr>\n",
       "    <tr>\n",
       "      <th>28</th>\n",
       "      <td>廣告_KDMP_P</td>\n",
       "      <td>493.500</td>\n",
       "    </tr>\n",
       "    <tr>\n",
       "      <th>29</th>\n",
       "      <td>廣告_KDPOD_select</td>\n",
       "      <td>3285.065</td>\n",
       "    </tr>\n",
       "    <tr>\n",
       "      <th>30</th>\n",
       "      <td>廣告_KDP_D</td>\n",
       "      <td>13136.970</td>\n",
       "    </tr>\n",
       "    <tr>\n",
       "      <th>31</th>\n",
       "      <td>廣告_edmMK_C</td>\n",
       "      <td>7751.240</td>\n",
       "    </tr>\n",
       "    <tr>\n",
       "      <th>32</th>\n",
       "      <td>廣告_edmMK_D</td>\n",
       "      <td>4768.855</td>\n",
       "    </tr>\n",
       "    <tr>\n",
       "      <th>33</th>\n",
       "      <td>廣告_edmMP_C</td>\n",
       "      <td>7048.825</td>\n",
       "    </tr>\n",
       "    <tr>\n",
       "      <th>34</th>\n",
       "      <td>廣告_edmMP_D</td>\n",
       "      <td>42248.535</td>\n",
       "    </tr>\n",
       "    <tr>\n",
       "      <th>35</th>\n",
       "      <td>廣告_edmP_C</td>\n",
       "      <td>77986.160</td>\n",
       "    </tr>\n",
       "    <tr>\n",
       "      <th>36</th>\n",
       "      <td>廣告_edmP_D</td>\n",
       "      <td>8725.080</td>\n",
       "    </tr>\n",
       "    <tr>\n",
       "      <th>37</th>\n",
       "      <td>廣告_自然流量</td>\n",
       "      <td>3661490.350</td>\n",
       "    </tr>\n",
       "  </tbody>\n",
       "</table>\n",
       "</div>"
      ],
      "text/plain": [
       "            廣告代號all           單價\n",
       "0       廣告_B2KDG_MK    41171.060\n",
       "1       廣告_B2KDG_MP    64433.005\n",
       "2        廣告_B2KDG_P  4741072.595\n",
       "3       廣告_B2KDG_mp   300990.585\n",
       "4        廣告_B2KMP_D     6509.265\n",
       "5        廣告_B2KMP_P      987.000\n",
       "6         廣告_B2KP_D    21588.980\n",
       "7     廣告_B2K_jqejqe     2122.050\n",
       "8        廣告_DMDMP_D    19378.100\n",
       "9         廣告_DPPP_D    16907.310\n",
       "10    廣告_Ddwirds_GT    62266.540\n",
       "11      廣告_GINEMK_C    25935.070\n",
       "12      廣告_GINEMK_D    97288.590\n",
       "13      廣告_GINEMP_D   140706.720\n",
       "14       廣告_GINEP_C    47186.825\n",
       "15       廣告_GINEP_D   111715.240\n",
       "16       廣告_IGDG_MP     5703.215\n",
       "17        廣告_IGDG_P    13076.105\n",
       "18        廣告_IGMP_D     2122.050\n",
       "19       廣告_KBDG_MK   206388.280\n",
       "20       廣告_KBDG_MP   262818.360\n",
       "21        廣告_KBDG_P   455028.385\n",
       "22       廣告_KBDG_mp      970.550\n",
       "23        廣告_KBMP_D     1612.100\n",
       "24         廣告_KBP_C     1135.050\n",
       "25         廣告_KBP_D    24949.715\n",
       "26        廣告_KDMK_C     1232.105\n",
       "27        廣告_KDMP_D    65321.305\n",
       "28        廣告_KDMP_P      493.500\n",
       "29  廣告_KDPOD_select     3285.065\n",
       "30         廣告_KDP_D    13136.970\n",
       "31       廣告_edmMK_C     7751.240\n",
       "32       廣告_edmMK_D     4768.855\n",
       "33       廣告_edmMP_C     7048.825\n",
       "34       廣告_edmMP_D    42248.535\n",
       "35        廣告_edmP_C    77986.160\n",
       "36        廣告_edmP_D     8725.080\n",
       "37          廣告_自然流量  3661490.350"
      ]
     },
     "execution_count": 111,
     "metadata": {},
     "output_type": "execute_result"
    }
   ],
   "source": [
    "ad_data_2019_09 = ad_data_2019_09.groupby('廣告代號all', as_index=False)['單價'].sum()\n",
    "ad_data_2019_09"
   ]
  },
  {
   "cell_type": "code",
   "execution_count": 112,
   "metadata": {},
   "outputs": [
    {
     "data": {
      "application/vnd.plotly.v1+json": {
       "config": {
        "plotlyServerURL": "https://plot.ly"
       },
       "data": [
        {
         "domain": {
          "x": [
           0,
           1
          ],
          "y": [
           0,
           1
          ]
         },
         "hovertemplate": "廣告代號all=%{label}<br>單價=%{value}<extra></extra>",
         "labels": [
          "廣告_B2KDG_MK",
          "廣告_B2KDG_MP",
          "廣告_B2KDG_P",
          "廣告_B2KDG_mp",
          "廣告_B2KMP_D",
          "廣告_B2KMP_P",
          "廣告_B2KP_D",
          "廣告_B2K_jqejqe",
          "廣告_DMDMP_D",
          "廣告_DPPP_D",
          "廣告_Ddwirds_GT",
          "廣告_GINEMK_C",
          "廣告_GINEMK_D",
          "廣告_GINEMP_D",
          "廣告_GINEP_C",
          "廣告_GINEP_D",
          "廣告_IGDG_MP",
          "廣告_IGDG_P",
          "廣告_IGMP_D",
          "廣告_KBDG_MK",
          "廣告_KBDG_MP",
          "廣告_KBDG_P",
          "廣告_KBDG_mp",
          "廣告_KBMP_D",
          "廣告_KBP_C",
          "廣告_KBP_D",
          "廣告_KDMK_C",
          "廣告_KDMP_D",
          "廣告_KDMP_P",
          "廣告_KDPOD_select",
          "廣告_KDP_D",
          "廣告_edmMK_C",
          "廣告_edmMK_D",
          "廣告_edmMP_C",
          "廣告_edmMP_D",
          "廣告_edmP_C",
          "廣告_edmP_D",
          "廣告_自然流量"
         ],
         "legendgroup": "",
         "name": "",
         "showlegend": true,
         "textinfo": "percent+label",
         "textposition": "inside",
         "type": "pie",
         "values": [
          41171.06,
          64433.005,
          4741072.595,
          300990.585,
          6509.265,
          987,
          21588.98,
          2122.05,
          19378.1,
          16907.31,
          62266.54,
          25935.07,
          97288.59,
          140706.72,
          47186.825,
          111715.24,
          5703.215,
          13076.105,
          2122.05,
          206388.28,
          262818.36,
          455028.385,
          970.55,
          1612.1,
          1135.05,
          24949.715,
          1232.105,
          65321.305,
          493.5,
          3285.065,
          13136.97,
          7751.24,
          4768.855,
          7048.825,
          42248.534999999996,
          77986.16,
          8725.08,
          3661490.35
         ]
        }
       ],
       "layout": {
        "legend": {
         "tracegroupgap": 0
        },
        "margin": {
         "t": 60
        },
        "template": {
         "data": {
          "bar": [
           {
            "error_x": {
             "color": "#2a3f5f"
            },
            "error_y": {
             "color": "#2a3f5f"
            },
            "marker": {
             "line": {
              "color": "#E5ECF6",
              "width": 0.5
             },
             "pattern": {
              "fillmode": "overlay",
              "size": 10,
              "solidity": 0.2
             }
            },
            "type": "bar"
           }
          ],
          "barpolar": [
           {
            "marker": {
             "line": {
              "color": "#E5ECF6",
              "width": 0.5
             },
             "pattern": {
              "fillmode": "overlay",
              "size": 10,
              "solidity": 0.2
             }
            },
            "type": "barpolar"
           }
          ],
          "carpet": [
           {
            "aaxis": {
             "endlinecolor": "#2a3f5f",
             "gridcolor": "white",
             "linecolor": "white",
             "minorgridcolor": "white",
             "startlinecolor": "#2a3f5f"
            },
            "baxis": {
             "endlinecolor": "#2a3f5f",
             "gridcolor": "white",
             "linecolor": "white",
             "minorgridcolor": "white",
             "startlinecolor": "#2a3f5f"
            },
            "type": "carpet"
           }
          ],
          "choropleth": [
           {
            "colorbar": {
             "outlinewidth": 0,
             "ticks": ""
            },
            "type": "choropleth"
           }
          ],
          "contour": [
           {
            "colorbar": {
             "outlinewidth": 0,
             "ticks": ""
            },
            "colorscale": [
             [
              0,
              "#0d0887"
             ],
             [
              0.1111111111111111,
              "#46039f"
             ],
             [
              0.2222222222222222,
              "#7201a8"
             ],
             [
              0.3333333333333333,
              "#9c179e"
             ],
             [
              0.4444444444444444,
              "#bd3786"
             ],
             [
              0.5555555555555556,
              "#d8576b"
             ],
             [
              0.6666666666666666,
              "#ed7953"
             ],
             [
              0.7777777777777778,
              "#fb9f3a"
             ],
             [
              0.8888888888888888,
              "#fdca26"
             ],
             [
              1,
              "#f0f921"
             ]
            ],
            "type": "contour"
           }
          ],
          "contourcarpet": [
           {
            "colorbar": {
             "outlinewidth": 0,
             "ticks": ""
            },
            "type": "contourcarpet"
           }
          ],
          "heatmap": [
           {
            "colorbar": {
             "outlinewidth": 0,
             "ticks": ""
            },
            "colorscale": [
             [
              0,
              "#0d0887"
             ],
             [
              0.1111111111111111,
              "#46039f"
             ],
             [
              0.2222222222222222,
              "#7201a8"
             ],
             [
              0.3333333333333333,
              "#9c179e"
             ],
             [
              0.4444444444444444,
              "#bd3786"
             ],
             [
              0.5555555555555556,
              "#d8576b"
             ],
             [
              0.6666666666666666,
              "#ed7953"
             ],
             [
              0.7777777777777778,
              "#fb9f3a"
             ],
             [
              0.8888888888888888,
              "#fdca26"
             ],
             [
              1,
              "#f0f921"
             ]
            ],
            "type": "heatmap"
           }
          ],
          "heatmapgl": [
           {
            "colorbar": {
             "outlinewidth": 0,
             "ticks": ""
            },
            "colorscale": [
             [
              0,
              "#0d0887"
             ],
             [
              0.1111111111111111,
              "#46039f"
             ],
             [
              0.2222222222222222,
              "#7201a8"
             ],
             [
              0.3333333333333333,
              "#9c179e"
             ],
             [
              0.4444444444444444,
              "#bd3786"
             ],
             [
              0.5555555555555556,
              "#d8576b"
             ],
             [
              0.6666666666666666,
              "#ed7953"
             ],
             [
              0.7777777777777778,
              "#fb9f3a"
             ],
             [
              0.8888888888888888,
              "#fdca26"
             ],
             [
              1,
              "#f0f921"
             ]
            ],
            "type": "heatmapgl"
           }
          ],
          "histogram": [
           {
            "marker": {
             "pattern": {
              "fillmode": "overlay",
              "size": 10,
              "solidity": 0.2
             }
            },
            "type": "histogram"
           }
          ],
          "histogram2d": [
           {
            "colorbar": {
             "outlinewidth": 0,
             "ticks": ""
            },
            "colorscale": [
             [
              0,
              "#0d0887"
             ],
             [
              0.1111111111111111,
              "#46039f"
             ],
             [
              0.2222222222222222,
              "#7201a8"
             ],
             [
              0.3333333333333333,
              "#9c179e"
             ],
             [
              0.4444444444444444,
              "#bd3786"
             ],
             [
              0.5555555555555556,
              "#d8576b"
             ],
             [
              0.6666666666666666,
              "#ed7953"
             ],
             [
              0.7777777777777778,
              "#fb9f3a"
             ],
             [
              0.8888888888888888,
              "#fdca26"
             ],
             [
              1,
              "#f0f921"
             ]
            ],
            "type": "histogram2d"
           }
          ],
          "histogram2dcontour": [
           {
            "colorbar": {
             "outlinewidth": 0,
             "ticks": ""
            },
            "colorscale": [
             [
              0,
              "#0d0887"
             ],
             [
              0.1111111111111111,
              "#46039f"
             ],
             [
              0.2222222222222222,
              "#7201a8"
             ],
             [
              0.3333333333333333,
              "#9c179e"
             ],
             [
              0.4444444444444444,
              "#bd3786"
             ],
             [
              0.5555555555555556,
              "#d8576b"
             ],
             [
              0.6666666666666666,
              "#ed7953"
             ],
             [
              0.7777777777777778,
              "#fb9f3a"
             ],
             [
              0.8888888888888888,
              "#fdca26"
             ],
             [
              1,
              "#f0f921"
             ]
            ],
            "type": "histogram2dcontour"
           }
          ],
          "mesh3d": [
           {
            "colorbar": {
             "outlinewidth": 0,
             "ticks": ""
            },
            "type": "mesh3d"
           }
          ],
          "parcoords": [
           {
            "line": {
             "colorbar": {
              "outlinewidth": 0,
              "ticks": ""
             }
            },
            "type": "parcoords"
           }
          ],
          "pie": [
           {
            "automargin": true,
            "type": "pie"
           }
          ],
          "scatter": [
           {
            "marker": {
             "colorbar": {
              "outlinewidth": 0,
              "ticks": ""
             }
            },
            "type": "scatter"
           }
          ],
          "scatter3d": [
           {
            "line": {
             "colorbar": {
              "outlinewidth": 0,
              "ticks": ""
             }
            },
            "marker": {
             "colorbar": {
              "outlinewidth": 0,
              "ticks": ""
             }
            },
            "type": "scatter3d"
           }
          ],
          "scattercarpet": [
           {
            "marker": {
             "colorbar": {
              "outlinewidth": 0,
              "ticks": ""
             }
            },
            "type": "scattercarpet"
           }
          ],
          "scattergeo": [
           {
            "marker": {
             "colorbar": {
              "outlinewidth": 0,
              "ticks": ""
             }
            },
            "type": "scattergeo"
           }
          ],
          "scattergl": [
           {
            "marker": {
             "colorbar": {
              "outlinewidth": 0,
              "ticks": ""
             }
            },
            "type": "scattergl"
           }
          ],
          "scattermapbox": [
           {
            "marker": {
             "colorbar": {
              "outlinewidth": 0,
              "ticks": ""
             }
            },
            "type": "scattermapbox"
           }
          ],
          "scatterpolar": [
           {
            "marker": {
             "colorbar": {
              "outlinewidth": 0,
              "ticks": ""
             }
            },
            "type": "scatterpolar"
           }
          ],
          "scatterpolargl": [
           {
            "marker": {
             "colorbar": {
              "outlinewidth": 0,
              "ticks": ""
             }
            },
            "type": "scatterpolargl"
           }
          ],
          "scatterternary": [
           {
            "marker": {
             "colorbar": {
              "outlinewidth": 0,
              "ticks": ""
             }
            },
            "type": "scatterternary"
           }
          ],
          "surface": [
           {
            "colorbar": {
             "outlinewidth": 0,
             "ticks": ""
            },
            "colorscale": [
             [
              0,
              "#0d0887"
             ],
             [
              0.1111111111111111,
              "#46039f"
             ],
             [
              0.2222222222222222,
              "#7201a8"
             ],
             [
              0.3333333333333333,
              "#9c179e"
             ],
             [
              0.4444444444444444,
              "#bd3786"
             ],
             [
              0.5555555555555556,
              "#d8576b"
             ],
             [
              0.6666666666666666,
              "#ed7953"
             ],
             [
              0.7777777777777778,
              "#fb9f3a"
             ],
             [
              0.8888888888888888,
              "#fdca26"
             ],
             [
              1,
              "#f0f921"
             ]
            ],
            "type": "surface"
           }
          ],
          "table": [
           {
            "cells": {
             "fill": {
              "color": "#EBF0F8"
             },
             "line": {
              "color": "white"
             }
            },
            "header": {
             "fill": {
              "color": "#C8D4E3"
             },
             "line": {
              "color": "white"
             }
            },
            "type": "table"
           }
          ]
         },
         "layout": {
          "annotationdefaults": {
           "arrowcolor": "#2a3f5f",
           "arrowhead": 0,
           "arrowwidth": 1
          },
          "autotypenumbers": "strict",
          "coloraxis": {
           "colorbar": {
            "outlinewidth": 0,
            "ticks": ""
           }
          },
          "colorscale": {
           "diverging": [
            [
             0,
             "#8e0152"
            ],
            [
             0.1,
             "#c51b7d"
            ],
            [
             0.2,
             "#de77ae"
            ],
            [
             0.3,
             "#f1b6da"
            ],
            [
             0.4,
             "#fde0ef"
            ],
            [
             0.5,
             "#f7f7f7"
            ],
            [
             0.6,
             "#e6f5d0"
            ],
            [
             0.7,
             "#b8e186"
            ],
            [
             0.8,
             "#7fbc41"
            ],
            [
             0.9,
             "#4d9221"
            ],
            [
             1,
             "#276419"
            ]
           ],
           "sequential": [
            [
             0,
             "#0d0887"
            ],
            [
             0.1111111111111111,
             "#46039f"
            ],
            [
             0.2222222222222222,
             "#7201a8"
            ],
            [
             0.3333333333333333,
             "#9c179e"
            ],
            [
             0.4444444444444444,
             "#bd3786"
            ],
            [
             0.5555555555555556,
             "#d8576b"
            ],
            [
             0.6666666666666666,
             "#ed7953"
            ],
            [
             0.7777777777777778,
             "#fb9f3a"
            ],
            [
             0.8888888888888888,
             "#fdca26"
            ],
            [
             1,
             "#f0f921"
            ]
           ],
           "sequentialminus": [
            [
             0,
             "#0d0887"
            ],
            [
             0.1111111111111111,
             "#46039f"
            ],
            [
             0.2222222222222222,
             "#7201a8"
            ],
            [
             0.3333333333333333,
             "#9c179e"
            ],
            [
             0.4444444444444444,
             "#bd3786"
            ],
            [
             0.5555555555555556,
             "#d8576b"
            ],
            [
             0.6666666666666666,
             "#ed7953"
            ],
            [
             0.7777777777777778,
             "#fb9f3a"
            ],
            [
             0.8888888888888888,
             "#fdca26"
            ],
            [
             1,
             "#f0f921"
            ]
           ]
          },
          "colorway": [
           "#636efa",
           "#EF553B",
           "#00cc96",
           "#ab63fa",
           "#FFA15A",
           "#19d3f3",
           "#FF6692",
           "#B6E880",
           "#FF97FF",
           "#FECB52"
          ],
          "font": {
           "color": "#2a3f5f"
          },
          "geo": {
           "bgcolor": "white",
           "lakecolor": "white",
           "landcolor": "#E5ECF6",
           "showlakes": true,
           "showland": true,
           "subunitcolor": "white"
          },
          "hoverlabel": {
           "align": "left"
          },
          "hovermode": "closest",
          "mapbox": {
           "style": "light"
          },
          "paper_bgcolor": "white",
          "plot_bgcolor": "#E5ECF6",
          "polar": {
           "angularaxis": {
            "gridcolor": "white",
            "linecolor": "white",
            "ticks": ""
           },
           "bgcolor": "#E5ECF6",
           "radialaxis": {
            "gridcolor": "white",
            "linecolor": "white",
            "ticks": ""
           }
          },
          "scene": {
           "xaxis": {
            "backgroundcolor": "#E5ECF6",
            "gridcolor": "white",
            "gridwidth": 2,
            "linecolor": "white",
            "showbackground": true,
            "ticks": "",
            "zerolinecolor": "white"
           },
           "yaxis": {
            "backgroundcolor": "#E5ECF6",
            "gridcolor": "white",
            "gridwidth": 2,
            "linecolor": "white",
            "showbackground": true,
            "ticks": "",
            "zerolinecolor": "white"
           },
           "zaxis": {
            "backgroundcolor": "#E5ECF6",
            "gridcolor": "white",
            "gridwidth": 2,
            "linecolor": "white",
            "showbackground": true,
            "ticks": "",
            "zerolinecolor": "white"
           }
          },
          "shapedefaults": {
           "line": {
            "color": "#2a3f5f"
           }
          },
          "ternary": {
           "aaxis": {
            "gridcolor": "white",
            "linecolor": "white",
            "ticks": ""
           },
           "baxis": {
            "gridcolor": "white",
            "linecolor": "white",
            "ticks": ""
           },
           "bgcolor": "#E5ECF6",
           "caxis": {
            "gridcolor": "white",
            "linecolor": "white",
            "ticks": ""
           }
          },
          "title": {
           "x": 0.05
          },
          "xaxis": {
           "automargin": true,
           "gridcolor": "white",
           "linecolor": "white",
           "ticks": "",
           "title": {
            "standoff": 15
           },
           "zerolinecolor": "white",
           "zerolinewidth": 2
          },
          "yaxis": {
           "automargin": true,
           "gridcolor": "white",
           "linecolor": "white",
           "ticks": "",
           "title": {
            "standoff": 15
           },
           "zerolinecolor": "white",
           "zerolinewidth": 2
          }
         }
        }
       }
      }
     },
     "metadata": {},
     "output_type": "display_data"
    }
   ],
   "source": [
    "fig_ad_data_2019_09 = px.pie(ad_data_2019_09, values='單價', names='廣告代號all')#, title='2019-09營收廣告來源')\n",
    "fig_ad_data_2019_09.update_traces(textposition='inside', textinfo='percent+label')\n",
    "fig_ad_data_2019_09 .show()"
   ]
  },
  {
   "cell_type": "markdown",
   "metadata": {},
   "source": []
  },
  {
   "cell_type": "code",
   "execution_count": 113,
   "metadata": {},
   "outputs": [
    {
     "name": "stderr",
     "output_type": "stream",
     "text": [
      "C:\\Users\\chanm\\AppData\\Local\\Temp\\ipykernel_23084\\2880219253.py:3: FutureWarning:\n",
      "\n",
      "Indexing with multiple keys (implicitly converted to a tuple of keys) will be deprecated, use a list instead.\n",
      "\n"
     ]
    }
   ],
   "source": [
    "# 2019_10月\n",
    "ad_data_2019_10  = ad_data_all [ ad_data_all['Month'] == '2019-10' ]\n",
    "ad_data_2019_10  = ad_data_2019_10 .groupby('廣告代號all', as_index=False)['單價', '獲利'].sum()\n",
    "ad_data_2019_10 ['佔銷售比'] = round(100*(ad_data_2019_10 ['單價'] / ad_data_2019_10 ['單價'].sum()), 1)\n",
    "ad_data_2019_10 ['毛利率'] = round(100*(ad_data_2019_10 ['獲利'] / ad_data_2019_10 ['單價']), 1)\n",
    "ad_data_2019_10 = ad_data_2019_10.groupby('廣告代號all', as_index=False)['單價'].sum()"
   ]
  },
  {
   "cell_type": "code",
   "execution_count": 114,
   "metadata": {},
   "outputs": [
    {
     "data": {
      "application/vnd.plotly.v1+json": {
       "config": {
        "plotlyServerURL": "https://plot.ly"
       },
       "data": [
        {
         "domain": {
          "x": [
           0,
           1
          ],
          "y": [
           0,
           1
          ]
         },
         "hovertemplate": "廣告代號all=%{label}<br>單價=%{value}<extra></extra>",
         "labels": [
          "廣告_B2KDG_P",
          "廣告_B2KP_D",
          "廣告_DPPP_D",
          "廣告_Ddwirds_GT",
          "廣告_GINEMK_D",
          "廣告_GINEP_D",
          "廣告_IGDG_P",
          "廣告_KBDG_MK",
          "廣告_KBDG_MP",
          "廣告_KBDG_P",
          "廣告_KDPOD_qrtist",
          "廣告_KDPOD_select",
          "廣告_KDP_P",
          "廣告_edmMK_D",
          "廣告_edmMP_D",
          "廣告_edmP_D",
          "廣告_自然流量"
         ],
         "legendgroup": "",
         "name": "",
         "showlegend": true,
         "textinfo": "percent+label",
         "textposition": "inside",
         "type": "pie",
         "values": [
          162933.96,
          9184.035,
          5706.505,
          15356.075,
          46737.74,
          31106.95,
          753.41,
          26464.760000000002,
          15277.115,
          16958.305,
          1944.39,
          2956.065,
          2122.05,
          17800.545,
          4405.3099999999995,
          4275.3550000000005,
          2365024.725
         ]
        }
       ],
       "layout": {
        "legend": {
         "tracegroupgap": 0
        },
        "margin": {
         "t": 60
        },
        "template": {
         "data": {
          "bar": [
           {
            "error_x": {
             "color": "#2a3f5f"
            },
            "error_y": {
             "color": "#2a3f5f"
            },
            "marker": {
             "line": {
              "color": "#E5ECF6",
              "width": 0.5
             },
             "pattern": {
              "fillmode": "overlay",
              "size": 10,
              "solidity": 0.2
             }
            },
            "type": "bar"
           }
          ],
          "barpolar": [
           {
            "marker": {
             "line": {
              "color": "#E5ECF6",
              "width": 0.5
             },
             "pattern": {
              "fillmode": "overlay",
              "size": 10,
              "solidity": 0.2
             }
            },
            "type": "barpolar"
           }
          ],
          "carpet": [
           {
            "aaxis": {
             "endlinecolor": "#2a3f5f",
             "gridcolor": "white",
             "linecolor": "white",
             "minorgridcolor": "white",
             "startlinecolor": "#2a3f5f"
            },
            "baxis": {
             "endlinecolor": "#2a3f5f",
             "gridcolor": "white",
             "linecolor": "white",
             "minorgridcolor": "white",
             "startlinecolor": "#2a3f5f"
            },
            "type": "carpet"
           }
          ],
          "choropleth": [
           {
            "colorbar": {
             "outlinewidth": 0,
             "ticks": ""
            },
            "type": "choropleth"
           }
          ],
          "contour": [
           {
            "colorbar": {
             "outlinewidth": 0,
             "ticks": ""
            },
            "colorscale": [
             [
              0,
              "#0d0887"
             ],
             [
              0.1111111111111111,
              "#46039f"
             ],
             [
              0.2222222222222222,
              "#7201a8"
             ],
             [
              0.3333333333333333,
              "#9c179e"
             ],
             [
              0.4444444444444444,
              "#bd3786"
             ],
             [
              0.5555555555555556,
              "#d8576b"
             ],
             [
              0.6666666666666666,
              "#ed7953"
             ],
             [
              0.7777777777777778,
              "#fb9f3a"
             ],
             [
              0.8888888888888888,
              "#fdca26"
             ],
             [
              1,
              "#f0f921"
             ]
            ],
            "type": "contour"
           }
          ],
          "contourcarpet": [
           {
            "colorbar": {
             "outlinewidth": 0,
             "ticks": ""
            },
            "type": "contourcarpet"
           }
          ],
          "heatmap": [
           {
            "colorbar": {
             "outlinewidth": 0,
             "ticks": ""
            },
            "colorscale": [
             [
              0,
              "#0d0887"
             ],
             [
              0.1111111111111111,
              "#46039f"
             ],
             [
              0.2222222222222222,
              "#7201a8"
             ],
             [
              0.3333333333333333,
              "#9c179e"
             ],
             [
              0.4444444444444444,
              "#bd3786"
             ],
             [
              0.5555555555555556,
              "#d8576b"
             ],
             [
              0.6666666666666666,
              "#ed7953"
             ],
             [
              0.7777777777777778,
              "#fb9f3a"
             ],
             [
              0.8888888888888888,
              "#fdca26"
             ],
             [
              1,
              "#f0f921"
             ]
            ],
            "type": "heatmap"
           }
          ],
          "heatmapgl": [
           {
            "colorbar": {
             "outlinewidth": 0,
             "ticks": ""
            },
            "colorscale": [
             [
              0,
              "#0d0887"
             ],
             [
              0.1111111111111111,
              "#46039f"
             ],
             [
              0.2222222222222222,
              "#7201a8"
             ],
             [
              0.3333333333333333,
              "#9c179e"
             ],
             [
              0.4444444444444444,
              "#bd3786"
             ],
             [
              0.5555555555555556,
              "#d8576b"
             ],
             [
              0.6666666666666666,
              "#ed7953"
             ],
             [
              0.7777777777777778,
              "#fb9f3a"
             ],
             [
              0.8888888888888888,
              "#fdca26"
             ],
             [
              1,
              "#f0f921"
             ]
            ],
            "type": "heatmapgl"
           }
          ],
          "histogram": [
           {
            "marker": {
             "pattern": {
              "fillmode": "overlay",
              "size": 10,
              "solidity": 0.2
             }
            },
            "type": "histogram"
           }
          ],
          "histogram2d": [
           {
            "colorbar": {
             "outlinewidth": 0,
             "ticks": ""
            },
            "colorscale": [
             [
              0,
              "#0d0887"
             ],
             [
              0.1111111111111111,
              "#46039f"
             ],
             [
              0.2222222222222222,
              "#7201a8"
             ],
             [
              0.3333333333333333,
              "#9c179e"
             ],
             [
              0.4444444444444444,
              "#bd3786"
             ],
             [
              0.5555555555555556,
              "#d8576b"
             ],
             [
              0.6666666666666666,
              "#ed7953"
             ],
             [
              0.7777777777777778,
              "#fb9f3a"
             ],
             [
              0.8888888888888888,
              "#fdca26"
             ],
             [
              1,
              "#f0f921"
             ]
            ],
            "type": "histogram2d"
           }
          ],
          "histogram2dcontour": [
           {
            "colorbar": {
             "outlinewidth": 0,
             "ticks": ""
            },
            "colorscale": [
             [
              0,
              "#0d0887"
             ],
             [
              0.1111111111111111,
              "#46039f"
             ],
             [
              0.2222222222222222,
              "#7201a8"
             ],
             [
              0.3333333333333333,
              "#9c179e"
             ],
             [
              0.4444444444444444,
              "#bd3786"
             ],
             [
              0.5555555555555556,
              "#d8576b"
             ],
             [
              0.6666666666666666,
              "#ed7953"
             ],
             [
              0.7777777777777778,
              "#fb9f3a"
             ],
             [
              0.8888888888888888,
              "#fdca26"
             ],
             [
              1,
              "#f0f921"
             ]
            ],
            "type": "histogram2dcontour"
           }
          ],
          "mesh3d": [
           {
            "colorbar": {
             "outlinewidth": 0,
             "ticks": ""
            },
            "type": "mesh3d"
           }
          ],
          "parcoords": [
           {
            "line": {
             "colorbar": {
              "outlinewidth": 0,
              "ticks": ""
             }
            },
            "type": "parcoords"
           }
          ],
          "pie": [
           {
            "automargin": true,
            "type": "pie"
           }
          ],
          "scatter": [
           {
            "marker": {
             "colorbar": {
              "outlinewidth": 0,
              "ticks": ""
             }
            },
            "type": "scatter"
           }
          ],
          "scatter3d": [
           {
            "line": {
             "colorbar": {
              "outlinewidth": 0,
              "ticks": ""
             }
            },
            "marker": {
             "colorbar": {
              "outlinewidth": 0,
              "ticks": ""
             }
            },
            "type": "scatter3d"
           }
          ],
          "scattercarpet": [
           {
            "marker": {
             "colorbar": {
              "outlinewidth": 0,
              "ticks": ""
             }
            },
            "type": "scattercarpet"
           }
          ],
          "scattergeo": [
           {
            "marker": {
             "colorbar": {
              "outlinewidth": 0,
              "ticks": ""
             }
            },
            "type": "scattergeo"
           }
          ],
          "scattergl": [
           {
            "marker": {
             "colorbar": {
              "outlinewidth": 0,
              "ticks": ""
             }
            },
            "type": "scattergl"
           }
          ],
          "scattermapbox": [
           {
            "marker": {
             "colorbar": {
              "outlinewidth": 0,
              "ticks": ""
             }
            },
            "type": "scattermapbox"
           }
          ],
          "scatterpolar": [
           {
            "marker": {
             "colorbar": {
              "outlinewidth": 0,
              "ticks": ""
             }
            },
            "type": "scatterpolar"
           }
          ],
          "scatterpolargl": [
           {
            "marker": {
             "colorbar": {
              "outlinewidth": 0,
              "ticks": ""
             }
            },
            "type": "scatterpolargl"
           }
          ],
          "scatterternary": [
           {
            "marker": {
             "colorbar": {
              "outlinewidth": 0,
              "ticks": ""
             }
            },
            "type": "scatterternary"
           }
          ],
          "surface": [
           {
            "colorbar": {
             "outlinewidth": 0,
             "ticks": ""
            },
            "colorscale": [
             [
              0,
              "#0d0887"
             ],
             [
              0.1111111111111111,
              "#46039f"
             ],
             [
              0.2222222222222222,
              "#7201a8"
             ],
             [
              0.3333333333333333,
              "#9c179e"
             ],
             [
              0.4444444444444444,
              "#bd3786"
             ],
             [
              0.5555555555555556,
              "#d8576b"
             ],
             [
              0.6666666666666666,
              "#ed7953"
             ],
             [
              0.7777777777777778,
              "#fb9f3a"
             ],
             [
              0.8888888888888888,
              "#fdca26"
             ],
             [
              1,
              "#f0f921"
             ]
            ],
            "type": "surface"
           }
          ],
          "table": [
           {
            "cells": {
             "fill": {
              "color": "#EBF0F8"
             },
             "line": {
              "color": "white"
             }
            },
            "header": {
             "fill": {
              "color": "#C8D4E3"
             },
             "line": {
              "color": "white"
             }
            },
            "type": "table"
           }
          ]
         },
         "layout": {
          "annotationdefaults": {
           "arrowcolor": "#2a3f5f",
           "arrowhead": 0,
           "arrowwidth": 1
          },
          "autotypenumbers": "strict",
          "coloraxis": {
           "colorbar": {
            "outlinewidth": 0,
            "ticks": ""
           }
          },
          "colorscale": {
           "diverging": [
            [
             0,
             "#8e0152"
            ],
            [
             0.1,
             "#c51b7d"
            ],
            [
             0.2,
             "#de77ae"
            ],
            [
             0.3,
             "#f1b6da"
            ],
            [
             0.4,
             "#fde0ef"
            ],
            [
             0.5,
             "#f7f7f7"
            ],
            [
             0.6,
             "#e6f5d0"
            ],
            [
             0.7,
             "#b8e186"
            ],
            [
             0.8,
             "#7fbc41"
            ],
            [
             0.9,
             "#4d9221"
            ],
            [
             1,
             "#276419"
            ]
           ],
           "sequential": [
            [
             0,
             "#0d0887"
            ],
            [
             0.1111111111111111,
             "#46039f"
            ],
            [
             0.2222222222222222,
             "#7201a8"
            ],
            [
             0.3333333333333333,
             "#9c179e"
            ],
            [
             0.4444444444444444,
             "#bd3786"
            ],
            [
             0.5555555555555556,
             "#d8576b"
            ],
            [
             0.6666666666666666,
             "#ed7953"
            ],
            [
             0.7777777777777778,
             "#fb9f3a"
            ],
            [
             0.8888888888888888,
             "#fdca26"
            ],
            [
             1,
             "#f0f921"
            ]
           ],
           "sequentialminus": [
            [
             0,
             "#0d0887"
            ],
            [
             0.1111111111111111,
             "#46039f"
            ],
            [
             0.2222222222222222,
             "#7201a8"
            ],
            [
             0.3333333333333333,
             "#9c179e"
            ],
            [
             0.4444444444444444,
             "#bd3786"
            ],
            [
             0.5555555555555556,
             "#d8576b"
            ],
            [
             0.6666666666666666,
             "#ed7953"
            ],
            [
             0.7777777777777778,
             "#fb9f3a"
            ],
            [
             0.8888888888888888,
             "#fdca26"
            ],
            [
             1,
             "#f0f921"
            ]
           ]
          },
          "colorway": [
           "#636efa",
           "#EF553B",
           "#00cc96",
           "#ab63fa",
           "#FFA15A",
           "#19d3f3",
           "#FF6692",
           "#B6E880",
           "#FF97FF",
           "#FECB52"
          ],
          "font": {
           "color": "#2a3f5f"
          },
          "geo": {
           "bgcolor": "white",
           "lakecolor": "white",
           "landcolor": "#E5ECF6",
           "showlakes": true,
           "showland": true,
           "subunitcolor": "white"
          },
          "hoverlabel": {
           "align": "left"
          },
          "hovermode": "closest",
          "mapbox": {
           "style": "light"
          },
          "paper_bgcolor": "white",
          "plot_bgcolor": "#E5ECF6",
          "polar": {
           "angularaxis": {
            "gridcolor": "white",
            "linecolor": "white",
            "ticks": ""
           },
           "bgcolor": "#E5ECF6",
           "radialaxis": {
            "gridcolor": "white",
            "linecolor": "white",
            "ticks": ""
           }
          },
          "scene": {
           "xaxis": {
            "backgroundcolor": "#E5ECF6",
            "gridcolor": "white",
            "gridwidth": 2,
            "linecolor": "white",
            "showbackground": true,
            "ticks": "",
            "zerolinecolor": "white"
           },
           "yaxis": {
            "backgroundcolor": "#E5ECF6",
            "gridcolor": "white",
            "gridwidth": 2,
            "linecolor": "white",
            "showbackground": true,
            "ticks": "",
            "zerolinecolor": "white"
           },
           "zaxis": {
            "backgroundcolor": "#E5ECF6",
            "gridcolor": "white",
            "gridwidth": 2,
            "linecolor": "white",
            "showbackground": true,
            "ticks": "",
            "zerolinecolor": "white"
           }
          },
          "shapedefaults": {
           "line": {
            "color": "#2a3f5f"
           }
          },
          "ternary": {
           "aaxis": {
            "gridcolor": "white",
            "linecolor": "white",
            "ticks": ""
           },
           "baxis": {
            "gridcolor": "white",
            "linecolor": "white",
            "ticks": ""
           },
           "bgcolor": "#E5ECF6",
           "caxis": {
            "gridcolor": "white",
            "linecolor": "white",
            "ticks": ""
           }
          },
          "title": {
           "x": 0.05
          },
          "xaxis": {
           "automargin": true,
           "gridcolor": "white",
           "linecolor": "white",
           "ticks": "",
           "title": {
            "standoff": 15
           },
           "zerolinecolor": "white",
           "zerolinewidth": 2
          },
          "yaxis": {
           "automargin": true,
           "gridcolor": "white",
           "linecolor": "white",
           "ticks": "",
           "title": {
            "standoff": 15
           },
           "zerolinecolor": "white",
           "zerolinewidth": 2
          }
         }
        }
       }
      }
     },
     "metadata": {},
     "output_type": "display_data"
    }
   ],
   "source": [
    "fig_ad_data_2019_10 = px.pie(ad_data_2019_10, values='單價', names='廣告代號all')#, title='2019-10營收廣告來源')\n",
    "fig_ad_data_2019_10.update_traces(textposition='inside', textinfo='percent+label')\n",
    "fig_ad_data_2019_10.show()"
   ]
  },
  {
   "cell_type": "code",
   "execution_count": 115,
   "metadata": {},
   "outputs": [
    {
     "name": "stderr",
     "output_type": "stream",
     "text": [
      "C:\\Users\\chanm\\AppData\\Local\\Temp\\ipykernel_23084\\2452572287.py:3: FutureWarning:\n",
      "\n",
      "Indexing with multiple keys (implicitly converted to a tuple of keys) will be deprecated, use a list instead.\n",
      "\n"
     ]
    },
    {
     "data": {
      "application/vnd.plotly.v1+json": {
       "config": {
        "plotlyServerURL": "https://plot.ly"
       },
       "data": [
        {
         "domain": {
          "x": [
           0,
           1
          ],
          "y": [
           0,
           1
          ]
         },
         "hovertemplate": "廣告代號all=%{label}<br>單價=%{value}<extra></extra>",
         "labels": [
          "廣告_B2KMK_D",
          "廣告_B2KMK_redecvelipe",
          "廣告_B2KMP_D",
          "廣告_B2KMP_P",
          "廣告_B2KP_D",
          "廣告_B2K_D",
          "廣告_GINEP_C",
          "廣告_GINEP_D",
          "廣告_GINEP_P",
          "廣告_GqmerP_C",
          "廣告_KDMK_C",
          "廣告_KDMK_D",
          "廣告_KDMK_P",
          "廣告_KDMP_C",
          "廣告_KDMP_D",
          "廣告_KDMP_P",
          "廣告_KDP_C",
          "廣告_KDP_D",
          "廣告_KDP_P",
          "廣告_critei_critei",
          "廣告_edmP_",
          "廣告_edmP_C",
          "廣告_edmP_D",
          "廣告_ikip_POD",
          "廣告_ikip_ctq",
          "廣告_ikip_iqcdirqkip",
          "廣告_自然流量"
         ],
         "legendgroup": "",
         "name": "",
         "showlegend": true,
         "textinfo": "percent+label",
         "textposition": "inside",
         "type": "pie",
         "values": [
          985.355,
          4731.02,
          24313.1,
          45800.09,
          1082308.01,
          12960.955,
          92692.46,
          238944.475,
          39851.770000000004,
          44540.020000000004,
          1641.71,
          343837.9,
          256185.72,
          26086.41,
          60356.695,
          137609.185,
          95449.48,
          1158359.6500000001,
          49945.49,
          409292.45,
          806.05,
          172062.065,
          101381.34999999999,
          11121.845,
          67191.67,
          1668.03,
          3356675.14
         ]
        }
       ],
       "layout": {
        "legend": {
         "tracegroupgap": 0
        },
        "margin": {
         "t": 60
        },
        "template": {
         "data": {
          "bar": [
           {
            "error_x": {
             "color": "#2a3f5f"
            },
            "error_y": {
             "color": "#2a3f5f"
            },
            "marker": {
             "line": {
              "color": "#E5ECF6",
              "width": 0.5
             },
             "pattern": {
              "fillmode": "overlay",
              "size": 10,
              "solidity": 0.2
             }
            },
            "type": "bar"
           }
          ],
          "barpolar": [
           {
            "marker": {
             "line": {
              "color": "#E5ECF6",
              "width": 0.5
             },
             "pattern": {
              "fillmode": "overlay",
              "size": 10,
              "solidity": 0.2
             }
            },
            "type": "barpolar"
           }
          ],
          "carpet": [
           {
            "aaxis": {
             "endlinecolor": "#2a3f5f",
             "gridcolor": "white",
             "linecolor": "white",
             "minorgridcolor": "white",
             "startlinecolor": "#2a3f5f"
            },
            "baxis": {
             "endlinecolor": "#2a3f5f",
             "gridcolor": "white",
             "linecolor": "white",
             "minorgridcolor": "white",
             "startlinecolor": "#2a3f5f"
            },
            "type": "carpet"
           }
          ],
          "choropleth": [
           {
            "colorbar": {
             "outlinewidth": 0,
             "ticks": ""
            },
            "type": "choropleth"
           }
          ],
          "contour": [
           {
            "colorbar": {
             "outlinewidth": 0,
             "ticks": ""
            },
            "colorscale": [
             [
              0,
              "#0d0887"
             ],
             [
              0.1111111111111111,
              "#46039f"
             ],
             [
              0.2222222222222222,
              "#7201a8"
             ],
             [
              0.3333333333333333,
              "#9c179e"
             ],
             [
              0.4444444444444444,
              "#bd3786"
             ],
             [
              0.5555555555555556,
              "#d8576b"
             ],
             [
              0.6666666666666666,
              "#ed7953"
             ],
             [
              0.7777777777777778,
              "#fb9f3a"
             ],
             [
              0.8888888888888888,
              "#fdca26"
             ],
             [
              1,
              "#f0f921"
             ]
            ],
            "type": "contour"
           }
          ],
          "contourcarpet": [
           {
            "colorbar": {
             "outlinewidth": 0,
             "ticks": ""
            },
            "type": "contourcarpet"
           }
          ],
          "heatmap": [
           {
            "colorbar": {
             "outlinewidth": 0,
             "ticks": ""
            },
            "colorscale": [
             [
              0,
              "#0d0887"
             ],
             [
              0.1111111111111111,
              "#46039f"
             ],
             [
              0.2222222222222222,
              "#7201a8"
             ],
             [
              0.3333333333333333,
              "#9c179e"
             ],
             [
              0.4444444444444444,
              "#bd3786"
             ],
             [
              0.5555555555555556,
              "#d8576b"
             ],
             [
              0.6666666666666666,
              "#ed7953"
             ],
             [
              0.7777777777777778,
              "#fb9f3a"
             ],
             [
              0.8888888888888888,
              "#fdca26"
             ],
             [
              1,
              "#f0f921"
             ]
            ],
            "type": "heatmap"
           }
          ],
          "heatmapgl": [
           {
            "colorbar": {
             "outlinewidth": 0,
             "ticks": ""
            },
            "colorscale": [
             [
              0,
              "#0d0887"
             ],
             [
              0.1111111111111111,
              "#46039f"
             ],
             [
              0.2222222222222222,
              "#7201a8"
             ],
             [
              0.3333333333333333,
              "#9c179e"
             ],
             [
              0.4444444444444444,
              "#bd3786"
             ],
             [
              0.5555555555555556,
              "#d8576b"
             ],
             [
              0.6666666666666666,
              "#ed7953"
             ],
             [
              0.7777777777777778,
              "#fb9f3a"
             ],
             [
              0.8888888888888888,
              "#fdca26"
             ],
             [
              1,
              "#f0f921"
             ]
            ],
            "type": "heatmapgl"
           }
          ],
          "histogram": [
           {
            "marker": {
             "pattern": {
              "fillmode": "overlay",
              "size": 10,
              "solidity": 0.2
             }
            },
            "type": "histogram"
           }
          ],
          "histogram2d": [
           {
            "colorbar": {
             "outlinewidth": 0,
             "ticks": ""
            },
            "colorscale": [
             [
              0,
              "#0d0887"
             ],
             [
              0.1111111111111111,
              "#46039f"
             ],
             [
              0.2222222222222222,
              "#7201a8"
             ],
             [
              0.3333333333333333,
              "#9c179e"
             ],
             [
              0.4444444444444444,
              "#bd3786"
             ],
             [
              0.5555555555555556,
              "#d8576b"
             ],
             [
              0.6666666666666666,
              "#ed7953"
             ],
             [
              0.7777777777777778,
              "#fb9f3a"
             ],
             [
              0.8888888888888888,
              "#fdca26"
             ],
             [
              1,
              "#f0f921"
             ]
            ],
            "type": "histogram2d"
           }
          ],
          "histogram2dcontour": [
           {
            "colorbar": {
             "outlinewidth": 0,
             "ticks": ""
            },
            "colorscale": [
             [
              0,
              "#0d0887"
             ],
             [
              0.1111111111111111,
              "#46039f"
             ],
             [
              0.2222222222222222,
              "#7201a8"
             ],
             [
              0.3333333333333333,
              "#9c179e"
             ],
             [
              0.4444444444444444,
              "#bd3786"
             ],
             [
              0.5555555555555556,
              "#d8576b"
             ],
             [
              0.6666666666666666,
              "#ed7953"
             ],
             [
              0.7777777777777778,
              "#fb9f3a"
             ],
             [
              0.8888888888888888,
              "#fdca26"
             ],
             [
              1,
              "#f0f921"
             ]
            ],
            "type": "histogram2dcontour"
           }
          ],
          "mesh3d": [
           {
            "colorbar": {
             "outlinewidth": 0,
             "ticks": ""
            },
            "type": "mesh3d"
           }
          ],
          "parcoords": [
           {
            "line": {
             "colorbar": {
              "outlinewidth": 0,
              "ticks": ""
             }
            },
            "type": "parcoords"
           }
          ],
          "pie": [
           {
            "automargin": true,
            "type": "pie"
           }
          ],
          "scatter": [
           {
            "marker": {
             "colorbar": {
              "outlinewidth": 0,
              "ticks": ""
             }
            },
            "type": "scatter"
           }
          ],
          "scatter3d": [
           {
            "line": {
             "colorbar": {
              "outlinewidth": 0,
              "ticks": ""
             }
            },
            "marker": {
             "colorbar": {
              "outlinewidth": 0,
              "ticks": ""
             }
            },
            "type": "scatter3d"
           }
          ],
          "scattercarpet": [
           {
            "marker": {
             "colorbar": {
              "outlinewidth": 0,
              "ticks": ""
             }
            },
            "type": "scattercarpet"
           }
          ],
          "scattergeo": [
           {
            "marker": {
             "colorbar": {
              "outlinewidth": 0,
              "ticks": ""
             }
            },
            "type": "scattergeo"
           }
          ],
          "scattergl": [
           {
            "marker": {
             "colorbar": {
              "outlinewidth": 0,
              "ticks": ""
             }
            },
            "type": "scattergl"
           }
          ],
          "scattermapbox": [
           {
            "marker": {
             "colorbar": {
              "outlinewidth": 0,
              "ticks": ""
             }
            },
            "type": "scattermapbox"
           }
          ],
          "scatterpolar": [
           {
            "marker": {
             "colorbar": {
              "outlinewidth": 0,
              "ticks": ""
             }
            },
            "type": "scatterpolar"
           }
          ],
          "scatterpolargl": [
           {
            "marker": {
             "colorbar": {
              "outlinewidth": 0,
              "ticks": ""
             }
            },
            "type": "scatterpolargl"
           }
          ],
          "scatterternary": [
           {
            "marker": {
             "colorbar": {
              "outlinewidth": 0,
              "ticks": ""
             }
            },
            "type": "scatterternary"
           }
          ],
          "surface": [
           {
            "colorbar": {
             "outlinewidth": 0,
             "ticks": ""
            },
            "colorscale": [
             [
              0,
              "#0d0887"
             ],
             [
              0.1111111111111111,
              "#46039f"
             ],
             [
              0.2222222222222222,
              "#7201a8"
             ],
             [
              0.3333333333333333,
              "#9c179e"
             ],
             [
              0.4444444444444444,
              "#bd3786"
             ],
             [
              0.5555555555555556,
              "#d8576b"
             ],
             [
              0.6666666666666666,
              "#ed7953"
             ],
             [
              0.7777777777777778,
              "#fb9f3a"
             ],
             [
              0.8888888888888888,
              "#fdca26"
             ],
             [
              1,
              "#f0f921"
             ]
            ],
            "type": "surface"
           }
          ],
          "table": [
           {
            "cells": {
             "fill": {
              "color": "#EBF0F8"
             },
             "line": {
              "color": "white"
             }
            },
            "header": {
             "fill": {
              "color": "#C8D4E3"
             },
             "line": {
              "color": "white"
             }
            },
            "type": "table"
           }
          ]
         },
         "layout": {
          "annotationdefaults": {
           "arrowcolor": "#2a3f5f",
           "arrowhead": 0,
           "arrowwidth": 1
          },
          "autotypenumbers": "strict",
          "coloraxis": {
           "colorbar": {
            "outlinewidth": 0,
            "ticks": ""
           }
          },
          "colorscale": {
           "diverging": [
            [
             0,
             "#8e0152"
            ],
            [
             0.1,
             "#c51b7d"
            ],
            [
             0.2,
             "#de77ae"
            ],
            [
             0.3,
             "#f1b6da"
            ],
            [
             0.4,
             "#fde0ef"
            ],
            [
             0.5,
             "#f7f7f7"
            ],
            [
             0.6,
             "#e6f5d0"
            ],
            [
             0.7,
             "#b8e186"
            ],
            [
             0.8,
             "#7fbc41"
            ],
            [
             0.9,
             "#4d9221"
            ],
            [
             1,
             "#276419"
            ]
           ],
           "sequential": [
            [
             0,
             "#0d0887"
            ],
            [
             0.1111111111111111,
             "#46039f"
            ],
            [
             0.2222222222222222,
             "#7201a8"
            ],
            [
             0.3333333333333333,
             "#9c179e"
            ],
            [
             0.4444444444444444,
             "#bd3786"
            ],
            [
             0.5555555555555556,
             "#d8576b"
            ],
            [
             0.6666666666666666,
             "#ed7953"
            ],
            [
             0.7777777777777778,
             "#fb9f3a"
            ],
            [
             0.8888888888888888,
             "#fdca26"
            ],
            [
             1,
             "#f0f921"
            ]
           ],
           "sequentialminus": [
            [
             0,
             "#0d0887"
            ],
            [
             0.1111111111111111,
             "#46039f"
            ],
            [
             0.2222222222222222,
             "#7201a8"
            ],
            [
             0.3333333333333333,
             "#9c179e"
            ],
            [
             0.4444444444444444,
             "#bd3786"
            ],
            [
             0.5555555555555556,
             "#d8576b"
            ],
            [
             0.6666666666666666,
             "#ed7953"
            ],
            [
             0.7777777777777778,
             "#fb9f3a"
            ],
            [
             0.8888888888888888,
             "#fdca26"
            ],
            [
             1,
             "#f0f921"
            ]
           ]
          },
          "colorway": [
           "#636efa",
           "#EF553B",
           "#00cc96",
           "#ab63fa",
           "#FFA15A",
           "#19d3f3",
           "#FF6692",
           "#B6E880",
           "#FF97FF",
           "#FECB52"
          ],
          "font": {
           "color": "#2a3f5f"
          },
          "geo": {
           "bgcolor": "white",
           "lakecolor": "white",
           "landcolor": "#E5ECF6",
           "showlakes": true,
           "showland": true,
           "subunitcolor": "white"
          },
          "hoverlabel": {
           "align": "left"
          },
          "hovermode": "closest",
          "mapbox": {
           "style": "light"
          },
          "paper_bgcolor": "white",
          "plot_bgcolor": "#E5ECF6",
          "polar": {
           "angularaxis": {
            "gridcolor": "white",
            "linecolor": "white",
            "ticks": ""
           },
           "bgcolor": "#E5ECF6",
           "radialaxis": {
            "gridcolor": "white",
            "linecolor": "white",
            "ticks": ""
           }
          },
          "scene": {
           "xaxis": {
            "backgroundcolor": "#E5ECF6",
            "gridcolor": "white",
            "gridwidth": 2,
            "linecolor": "white",
            "showbackground": true,
            "ticks": "",
            "zerolinecolor": "white"
           },
           "yaxis": {
            "backgroundcolor": "#E5ECF6",
            "gridcolor": "white",
            "gridwidth": 2,
            "linecolor": "white",
            "showbackground": true,
            "ticks": "",
            "zerolinecolor": "white"
           },
           "zaxis": {
            "backgroundcolor": "#E5ECF6",
            "gridcolor": "white",
            "gridwidth": 2,
            "linecolor": "white",
            "showbackground": true,
            "ticks": "",
            "zerolinecolor": "white"
           }
          },
          "shapedefaults": {
           "line": {
            "color": "#2a3f5f"
           }
          },
          "ternary": {
           "aaxis": {
            "gridcolor": "white",
            "linecolor": "white",
            "ticks": ""
           },
           "baxis": {
            "gridcolor": "white",
            "linecolor": "white",
            "ticks": ""
           },
           "bgcolor": "#E5ECF6",
           "caxis": {
            "gridcolor": "white",
            "linecolor": "white",
            "ticks": ""
           }
          },
          "title": {
           "x": 0.05
          },
          "xaxis": {
           "automargin": true,
           "gridcolor": "white",
           "linecolor": "white",
           "ticks": "",
           "title": {
            "standoff": 15
           },
           "zerolinecolor": "white",
           "zerolinewidth": 2
          },
          "yaxis": {
           "automargin": true,
           "gridcolor": "white",
           "linecolor": "white",
           "ticks": "",
           "title": {
            "standoff": 15
           },
           "zerolinecolor": "white",
           "zerolinewidth": 2
          }
         }
        }
       }
      }
     },
     "metadata": {},
     "output_type": "display_data"
    }
   ],
   "source": [
    "# 2018_10月\n",
    "ad_data_2018_10  = ad_data_all [ ad_data_all['Month'] == '2018-10' ]\n",
    "ad_data_2018_10  = ad_data_2018_10 .groupby('廣告代號all', as_index=False)['單價', '獲利'].sum()\n",
    "ad_data_2018_10 ['佔銷售比'] = round(100*(ad_data_2018_10 ['單價'] / ad_data_2019_10 ['單價'].sum()), 1)\n",
    "ad_data_2018_10 ['毛利率'] = round(100*(ad_data_2018_10 ['獲利'] / ad_data_2019_10 ['單價']), 1)\n",
    "ad_data_2018_10 = ad_data_2018_10.groupby('廣告代號all', as_index=False)['單價'].sum()\n",
    "fig_ad_data_2018_10 = px.pie(ad_data_2018_10, values='單價', names='廣告代號all')#, title='2019-10營收廣告來源')\n",
    "fig_ad_data_2018_10.update_traces(textposition='inside', textinfo='percent+label')\n",
    "fig_ad_data_2018_10.show()"
   ]
  },
  {
   "cell_type": "code",
   "execution_count": 116,
   "metadata": {},
   "outputs": [
    {
     "name": "stderr",
     "output_type": "stream",
     "text": [
      "C:\\Users\\chanm\\AppData\\Local\\Temp\\ipykernel_23084\\931055346.py:2: FutureWarning:\n",
      "\n",
      "Indexing with multiple keys (implicitly converted to a tuple of keys) will be deprecated, use a list instead.\n",
      "\n"
     ]
    }
   ],
   "source": [
    "ad_data_2019_11  = ad_data_all [ ad_data_all['Month'] == '2019-11' ]\n",
    "ad_data_2019_11  = ad_data_2019_11.groupby('廣告代號all', as_index=False)['單價', '獲利'].sum()\n",
    "ad_data_2019_11 ['佔銷售比'] = round(100*(ad_data_2019_11['單價'] /ad_data_2019_11['單價'].sum()), 1)\n",
    "ad_data_2019_11 ['毛利率'] = round(100*(ad_data_2019_11['獲利'] /ad_data_2019_11['單價']), 1)\n",
    "ad_data_2019_11 = ad_data_2019_11.groupby('廣告代號all', as_index=False)['單價'].sum()"
   ]
  },
  {
   "cell_type": "code",
   "execution_count": 117,
   "metadata": {},
   "outputs": [
    {
     "data": {
      "application/vnd.plotly.v1+json": {
       "config": {
        "plotlyServerURL": "https://plot.ly"
       },
       "data": [
        {
         "domain": {
          "x": [
           0,
           1
          ],
          "y": [
           0,
           1
          ]
         },
         "hovertemplate": "廣告代號all=%{label}<br>單價=%{value}<extra></extra>",
         "labels": [
          "廣告_B2KDG_MP",
          "廣告_B2KDG_P",
          "廣告_B2KMP_D",
          "廣告_B2KP_D",
          "廣告_DPPP_D",
          "廣告_Ddwirds_GT",
          "廣告_GINEMK_D",
          "廣告_GINEMP_D",
          "廣告_GINEP_C",
          "廣告_GINEP_D",
          "廣告_IGDG_P",
          "廣告_KBDG_MK",
          "廣告_KBDG_MP",
          "廣告_KBDG_P",
          "廣告_KDMP_D",
          "廣告_KDPOD_select",
          "廣告_KDP_D",
          "廣告_edmMK_D",
          "廣告_edmMP_D",
          "廣告_edmP_D",
          "廣告_ikip_POD",
          "廣告_自然流量"
         ],
         "legendgroup": "",
         "name": "",
         "showlegend": true,
         "textinfo": "percent+label",
         "textposition": "inside",
         "type": "pie",
         "values": [
          1299.55,
          20853.665,
          2613.9049999999997,
          15640.66,
          3882.2,
          40536.090000000004,
          57201.585,
          21536.34,
          7922.32,
          9531.13,
          1217.3,
          135332.505,
          34602.575,
          26741.12,
          9146.2,
          1743.7,
          4555.005,
          68578.405,
          5022.1849999999995,
          2549.75,
          3426.535,
          573437.13
         ]
        }
       ],
       "layout": {
        "legend": {
         "tracegroupgap": 0
        },
        "margin": {
         "t": 60
        },
        "template": {
         "data": {
          "bar": [
           {
            "error_x": {
             "color": "#2a3f5f"
            },
            "error_y": {
             "color": "#2a3f5f"
            },
            "marker": {
             "line": {
              "color": "#E5ECF6",
              "width": 0.5
             },
             "pattern": {
              "fillmode": "overlay",
              "size": 10,
              "solidity": 0.2
             }
            },
            "type": "bar"
           }
          ],
          "barpolar": [
           {
            "marker": {
             "line": {
              "color": "#E5ECF6",
              "width": 0.5
             },
             "pattern": {
              "fillmode": "overlay",
              "size": 10,
              "solidity": 0.2
             }
            },
            "type": "barpolar"
           }
          ],
          "carpet": [
           {
            "aaxis": {
             "endlinecolor": "#2a3f5f",
             "gridcolor": "white",
             "linecolor": "white",
             "minorgridcolor": "white",
             "startlinecolor": "#2a3f5f"
            },
            "baxis": {
             "endlinecolor": "#2a3f5f",
             "gridcolor": "white",
             "linecolor": "white",
             "minorgridcolor": "white",
             "startlinecolor": "#2a3f5f"
            },
            "type": "carpet"
           }
          ],
          "choropleth": [
           {
            "colorbar": {
             "outlinewidth": 0,
             "ticks": ""
            },
            "type": "choropleth"
           }
          ],
          "contour": [
           {
            "colorbar": {
             "outlinewidth": 0,
             "ticks": ""
            },
            "colorscale": [
             [
              0,
              "#0d0887"
             ],
             [
              0.1111111111111111,
              "#46039f"
             ],
             [
              0.2222222222222222,
              "#7201a8"
             ],
             [
              0.3333333333333333,
              "#9c179e"
             ],
             [
              0.4444444444444444,
              "#bd3786"
             ],
             [
              0.5555555555555556,
              "#d8576b"
             ],
             [
              0.6666666666666666,
              "#ed7953"
             ],
             [
              0.7777777777777778,
              "#fb9f3a"
             ],
             [
              0.8888888888888888,
              "#fdca26"
             ],
             [
              1,
              "#f0f921"
             ]
            ],
            "type": "contour"
           }
          ],
          "contourcarpet": [
           {
            "colorbar": {
             "outlinewidth": 0,
             "ticks": ""
            },
            "type": "contourcarpet"
           }
          ],
          "heatmap": [
           {
            "colorbar": {
             "outlinewidth": 0,
             "ticks": ""
            },
            "colorscale": [
             [
              0,
              "#0d0887"
             ],
             [
              0.1111111111111111,
              "#46039f"
             ],
             [
              0.2222222222222222,
              "#7201a8"
             ],
             [
              0.3333333333333333,
              "#9c179e"
             ],
             [
              0.4444444444444444,
              "#bd3786"
             ],
             [
              0.5555555555555556,
              "#d8576b"
             ],
             [
              0.6666666666666666,
              "#ed7953"
             ],
             [
              0.7777777777777778,
              "#fb9f3a"
             ],
             [
              0.8888888888888888,
              "#fdca26"
             ],
             [
              1,
              "#f0f921"
             ]
            ],
            "type": "heatmap"
           }
          ],
          "heatmapgl": [
           {
            "colorbar": {
             "outlinewidth": 0,
             "ticks": ""
            },
            "colorscale": [
             [
              0,
              "#0d0887"
             ],
             [
              0.1111111111111111,
              "#46039f"
             ],
             [
              0.2222222222222222,
              "#7201a8"
             ],
             [
              0.3333333333333333,
              "#9c179e"
             ],
             [
              0.4444444444444444,
              "#bd3786"
             ],
             [
              0.5555555555555556,
              "#d8576b"
             ],
             [
              0.6666666666666666,
              "#ed7953"
             ],
             [
              0.7777777777777778,
              "#fb9f3a"
             ],
             [
              0.8888888888888888,
              "#fdca26"
             ],
             [
              1,
              "#f0f921"
             ]
            ],
            "type": "heatmapgl"
           }
          ],
          "histogram": [
           {
            "marker": {
             "pattern": {
              "fillmode": "overlay",
              "size": 10,
              "solidity": 0.2
             }
            },
            "type": "histogram"
           }
          ],
          "histogram2d": [
           {
            "colorbar": {
             "outlinewidth": 0,
             "ticks": ""
            },
            "colorscale": [
             [
              0,
              "#0d0887"
             ],
             [
              0.1111111111111111,
              "#46039f"
             ],
             [
              0.2222222222222222,
              "#7201a8"
             ],
             [
              0.3333333333333333,
              "#9c179e"
             ],
             [
              0.4444444444444444,
              "#bd3786"
             ],
             [
              0.5555555555555556,
              "#d8576b"
             ],
             [
              0.6666666666666666,
              "#ed7953"
             ],
             [
              0.7777777777777778,
              "#fb9f3a"
             ],
             [
              0.8888888888888888,
              "#fdca26"
             ],
             [
              1,
              "#f0f921"
             ]
            ],
            "type": "histogram2d"
           }
          ],
          "histogram2dcontour": [
           {
            "colorbar": {
             "outlinewidth": 0,
             "ticks": ""
            },
            "colorscale": [
             [
              0,
              "#0d0887"
             ],
             [
              0.1111111111111111,
              "#46039f"
             ],
             [
              0.2222222222222222,
              "#7201a8"
             ],
             [
              0.3333333333333333,
              "#9c179e"
             ],
             [
              0.4444444444444444,
              "#bd3786"
             ],
             [
              0.5555555555555556,
              "#d8576b"
             ],
             [
              0.6666666666666666,
              "#ed7953"
             ],
             [
              0.7777777777777778,
              "#fb9f3a"
             ],
             [
              0.8888888888888888,
              "#fdca26"
             ],
             [
              1,
              "#f0f921"
             ]
            ],
            "type": "histogram2dcontour"
           }
          ],
          "mesh3d": [
           {
            "colorbar": {
             "outlinewidth": 0,
             "ticks": ""
            },
            "type": "mesh3d"
           }
          ],
          "parcoords": [
           {
            "line": {
             "colorbar": {
              "outlinewidth": 0,
              "ticks": ""
             }
            },
            "type": "parcoords"
           }
          ],
          "pie": [
           {
            "automargin": true,
            "type": "pie"
           }
          ],
          "scatter": [
           {
            "marker": {
             "colorbar": {
              "outlinewidth": 0,
              "ticks": ""
             }
            },
            "type": "scatter"
           }
          ],
          "scatter3d": [
           {
            "line": {
             "colorbar": {
              "outlinewidth": 0,
              "ticks": ""
             }
            },
            "marker": {
             "colorbar": {
              "outlinewidth": 0,
              "ticks": ""
             }
            },
            "type": "scatter3d"
           }
          ],
          "scattercarpet": [
           {
            "marker": {
             "colorbar": {
              "outlinewidth": 0,
              "ticks": ""
             }
            },
            "type": "scattercarpet"
           }
          ],
          "scattergeo": [
           {
            "marker": {
             "colorbar": {
              "outlinewidth": 0,
              "ticks": ""
             }
            },
            "type": "scattergeo"
           }
          ],
          "scattergl": [
           {
            "marker": {
             "colorbar": {
              "outlinewidth": 0,
              "ticks": ""
             }
            },
            "type": "scattergl"
           }
          ],
          "scattermapbox": [
           {
            "marker": {
             "colorbar": {
              "outlinewidth": 0,
              "ticks": ""
             }
            },
            "type": "scattermapbox"
           }
          ],
          "scatterpolar": [
           {
            "marker": {
             "colorbar": {
              "outlinewidth": 0,
              "ticks": ""
             }
            },
            "type": "scatterpolar"
           }
          ],
          "scatterpolargl": [
           {
            "marker": {
             "colorbar": {
              "outlinewidth": 0,
              "ticks": ""
             }
            },
            "type": "scatterpolargl"
           }
          ],
          "scatterternary": [
           {
            "marker": {
             "colorbar": {
              "outlinewidth": 0,
              "ticks": ""
             }
            },
            "type": "scatterternary"
           }
          ],
          "surface": [
           {
            "colorbar": {
             "outlinewidth": 0,
             "ticks": ""
            },
            "colorscale": [
             [
              0,
              "#0d0887"
             ],
             [
              0.1111111111111111,
              "#46039f"
             ],
             [
              0.2222222222222222,
              "#7201a8"
             ],
             [
              0.3333333333333333,
              "#9c179e"
             ],
             [
              0.4444444444444444,
              "#bd3786"
             ],
             [
              0.5555555555555556,
              "#d8576b"
             ],
             [
              0.6666666666666666,
              "#ed7953"
             ],
             [
              0.7777777777777778,
              "#fb9f3a"
             ],
             [
              0.8888888888888888,
              "#fdca26"
             ],
             [
              1,
              "#f0f921"
             ]
            ],
            "type": "surface"
           }
          ],
          "table": [
           {
            "cells": {
             "fill": {
              "color": "#EBF0F8"
             },
             "line": {
              "color": "white"
             }
            },
            "header": {
             "fill": {
              "color": "#C8D4E3"
             },
             "line": {
              "color": "white"
             }
            },
            "type": "table"
           }
          ]
         },
         "layout": {
          "annotationdefaults": {
           "arrowcolor": "#2a3f5f",
           "arrowhead": 0,
           "arrowwidth": 1
          },
          "autotypenumbers": "strict",
          "coloraxis": {
           "colorbar": {
            "outlinewidth": 0,
            "ticks": ""
           }
          },
          "colorscale": {
           "diverging": [
            [
             0,
             "#8e0152"
            ],
            [
             0.1,
             "#c51b7d"
            ],
            [
             0.2,
             "#de77ae"
            ],
            [
             0.3,
             "#f1b6da"
            ],
            [
             0.4,
             "#fde0ef"
            ],
            [
             0.5,
             "#f7f7f7"
            ],
            [
             0.6,
             "#e6f5d0"
            ],
            [
             0.7,
             "#b8e186"
            ],
            [
             0.8,
             "#7fbc41"
            ],
            [
             0.9,
             "#4d9221"
            ],
            [
             1,
             "#276419"
            ]
           ],
           "sequential": [
            [
             0,
             "#0d0887"
            ],
            [
             0.1111111111111111,
             "#46039f"
            ],
            [
             0.2222222222222222,
             "#7201a8"
            ],
            [
             0.3333333333333333,
             "#9c179e"
            ],
            [
             0.4444444444444444,
             "#bd3786"
            ],
            [
             0.5555555555555556,
             "#d8576b"
            ],
            [
             0.6666666666666666,
             "#ed7953"
            ],
            [
             0.7777777777777778,
             "#fb9f3a"
            ],
            [
             0.8888888888888888,
             "#fdca26"
            ],
            [
             1,
             "#f0f921"
            ]
           ],
           "sequentialminus": [
            [
             0,
             "#0d0887"
            ],
            [
             0.1111111111111111,
             "#46039f"
            ],
            [
             0.2222222222222222,
             "#7201a8"
            ],
            [
             0.3333333333333333,
             "#9c179e"
            ],
            [
             0.4444444444444444,
             "#bd3786"
            ],
            [
             0.5555555555555556,
             "#d8576b"
            ],
            [
             0.6666666666666666,
             "#ed7953"
            ],
            [
             0.7777777777777778,
             "#fb9f3a"
            ],
            [
             0.8888888888888888,
             "#fdca26"
            ],
            [
             1,
             "#f0f921"
            ]
           ]
          },
          "colorway": [
           "#636efa",
           "#EF553B",
           "#00cc96",
           "#ab63fa",
           "#FFA15A",
           "#19d3f3",
           "#FF6692",
           "#B6E880",
           "#FF97FF",
           "#FECB52"
          ],
          "font": {
           "color": "#2a3f5f"
          },
          "geo": {
           "bgcolor": "white",
           "lakecolor": "white",
           "landcolor": "#E5ECF6",
           "showlakes": true,
           "showland": true,
           "subunitcolor": "white"
          },
          "hoverlabel": {
           "align": "left"
          },
          "hovermode": "closest",
          "mapbox": {
           "style": "light"
          },
          "paper_bgcolor": "white",
          "plot_bgcolor": "#E5ECF6",
          "polar": {
           "angularaxis": {
            "gridcolor": "white",
            "linecolor": "white",
            "ticks": ""
           },
           "bgcolor": "#E5ECF6",
           "radialaxis": {
            "gridcolor": "white",
            "linecolor": "white",
            "ticks": ""
           }
          },
          "scene": {
           "xaxis": {
            "backgroundcolor": "#E5ECF6",
            "gridcolor": "white",
            "gridwidth": 2,
            "linecolor": "white",
            "showbackground": true,
            "ticks": "",
            "zerolinecolor": "white"
           },
           "yaxis": {
            "backgroundcolor": "#E5ECF6",
            "gridcolor": "white",
            "gridwidth": 2,
            "linecolor": "white",
            "showbackground": true,
            "ticks": "",
            "zerolinecolor": "white"
           },
           "zaxis": {
            "backgroundcolor": "#E5ECF6",
            "gridcolor": "white",
            "gridwidth": 2,
            "linecolor": "white",
            "showbackground": true,
            "ticks": "",
            "zerolinecolor": "white"
           }
          },
          "shapedefaults": {
           "line": {
            "color": "#2a3f5f"
           }
          },
          "ternary": {
           "aaxis": {
            "gridcolor": "white",
            "linecolor": "white",
            "ticks": ""
           },
           "baxis": {
            "gridcolor": "white",
            "linecolor": "white",
            "ticks": ""
           },
           "bgcolor": "#E5ECF6",
           "caxis": {
            "gridcolor": "white",
            "linecolor": "white",
            "ticks": ""
           }
          },
          "title": {
           "x": 0.05
          },
          "xaxis": {
           "automargin": true,
           "gridcolor": "white",
           "linecolor": "white",
           "ticks": "",
           "title": {
            "standoff": 15
           },
           "zerolinecolor": "white",
           "zerolinewidth": 2
          },
          "yaxis": {
           "automargin": true,
           "gridcolor": "white",
           "linecolor": "white",
           "ticks": "",
           "title": {
            "standoff": 15
           },
           "zerolinecolor": "white",
           "zerolinewidth": 2
          }
         }
        }
       }
      }
     },
     "metadata": {},
     "output_type": "display_data"
    }
   ],
   "source": [
    "fig_ad_data_2019_11 = px.pie(ad_data_2019_11, values='單價', names='廣告代號all')#, title='2019-10營收廣告來源')\n",
    "fig_ad_data_2019_11.update_traces(textposition='inside', textinfo='percent+label')\n",
    "fig_ad_data_2019_11.show()"
   ]
  }
 ],
 "metadata": {
  "kernelspec": {
   "display_name": "Python 3.9.12 ('base')",
   "language": "python",
   "name": "python3"
  },
  "language_info": {
   "codemirror_mode": {
    "name": "ipython",
    "version": 3
   },
   "file_extension": ".py",
   "mimetype": "text/x-python",
   "name": "python",
   "nbconvert_exporter": "python",
   "pygments_lexer": "ipython3",
   "version": "3.9.12"
  },
  "orig_nbformat": 4,
  "vscode": {
   "interpreter": {
    "hash": "8392afc801b5b59388b3a11041b8147dc4afa5c5911387fb9a9604822e1a64c8"
   }
  }
 },
 "nbformat": 4,
 "nbformat_minor": 2
}
